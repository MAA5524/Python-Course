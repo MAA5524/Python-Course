{
 "cells": [
  {
   "cell_type": "markdown",
   "id": "92c5a262",
   "metadata": {},
   "source": [
    "<style>*{box-sizing:border-box}.section-card{background:linear-gradient(145deg,rgb(61,61,87),rgb(49,49,70));border-radius:15px;padding:2rem;margin:0 auto 2.5rem;box-shadow:0 8px 20px rgba(0,0,0,0.5);width:100%;max-width:min(1200px,95vw)}.section-card h1{width:100%;text-align:center;color:#ffffff;font-size:2.8rem;margin-bottom:0;font-family:'Poppins',sans-serif;letter-spacing:1px}.container{display:flex;flex-direction:column;gap:1.25rem;align-items:center}.section-card h2{text-align:center;color:#ffffff;font-size:1.8rem;margin-bottom:1.5rem;font-family:'Poppins',sans-serif;letter-spacing:1px}.container{display:flex;flex-direction:column;gap:1.25rem;align-items:center}.card{background:linear-gradient(145deg,#24243e,#1e1e3a);border-radius:12px;padding:1.5rem;box-shadow:0 6px 16px rgba(0,0,0,0.4);border-left:4px solid transparent;width:min(1000px,90vw);margin:0 auto 1.25rem;transition:transform 0.3s ease,box-shadow 0.3s ease}.card:hover{transform:translateY(-6px);box-shadow:0 10px 20px rgba(0,0,0,0.5)}.container>.card:last-child{margin-bottom:2rem}.card.blue{border-left-color:#29b6f6}li,p{color:#dcdcdc;font-size:0.95rem;line-height:1.5;font-family:'Segoe UI',sans-serif}li{margin-bottom:0.5rem}p{margin-bottom:0.75rem}.toc-card ul{list-style-type:none; padding-left: 1.25rem;margin-bottom: 0.75rem;}.toc-card a{color:#29b6f6;text-decoration:none}img{display:block;max-width:50vw;height:auto;margin:0 auto;border-radius:10px}@media (max-width:768px){.section-card{padding:1.25rem}.card{width:100%;padding:1rem;margin:0 auto 1rem}.container>.card:last-child{margin-bottom:1.5rem}.section-card h2{font-size:1.4rem}p,li{font-size:0.9rem}}</style>\n",
    "\n",
    "<div class=\"section-card\">\n",
    "  <h1>Introduction to Python Programming</h1>\n",
    "</div>\n",
    "<div class=\"section-card\" id=\"toc0_\">\n",
    "  <h2>Table of contents</h2>\n",
    "  <div class=\"container\">\n",
    "    <div class=\"card blue toc-card\">\n",
    "      <ul>\n",
    "        <li><a href=\"#toc1_\">Programming Languages</a>\n",
    "          <ul>\n",
    "            <li><a href=\"#toc1_1_\">The First Programming Languages</a></li>\n",
    "            <li><a href=\"#toc1_2_\">Types of Programming Languages</a></li>\n",
    "            <li><a href=\"#toc1_3_\">Strengths and Applications</a></li>\n",
    "            <li><a href=\"#toc1_4_\">Considerations for Choosing a Programming Language</a></li>\n",
    "            <li><a href=\"#toc1_5_\">Learning a Programming Language</a></li>\n",
    "            <li><a href=\"#toc1_6_\">The Evolution of Programming Languages</a></li>\n",
    "          </ul>\n",
    "        </li>\n",
    "        <li><a href=\"#toc2_\">Why Choose Python</a>\n",
    "          <ul>\n",
    "            <li><a href=\"#toc2_1_\">Python's Simplicity and Versatility</a></li>\n",
    "            <li><a href=\"#toc2_2_\">Strong Community and Support</a></li>\n",
    "            <li><a href=\"#toc2_3_\">Cross-platform Compatibility</a></li>\n",
    "            <li><a href=\"#toc2_4_\">Integration and Extensibility</a></li>\n",
    "            <li><a href=\"#toc2_5_\">Gentle Learning Curve</a></li>\n",
    "          </ul>\n",
    "        </li>\n",
    "        <li><a href=\"#toc3_\">Python Features and Applications</a>\n",
    "          <ul>\n",
    "            <li><a href=\"#toc3_1_\">Dynamic Typing and Automatic Memory Management</a></li>\n",
    "            <li><a href=\"#toc3_2_\">Extensive Standard Library and Third-Party Packages</a></li>\n",
    "            <li><a href=\"#toc3_3_\">Object-Oriented Programming (OOP)</a></li>\n",
    "            <li><a href=\"#toc3_4_\">Multiplatform Support</a></li>\n",
    "            <li><a href=\"#toc3_5_\">Web Development</a></li>\n",
    "            <li><a href=\"#toc3_6_\">Data Analysis and Scientific Computing</a></li>\n",
    "            <li><a href=\"#toc3_7_\">Machine Learning and Artificial Intelligence</a></li>\n",
    "          </ul>\n",
    "        </li>\n",
    "        <li><a href=\"#toc4_\">How Does Python Work</a>\n",
    "          <ul>\n",
    "            <li><a href=\"#toc4_1_\">Interpreter vs Compiler</a></li>\n",
    "            <li><a href=\"#toc4_2_\">Advantages and Disadvantages of Interpreter</a></li>\n",
    "          </ul>\n",
    "        </li>\n",
    "      </ul>\n",
    "    </div>\n",
    "  </div>\n",
    "</div>"
   ]
  },
  {
   "cell_type": "markdown",
   "id": "e43e8a8f",
   "metadata": {},
   "source": [
    "<style>*{box-sizing:border-box}.section-card{background:linear-gradient(145deg,rgb(61,61,87),rgb(49,49,70));border-radius:15px;padding:2rem;margin:0 auto 2.5rem;box-shadow:0 8px 20px rgba(0,0,0,0.5);width:100%;max-width:min(1200px,95vw)}.section-card h2,.card h3{color:#ffffff;font-family:'Poppins',sans-serif;letter-spacing:1px}.section-card h2{text-align:center;font-size:1.8rem;margin-bottom:1.5rem}.card h3{font-size:1.3rem;margin-bottom:0.75rem;font-weight:bold}.container{display:flex;flex-direction:column;gap:1.25rem;align-items:center}.card{background:linear-gradient(145deg,#24243e,#1e1e3a);border-radius:12px;padding:1.5rem;box-shadow:0 6px 16px rgba(0,0,0,0.4);border-left:4px solid transparent;width:min(1000px,90vw);margin:0 auto 1.25rem;transition:transform 0.3s ease,box-shadow 0.3s ease}.card:hover{transform:translateY(-6px);box-shadow:0 10px 20px rgba(0,0,0,0.5)}.container>.card:last-child{margin-bottom:2rem}.card.yellow{border-left-color:#fbc02d}p,li{color:#dcdcdc;font-size:0.95rem;line-height:1.5;font-family:'Segoe UI',sans-serif}p{margin-bottom:0.75rem}ul,ol{padding-left:1.25rem;margin-bottom:0.75rem}li{margin-bottom:0.5rem}img{display:block;max-width:50vw;height:auto;margin:0 auto;border-radius:10px}@media (max-width:768px){.section-card{padding:1.25rem}.card{width:100%;padding:1rem;margin:0 auto 1rem}.container>.card:last-child{margin-bottom:1.5rem}.section-card h2{font-size:1.4rem}.card h3{font-size:1.2rem}p,li{font-size:0.9rem}}</style>\n",
    "<div class=\"section-card\" id=\"toc1_\">\n",
    "  <h2>Programming Languages</h2>\n",
    "  <div class=\"container\">\n",
    "    <div class=\"card yellow\">\n",
    "      <p>The world of programming languages has evolved significantly since the birth of computing. In this introduction, we will embark on a journey through the timeline of programming languages, exploring their earliest origins and highlighting key milestones along the way. Starting in the 1950s, with languages like Fortran and LISP, which paved the way for scientific and artificial intelligence programming, we'll witness the emergence of influential languages such as COBOL, BASIC, and C in the following decades. As we progress through the years, we'll encounter the advent of object-oriented programming with languages like C++ and Java, and witness the rise of modern web development with scripting languages like JavaScript and Python. Join us as we unravel the fascinating history of programming languages.</p>\n",
    "    </div>\n",
    "  </div>\n",
    "</div>"
   ]
  },
  {
   "cell_type": "markdown",
   "id": "9c07741b",
   "metadata": {},
   "source": [
    "<style>*{box-sizing:border-box}.section-card{background:linear-gradient(145deg,rgb(61,61,87),rgb(49,49,70));border-radius:15px;padding:2rem;margin:0 auto 2.5rem;box-shadow:0 8px 20px rgba(0,0,0,0.5);width:100%;max-width:min(1200px,95vw)}.card h3{color:#ffffff;font-family:'Poppins',sans-serif;letter-spacing:1px;font-size:1.3rem;margin-bottom:0.75rem;font-weight:bold}.container{display:flex;flex-direction:column;gap:1.25rem;align-items:center}.card{background:linear-gradient(145deg,#24243e,#1e1e3a);border-radius:12px;padding:1.5rem;box-shadow:0 6px 16px rgba(0,0,0,0.4);border-left:4px solid transparent;width:min(1000px,90vw);margin:0 auto 1.25rem;transition:transform 0.3s ease,box-shadow 0.3s ease}.card:hover{transform:translateY(-6px);box-shadow:0 10px 20px rgba(0,0,0,0.5)}.container>.card:last-child{margin-bottom:2rem}.card.yellow{border-left-color:#fbc02d}p,li{color:#dcdcdc;font-size:0.95rem;line-height:1.5;font-family:'Segoe UI',sans-serif}p{margin-bottom:0.75rem}ul,ol{padding-left:1.25rem;margin-bottom:0.75rem}li{margin-bottom:0.5rem}img{display:block;max-width:50vw;height:auto;margin:0 auto;border-radius:10px}a{color:#29b6f6;text-decoration:none}@media (max-width:768px){.section-card{padding:1.25rem}.card{width:100%;padding:1rem;margin:0 auto 1rem}.container>.card:last-child{margin-bottom:1.5rem}.card h3{font-size:1.2rem}p,li{font-size:0.9rem}}</style>\n",
    "<div class=\"section-card\" id=\"toc1_1_\">\n",
    "  <div class=\"container\">\n",
    "    <div class=\"card yellow\">\n",
    "      <h3>The First Programming Languages</h3>\n",
    "      <p>Here is a timeline showcasing the development of some notable programming languages over the years:</p>\n",
    "      <p><a href=\"https://www.youtube.com/watch?v=RU1u-js7db8&list=PL8dPuuaLjXtNlUrzyH5r6jN9ulIgZBpdo&index=12\">Watch The First Programming Languages</a></p>\n",
    "      <p><strong>Summary</strong></p>\n",
    "      <ul>\n",
    "        <li>The video discusses the concept of software and its significance in computer programming.</li>\n",
    "        <li>It explains machine code and assembly languages as low-level programming languages closely tied to hardware.</li>\n",
    "        <li>The role of assemblers in converting assembly instructions into machine code is described.</li>\n",
    "        <li>Grace Hopper's contribution to high-level programming languages and the development of the first compiler, A-0, are mentioned.</li>\n",
    "        <li>The emergence of FORTRAN as a popular high-level programming language and its impact on simplifying programming is highlighted.</li>\n",
    "        <li>The formation of the Committee on Data Systems Languages and the creation of COBOL as a standardized language for different computers are emphasized.</li>\n",
    "        <li>The idea of \"write once, run anywhere\" in programming languages is explained.</li>\n",
    "        <li>The passage provides an overview of the evolution of programming languages, including ALGOL, LISP, and modern languages like Python.</li>\n",
    "      </ul>\n",
    "      <img src=\"../images/programming-languages-timeline.webp\">\n",
    "    </div>\n",
    "  </div>\n",
    "</div>"
   ]
  },
  {
   "cell_type": "markdown",
   "id": "0f5d373c",
   "metadata": {},
   "source": [
    "<style>*{box-sizing:border-box}.section-card{background:linear-gradient(145deg,rgb(61,61,87),rgb(49,49,70));border-radius:15px;padding:2rem;margin:0 auto 2.5rem;box-shadow:0 8px 20px rgba(0,0,0,0.5);width:100%;max-width:min(1200px,95vw)}.card h3{color:#ffffff;font-family:'Poppins',sans-serif;letter-spacing:1px;font-size:1.3rem;margin-bottom:0.75rem;font-weight:bold}.container{display:flex;flex-direction:column;gap:1.25rem;align-items:center}.card{background:linear-gradient(145deg,#24243e,#1e1e3a);border-radius:12px;padding:1.5rem;box-shadow:0 6px 16px rgba(0,0,0,0.4);border-left:4px solid transparent;width:min(1000px,90vw);margin:0 auto 1.25rem;transition:transform 0.3s ease,box-shadow 0.3s ease}.card:hover{transform:translateY(-6px);box-shadow:0 10px 20px rgba(0,0,0,0.5)}.container>.card:last-child{margin-bottom:2rem}.card.yellow{border-left-color:#fbc02d}p,li{color:#dcdcdc;font-size:0.95rem;line-height:1.5;font-family:'Segoe UI',sans-serif}p{margin-bottom:0.75rem}ul,ol{padding-left:1.25rem;margin-bottom:0.75rem}li{margin-bottom:0.5rem}img{display:block;max-width:50vw;height:auto;margin:0 auto;border-radius:10px}@media (max-width:768px){.section-card{padding:1.25rem}.card{width:100%;padding:1rem;margin:0 auto 1rem}.container>.card:last-child{margin-bottom:1.5rem}.card h3{font-size:1.2rem}p,li{font-size:0.9rem}}</style>\n",
    "<div class=\"section-card\" id=\"toc1_2_\">\n",
    "  <div class=\"container\">\n",
    "    <div class=\"card yellow\">\n",
    "      <h3>Types of Programming Languages</h3>\n",
    "      <p>Programming languages can be categorized based on their level of abstraction, paradigm, or purpose. Common types include:</p>\n",
    "      <ul>\n",
    "        <li><strong>Low-level languages</strong>: Machine code and assembly languages, closely tied to hardware.</li>\n",
    "        <li><strong>High-level languages</strong>: Languages like Python, Java, and C++, which are more abstract and user-friendly.</li>\n",
    "        <li><strong>Scripting languages</strong>: JavaScript and Python, designed for quick task automation and web development.</li>\n",
    "        <li><strong>Domain-specific languages</strong>: SQL for databases or HTML for web structuring.</li>\n",
    "      </ul>\n",
    "    </div>\n",
    "  </div>\n",
    "</div>"
   ]
  },
  {
   "cell_type": "markdown",
   "id": "f6c98e1c",
   "metadata": {},
   "source": [
    "<style>*{box-sizing:border-box}.section-card{background:linear-gradient(145deg,rgb(61,61,87),rgb(49,49,70));border-radius:15px;padding:2rem;margin:0 auto 2.5rem;box-shadow:0 8px 20px rgba(0,0,0,0.5);width:100%;max-width:min(1200px,95vw)}.card h3{color:#ffffff;font-family:'Poppins',sans-serif;letter-spacing:1px;font-size:1.3rem;margin-bottom:0.75rem;font-weight:bold}.container{display:flex;flex-direction:column;gap:1.25rem;align-items:center}.card{background:linear-gradient(145deg,#24243e,#1e1e3a);border-radius:12px;padding:1.5rem;box-shadow:0 6px 16px rgba(0,0,0,0.4);border-left:4px solid transparent;width:min(1000px,90vw);margin:0 auto 1.25rem;transition:transform 0.3s ease,box-shadow 0.3s ease}.card:hover{transform:translateY(-6px);box-shadow:0 10px 20px rgba(0,0,0,0.5)}.container>.card:last-child{margin-bottom:2rem}.card.yellow{border-left-color:#fbc02d}p,li{color:#dcdcdc;font-size:0.95rem;line-height:1.5;font-family:'Segoe UI',sans-serif}p{margin-bottom:0.75rem}ul,ol{padding-left:1.25rem;margin-bottom:0.75rem}li{margin-bottom:0.5rem}img{display:block;max-width:50vw;height:auto;margin:0 auto;border-radius:10px}@media (max-width:768px){.section-card{padding:1.25rem}.card{width:100%;padding:1rem;margin:0 auto 1rem}.container>.card:last-child{margin-bottom:1.5rem}.card h3{font-size:1.2rem}p,li{font-size:0.9rem}}</style>\n",
    "<div class=\"section-card\" id=\"toc1_3_\">\n",
    "  <div class=\"container\">\n",
    "    <div class=\"card yellow\">\n",
    "      <h3>Strengths and Applications</h3>\n",
    "      <p>Each programming language has unique strengths suited to specific applications:</p>\n",
    "      <ul>\n",
    "        <li><strong>Fortran</strong>: Ideal for scientific and numerical computations.</li>\n",
    "        <li><strong>COBOL</strong>: Used in business applications for data processing.</li>\n",
    "        <li><strong>C</strong>: Offers low-level control for system programming.</li>\n",
    "        <li><strong>Python</strong>: Versatile for web development, data analysis, and AI.</li>\n",
    "        <li><strong>JavaScript</strong>: Essential for interactive web development.</li>\n",
    "      </ul>\n",
    "    </div>\n",
    "  </div>\n",
    "</div>"
   ]
  },
  {
   "cell_type": "markdown",
   "id": "2800cab6",
   "metadata": {},
   "source": [
    "<style>*{box-sizing:border-box}.section-card{background:linear-gradient(145deg,rgb(61,61,87),rgb(49,49,70));border-radius:15px;padding:2rem;margin:0 auto 2.5rem;box-shadow:0 8px 20px rgba(0,0,0,0.5);width:100%;max-width:min(1200px,95vw)}.card h3{color:#ffffff;font-family:'Poppins',sans-serif;letter-spacing:1px;font-size:1.3rem;margin-bottom:0.75rem;font-weight:bold}.container{display:flex;flex-direction:column;gap:1.25rem;align-items:center}.card{background:linear-gradient(145deg,#24243e,#1e1e3a);border-radius:12px;padding:1.5rem;box-shadow:0 6px 16px rgba(0,0,0,0.4);border-left:4px solid transparent;width:min(1000px,90vw);margin:0 auto 1.25rem;transition:transform 0.3s ease,box-shadow 0.3s ease}.card:hover{transform:translateY(-6px);box-shadow:0 10px 20px rgba(0,0,0,0.5)}.container>.card:last-child{margin-bottom:2rem}.card.yellow{border-left-color:#fbc02d}p,li{color:#dcdcdc;font-size:0.95rem;line-height:1.5;font-family:'Segoe UI',sans-serif}p{margin-bottom:0.75rem}ul,ol{padding-left:1.25rem;margin-bottom:0.75rem}li{margin-bottom:0.5rem}img{display:block;max-width:50vw;height:auto;margin:0 auto;border-radius:10px}@media (max-width:768px){.section-card{padding:1.25rem}.card{width:100%;padding:1rem;margin:0 auto 1rem}.container>.card:last-child{margin-bottom:1.5rem}.card h3{font-size:1.2rem}p,li{font-size:0.9rem}}</style>\n",
    "<div class=\"section-card\" id=\"toc1_4_\">\n",
    "  <div class=\"container\">\n",
    "    <div class=\"card yellow\">\n",
    "      <h3>Considerations for Choosing a Programming Language</h3>\n",
    "      <p>Selecting a programming language depends on several factors:</p>\n",
    "      <ul>\n",
    "        <li><strong>Project Requirements</strong>: Consider the application's performance and scalability needs.</li>\n",
    "        <li><strong>Community and Libraries</strong>: A strong ecosystem can accelerate development.</li>\n",
    "        <li><strong>Team Expertise</strong>: Familiarity with a language reduces learning time.</li>\n",
    "        <li><strong>Portability</strong>: Languages like Java and Python support cross-platform development.</li>\n",
    "      </ul>\n",
    "    </div>\n",
    "  </div>\n",
    "</div>"
   ]
  },
  {
   "cell_type": "markdown",
   "id": "8db5def1",
   "metadata": {},
   "source": [
    "<style>*{box-sizing:border-box}.section-card{background:linear-gradient(145deg,rgb(61,61,87),rgb(49,49,70));border-radius:15px;padding:2rem;margin:0 auto 2.5rem;box-shadow:0 8px 20px rgba(0,0,0,0.5);width:100%;max-width:min(1200px,95vw)}.card h3{color:#ffffff;font-family:'Poppins',sans-serif;letter-spacing:1px;font-size:1.3rem;margin-bottom:0.75rem;font-weight:bold}.container{display:flex;flex-direction:column;gap:1.25rem;align-items:center}.card{background:linear-gradient(145deg,#24243e,#1e1e3a);border-radius:12px;padding:1.5rem;box-shadow:0 6px 16px rgba(0,0,0,0.4);border-left:4px solid transparent;width:min(1000px,90vw);margin:0 auto 1.25rem;transition:transform 0.3s ease,box-shadow 0.3s ease}.card:hover{transform:translateY(-6px);box-shadow:0 10px 20px rgba(0,0,0,0.5)}.container>.card:last-child{margin-bottom:2rem}.card.yellow{border-left-color:#fbc02d}p,li{color:#dcdcdc;font-size:0.95rem;line-height:1.5;font-family:'Segoe UI',sans-serif}p{margin-bottom:0.75rem}ul,ol{padding-left:1.25rem;margin-bottom:0.75rem}li{margin-bottom:0.5rem}img{display:block;max-width:50vw;height:auto;margin:0 auto;border-radius:10px}@media (max-width:768px){.section-card{padding:1.25rem}.card{width:100%;padding:1rem;margin:0 auto 1rem}.container>.card:last-child{margin-bottom:1.5rem}.card h3{font-size:1.2rem}p,li{font-size:0.9rem}}</style>\n",
    "<div class=\"section-card\" id=\"toc1_5_\">\n",
    "  <div class=\"container\">\n",
    "    <div class=\"card yellow\">\n",
    "      <h3>Learning a Programming Language</h3>\n",
    "      <p>Learning a programming language involves understanding its syntax, semantics, and best practices. Key steps include:</p>\n",
    "      <ul>\n",
    "        <li><strong>Start with Basics</strong>: Learn variables, loops, and conditionals.</li>\n",
    "        <li><strong>Practice Regularly</strong>: Build small projects to reinforce concepts.</li>\n",
    "        <li><strong>Use Resources</strong>: Leverage tutorials, documentation, and communities like Stack Overflow.</li>\n",
    "        <li><strong>Understand Paradigms</strong>: Grasp the language’s supported programming paradigms.</li>\n",
    "      </ul>\n",
    "    </div>\n",
    "  </div>\n",
    "</div>"
   ]
  },
  {
   "cell_type": "markdown",
   "id": "dc20866d",
   "metadata": {},
   "source": [
    "<style>*{box-sizing:border-box}.section-card{background:linear-gradient(145deg,rgb(61,61,87),rgb(49,49,70));border-radius:15px;padding:2rem;margin:0 auto 2.5rem;box-shadow:0 8px 20px rgba(0,0,0,0.5);width:100%;max-width:min(1200px,95vw)}.card h3{color:#ffffff;font-family:'Poppins',sans-serif;letter-spacing:1px;font-size:1.3rem;margin-bottom:0.75rem;font-weight:bold}.container{display:flex;flex-direction:column;gap:1.25rem;align-items:center}.card{background:linear-gradient(145deg,#24243e,#1e1e3a);border-radius:12px;padding:1.5rem;box-shadow:0 6px 16px rgba(0,0,0,0.4);border-left:4px solid transparent;width:min(1000px,90vw);margin:0 auto 1.25rem;transition:transform 0.3s ease,box-shadow 0.3s ease}.card:hover{transform:translateY(-6px);box-shadow:0 10px 20px rgba(0,0,0,0.5)}.container>.card:last-child{margin-bottom:2rem}.card.yellow{border-left-color:#fbc02d}p,li{color:#dcdcdc;font-size:0.95rem;line-height:1.5;font-family:'Segoe UI',sans-serif}p{margin-bottom:0.75rem}ul,ol{padding-left:1.25rem;margin-bottom:0.75rem}li{margin-bottom:0.5rem}img{display:block;max-width:50vw;height:auto;margin:0 auto;border-radius:10px}@media (max-width:768px){.section-card{padding:1.25rem}.card{width:100%;padding:1rem;margin:0 auto 1rem}.container>.card:last-child{margin-bottom:1.5rem}.card h3{font-size:1.2rem}p,li{font-size:0.9rem}}</style>\n",
    "<div class=\"section-card\" id=\"toc1_6_\">\n",
    "  <div class=\"container\">\n",
    "    <div class=\"card yellow\">\n",
    "      <h3>The Evolution of Programming Languages</h3>\n",
    "      <p>Programming languages have evolved from low-level machine code to high-level, user-friendly languages. Key milestones include:</p>\n",
    "      <ul>\n",
    "        <li><strong>1950s</strong>: Fortran and LISP introduced high-level programming.</li>\n",
    "        <li><strong>1960s-70s</strong>: COBOL and C emerged for business and system programming.</li>\n",
    "        <li><strong>1980s-90s</strong>: C++ and Java popularized object-oriented programming.</li>\n",
    "        <li><strong>2000s-Present</strong>: Python and JavaScript dominate web and data science.</li>\n",
    "      </ul>\n",
    "    </div>\n",
    "  </div>\n",
    "</div>"
   ]
  },
  {
   "cell_type": "markdown",
   "id": "e202be33",
   "metadata": {},
   "source": [
    "<style>*{box-sizing:border-box}.section-card{background:linear-gradient(145deg,rgb(61,61,87),rgb(49,49,70));border-radius:15px;padding:2rem;margin:0 auto 2.5rem;box-shadow:0 8px 20px rgba(0,0,0,0.5);width:100%;max-width:min(1200px,95vw)}.section-card h2,.card h3{color:#ffffff;font-family:'Poppins',sans-serif;letter-spacing:1px}.section-card h2{text-align:center;font-size:1.8rem;margin-bottom:1.5rem}.card h3{font-size:1.3rem;margin-bottom:0.75rem;font-weight:bold}.container{display:flex;flex-direction:column;gap:1.25rem;align-items:center}.card{background:linear-gradient(145deg,#24243e,#1e1e3a);border-radius:12px;padding:1.5rem;box-shadow:0 6px 16px rgba(0,0,0,0.4);border-left:4px solid transparent;width:min(1000px,90vw);margin:0 auto 1.25rem;transition:transform 0.3s ease,box-shadow 0.3s ease}.card:hover{transform:translateY(-6px);box-shadow:0 10px 20px rgba(0,0,0,0.5)}.container>.card:last-child{margin-bottom:2rem}.card.red{border-left-color:#ef5350}p,li{color:#dcdcdc;font-size:0.95rem;line-height:1.5;font-family:'Segoe UI',sans-serif}p{margin-bottom:0.75rem}ul,ol{padding-left:1.25rem;margin-bottom:0.75rem}li{margin-bottom:0.5rem}img{display:block;max-width:50vw;height:auto;margin:0 auto;border-radius:10px}@media (max-width:768px){.section-card{padding:1.25rem}.card{width:100%;padding:1rem;margin:0 auto 1rem}.container>.card:last-child{margin-bottom:1.5rem}.section-card h2{font-size:1.4rem}.card h3{font-size:1.2rem}p,li{font-size:0.9rem}}</style>\n",
    "<div class=\"section-card\" id=\"toc2_\">\n",
    "  <h2>Why Choose Python</h2>\n",
    "  <div class=\"container\">\n",
    "    <div class=\"card red\">\n",
    "      <p>Python is a versatile, high-level programming language known for its readability and simplicity. Its design philosophy emphasizes code readability and a syntax that allows programmers to express concepts in fewer lines of code compared to languages like C++ or Java. Python’s popularity stems from its ability to cater to beginners and experts alike, making it a top choice for various applications.</p>\n",
    "    </div>\n",
    "  </div>\n",
    "</div>"
   ]
  },
  {
   "cell_type": "markdown",
   "id": "d2f9074e",
   "metadata": {},
   "source": [
    "<style>*{box-sizing:border-box}.section-card{background:linear-gradient(145deg,rgb(61,61,87),rgb(49,49,70));border-radius:15px;padding:2rem;margin:0 auto 2.5rem;box-shadow:0 8px 20px rgba(0,0,0,0.5);width:100%;max-width:min(1200px,95vw)}.card h3{color:#ffffff;font-family:'Poppins',sans-serif;letter-spacing:1px;font-size:1.3rem;margin-bottom:0.75rem;font-weight:bold}.container{display:flex;flex-direction:column;gap:1.25rem;align-items:center}.card{background:linear-gradient(145deg,#24243e,#1e1e3a);border-radius:12px;padding:1.5rem;box-shadow:0 6px 16px rgba(0,0,0,0.4);border-left:4px solid transparent;width:min(1000px,90vw);margin:0 auto 1.25rem;transition:transform 0.3s ease,box-shadow 0.3s ease}.card:hover{transform:translateY(-6px);box-shadow:0 10px 20px rgba(0,0,0,0.5)}.container>.card:last-child{margin-bottom:2rem}.card.red{border-left-color:#ef5350}p,li{color:#dcdcdc;font-size:0.95rem;line-height:1.5;font-family:'Segoe UI',sans-serif}p{margin-bottom:0.75rem}ul,ol{padding-left:1.25rem;margin-bottom:0.75rem}li{margin-bottom:0.5rem}img{display:block;max-width:50vw;height:auto;margin:0 auto;border-radius:10px}@media (max-width:768px){.section-card{padding:1.25rem}.card{width:100%;padding:1rem;margin:0 auto 1rem}.container>.card:last-child{margin-bottom:1.5rem}.card h3{font-size:1.2rem}p,li{font-size:0.9rem}}</style>\n",
    "<div class=\"section-card\" id=\"toc2_1_\">\n",
    "  <div class=\"container\">\n",
    "    <div class=\"card red\">\n",
    "      <h3>Python's Simplicity and Versatility</h3>\n",
    "      <p>Python’s clear syntax and readability make it accessible for beginners while remaining powerful for complex applications like AI, web development, and data science.</p>\n",
    "      <img src=\"../images/python-vs-java-hello-world.png\">\n",
    "    </div>\n",
    "  </div>\n",
    "</div>"
   ]
  },
  {
   "cell_type": "markdown",
   "id": "543e9e68",
   "metadata": {},
   "source": [
    "<style>*{box-sizing:border-box}.section-card{background:linear-gradient(145deg,rgb(61,61,87),rgb(49,49,70));border-radius:15px;padding:2rem;margin:0 auto 2.5rem;box-shadow:0 8px 20px rgba(0,0,0,0.5);width:100%;max-width:min(1200px,95vw)}.card h3{color:#ffffff;font-family:'Poppins',sans-serif;letter-spacing:1px;font-size:1.3rem;margin-bottom:0.75rem;font-weight:bold}.container{display:flex;flex-direction:column;gap:1.25rem;align-items:center}.card{background:linear-gradient(145deg,#24243e,#1e1e3a);border-radius:12px;padding:1.5rem;box-shadow:0 6px 16px rgba(0,0,0,0.4);border-left:4px solid transparent;width:min(1000px,90vw);margin:0 auto 1.25rem;transition:transform 0.3s ease,box-shadow 0.3s ease}.card:hover{transform:translateY(-6px);box-shadow:0 10px 20px rgba(0,0,0,0.5)}.container>.card:last-child{margin-bottom:2rem}.card.red{border-left-color:#ef5350}p,li{color:#dcdcdc;font-size:0.95rem;line-height:1.5;font-family:'Segoe UI',sans-serif}p{margin-bottom:0.75rem}ul,ol{padding-left:1.25rem;margin-bottom:0.75rem}li{margin-bottom:0.5rem}img{display:block;max-width:50vw;height:auto;margin:0 auto;border-radius:10px}@media (max-width:768px){.section-card{padding:1.25rem}.card{width:100%;padding:1rem;margin:0 auto 1rem}.container>.card:last-child{margin-bottom:1.5rem}.card h3{font-size:1.2rem}p,li{font-size:0.9rem}}</style>\n",
    "<div class=\"section-card\" id=\"toc2_2_\">\n",
    "  <div class=\"container\">\n",
    "    <div class=\"card red\">\n",
    "      <h3>Strong Community and Support</h3>\n",
    "      <p>Python has a large, active community that contributes to extensive documentation, tutorials, and third-party libraries, ensuring robust support for developers.</p>\n",
    "    </div>\n",
    "  </div>\n",
    "</div>"
   ]
  },
  {
   "cell_type": "markdown",
   "id": "fe854136",
   "metadata": {},
   "source": [
    "<style>*{box-sizing:border-box}.section-card{background:linear-gradient(145deg,rgb(61,61,87),rgb(49,49,70));border-radius:15px;padding:2rem;margin:0 auto 2.5rem;box-shadow:0 8px 20px rgba(0,0,0,0.5);width:100%;max-width:min(1200px,95vw)}.card h3{color:#ffffff;font-family:'Poppins',sans-serif;letter-spacing:1px;font-size:1.3rem;margin-bottom:0.75rem;font-weight:bold}.container{display:flex;flex-direction:column;gap:1.25rem;align-items:center}.card{background:linear-gradient(145deg,#24243e,#1e1e3a);border-radius:12px;padding:1.5rem;box-shadow:0 6px 16px rgba(0,0,0,0.4);border-left:4px solid transparent;width:min(1000px,90vw);margin:0 auto 1.25rem;transition:transform 0.3s ease,box-shadow 0.3s ease}.card:hover{transform:translateY(-6px);box-shadow:0 10px 20px rgba(0,0,0,0.5)}.container>.card:last-child{margin-bottom:2rem}.card.red{border-left-color:#ef5350}p,li{color:#dcdcdc;font-size:0.95rem;line-height:1.5;font-family:'Segoe UI',sans-serif}p{margin-bottom:0.75rem}ul,ol{padding-left:1.25rem;margin-bottom:0.75rem}li{margin-bottom:0.5rem}img{display:block;max-width:50vw;height:auto;margin:0 auto;border-radius:10px}@media (max-width:768px){.section-card{padding:1.25rem}.card{width:100%;padding:1rem;margin:0 auto 1rem}.container>.card:last-child{margin-bottom:1.5rem}.card h3{font-size:1.2rem}p,li{font-size:0.9rem}}</style>\n",
    "<div class=\"section-card\" id=\"toc2_3_\">\n",
    "  <div class=\"container\">\n",
    "    <div class=\"card red\">\n",
    "      <h3>Cross-platform Compatibility</h3>\n",
    "      <p>Python runs on multiple platforms, including Windows, macOS, and Linux, with minimal code changes, enhancing its portability.</p>\n",
    "    </div>\n",
    "  </div>\n",
    "</div>"
   ]
  },
  {
   "cell_type": "markdown",
   "id": "b1e70808",
   "metadata": {},
   "source": [
    "<style>*{box-sizing:border-box}.section-card{background:linear-gradient(145deg,rgb(61,61,87),rgb(49,49,70));border-radius:15px;padding:2rem;margin:0 auto 2.5rem;box-shadow:0 8px 20px rgba(0,0,0,0.5);width:100%;max-width:min(1200px,95vw)}.card h3{color:#ffffff;font-family:'Poppins',sans-serif;letter-spacing:1px;font-size:1.3rem;margin-bottom:0.75rem;font-weight:bold}.container{display:flex;flex-direction:column;gap:1.25rem;align-items:center}.card{background:linear-gradient(145deg,#24243e,#1e1e3a);border-radius:12px;padding:1.5rem;box-shadow:0 6px 16px rgba(0,0,0,0.4);border-left:4px solid transparent;width:min(1000px,90vw);margin:0 auto 1.25rem;transition:transform 0.3s ease,box-shadow 0.3s ease}.card:hover{transform:translateY(-6px);box-shadow:0 10px 20px rgba(0,0,0,0.5)}.container>.card:last-child{margin-bottom:2rem}.card.red{border-left-color:#ef5350}p,li{color:#dcdcdc;font-size:0.95rem;line-height:1.5;font-family:'Segoe UI',sans-serif}p{margin-bottom:0.75rem}ul,ol{padding-left:1.25rem;margin-bottom:0.75rem}li{margin-bottom:0.5rem}img{display:block;max-width:50vw;height:auto;margin:0 auto;border-radius:10px}@media (max-width:768px){.section-card{padding:1.25rem}.card{width:100%;padding:1rem;margin:0 auto 1rem}.container>.card:last-child{margin-bottom:1.5rem}.card h3{font-size:1.2rem}p,li{font-size:0.9rem}}</style>\n",
    "<div class=\"section-card\" id=\"toc2_4_\">\n",
    "  <div class=\"container\">\n",
    "    <div class=\"card red\">\n",
    "      <h3>Integration and Extensibility</h3>\n",
    "      <p>Python integrates well with other languages like C and C++ and supports extensive libraries for various tasks, enhancing its flexibility.</p>\n",
    "      <img src=\"../images/python-cpp-itegration.png\">\n",
    "    </div>\n",
    "  </div>\n",
    "</div>"
   ]
  },
  {
   "cell_type": "markdown",
   "id": "ea13f43d",
   "metadata": {},
   "source": [
    "<style>*{box-sizing:border-box}.section-card{background:linear-gradient(145deg,rgb(61,61,87),rgb(49,49,70));border-radius:15px;padding:2rem;margin:0 auto 2.5rem;box-shadow:0 8px 20px rgba(0,0,0,0.5);width:100%;max-width:min(1200px,95vw)}.card h3{color:#ffffff;font-family:'Poppins',sans-serif;letter-spacing:1px;font-size:1.3rem;margin-bottom:0.75rem;font-weight:bold}.container{display:flex;flex-direction:column;gap:1.25rem;align-items:center}.card{background:linear-gradient(145deg,#24243e,#1e1e3a);border-radius:12px;padding:1.5rem;box-shadow:0 6px 16px rgba(0,0,0,0.4);border-left:4px solid transparent;width:min(1000px,90vw);margin:0 auto 1.25rem;transition:transform 0.3s ease,box-shadow 0.3s ease}.card:hover{transform:translateY(-6px);box-shadow:0 10px 20px rgba(0,0,0,0.5)}.container>.card:last-child{margin-bottom:2rem}.card.red{border-left-color:#ef5350}p,li{color:#dcdcdc;font-size:0.95rem;line-height:1.5;font-family:'Segoe UI',sans-serif}p{margin-bottom:0.75rem}ul,ol{padding-left:1.25rem;margin-bottom:0.75rem}li{margin-bottom:0.5rem}img{display:block;max-width:50vw;height:auto;margin:0 auto;border-radius:10px}@media (max-width:768px){.section-card{padding:1.25rem}.card{width:100%;padding:1rem;margin:0 auto 1rem}.container>.card:last-child{margin-bottom:1.5rem}.card h3{font-size:1.2rem}p,li{font-size:0.9rem}}</style>\n",
    "<div class=\"section-card\" id=\"toc2_5_\">\n",
    "  <div class=\"container\">\n",
    "    <div class=\"card red\">\n",
    "      <h3>Gentle Learning Curve</h3>\n",
    "      <p>Python’s intuitive syntax and extensive resources make it an ideal first language for beginners, reducing the time to learn programming fundamentals.</p>\n",
    "    <img src=\"../images/gentle-learning-curve.webp\">\n",
    "    </div>\n",
    "  </div>\n",
    "</div>"
   ]
  },
  {
   "cell_type": "markdown",
   "id": "506e954f",
   "metadata": {},
   "source": [
    "<style>*{box-sizing:border-box}.section-card{background:linear-gradient(145deg,rgb(61,61,87),rgb(49,49,70));border-radius:15px;padding:2rem;margin:0 auto 2.5rem;box-shadow:0 8px 20px rgba(0,0,0,0.5);width:100%;max-width:min(1200px,95vw)}.section-card h2,.card h3{color:#ffffff;font-family:'Poppins',sans-serif;letter-spacing:1px}.section-card h2{text-align:center;font-size:1.8rem;margin-bottom:1.5rem}.card h3{font-size:1.3rem;margin-bottom:0.75rem;font-weight:bold}.container{display:flex;flex-direction:column;gap:1.25rem;align-items:center}.card{background:linear-gradient(145deg,#24243e,#1e1e3a);border-radius:12px;padding:1.5rem;box-shadow:0 6px 16px rgba(0,0,0,0.4);border-left:4px solid transparent;width:min(1000px,90vw);margin:0 auto 1.25rem;transition:transform 0.3s ease,box-shadow 0.3s ease}.card:hover{transform:translateY(-6px);box-shadow:0 10px 20px rgba(0,0,0,0.5)}.container>.card:last-child{margin-bottom:2rem}.card.purple{border-left-color: #ba68c8}p,li{color:#dcdcdc;font-size:0.95rem;line-height:1.5;font-family:'Segoe UI',sans-serif}p{margin-bottom:0.75rem}ul,ol{padding-left:1.25rem;margin-bottom:0.75rem}li{margin-bottom:0.5rem}img{display:block;max-width:50vw;height:auto;margin:0 auto;border-radius:10px}@media (max-width:768px){.section-card{padding:1.25rem}.card{width:100%;padding:1rem;margin:0 auto 1rem}.container>.card:last-child{margin-bottom:1.5rem}.section-card h2{font-size:1.4rem}.card h3{font-size:1.2rem}p,li{font-size:0.9rem}}</style>\n",
    "<div class=\"section-card\" id=\"toc3_\">\n",
    "  <h2>Python Features and Applications</h2>\n",
    "  <div class=\"container\">\n",
    "    <div class=\"card purple\">\n",
    "      <p>Python’s features make it suitable for a wide range of applications, from web development to scientific computing and artificial intelligence.</p>\n",
    "    </div>\n",
    "  </div>\n",
    "</div>"
   ]
  },
  {
   "cell_type": "markdown",
   "id": "cf03228c",
   "metadata": {},
   "source": [
    "<style>*{box-sizing:border-box}.section-card{background:linear-gradient(145deg,rgb(61,61,87),rgb(49,49,70));border-radius:15px;padding:2rem;margin:0 auto 2.5rem;box-shadow:0 8px 20px rgba(0,0,0,0.5);width:100%;max-width:min(1200px,95vw)}.card h3{color:#ffffff;font-family:'Poppins',sans-serif;letter-spacing:1px;font-size:1.3rem;margin-bottom:0.75rem;font-weight:bold}.container{display:flex;flex-direction:column;gap:1.25rem;align-items:center}.card{background:linear-gradient(145deg,#24243e,#1e1e3a);border-radius:12px;padding:1.5rem;box-shadow:0 6px 16px rgba(0,0,0,0.4);border-left:4px solid transparent;width:min(1000px,90vw);margin:0 auto 1.25rem;transition:transform 0.3s ease,box-shadow 0.3s ease}.card:hover{transform:translateY(-6px);box-shadow:0 10px 20px rgba(0,0,0,0.5)}.container>.card:last-child{margin-bottom:2rem}.card.purple{border-left-color: #ba68c8}p,li{color:#dcdcdc;font-size:0.95rem;line-height:1.5;font-family:'Segoe UI',sans-serif}p{margin-bottom:0.75rem}ul,ol{padding-left:1.25rem;margin-bottom:0.75rem}li{margin-bottom:0.5rem}img{display:block;max-width:70vw;height:auto;margin:20px auto;border-radius:12px;}@media (max-width:768px){.section-card{padding:1.25rem}.card{width:100%;padding:1rem;margin:0 auto 1rem}.container>.card:last-child{margin-bottom:1.5rem}.card h3{font-size:1.2rem}p,li{font-size:0.9rem}}</style>\n",
    "<div class=\"section-card\" id=\"toc3_1_\">\n",
    "  <div class=\"container\">\n",
    "    <div class=\"card purple\">\n",
    "      <h3>Dynamic Typing and Automatic Memory Management</h3>\n",
    "      <p>Python uses dynamic typing, allowing variables to change types without explicit declarations, and automatic memory management via garbage collection, simplifying development.</p>\n",
    "      <img src=\"../images/python-vs-c-typing.png\">\n",
    "      <img src=\"../images/python-vs-c-memory-management.png\">\n",
    "    </div>\n",
    "  </div>\n",
    "</div>"
   ]
  },
  {
   "cell_type": "markdown",
   "id": "b3f0f681",
   "metadata": {},
   "source": [
    "<style>*{box-sizing:border-box}.section-card{background:linear-gradient(145deg,rgb(61,61,87),rgb(49,49,70));border-radius:15px;padding:2rem;margin:0 auto 2.5rem;box-shadow:0 8px 20px rgba(0,0,0,0.5);width:100%;max-width:min(1200px,95vw)}.card h3{color:#ffffff;font-family:'Poppins',sans-serif;letter-spacing:1px;font-size:1.3rem;margin-bottom:0.75rem;font-weight:bold}.container{display:flex;flex-direction:column;gap:1.25rem;align-items:center}.card{background:linear-gradient(145deg,#24243e,#1e1e3a);border-radius:12px;padding:1.5rem;box-shadow:0 6px 16px rgba(0,0,0,0.4);border-left:4px solid transparent;width:min(1000px,90vw);margin:0 auto 1.25rem;transition:transform 0.3s ease,box-shadow 0.3s ease}.card:hover{transform:translateY(-6px);box-shadow:0 10px 20px rgba(0,0,0,0.5)}.container>.card:last-child{margin-bottom:2rem}.card.purple{border-left-color: #ba68c8}p,li{color:#dcdcdc;font-size:0.95rem;line-height:1.5;font-family:'Segoe UI',sans-serif}p{margin-bottom:0.75rem}ul,ol{padding-left:1.25rem;margin-bottom:0.75rem}li{margin-bottom:0.5rem}img{display:block;max-width:50vw;height:auto;margin:0 auto;border-radius:10px}@media (max-width:768px){.section-card{padding:1.25rem}.card{width:100%;padding:1rem;margin:0 auto 1rem}.container>.card:last-child{margin-bottom:1.5rem}.card h3{font-size:1.2rem}p,li{font-size:0.9rem}}</style>\n",
    "<div class=\"section-card\" id=\"toc3_2_\">\n",
    "  <div class=\"container\">\n",
    "    <div class=\"card purple\">\n",
    "      <h3>Extensive Standard Library and Third-Party Packages</h3>\n",
    "      <p>Python’s standard library includes modules for file I/O, networking, and more, while third-party packages like NumPy and Django extend its functionality.</p>\n",
    "    </div>\n",
    "  </div>\n",
    "</div>"
   ]
  },
  {
   "cell_type": "markdown",
   "id": "e8d206c9",
   "metadata": {},
   "source": [
    "<style>*{box-sizing:border-box}.section-card{background:linear-gradient(145deg,rgb(61,61,87),rgb(49,49,70));border-radius:15px;padding:2rem;margin:0 auto 2.5rem;box-shadow:0 8px 20px rgba(0,0,0,0.5);width:100%;max-width:min(1200px,95vw)}.card h3{color:#ffffff;font-family:'Poppins',sans-serif;letter-spacing:1px;font-size:1.3rem;margin-bottom:0.75rem;font-weight:bold}.container{display:flex;flex-direction:column;gap:1.25rem;align-items:center}.card{background:linear-gradient(145deg,#24243e,#1e1e3a);border-radius:12px;padding:1.5rem;box-shadow:0 6px 16px rgba(0,0,0,0.4);border-left:4px solid transparent;width:min(1000px,90vw);margin:0 auto 1.25rem;transition:transform 0.3s ease,box-shadow 0.3s ease}.card:hover{transform:translateY(-6px);box-shadow:0 10px 20px rgba(0,0,0,0.5)}.container>.card:last-child{margin-bottom:2rem}.card.purple{border-left-color: #ba68c8}p,li{color:#dcdcdc;font-size:0.95rem;line-height:1.5;font-family:'Segoe UI',sans-serif}p{margin-bottom:0.75rem}ul,ol{padding-left:1.25rem;margin-bottom:0.75rem}li{margin-bottom:0.5rem}img{display:block;max-width:50vw;height:auto;margin:0 auto;border-radius:10px}@media (max-width:768px){.section-card{padding:1.25rem}.card{width:100%;padding:1rem;margin:0 auto 1rem}.container>.card:last-child{margin-bottom:1.5rem}.card h3{font-size:1.2rem}p,li{font-size:0.9rem}}</style>\n",
    "<div class=\"section-card\" id=\"toc3_3_\">\n",
    "  <div class=\"container\">\n",
    "    <div class=\"card purple\">\n",
    "      <h3>Object-Oriented Programming (OOP)</h3>\n",
    "      <p>Python supports OOP, enabling developers to create reusable and modular code through classes and objects.</p>\n",
    "    </div>\n",
    "  </div>\n",
    "</div>"
   ]
  },
  {
   "cell_type": "markdown",
   "id": "dc20866d",
   "metadata": {},
   "source": [
    "<style>*{box-sizing:border-box}.section-card{background:linear-gradient(145deg,rgb(61,61,87),rgb(49,49,70));border-radius:15px;padding:2rem;margin:0 auto 2.5rem;box-shadow:0 8px 20px rgba(0,0,0,0.5);width:100%;max-width:min(1200px,95vw)}.card h3{color:#ffffff;font-family:'Poppins',sans-serif;letter-spacing:1px;font-size:1.3rem;margin-bottom:0.75rem;font-weight:bold}.container{display:flex;flex-direction:column;gap:1.25rem;align-items:center}.card{background:linear-gradient(145deg,#24243e,#1e1e3a);border-radius:12px;padding:1.5rem;box-shadow:0 6px 16px rgba(0,0,0,0.4);border-left:4px solid transparent;width:min(1000px,90vw);margin:0 auto 1.25rem;transition:transform 0.3s ease,box-shadow 0.3s ease}.card:hover{transform:translateY(-6px);box-shadow:0 10px 20px rgba(0,0,0,0.5)}.container>.card:last-child{margin-bottom:2rem}.card.purple{border-left-color: #ba68c8}p,li{color:#dcdcdc;font-size:0.95rem;line-height:1.5;font-family:'Segoe UI',sans-serif}p{margin-bottom:0.75rem}ul,ol{padding-left:1.25rem;margin-bottom:0.75rem}li{margin-bottom:0.5rem}img{display:block;max-width:50vw;height:auto;margin:0 auto;border-radius:10px}@media (max-width:768px){.section-card{padding:1.25rem}.card{width:100%;padding:1rem;margin:0 auto 1rem}.container>.card:last-child{margin-bottom:1.5rem}.card h3{font-size:1.2rem}p,li{font-size:0.9rem}}</style>\n",
    "<div class=\"section-card\" id=\"toc3_4_\">\n",
    "  <div class=\"container\">\n",
    "    <div class=\"card purple\">\n",
    "      <h3>Multiplatform Support</h3>\n",
    "      <p>Python’s compatibility with various operating systems ensures it can be used for cross-platform development without significant modifications.</p>\n",
    "    </div>\n",
    "  </div>\n",
    "</div>"
   ]
  },
  {
   "cell_type": "markdown",
   "id": "2800cab6",
   "metadata": {},
   "source": [
    "<style>*{box-sizing:border-box}.section-card{background:linear-gradient(145deg,rgb(61,61,87),rgb(49,49,70));border-radius:15px;padding:2rem;margin:0 auto 2.5rem;box-shadow:0 8px 20px rgba(0,0,0,0.5);width:100%;max-width:min(1200px,95vw)}.card h3{color:#ffffff;font-family:'Poppins',sans-serif;letter-spacing:1px;font-size:1.3rem;margin-bottom:0.75rem;font-weight:bold}.container{display:flex;flex-direction:column;gap:1.25rem;align-items:center}.card{background:linear-gradient(145deg,#24243e,#1e1e3a);border-radius:12px;padding:1.5rem;box-shadow:0 6px 16px rgba(0,0,0,0.4);border-left:4px solid transparent;width:min(1000px,90vw);margin:0 auto 1.25rem;transition:transform 0.3s ease,box-shadow 0.3s ease}.card:hover{transform:translateY(-6px);box-shadow:0 10px 20px rgba(0,0,0,0.5)}.container>.card:last-child{margin-bottom:2rem}.card.purple{border-left-color: #ba68c8}p,li{color:#dcdcdc;font-size:0.95rem;line-height:1.5;font-family:'Segoe UI',sans-serif}p{margin-bottom:0.75rem}ul,ol{padding-left:1.25rem;margin-bottom:0.75rem}li{margin-bottom:0.5rem}img{display:block;max-width:50vw;height:auto;margin:0 auto;border-radius:10px}@media (max-width:768px){.section-card{padding:1.25rem}.card{width:100%;padding:1rem;margin:0 auto 1rem}.container>.card:last-child{margin-bottom:1.5rem}.card h3{font-size:1.2rem}p,li{font-size:0.9rem}}</style>\n",
    "<div class=\"section-card\" id=\"toc3_5_\">\n",
    "  <div class=\"container\">\n",
    "    <div class=\"card purple\">\n",
    "      <h3>Web Development</h3>\n",
    "      <p>Python’s frameworks like Django and Flask simplify web development, offering tools for routing, authentication, and template rendering. Python's readability and clean syntax make web development efficient and enjoyable.</p>\n",
    "      <img src=\"../images/python-web-frameworks.png\" alt=\"Python Web Frameworks\" />\n",
    "    </div>\n",
    "  </div>\n",
    "</div>"
   ]
  },
  {
   "cell_type": "markdown",
   "id": "dc20866d",
   "metadata": {},
   "source": [
    "<style>*{box-sizing:border-box}.section-card{background:linear-gradient(145deg,rgb(61,61,87),rgb(49,49,70));border-radius:15px;padding:2rem;margin:0 auto 2.5rem;box-shadow:0 8px 20px rgba(0,0,0,0.5);width:100%;max-width:min(1200px,95vw)}.card h3{color:#ffffff;font-family:'Poppins',sans-serif;letter-spacing:1px;font-size:1.3rem;margin-bottom:0.75rem;font-weight:bold}.container{display:flex;flex-direction:column;gap:1.25rem;align-items:center}.card{background:linear-gradient(145deg,#24243e,#1e1e3a);border-radius:12px;padding:1.5rem;box-shadow:0 6px 16px rgba(0,0,0,0.4);border-left:4px solid transparent;width:min(1000px,90vw);margin:0 auto 1.25rem;transition:transform 0.3s ease,box-shadow 0.3s ease}.card:hover{transform:translateY(-6px);box-shadow:0 10px 20px rgba(0,0,0,0.5)}.container>.card:last-child{margin-bottom:2rem}.card.purple{border-left-color: #ba68c8}p,li{color:#dcdcdc;font-size:0.95rem;line-height:1.5;font-family:'Segoe UI',sans-serif}p{margin-bottom:0.75rem}ul,ol{padding-left:1.25rem;margin-bottom:0.75rem}li{margin-bottom:0.5rem}img{display:block;max-width:50vw;height:auto;margin:0 auto;border-radius:10px}@media (max-width:768px){.section-card{padding:1.25rem}.card{width:100%;padding:1rem;margin:0 auto 1rem}.container>.card:last-child{margin-bottom:1.5rem}.card h3{font-size:1.2rem}p,li{font-size:0.9rem}}</style>\n",
    "<div class=\"section-card\" id=\"toc3_6_\">\n",
    "  <div class=\"container\">\n",
    "    <div class=\"card purple\">\n",
    "      <h3>Data Analysis and Scientific Computing</h3>\n",
    "      <p>Python’s rich ecosystem of libraries, such as NumPy, SciPy, and pandas, has made it a go-to language for data analysis and scientific computing. These libraries offer powerful data structures, numerical computing capabilities, statistical functions, and data manipulation tools. Python, along with Jupyter notebooks, has become the de facto standard for data scientists and researchers due to its ease of use, interactive nature, and visualization capabilities.</p>\n",
    "      <img src=\"../images/python-scientific-computing.png\" alt=\"Python Scientific Computing\" />\n",
    "    </div>\n",
    "  </div>\n",
    "</div>"
   ]
  },
  {
   "cell_type": "markdown",
   "id": "e202be33",
   "metadata": {},
   "source": [
    "<style>*{box-sizing:border-box}.section-card{background:linear-gradient(145deg,rgb(61,61,87),rgb(49,49,70));border-radius:15px;padding:2rem;margin:0 auto 2.5rem;box-shadow:0 8px 20px rgba(0,0,0,0.5);width:100%;max-width:min(1200px,95vw)}.card h3{color:#ffffff;font-family:'Poppins',sans-serif;letter-spacing:1px;font-size:1.3rem;margin-bottom:0.75rem;font-weight:bold}.container{display:flex;flex-direction:column;gap:1.25rem;align-items:center}.card{background:linear-gradient(145deg,#24243e,#1e1e3a);border-radius:12px;padding:1.5rem;box-shadow:0 6px 16px rgba(0,0,0,0.4);border-left:4px solid transparent;width:min(1000px,90vw);margin:0 auto 1.25rem;transition:transform 0.3s ease,box-shadow 0.3s ease}.card:hover{transform:translateY(-6px);box-shadow:0 10px 20px rgba(0,0,0,0.5)}.container>.card:last-child{margin-bottom:2rem}.card.purple{border-left-color: #ba68c8}p,li{color:#dcdcdc;font-size:0.95rem;line-height:1.5;font-family:'Segoe UI',sans-serif}p{margin-bottom:0.75rem}ul,ol{padding-left:1.25rem;margin-bottom:0.75rem}li{margin-bottom:0.5rem}img{display:block;max-width:50vw;height:auto;margin:0 auto;border-radius:10px}@media (max-width:768px){.section-card{padding:1.25rem}.card{width:100%;padding:1rem;margin:0 auto 1rem}.container>.card:last-child{margin-bottom:1.5rem}.card h3{font-size:1.2rem}p,li{font-size:0.9rem}}</style>\n",
    "<div class=\"section-card\" id=\"toc3_7_\">\n",
    "  <div class=\"container\">\n",
    "    <div class=\"card purple\">\n",
    "      <h3>Machine Learning and Artificial Intelligence</h3>\n",
    "      <p>Python has gained significant traction in the fields of machine learning and artificial intelligence (AI). Libraries like scikit-learn, TensorFlow, and PyTorch provide comprehensive tools for building and training machine learning models. Python’s simplicity, coupled with these libraries, allows developers to experiment with various algorithms and models efficiently. The popularity of Python in the AI community is further amplified by frameworks like Keras.</p>\n",
    "      <img src=\"../images/python-ml.png\" alt=\"Python Machine Learning\" />\n",
    "    </div>\n",
    "  </div>\n",
    "</div>"
   ]
  },
  {
   "cell_type": "markdown",
   "metadata": {},
   "source": [
    "<style>*{box-sizing:border-box}.section-card{background:linear-gradient(145deg,rgb(61,61,87),rgb(49,49,70));border-radius:15px;padding:2rem;margin:0 auto 2.5rem;box-shadow:0 8px 20px rgba(0,0,0,0.5);width:100%;max-width:min(1200px,95vw)}.section-card h2,.card h3{color:#ffffff;font-family:'Poppins',sans-serif;letter-spacing:1px}.section-card h2{text-align:center;font-size:1.8rem;margin-bottom:1.5rem}.card h3{font-size:1.3rem;margin-bottom:0.75rem;font-weight:bold}.container{display:flex;flex-direction:column;gap:1.25rem;align-items:center}.card{background:linear-gradient(145deg,#24243e,#1e1e3a);border-radius:12px;padding:1.5rem;box-shadow:0 6px 16px rgba(0,0,0,0.4);border-left:4px solid transparent;width:min(1000px,90vw);margin:0 auto 1.25rem;transition:transform 0.3s ease,box-shadow 0.3s ease}.card:hover{transform:translateY(-6px);box-shadow:0 10px 20px rgba(0,0,0,0.5)}.container>.card:last-child{margin-bottom:2rem}.card.purple{border-left-color:#ba68c8}p,li{color:#dcdcdc;font-size:0.95rem;line-height:1.5;font-family:'Segoe UI',sans-serif}p{margin-bottom:0.75rem}ul,ol{padding-left:1.25rem;margin-bottom:0.75rem}li{margin-bottom:0.5rem}img{display:block;max-width:50vw;height:auto;margin:20px auto;border-radius:10px}@media (max-width:768px){.section-card{padding:1.25rem}.card{width:100%;padding:1rem;margin:0 auto 1rem}.container>.card:last-child{margin-bottom:1.5rem}.section-card h2{font-size:1.4rem}.card h3{font-size:1.2rem}p,li{font-size:0.9rem}}</style>\n",
    "<div class=\"section-card\" id=\"toc4_\">\n",
    "    <h2>How Does Python Work</h2>\n",
    "    <div class=\"container\">\n",
    "     <div class=\"card purple\" id=\"toc4_1_\">\n",
    "      <h3>Interpreter vs Compiler</h3>\n",
    "      <p>Python is an <strong>interpreted</strong> language, executing code line by line via an interpreter, unlike <strong>compiled</strong> languages (e.g., C, Java) that translate the entire code into machine code before running. This allows instant execution without compilation, ideal for quick testing, but may be slower due to real-time translation. For example, a Python <code>print(\"Hello, World!\")</code> runs directly, while C requires compiling first.</p>\n",
    "      <img src=\"../images/interpreter-vs-compiler.png\" alt=\"Interpreter vs Compiler\">\n",
    "      <img src=\"../images/interpreter-vs-compiler-example.png\" alt=\"Interpreter vs Compiler\">\n",
    "    </div>\n",
    "  </div>\n",
    "</div>\n",
    "    "
   ]
  },
  {
   "cell_type": "markdown",
   "metadata": {},
   "source": [
    "<style>*{box-sizing:border-box}.section-card{background:linear-gradient(145deg,rgb(61,61,87),rgb(49,49,70));border-radius:15px;padding:2rem;margin:0 auto 2.5rem;box-shadow:0 8px 20px rgba(0,0,0,0.5);width:100%;max-width:min(1200px,95vw)}.section-card h2,.card h3{color:#ffffff;font-family:'Poppins',sans-serif;letter-spacing:1px}.section-card h2{text-align:center;font-size:1.8rem;margin-bottom:1.5rem}.card h3{font-size:1.3rem;margin-bottom:0.75rem;font-weight:bold}.container{display:flex;flex-direction:column;gap:1.25rem;align-items:center}.card{background:linear-gradient(145deg,#24243e,#1e1e3a);border-radius:12px;padding:1.5rem;box-shadow:0 6px 16px rgba(0,0,0,0.4);border-left:4px solid transparent;width:min(1000px,90vw);margin:0 auto 1.25rem;transition:transform 0.3s ease,box-shadow 0.3s ease}.card:hover{transform:translateY(-6px);box-shadow:0 10px 20px rgba(0,0,0,0.5)}.container>.card:last-child{margin-bottom:2rem}.card.purple{border-left-color:#ba68c8}p,li{color:#dcdcdc;font-size:0.95rem;line-height:1.5;font-family:'Segoe UI',sans-serif}p{margin-bottom:0.75rem}ul,ol{padding-left:1.25rem;margin-bottom:0.75rem}li{margin-bottom:0.5rem}img{display:block;max-width:50vw;height:auto;margin:20px auto;border-radius:10px}@media (max-width:768px){.section-card{padding:1.25rem}.card{width:100%;padding:1rem;margin:0 auto 1rem}.container>.card:last-child{margin-bottom:1.5rem}.section-card h2{font-size:1.4rem}.card h3{font-size:1.2rem}p,li{font-size:0.9rem}}</style>\n",
    "<div class=\"section-card\">\n",
    "    <div class=\"container\">\n",
    "     <div class=\"card purple\" id=\"toc4_2_\">\n",
    "        <h3>Advantages and Disadvantages of Interpreter</h3>\n",
    "    <ul>\n",
    "        <li><strong>Advantages:</strong>\n",
    "            <ul>\n",
    "                <li><strong>Rapid Prototyping:</strong> Instant code execution enables quick testing and iteration, ideal for beginners and experimentation.</li>\n",
    "                <li><strong>Easy Debugging:</strong> Errors are reported line by line, making issues like syntax errors easier to identify and fix.</li>\n",
    "            </ul>\n",
    "        </li>\n",
    "        <li><strong>Disadvantages:</strong>\n",
    "            <ul>\n",
    "                <li><strong>Slower Execution:</strong> Real-time translation can make Python slower than compiled languages for performance-critical tasks.</li>\n",
    "                <li><strong>Higher Memory Usage:</strong> The interpreter requires additional resources, which may impact efficiency in resource-constrained environments.</li>\n",
    "            </ul>\n",
    "        </li>\n",
    "    </ul>\n",
    "    </div>\n",
    "  </div>\n",
    "</div>\n",
    "    "
   ]
  }
 ],
 "metadata": {
  "kernelspec": {
   "display_name": "py310",
   "language": "python",
   "name": "python3"
  },
  "language_info": {
   "codemirror_mode": {
    "name": "ipython",
    "version": 3
   },
   "file_extension": ".py",
   "mimetype": "text/x-python",
   "name": "python",
   "nbconvert_exporter": "python",
   "pygments_lexer": "ipython3",
   "version": "3.10.12"
  }
 },
 "nbformat": 4,
 "nbformat_minor": 2
}
