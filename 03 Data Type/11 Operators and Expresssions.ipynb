{
 "cells": [
  {
   "cell_type": "markdown",
   "metadata": {},
   "source": [
    "<style>\n",
    "  * { box-sizing: border-box; }\n",
    "  .section-card { background: linear-gradient(145deg, rgb(61, 61, 87), rgb(49, 49, 70)); border-radius: 15px; padding: 2rem; margin: 0 auto 2.5rem; box-shadow: 0 8px 20px rgba(0, 0, 0, 0.5); width: 100%; max-width: min(1200px, 95vw); }\n",
    "  .section-card h1 { text-align: center; color: #ffffff; font-size: 2.8rem; margin-bottom: 1.5rem; font-family: 'Poppins', sans-serif; letter-spacing: 1px; }\n",
    "  .container { display: flex; flex-direction: column; gap: 1.25rem; align-items: center; }\n",
    "  .card { background: linear-gradient(145deg, #24243e, #1e1e3a); border-radius: 12px; padding: 1.5rem; box-shadow: 0 6px 16px rgba(0, 0, 0, 0.4); border-left: 4px solid #66bb6a; width: min(1000px, 90vw); margin: 0 auto 1.25rem; }\n",
    "  .card:hover {transform: translateY(-6px);box-shadow: 0 10px 20px rgba(0, 0, 0, 0.5);}\n",
    "  .card {transition: transform 0.3s ease, box-shadow 0.3s ease;}\n",
    "  .container > .card:last-child { margin-bottom: 2rem; }\n",
    "  p { color: #dcdcdc; font-size: 0.95rem; line-height: 1.5; font-family: 'Segoe UI', sans-serif; margin-bottom: 0.75rem; }\n",
    "  h1 {width: 100%;text-align: center;color: #ffffff;font-size: 2.8rem;margin-bottom: 1.5rem;font-family: 'Poppins', sans-serif;letter-spacing: 1px;}\n",
    "  @media (max-width: 768px) { .section-card { padding: 1.25rem; max-width: 95vw; } .card { width: 100%; padding: 1rem; margin: 0 auto 1rem; } .container > .card:last-child { margin-bottom: 1.5rem; } .section-card h1 { font-size: 2rem; } p { font-size: 0.9rem; } }\n",
    "</style>\n",
    "\n",
    "<div class=\"section-card\">\n",
    "  <h1>Operators and Expressions</h1>\n",
    "</div>\n",
    "<div class=\"section-card\">\n",
    "  <div class=\"container\">\n",
    "    <div class=\"card\">\n",
    "      <p>Operators and expressions are programming's fundamental building blocks, similar to symbols in mathematics.</p>\n",
    "      <p><strong>Operators</strong> are special symbols like <code>+</code> or <code>-</code> that perform computations on values.</p>\n",
    "      <p>An <strong>Expression</strong> is a combination of values, variables, and operators, like <code>3 + 4</code>, which Python evaluates to produce a result, such as <code>7</code>.</p>\n",
    "      <p style=\"margin-bottom:0;\">Mastering expressions is key to solving problems, making calculations, and building decision-making logic in your code.</p>\n",
    "    </div>\n",
    "  </div>\n",
    "</div>"
   ]
  },
  {
   "cell_type": "markdown",
   "metadata": {},
   "source": [
    "<style>\n",
    "  * { box-sizing: border-box; }\n",
    "  .section-card { background: linear-gradient(145deg, rgb(61, 61, 87), rgb(49, 49, 70)); border-radius: 15px; padding: 2rem; margin: 0 auto 2.5rem; box-shadow: 0 8px 20px rgba(0, 0, 0, 0.5); width: 100%; max-width: min(1200px, 95vw); }\n",
    "  .section-card h2 { text-align: center; color: #ffffff; font-size: 1.8rem; margin-bottom: 1.5rem; font-family: 'Poppins', sans-serif; letter-spacing: 1px; }\n",
    "  .container { display: flex; flex-direction: column; gap: 1.25rem; align-items: center; }\n",
    "  .card { background: linear-gradient(145deg, #24243e, #1e1e3a); border-radius: 12px; padding: 1.5rem; box-shadow: 0 6px 16px rgba(0, 0, 0, 0.4); border-left: 4px solid #66bb6a; width: min(1000px, 90vw); margin: 0 auto 1.25rem; }\n",
    "  .card:hover {transform: translateY(-6px);box-shadow: 0 10px 20px rgba(0, 0, 0, 0.5);}\n",
    "  .card {transition: transform 0.3s ease, box-shadow 0.3s ease;}\n",
    "  .container > .card:last-child { margin-bottom: 2rem; }\n",
    "  .card.blue { border-left-color: #29b6f6; }\n",
    "  li { margin-bottom: 0.5rem; color: #dcdcdc; font-size: 0.95rem; line-height: 1.5; font-family: 'Segoe UI', sans-serif; }\n",
    "  .toc-card ul { list-style-type: none; padding-left: 0; margin-bottom: 0; }\n",
    "  .toc-card ul li a { color: #29b6f6; text-decoration: none; transition: color 0.3s ease; }\n",
    "  .toc-card ul li a:hover { color: #66bb6a; text-decoration: underline; }\n",
    "  .toc-card ul ul { padding-left: 1.5rem; margin-top: 0.5rem; }\n",
    "  @media (max-width: 768px) { .section-card { padding: 1.25rem; max-width: 95vw; } .card { width: 100%; padding: 1rem; margin: 0 auto 1rem; } .container > .card:last-child { margin-bottom: 1.5rem; } h2 { font-size: 1.4rem; } li { font-size: 0.9rem; } }\n",
    "</style>\n",
    "<div class=\"section-card\">\n",
    "  <h2>Table of contents</h2>\n",
    "  <div class=\"container\">\n",
    "    <div class=\"card blue toc-card\">\n",
    "      <ul>\n",
    "        <li><a href=\"#toc1_\">Basic Arithmetic Operators</a></li>\n",
    "        <li><a href=\"#toc2_\">Comparison Operators</a></li>\n",
    "        <li><a href=\"#toc3_\">Logical Operators</a></li>\n",
    "        <li><a href=\"#toc4_\">Assignment Operators</a></li>\n",
    "        <li><a href=\"#toc5_\">Membership Operators</a></li>\n",
    "        <li><a href=\"#toc6_\">(Optional) Bitwise Operators</a></li>\n",
    "        <li><a href=\"#toc7_\">Operator Precedence and Associativity</a>\n",
    "          <ul>\n",
    "            <li><a href=\"#toc7_1_\">Operator Precedence</a></li>\n",
    "            <li><a href=\"#toc7_2_\">Associativity</a></li>\n",
    "          </ul>\n",
    "        </li>\n",
    "        <li><a href=\"#toc8_\">Building Complex Expressions</a></li>\n",
    "        <li><a href=\"#toc9_\">Conclusion</a></li>\n",
    "      </ul>\n",
    "    </div>\n",
    "  </div>\n",
    "</div>"
   ]
  },
  {
   "cell_type": "markdown",
   "metadata": {},
   "source": [
    "<style>\n",
    "  * { box-sizing: border-box; }\n",
    "  .section-card { background: linear-gradient(145deg, rgb(61, 61, 87), rgb(49, 49, 70)); border-radius: 15px; padding: 2rem; margin: 0 auto 2.5rem; box-shadow: 0 8px 20px rgba(0, 0, 0, 0.5); width: 100%; max-width: min(1200px, 95vw); }\n",
    "  .section-card h2 { text-align: center; color: #ffffff; font-size: 1.8rem; margin-bottom: 1.5rem; font-family: 'Poppins', sans-serif; letter-spacing: 1px; }\n",
    "  .container { display: flex; flex-direction: column; gap: 1.25rem; align-items: center; }\n",
    "  .card { background: linear-gradient(145deg, #24243e, #1e1e3a); border-radius: 12px; padding: 1.5rem; box-shadow: 0 6px 16px rgba(0, 0, 0, 0.4); border-left: 4px solid #66bb6a; width: min(1000px, 90vw); margin: 0 auto 1.25rem; }\n",
    "  .card:hover {transform: translateY(-6px);box-shadow: 0 10px 20px rgba(0, 0, 0, 0.5);}\n",
    "  .card {transition: transform 0.3s ease, box-shadow 0.3s ease;}\n",
    "  .container > .card:last-child { margin-bottom: 2rem; }\n",
    "  .card.orange { border-left-color: #ffa726; }\n",
    "  p { color: #dcdcdc; font-size: 0.95rem; line-height: 1.5; font-family: 'Segoe UI', sans-serif; margin-bottom: 0.75rem; }\n",
    "  ol { padding-left: 1.25rem; margin-bottom: 0; color: #dcdcdc; font-size: 0.95rem; }\n",
    "  li { margin-bottom: 0.5rem; }\n",
    "  @media (max-width: 768px) { .section-card { padding: 1.25rem; max-width: 95vw; } .card { width: 100%; padding: 1rem; margin: 0 auto 1rem; } .container > .card:last-child { margin-bottom: 1.5rem; } h2 { font-size: 1.4rem; } p, li { font-size: 0.9rem; } }\n",
    "</style>\n",
    "<div class=\"section-card\" id=\"toc1_\">\n",
    "  <h2>Basic Arithmetic Operators</h2>\n",
    "  <div class=\"container\">\n",
    "    <div class=\"card orange\">\n",
    "      <p>Arithmetic operators perform basic mathematical calculations. Here’s a quick overview:</p>\n",
    "      <ol>\n",
    "        <li><strong>Addition (<code>+</code>)</strong>: Adds two values.</li>\n",
    "        <li><strong>Subtraction (<code>-</code>)</strong>: Subtracts the right value from the left.</li>\n",
    "        <li><strong>Multiplication (<code>*</code>)</strong>: Multiplies two values.</li>\n",
    "        <li><strong>Division (<code>/</code>)</strong>: Divides the left value by the right, resulting in a float.</li>\n",
    "        <li><strong>Floor Division (<code>//</code>)</strong>: Divides and rounds the result down to the nearest whole number.</li>\n",
    "        <li><strong>Modulus (<code>%</code>)</strong>: Returns the remainder of a division.</li>\n",
    "        <li><strong>Exponentiation (<code>**</code>)</strong>: Raises the left value to the power of the right.</li>\n",
    "        <li><strong>Unary Minus (<code>-</code>)</strong>: Negates a value.</li>\n",
    "      </ol>\n",
    "    </div>\n",
    "  </div>\n",
    "</div>"
   ]
  },
  {
   "cell_type": "code",
   "execution_count": 1,
   "metadata": {},
   "outputs": [
    {
     "data": {
      "text/plain": [
       "8"
      ]
     },
     "execution_count": 1,
     "metadata": {},
     "output_type": "execute_result"
    }
   ],
   "source": [
    "5 + 3"
   ]
  },
  {
   "cell_type": "code",
   "execution_count": 2,
   "metadata": {},
   "outputs": [
    {
     "data": {
      "text/plain": [
       "4.0"
      ]
     },
     "execution_count": 2,
     "metadata": {},
     "output_type": "execute_result"
    }
   ],
   "source": [
    "8 / 2"
   ]
  },
  {
   "cell_type": "code",
   "execution_count": 3,
   "metadata": {},
   "outputs": [
    {
     "data": {
      "text/plain": [
       "2"
      ]
     },
     "execution_count": 3,
     "metadata": {},
     "output_type": "execute_result"
    }
   ],
   "source": [
    "7 // 3"
   ]
  },
  {
   "cell_type": "markdown",
   "metadata": {},
   "source": [
    "<style>\n",
    "  * { box-sizing: border-box; }\n",
    "  .section-card { background: linear-gradient(145deg, rgb(61, 61, 87), rgb(49, 49, 70)); border-radius: 15px; padding: 2rem; margin: 0 auto 2.5rem; box-shadow: 0 8px 20px rgba(0, 0, 0, 0.5); width: 100%; max-width: min(1200px, 95vw); }\n",
    "  .section-card h2 { text-align: center; color: #ffffff; font-size: 1.8rem; margin-bottom: 1.5rem; font-family: 'Poppins', sans-serif; letter-spacing: 1px; }\n",
    "  .container { display: flex; flex-direction: column; gap: 1.25rem; align-items: center; }\n",
    "  .card { background: linear-gradient(145deg, #24243e, #1e1e3a); border-radius: 12px; padding: 1.5rem; box-shadow: 0 6px 16px rgba(0, 0, 0, 0.4); border-left: 4px solid #66bb6a; width: min(1000px, 90vw); margin: 0 auto 1.25rem; }\n",
    "  .card:hover {transform: translateY(-6px);box-shadow: 0 10px 20px rgba(0, 0, 0, 0.5);}\n",
    "  .card {transition: transform 0.3s ease, box-shadow 0.3s ease;}\n",
    "  .container > .card:last-child { margin-bottom: 2rem; }\n",
    "  .card.purple { border-left-color: #ba68c8; }\n",
    "  p { color: #dcdcdc; font-size: 0.95rem; line-height: 1.5; font-family: 'Segoe UI', sans-serif; margin-bottom: 0.75rem; }\n",
    "  ol { padding-left: 1.25rem; margin-bottom: 0; color: #dcdcdc; font-size: 0.95rem; }\n",
    "  li { margin-bottom: 0.5rem; }\n",
    "  @media (max-width: 768px) { .section-card { padding: 1.25rem; max-width: 95vw; } .card { width: 100%; padding: 1rem; margin: 0 auto 1rem; } .container > .card:last-child { margin-bottom: 1.5rem; } h2 { font-size: 1.4rem; } p, li { font-size: 0.9rem; } }\n",
    "</style>\n",
    "<div class=\"section-card\" id=\"toc2_\">\n",
    "  <h2>Comparison Operators</h2>\n",
    "  <div class=\"container\">\n",
    "    <div class=\"card purple\">\n",
    "      <p>Comparison operators compare two values and are fundamental to decision-making in code. Every comparison expression evaluates to a Boolean result: either <code>True</code> or <code>False</code>.</p>\n",
    "    </div>\n",
    "    <div class=\"card purple\">\n",
    "      <p>The main comparison operators are:</p>\n",
    "      <ol>\n",
    "        <li><strong>Equal to (<code>==</code>)</strong>: Checks if two values are equal.</li>\n",
    "        <li><strong>Not equal to (<code>!=</code>)</strong>: Checks if two values are not equal.</li>\n",
    "        <li><strong>Greater than (<code>></code>)</strong>: Checks if the left value is greater than the right.</li>\n",
    "        <li><strong>Less than (<code><</code>)</strong>: Checks if the left value is less than the right.</li>\n",
    "        <li><strong>Greater than or equal to (<code>>=</code>)</strong>: Checks for greater than or equal to.</li>\n",
    "        <li><strong>Less than or equal to (<code><=</code>)</strong>: Checks for less than or equal to.</li>\n",
    "      </ol>\n",
    "    </div>\n",
    "  </div>\n",
    "</div>"
   ]
  },
  {
   "cell_type": "code",
   "execution_count": 4,
   "metadata": {},
   "outputs": [
    {
     "data": {
      "text/plain": [
       "False"
      ]
     },
     "execution_count": 4,
     "metadata": {},
     "output_type": "execute_result"
    }
   ],
   "source": [
    "5 == 4"
   ]
  },
  {
   "cell_type": "code",
   "execution_count": 5,
   "metadata": {},
   "outputs": [
    {
     "data": {
      "text/plain": [
       "True"
      ]
     },
     "execution_count": 5,
     "metadata": {},
     "output_type": "execute_result"
    }
   ],
   "source": [
    "6 >= 6"
   ]
  },
  {
   "cell_type": "markdown",
   "metadata": {},
   "source": [
    "<style>\n",
    "  * { box-sizing: border-box; }\n",
    "  .section-card { background: linear-gradient(145deg, rgb(61, 61, 87), rgb(49, 49, 70)); border-radius: 15px; padding: 2rem; margin: 0 auto 2.5rem; box-shadow: 0 8px 20px rgba(0, 0, 0, 0.5); width: 100%; max-width: min(1200px, 95vw); }\n",
    "  .section-card h2 { text-align: center; color: #ffffff; font-size: 1.8rem; margin-bottom: 1.5rem; font-family: 'Poppins', sans-serif; letter-spacing: 1px; }\n",
    "  .container { display: flex; flex-direction: column; gap: 1.25rem; align-items: center; }\n",
    "  .card { background: linear-gradient(145deg, #24243e, #1e1e3a); border-radius: 12px; padding: 1.5rem; box-shadow: 0 6px 16px rgba(0, 0, 0, 0.4); border-left: 4px solid #66bb6a; width: min(1000px, 90vw); margin: 0 auto 1.25rem; }\n",
    "  .card:hover {transform: translateY(-6px);box-shadow: 0 10px 20px rgba(0, 0, 0, 0.5);}\n",
    "  .card {transition: transform 0.3s ease, box-shadow 0.3s ease;}\n",
    "  .container > .card:last-child { margin-bottom: 2rem; }\n",
    "  .card.red { border-left-color: #ef5350; }\n",
    "  p { color: #dcdcdc; font-size: 0.95rem; line-height: 1.5; font-family: 'Segoe UI', sans-serif; margin-bottom: 0.75rem; }\n",
    "  ul { padding-left: 1.25rem; margin-bottom: 0; color: #dcdcdc; font-size: 0.95rem; }\n",
    "  li { margin-bottom: 0.5rem; }\n",
    "  @media (max-width: 768px) { .section-card { padding: 1.25rem; max-width: 95vw; } .card { width: 100%; padding: 1rem; margin: 0 auto 1rem; } .container > .card:last-child { margin-bottom: 1.5rem; } h2 { font-size: 1.4rem; } p, li { font-size: 0.9rem; } }\n",
    "</style>\n",
    "<div class=\"section-card\" id=\"toc3_\">\n",
    "  <h2>Logical Operators</h2>\n",
    "  <div class=\"container\">\n",
    "    <div class=\"card red\">\n",
    "       <p>Logical operators combine Boolean expressions to create more complex conditions for decision-making.</p>\n",
    "    </div>\n",
    "    <div class=\"card red\">\n",
    "      <p>The logical operators are:</p>\n",
    "      <ul>\n",
    "        <li><strong>AND (<code>and</code>)</strong>: Returns <code>True</code> only if both conditions are true.</li>\n",
    "        <li><strong>OR (<code>or</code>)</strong>: Returns <code>True</code> if at least one condition is true.</li>\n",
    "        <li><strong>NOT (<code>not</code>)</strong>: Inverts a Boolean value (<code>True</code> becomes <code>False</code> and vice versa).</li>\n",
    "      </ul>\n",
    "    </div>\n",
    "  </div>\n",
    "</div>"
   ]
  },
  {
   "cell_type": "code",
   "execution_count": 6,
   "metadata": {},
   "outputs": [
    {
     "data": {
      "text/plain": [
       "True"
      ]
     },
     "execution_count": 6,
     "metadata": {},
     "output_type": "execute_result"
    }
   ],
   "source": [
    "(5 > 3) and (6 < 9)"
   ]
  },
  {
   "cell_type": "code",
   "execution_count": 7,
   "metadata": {},
   "outputs": [
    {
     "data": {
      "text/plain": [
       "False"
      ]
     },
     "execution_count": 7,
     "metadata": {},
     "output_type": "execute_result"
    }
   ],
   "source": [
    "not (5 > 3)"
   ]
  },
  {
   "cell_type": "markdown",
   "metadata": {},
   "source": [
    "<style>\n",
    "  * { box-sizing: border-box; }\n",
    "  .section-card { background: linear-gradient(145deg, rgb(61, 61, 87), rgb(49, 49, 70)); border-radius: 15px; padding: 2rem; margin: 0 auto 2.5rem; box-shadow: 0 8px 20px rgba(0, 0, 0, 0.5); width: 100%; max-width: min(1200px, 95vw); }\n",
    "  .section-card h2 { text-align: center; color: #ffffff; font-size: 1.8rem; margin-bottom: 1.5rem; font-family: 'Poppins', sans-serif; letter-spacing: 1px; }\n",
    "  .container { display: flex; flex-direction: column; gap: 1.25rem; align-items: center; }\n",
    "  .card { background: linear-gradient(145deg, #24243e, #1e1e3a); border-radius: 12px; padding: 1.5rem; box-shadow: 0 6px 16px rgba(0, 0, 0, 0.4); border-left: 4px solid #66bb6a; width: min(1000px, 90vw); margin: 0 auto 1.25rem; }\n",
    "  .card:hover {transform: translateY(-6px);box-shadow: 0 10px 20px rgba(0, 0, 0, 0.5);}\n",
    "  .card {transition: transform 0.3s ease, box-shadow 0.3s ease;}\n",
    "  .container > .card:last-child { margin-bottom: 2rem; }\n",
    "  ol { padding-left: 1.25rem; margin-bottom: 0; color: #dcdcdc; font-size: 0.95rem; }\n",
    "  li { margin-bottom: 0.5rem; }\n",
    "  p { color: #dcdcdc; font-size: 0.95rem; line-height: 1.5; font-family: 'Segoe UI', sans-serif; margin-bottom: 0.75rem; }\n",
    "  @media (max-width: 768px) { .section-card { padding: 1.25rem; max-width: 95vw; } .card { width: 100%; padding: 1rem; margin: 0 auto 1rem; } .container > .card:last-child { margin-bottom: 1.5rem; } h2 { font-size: 1.4rem; } p { font-size: 0.9rem; } }\n",
    "</style>\n",
    "<div class=\"section-card\" id=\"toc4_\">\n",
    "  <h2>Assignment Operators</h2>\n",
    "  <div class=\"container\">\n",
    "    <div class=\"card\">\n",
    "       <p>Assignment operators assign values to variables. The basic operator is <code>=</code>. Compound operators (like <code>+=</code> or <code>*=</code>) perform an operation and assign the result in a single, concise step.</p>\n",
    "       <ol>\n",
    "        <li><strong>Equal(=)</strong>: Assigns right-side value to left-side variable — e.g., <code>x = 5</code>.</li>\n",
    "        <li><strong>Add and assign (+=)</strong>: Adds right operand to left, assigns result — e.g., <code>x += 3</code> → <code>x = x + 3</code>.</li>\n",
    "        <li><strong>Subtract and assign (-=)</strong>: Subtracts right operand from left, assigns result — e.g., <code>x -= 2</code> → <code>x = x - 2</code>.</li>\n",
    "        <li><strong>Multiply and assign (*=)</strong>: Multiplies left by right, assigns result — e.g., <code>x *= 4</code> → <code>x = x * 4</code>.</li>\n",
    "        <li><strong>Divide and assign (/=)</strong>: Divides left by right, assigns result — e.g., <code>x /= 2</code> → <code>x = x / 2</code>.</li>\n",
    "        <li><strong>Floor divide and assign (//=)</strong>: Floor-divides left by right, assigns result — e.g., <code>x //= 3</code> → <code>x = x // 3</code>.</li>\n",
    "        <li><strong>Modulus and assign (%=)</strong>: Takes modulus, assigns remainder — e.g., <code>x %= 4</code> → <code>x = x % 4</code>.</li>\n",
    "        <li><strong>Exponent and assign (**=)</strong>: Raises left to power of right, assigns result — e.g., <code>x **= 2</code> → <code>x = x ** 2</code>.</li>\n",
    "      </ol>\n",
    "       <p style=\"margin-bottom:0;\">For example, <code>x += 3</code> is a more compact way of writing <code>x = x + 3</code>.</p>\n",
    "    </div>\n",
    "  </div>\n",
    "</div>"
   ]
  },
  {
   "cell_type": "code",
   "execution_count": 8,
   "metadata": {},
   "outputs": [],
   "source": [
    "x = 5\n",
    "x += 3"
   ]
  },
  {
   "cell_type": "code",
   "execution_count": 9,
   "metadata": {},
   "outputs": [
    {
     "data": {
      "text/plain": [
       "8"
      ]
     },
     "execution_count": 9,
     "metadata": {},
     "output_type": "execute_result"
    }
   ],
   "source": [
    "x"
   ]
  },
  {
   "cell_type": "markdown",
   "metadata": {},
   "source": [
    "<style>\n",
    "  * { box-sizing: border-box; }\n",
    "  .section-card { background: linear-gradient(145deg, rgb(61, 61, 87), rgb(49, 49, 70)); border-radius: 15px; padding: 2rem; margin: 0 auto 2.5rem; box-shadow: 0 8px 20px rgba(0, 0, 0, 0.5); width: 100%; max-width: min(1200px, 95vw); }\n",
    "  .section-card h2 { text-align: center; color: #ffffff; font-size: 1.8rem; margin-bottom: 1.5rem; font-family: 'Poppins', sans-serif; letter-spacing: 1px; }\n",
    "  .container { display: flex; flex-direction: column; gap: 1.25rem; align-items: center; }\n",
    "  .card { background: linear-gradient(145deg, #24243e, #1e1e3a); border-radius: 12px; padding: 1.5rem; box-shadow: 0 6px 16px rgba(0, 0, 0, 0.4); border-left: 4px solid #66bb6a; width: min(1000px, 90vw); margin: 0 auto 1.25rem; }\n",
    "  .card:hover {transform: translateY(-6px);box-shadow: 0 10px 20px rgba(0, 0, 0, 0.5);}\n",
    "  .card {transition: transform 0.3s ease, box-shadow 0.3s ease;}\n",
    "  .container > .card:last-child { margin-bottom: 2rem; }\n",
    "  .card.blue { border-left-color: #29b6f6; }\n",
    "  code{font-size: 0.95rem;line-height: 1.5; }\n",
    "  p { color: #dcdcdc; font-size: 0.95rem; line-height: 1.5; font-family: 'Segoe UI', sans-serif; margin-bottom: 0.75rem; }\n",
    "  ul { padding-left: 1.25rem; margin-bottom: 0; color: #dcdcdc; font-size: 0.95rem; }\n",
    "  li { margin-bottom: 0.5rem; }\n",
    "  @media (max-width: 768px) { .section-card { padding: 1.25rem; max-width: 95vw; } .card { width: 100%; padding: 1rem; margin: 0 auto 1rem; } .container > .card:last-child { margin-bottom: 1.5rem; } h2 { font-size: 1.4rem; } p { font-size: 0.9rem; } }\n",
    "</style>\n",
    "<div class=\"section-card\" id=\"toc5_\">\n",
    "  <h2>Membership Operators</h2>\n",
    "  <div class=\"container\">\n",
    "    <div class=\"card blue\">\n",
    "      <p>Membership operators (<code>in</code>, <code>not in</code>) test if a value exists within a sequence (like a list or string), providing a quick way to check for inclusion.</p>\n",
    "      <ul>\n",
    "        <li><strong>in</strong>: Returns <code>True</code> if a value exists in the sequence — e.g., <code>'h' in 'hello'</code> → <code>True</code>.</li>\n",
    "        <li><strong>not in</strong>: Returns <code>True</code> if a value does *not* exist in the sequence — e.g., <code>'a' not in 'hello'</code> → <code>True</code>.</li>\n",
    "      </ul>\n",
    "      <p style=\"margin-bottom:0;\">They are frequently used in conditional logic to make decisions based on whether an item is present in a collection.</p>\n",
    "    </div>\n",
    "  </div>\n",
    "</div>"
   ]
  },
  {
   "cell_type": "code",
   "execution_count": 10,
   "metadata": {},
   "outputs": [
    {
     "data": {
      "text/plain": [
       "False"
      ]
     },
     "execution_count": 10,
     "metadata": {},
     "output_type": "execute_result"
    }
   ],
   "source": [
    "'a' in 'hello'"
   ]
  },
  {
   "cell_type": "code",
   "execution_count": 11,
   "metadata": {},
   "outputs": [
    {
     "data": {
      "text/plain": [
       "False"
      ]
     },
     "execution_count": 11,
     "metadata": {},
     "output_type": "execute_result"
    }
   ],
   "source": [
    "'h' not in 'hello'"
   ]
  },
  {
   "cell_type": "markdown",
   "metadata": {},
   "source": [
    "<style>\n",
    "  * { box-sizing: border-box; }\n",
    "  .section-card { background: linear-gradient(145deg, rgb(61, 61, 87), rgb(49, 49, 70)); border-radius: 15px; padding: 2rem; margin: 0 auto 2.5rem; box-shadow: 0 8px 20px rgba(0, 0, 0, 0.5); width: 100%; max-width: min(1200px, 95vw); }\n",
    "  .section-card h2 { text-align: center; color: #ffffff; font-size: 1.8rem; margin-bottom: 1.5rem; font-family: 'Poppins', sans-serif; letter-spacing: 1px; }\n",
    "  .container { display: flex; flex-direction: column; gap: 1.25rem; align-items: center; }\n",
    "  .card { background: linear-gradient(145deg, #24243e, #1e1e3a); border-radius: 12px; padding: 1.5rem; box-shadow: 0 6px 16px rgba(0, 0, 0, 0.4); border-left: 4px solid #66bb6a; width: min(1000px, 90vw); margin: 0 auto 1.25rem; }\n",
    "  .card:hover {transform: translateY(-6px);box-shadow: 0 10px 20px rgba(0, 0, 0, 0.5);}\n",
    "  .card {transition: transform 0.3s ease, box-shadow 0.3s ease;}\n",
    "  .container > .card:last-child { margin-bottom: 2rem; }\n",
    "  .card.orange { border-left-color: #ffa726; }\n",
    "  p { color: #dcdcdc; font-size: 0.95rem; line-height: 1.5; font-family: 'Segoe UI', sans-serif; margin-bottom: 0.75rem; }\n",
    "  ol { padding-left: 1.25rem; margin-bottom: 0; color: #dcdcdc; font-size: 0.95rem; }\n",
    "  li { margin-bottom: 0.5rem; }\n",
    "  @media (max-width: 768px) { .section-card { padding: 1.25rem; max-width: 95vw; } .card { width: 100%; padding: 1rem; margin: 0 auto 1rem; } .container > .card:last-child { margin-bottom: 1.5rem; } h2 { font-size: 1.4rem; } p, li { font-size: 0.9rem; } }\n",
    "</style>\n",
    "<div class=\"section-card\" id=\"toc6_\">\n",
    "  <h2>(Optional) Bitwise Operators</h2>\n",
    "  <div class=\"container\">\n",
    "    <div class=\"card orange\">\n",
    "      <p>Bitwise operators act on integers at the binary level. They are essential for low-level tasks like systems programming or embedded systems, but are less common in high-level application development.</p>\n",
    "      <ol>\n",
    "        <li><strong>AND (<code>&</code>)</strong>: Performs a binary AND on each pair of bits.</li>\n",
    "        <li><strong>OR (<code>|</code>)</strong>: Performs a binary OR.</li>\n",
    "        <li><strong>XOR (<code>^</code>)</strong>: Performs a binary XOR.</li>\n",
    "        <li><strong>NOT (<code>~</code>)</strong>: Inverts all the bits of an integer.</li>\n",
    "        <li><strong>Left Shift (<code><<</code>)</strong>: Shifts bits to the left.</li>\n",
    "        <li><strong>Right Shift (<code>>></code>)</strong>: Shifts bits to the right.</li>\n",
    "      </ol>\n",
    "    </div>\n",
    "  </div>\n",
    "</div>"
   ]
  },
  {
   "cell_type": "markdown",
   "metadata": {},
   "source": [
    "<style>\n",
    "  * { box-sizing: border-box; }\n",
    "  .section-card { background: linear-gradient(145deg, rgb(61, 61, 87), rgb(49, 49, 70)); border-radius: 15px; padding: 2rem; margin: 0 auto 2.5rem; box-shadow: 0 8px 20px rgba(0, 0, 0, 0.5); width: 100%; max-width: min(1200px, 95vw); }\n",
    "  .section-card h2, .card h3 { color: #ffffff; font-family: 'Poppins', sans-serif; letter-spacing: 1px; text-align: center; }\n",
    "  .section-card h2 { font-size: 1.8rem; margin-bottom: 1.5rem; }\n",
    "  .card h3 { font-size: 1.3rem; margin-bottom: 0.75rem; font-weight: bold; }\n",
    "  .container { display: flex; flex-direction: column; gap: 1.25rem; align-items: center; }\n",
    "  .card { background: linear-gradient(145deg, #24243e, #1e1e3a); border-radius: 12px; padding: 1.5rem; box-shadow: 0 6px 16px rgba(0, 0, 0, 0.4); border-left: 4px solid #66bb6a; width: min(1000px, 90vw); margin: 0 auto 1.25rem; }\n",
    "  .card:hover {transform: translateY(-6px);box-shadow: 0 10px 20px rgba(0, 0, 0, 0.5);}\n",
    "  .card {transition: transform 0.3s ease, box-shadow 0.3s ease;}\n",
    "  .container > .card:last-child { margin-bottom: 2rem; }\n",
    "  .card.purple { border-left-color: #ba68c8; }\n",
    "  p { color: #dcdcdc; font-size: 0.95rem; line-height: 1.5; font-family: 'Segoe UI', sans-serif; margin-bottom: 0.75rem; }\n",
    "  ol { padding-left: 1.25rem; margin-bottom: 0; color: #dcdcdc; font-size: 0.95rem; }\n",
    "  li { margin-bottom: 0.5rem; }\n",
    "  @media (max-width: 768px) { .section-card { padding: 1.25rem; max-width: 95vw; } .card { width: 100%; padding: 1rem; margin: 0 auto 1rem; } .container > .card:last-child { margin-bottom: 1.5rem; } h2 { font-size: 1.4rem; } p, li { font-size: 0.9rem; } }\n",
    "</style>\n",
    "<div class=\"section-card\" id=\"toc7_\">\n",
    "  <h2>Operator Precedence and Associativity</h2>\n",
    "  <div class=\"container\">\n",
    "    <div class=\"card purple\">\n",
    "       <p>Python evaluates complex expressions based on a defined order of <strong>precedence</strong> (which operator runs first) and <strong>associativity</strong> (which direction to evaluate operators of the same precedence).</p>\n",
    "    </div>\n",
    "    <div class=\"card purple\" id=\"toc7_1_\">\n",
    "       <h3>Operator Precedence</h3>\n",
    "        <p>Precedence determines the evaluation order. The general order, from highest to lowest, is:</p>\n",
    "        <ol>\n",
    "           <li>Parentheses <code>()</code></li>\n",
    "           <li>Exponentiation <code>**</code></li>\n",
    "           <li>Unary operators <code>+x</code>, <code>-x</code></li>\n",
    "           <li><code>*</code>, <code>/</code>, <code>//</code>, <code>%</code></li>\n",
    "           <li><code>+</code>, <code>-</code></li>\n",
    "           <li>Comparison, Membership, Identity Operators</li>\n",
    "           <li>Logical <code>not</code></li>\n",
    "           <li>Logical <code>and</code></li>\n",
    "           <li>Logical <code>or</code></li>\n",
    "        </ol>\n",
    "     </div>\n",
    "     <div class=\"card purple\" id=\"toc7_2_\">\n",
    "        <h3>Associativity</h3>\n",
    "        <p>Associativity defines the order for operators of the same precedence. Most are left-associative (evaluated left-to-right). The main exception is the exponentiation operator <code>**</code>, which is right-associative.</p>\n",
    "        <p style=\"margin-bottom:0;\"><strong>Rule of thumb:</strong> When in doubt, use parentheses <code>()</code> to make the order of operations explicit and improve readability.</p>\n",
    "     </div>\n",
    "  </div>\n",
    "</div>"
   ]
  },
  {
   "cell_type": "markdown",
   "metadata": {},
   "source": [
    "<style>\n",
    "  * { box-sizing: border-box; }\n",
    "  .section-card { background: linear-gradient(145deg, rgb(61, 61, 87), rgb(49, 49, 70)); border-radius: 15px; padding: 2rem; margin: 0 auto 2.5rem; box-shadow: 0 8px 20px rgba(0, 0, 0, 0.5); width: 100%; max-width: min(1200px, 95vw); }\n",
    "  .section-card h2 { text-align: center; color: #ffffff; font-size: 1.8rem; margin-bottom: 1.5rem; font-family: 'Poppins', sans-serif; letter-spacing: 1px; }\n",
    "  .container { display: flex; flex-direction: column; gap: 1.25rem; align-items: center; }\n",
    "  .card { background: linear-gradient(145deg, #24243e, #1e1e3a); border-radius: 12px; padding: 1.5rem; box-shadow: 0 6px 16px rgba(0, 0, 0, 0.4); border-left: 4px solid #66bb6a; width: min(1000px, 90vw); margin: 0 auto 1.25rem; }\n",
    "  .card:hover {transform: translateY(-6px);box-shadow: 0 10px 20px rgba(0, 0, 0, 0.5);}\n",
    "  .card {transition: transform 0.3s ease, box-shadow 0.3s ease;}\n",
    "  .container > .card:last-child { margin-bottom: 2rem; }\n",
    "  .card.red { border-left-color: #ef5350; }\n",
    "  p { color: #dcdcdc; font-size: 0.95rem; line-height: 1.5; font-family: 'Segoe UI', sans-serif; margin-bottom: 0.75rem; }\n",
    "  ol { padding-left: 1.25rem; margin-bottom: 0; color: #dcdcdc; font-size: 0.95rem; }\n",
    "  li { margin-bottom: 0.5rem; }\n",
    "  @media (max-width: 768px) { .section-card { padding: 1.25rem; max-width: 95vw; } .card { width: 100%; padding: 1rem; margin: 0 auto 1rem; } .container > .card:last-child { margin-bottom: 1.5rem; } h2 { font-size: 1.4rem; } p, li { font-size: 0.9rem; } }\n",
    "</style>\n",
    "<div class=\"section-card\" id=\"toc8_\">\n",
    "  <h2>Building Complex Expressions</h2>\n",
    "  <div class=\"container\">\n",
    "    <div class=\"card red\">\n",
    "      <p>Constructing complex expressions requires a good grasp of operator precedence and a focus on clarity. Here are some best practices:</p>\n",
    "      <ol>\n",
    "        <li><strong>Start Simple:</strong> Break the problem into smaller parts and test each simple expression individually.</li>\n",
    "        <li><strong>Use Parentheses:</strong> Group parts of your expression with <code>()</code> to enforce a clear order of operations and improve readability.</li>\n",
    "        <li><strong>Avoid Overcomplicating:</strong> For very complex logic, prefer breaking the expression into multiple statements with intermediate variables. Clarity is better than a clever one-liner.</li>\n",
    "        <li><strong>Use Descriptive Variable Names:</strong> If using intermediate variables, name them descriptively to make your code self-documenting.</li>\n",
    "        <li><strong>Test Each Part:</strong> Test components of a complex expression separately to catch errors early.</li>\n",
    "      </ol>\n",
    "    </div>\n",
    "  </div>\n",
    "</div>"
   ]
  },
  {
   "cell_type": "code",
   "execution_count": 12,
   "metadata": {},
   "outputs": [],
   "source": [
    "# Instead of:\n",
    "x = 5 + 3 * 2 - 8 / 4\n",
    "\n",
    "# Use:\n",
    "x = 5 + (3 * 2) - (8 / 4)"
   ]
  },
  {
   "cell_type": "code",
   "execution_count": 13,
   "metadata": {},
   "outputs": [],
   "source": [
    "a, b, c, d, e, f, g = 1, 2, 3, 4, 5, 6, 7\n",
    "# Instead of:\n",
    "result = a + b * c / d - e ** f\n",
    "\n",
    "# Use:\n",
    "temp1 = b * c / d\n",
    "temp2 = e ** f\n",
    "result = a + temp1 - temp2"
   ]
  },
  {
   "cell_type": "markdown",
   "metadata": {},
   "source": [
    "<style>\n",
    "  * { box-sizing: border-box; }\n",
    "  .section-card { background: linear-gradient(145deg, rgb(61, 61, 87), rgb(49, 49, 70)); border-radius: 15px; padding: 2rem; margin: 0 auto 2.5rem; box-shadow: 0 8px 20px rgba(0, 0, 0, 0.5); width: 100%; max-width: min(1200px, 95vw); }\n",
    "  .section-card h2 { text-align: center; color: #ffffff; font-size: 1.8rem; margin-bottom: 1.5rem; font-family: 'Poppins', sans-serif; letter-spacing: 1px; }\n",
    "  .container { display: flex; flex-direction: column; gap: 1.25rem; align-items: center; }\n",
    "  .card { background: linear-gradient(145deg, #24243e, #1e1e3a); border-radius: 12px; padding: 1.5rem; box-shadow: 0 6px 16px rgba(0, 0, 0, 0.4); border-left: 4px solid #66bb6a; width: min(1000px, 90vw); margin: 0 auto 1.25rem; }\n",
    "  .card:hover {transform: translateY(-6px);box-shadow: 0 10px 20px rgba(0, 0, 0, 0.5);}\n",
    "  .card {transition: transform 0.3s ease, box-shadow 0.3s ease;}\n",
    "  .container > .card:last-child { margin-bottom: 2rem; }\n",
    "  p { color: #dcdcdc; font-size: 0.95rem; line-height: 1.5; font-family: 'Segoe UI', sans-serif; margin-bottom: 0.75rem; }\n",
    "  @media (max-width: 768px) { .section-card { padding: 1.25rem; max-width: 95vw; } .card { width: 100%; padding: 1rem; margin: 0 auto 1rem; } .container > .card:last-child { margin-bottom: 1.5rem; } h2 { font-size: 1.4rem; } p { font-size: 0.9rem; } }\n",
    "</style>\n",
    "<div class=\"section-card\" id=\"toc9_\">\n",
    "  <h2>Conclusion</h2>\n",
    "  <div class=\"container\">\n",
    "    <div class=\"card\">\n",
    "      <p>This lecture covered Python's diverse range of operators, which are the building blocks for performing operations, making decisions, and manipulating data. We explored arithmetic, comparison, logical, assignment, and membership operators.</p>\n",
    "      <p style=\"margin-bottom:0;\">Understanding and using these operators effectively is key to writing efficient and clear Python code. Practice and experimentation will deepen your grasp, enabling you to tackle more complex problems with ease.</p>\n",
    "    </div>\n",
    "  </div>\n",
    "</div>"
   ]
  }
 ],
 "metadata": {
  "kernelspec": {
   "display_name": "base",
   "language": "python",
   "name": "python3"
  },
  "language_info": {
   "codemirror_mode": {
    "name": "ipython",
    "version": 3
   },
   "file_extension": ".py",
   "mimetype": "text/x-python",
   "name": "python",
   "nbconvert_exporter": "python",
   "pygments_lexer": "ipython3",
   "version": "3.11.5"
  }
 },
 "nbformat": 4,
 "nbformat_minor": 4
}
