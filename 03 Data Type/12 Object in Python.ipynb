{
 "cells": [
  {
   "cell_type": "markdown",
   "metadata": {},
   "source": [
    "<style>\n",
    "  * { box-sizing: border-box; }\n",
    "  .section-card { background: linear-gradient(145deg, rgb(61, 61, 87), rgb(49, 49, 70)); border-radius: 15px; padding: 2rem; margin: 0 auto 2.5rem; box-shadow: 0 8px 20px rgba(0, 0, 0, 0.5); width: 100%; max-width: min(1200px, 95vw); }\n",
    "  h1 { width: 100%; text-align: center; color: #ffffff; font-size: 2.8rem; margin-bottom: 1.5rem; font-family: 'Poppins', sans-serif; letter-spacing: 1px; }\n",
    "  .container { display: flex; flex-direction: column; gap: 1.25rem; align-items: center; }\n",
    "  .card { background: linear-gradient(145deg, #24243e, #1e1e3a); border-radius: 12px; padding: 1.5rem; box-shadow: 0 6px 16px rgba(0, 0, 0, 0.4); border-left: 4px solid #66bb6a; width: min(1000px, 90vw); margin: 0 auto 1.25rem; }\n",
    "  .container > .card:last-child { margin-bottom: 2rem; }\n",
    "  .card.blue { border-left-color: #29b6f6; }\n",
    "  .card:hover {transform: translateY(-6px);box-shadow: 0 10px 20px rgba(0, 0, 0, 0.5);}\n",
    "  .card {transition: transform 0.3s ease, box-shadow 0.3s ease;}\n",
    "  p { color: #dcdcdc; font-size: 0.95rem; line-height: 1.5; font-family: 'Segoe UI', sans-serif; margin-bottom: 0.75rem; }\n",
    "  h1 {width: 100%;text-align: center;color: #ffffff;font-size: 2.8rem;margin-bottom: 1.5rem;font-family: 'Poppins', sans-serif;letter-spacing: 1px;}\n",
    "  @media (max-width: 768px) { .section-card { padding: 1.25rem; max-width: 95vw; } .card { width: 100%; padding: 1rem; margin: 0 auto 1rem; } .container > .card:last-child { margin-bottom: 1.5rem; } h1 { font-size: 2rem; } p { font-size: 0.9rem; } }\n",
    "</style>\n",
    "\n",
    "<div class=\"section-card\">\n",
    "<h1>Objects in Python</h1>\n",
    "</div>\n",
    "\n",
    "<div class=\"section-card\">\n",
    "  <div class=\"container\">\n",
    "    <div class=\"card blue\">\n",
    "      <p>In Python, nearly everything is an <strong>object</strong>. Conceptually, an object is like a container that holds data, such as a number, a string, or a list. Every object has a type that defines what kind of data it holds and what it can do.</p>\n",
    "      <p style=\"margin-bottom:0;\">This object-centric model makes Python consistent and easy to learn, as we are always working with these 'containers'—manipulating them, labeling them with variables, and combining them.</p>\n",
    "    </div>\n",
    "  </div>\n",
    "</div>"
   ]
  },
  {
   "cell_type": "markdown",
   "metadata": {},
   "source": [
    "<style>\n",
    "  * { box-sizing: border-box; }\n",
    "  .section-card { background: linear-gradient(145deg, rgb(61, 61, 87), rgb(49, 49, 70)); border-radius: 15px; padding: 2rem; margin: 0 auto 2.5rem; box-shadow: 0 8px 20px rgba(0, 0, 0, 0.5); width: 100%; max-width: min(1200px, 95vw); }\n",
    "  .section-card h2 { text-align: center; color: #ffffff; font-size: 1.8rem; margin-bottom: 1.5rem; font-family: 'Poppins', sans-serif; letter-spacing: 1px; }\n",
    "  .container { display: flex; flex-direction: column; gap: 1.25rem; align-items: center; }\n",
    "  .card { background: linear-gradient(145deg, #24243e, #1e1e3a); border-radius: 12px; padding: 1.5rem; box-shadow: 0 6px 16px rgba(0, 0, 0, 0.4); border-left: 4px solid #66bb6a; width: min(1000px, 90vw); margin: 0 auto 1.25rem; }\n",
    "  .container > .card:last-child { margin-bottom: 2rem; }\n",
    "  .card.orange { border-left-color: #ffa726; }\n",
    "  .card:hover {transform: translateY(-6px);box-shadow: 0 10px 20px rgba(0, 0, 0, 0.5);}\n",
    "  .card {transition: transform 0.3s ease, box-shadow 0.3s ease;}\n",
    "  li { margin-bottom: 0.5rem; color: #dcdcdc; font-size: 0.95rem; line-height: 1.5; font-family: 'Segoe UI', sans-serif; }\n",
    "  .toc-card ul { list-style-type: none; padding-left: 0; margin-bottom: 0; }\n",
    "  .toc-card ul li a { color: #29b6f6; text-decoration: none; transition: color 0.3s ease; }\n",
    "  .toc-card ul li a:hover { color: #66bb6a; text-decoration: underline; }\n",
    "  .toc-card ul ul { padding-left: 1.5rem; margin-top: 0.5rem; }\n",
    "  @media (max-width: 768px) { .section-card { padding: 1.25rem; max-width: 95vw; } .card { width: 100%; padding: 1rem; margin: 0 auto 1rem; } .container > .card:last-child { margin-bottom: 1.5rem; } h2 { font-size: 1.4rem; } li { font-size: 0.9rem; } }\n",
    "</style>\n",
    "<div class=\"section-card\">\n",
    "  <h2>Table of contents</h2>\n",
    "  <div class=\"container\">\n",
    "    <div class=\"card orange toc-card\">\n",
    "      <ul>\n",
    "        <li><a href=\"#toc1_\">Diving into Object References</a>\n",
    "          <ul>\n",
    "            <li><a href=\"#toc1_1_\">What is a reference?</a></li>\n",
    "            <li><a href=\"#toc1_2_\">How variables reference objects</a></li>\n",
    "          </ul>\n",
    "        </li>\n",
    "        <li><a href=\"#toc2_\">Exploring Object Identity</a>\n",
    "          <ul>\n",
    "            <li><a href=\"#toc2_1_\">The id() function and its significance</a></li>\n",
    "            <li><a href=\"#toc2_2_\">Using the is keyword</a></li>\n",
    "            <li><a href=\"#toc2_3_\">Difference between is and ==</a></li>\n",
    "          </ul>\n",
    "        </li>\n",
    "        <li><a href=\"#toc3_\">Common Pitfalls and Best Practices</a></li>\n",
    "        <li><a href=\"#toc4_\">Conclusion and Key Takeaways</a></li>\n",
    "      </ul>\n",
    "    </div>\n",
    "  </div>\n",
    "</div>"
   ]
  },
  {
   "cell_type": "markdown",
   "metadata": {},
   "source": [
    "<style>\n",
    "  * { box-sizing: border-box; }\n",
    "  .section-card { background: linear-gradient(145deg, rgb(61, 61, 87), rgb(49, 49, 70)); border-radius: 15px; padding: 2rem; margin: 0 auto 2.5rem; box-shadow: 0 8px 20px rgba(0, 0, 0, 0.5); width: 100%; max-width: min(1200px, 95vw); }\n",
    "  .section-card h2, .card h3 { color: #ffffff; font-family: 'Poppins', sans-serif; letter-spacing: 1px; }\n",
    "  .section-card h2 { text-align: center; font-size: 1.8rem; margin-bottom: 1.5rem; }\n",
    "  .card h3 { font-size: 1.3rem; margin-bottom: 0.75rem; font-weight: bold; }\n",
    "  .container { display: flex; flex-direction: column; gap: 1.25rem; align-items: center; }\n",
    "  .card { background: linear-gradient(145deg, #24243e, #1e1e3a); border-radius: 12px; padding: 1.5rem; box-shadow: 0 6px 16px rgba(0, 0, 0, 0.4); border-left: 4px solid #66bb6a; width: min(1000px, 90vw); margin: 0 auto 1.25rem; }\n",
    "  .container > .card:last-child { margin-bottom: 2rem; }\n",
    "  .card.purple { border-left-color: #ba68c8; }\n",
    "  .card:hover {transform: translateY(-6px);box-shadow: 0 10px 20px rgba(0, 0, 0, 0.5);}\n",
    "  .card {transition: transform 0.3s ease, box-shadow 0.3s ease;}\n",
    "  p { color: #dcdcdc; font-size: 0.95rem; line-height: 1.5; font-family: 'Segoe UI', sans-serif; margin-bottom: 0.75rem; }\n",
    "  @media (max-width: 768px) { .section-card { padding: 1.25rem; max-width: 95vw; } .card { width: 100%; padding: 1rem; margin: 0 auto 1rem; } .container > .card:last-child { margin-bottom: 1.5rem; } h2 { font-size: 1.4rem; } p { font-size: 0.9rem; } }\n",
    "</style>\n",
    "<div class=\"section-card\" id=\"toc1_\">\n",
    "  <h2>Diving into Object References</h2>\n",
    "  <div class=\"container\">\n",
    "    <div class=\"card purple\" id=\"toc1_1_\">\n",
    "      <h3>What is a reference?</h3>\n",
    "      <p>A reference in Python is a name that points to an object. Much like using a person's name, 'John', refers to the actual person, a variable in Python, like <code>friend</code>, refers to the actual object, like the string \"Kian\".</p>\n",
    "    </div>\n",
    "    <div class=\"card purple\" id=\"toc1_2_\">\n",
    "       <h3>How variables reference objects</h3>\n",
    "       <p style=\"margin-bottom:0;\">When you create a variable (e.g., <code>friend = \"Kian\"</code>), you are creating a reference named <code>friend</code> that points to the string object \"Kian\". If you reassign the variable (<code>friend = \"Hamidreza\"</code>), you are simply changing the reference to point to a new object. The original object (\"Kian\") still exists, but the <code>friend</code> variable no longer points to it.</p>\n",
    "    </div>\n",
    "  </div>\n",
    "</div>"
   ]
  },
  {
   "cell_type": "code",
   "execution_count": 23,
   "metadata": {},
   "outputs": [],
   "source": [
    "friend = \"Kian\""
   ]
  },
  {
   "cell_type": "markdown",
   "metadata": {},
   "source": [
    "<style>\n",
    "  * { box-sizing: border-box; }\n",
    "  .container { display: flex; flex-direction: column; gap: 1.25rem; align-items: center; }\n",
    "  .card { background: linear-gradient(145deg, #24243e, #1e1e3a); border-radius: 12px; padding: 1.5rem; box-shadow: 0 6px 16px rgba(0, 0, 0, 0.4); border-left: 4px solid #66bb6a; width: min(1000px, 90vw); margin: 0 auto 1.25rem; }\n",
    "  .container > .card:last-child { margin-bottom: 2rem; }\n",
    "  .card.purple { border-left-color: #ba68c8; }\n",
    "  .card:hover {transform: translateY(-6px);box-shadow: 0 10px 20px rgba(0, 0, 0, 0.5);}\n",
    "  .card {transition: transform 0.3s ease, box-shadow 0.3s ease;}\n",
    "  img { max-width: 400px; height: auto; display: block; margin: 10px auto; border-radius: 5px; }\n",
    "  @media (max-width: 768px) { .card { width: 100%; padding: 1rem; margin: 0 auto 1rem; } .container > .card:last-child { margin-bottom: 1.5rem; } }\n",
    "</style>\n",
    "<div class=\"container\">\n",
    "    <div class=\"card purple\">\n",
    "        <img src=\"../images/1.png\" width=\"400\">\n",
    "    </div>\n",
    "</div>"
   ]
  },
  {
   "cell_type": "code",
   "execution_count": 24,
   "metadata": {},
   "outputs": [],
   "source": [
    "friend = \"Hamidreza\""
   ]
  },
  {
   "cell_type": "markdown",
   "metadata": {},
   "source": [
    "<style>\n",
    "  * { box-sizing: border-box; }\n",
    "  .container { display: flex; flex-direction: column; gap: 1.25rem; align-items: center; }\n",
    "  .card { background: linear-gradient(145deg, #24243e, #1e1e3a); border-radius: 12px; padding: 1.5rem; box-shadow: 0 6px 16px rgba(0, 0, 0, 0.4); border-left: 4px solid #66bb6a; width: min(1000px, 90vw); margin: 0 auto 1.25rem; }\n",
    "  .container > .card:last-child { margin-bottom: 2rem; }\n",
    "  .card.purple { border-left-color: #ba68c8; }\n",
    "  .card:hover {transform: translateY(-6px);box-shadow: 0 10px 20px rgba(0, 0, 0, 0.5);}\n",
    "  .card {transition: transform 0.3s ease, box-shadow 0.3s ease;}\n",
    "  img { max-width: 400px; height: auto; display: block; margin: 10px auto; border-radius: 5px; }\n",
    "  @media (max-width: 768px) { .card { width: 100%; padding: 1rem; margin: 0 auto 1rem; } .container > .card:last-child { margin-bottom: 1.5rem; } }\n",
    "</style>\n",
    "<div class=\"container\">\n",
    "    <div class=\"card purple\">\n",
    "        <img src=\"../images/2.png\" width=\"400\">\n",
    "    </div>\n",
    "</div>"
   ]
  },
  {
   "cell_type": "markdown",
   "metadata": {},
   "source": [
    "<style>\n",
    "  * { box-sizing: border-box; }\n",
    "  .section-card { background: linear-gradient(145deg, rgb(61, 61, 87), rgb(49, 49, 70)); border-radius: 15px; padding: 2rem; margin: 0 auto 2.5rem; box-shadow: 0 8px 20px rgba(0, 0, 0, 0.5); width: 100%; max-width: min(1200px, 95vw); }\n",
    "  .section-card h2, .card h3 { color: #ffffff; font-family: 'Poppins', sans-serif; letter-spacing: 1px; }\n",
    "  .section-card h2 { text-align: center; font-size: 1.8rem; margin-bottom: 1.5rem; }\n",
    "  .card h3 { font-size: 1.3rem; margin-bottom: 0.75rem; font-weight: bold; }\n",
    "  .container { display: flex; flex-direction: column; gap: 1.25rem; align-items: center; }\n",
    "  .card { background: linear-gradient(145deg, #24243e, #1e1e3a); border-radius: 12px; padding: 1.5rem; box-shadow: 0 6px 16px rgba(0, 0, 0, 0.4); border-left: 4px solid #66bb6a; width: min(1000px, 90vw); margin: 0 auto 1.25rem; }\n",
    "  .container > .card:last-child { margin-bottom: 2rem; }\n",
    "  .card.red { border-left-color: #ef5350; }\n",
    "  .card:hover {transform: translateY(-6px);box-shadow: 0 10px 20px rgba(0, 0, 0, 0.5);}\n",
    "  .card {transition: transform 0.3s ease, box-shadow 0.3s ease;}\n",
    "  p { color: #dcdcdc; font-size: 0.95rem; line-height: 1.5; font-family: 'Segoe UI', sans-serif; margin-bottom: 0.75rem; }\n",
    "  @media (max-width: 768px) { .section-card { padding: 1.25rem; max-width: 95vw; } .card { width: 100%; padding: 1rem; margin: 0 auto 1rem; } .container > .card:last-child { margin-bottom: 1.5rem; } h2 { font-size: 1.4rem; } p { font-size: 0.9rem; } }\n",
    "</style>\n",
    "<div class=\"section-card\" id=\"toc2_\">\n",
    "  <h2>Exploring Object Identity</h2>\n",
    "  <div class=\"container\">\n",
    "    <div class=\"card red\" id=\"toc2_1_\">\n",
    "      <h3>The id() function</h3>\n",
    "      <p>Every object in Python has a unique ID, much like a passport number. The built-in <code>id()</code> function returns this unique integer, which represents the object's memory address.</p>\n",
    "    </div>\n",
    "    <div class=\"card red\" id=\"toc2_2_\">\n",
    "       <h3>The 'is' keyword</h3>\n",
    "       <p>The <code>is</code> keyword is used to check if two variables point to the exact same object. It does this by comparing their IDs.</p>\n",
    "    </div>\n",
    "    <div class=\"card red\" id=\"toc2_3_\">\n",
    "       <h3>Difference between 'is' and '=='</h3>\n",
    "       <p>The key difference is <strong>identity vs. equality</strong>. The <code>is</code> operator checks if two variables reference the exact same object in memory (identity). The <code>==</code> operator, however, checks if the values of the objects are equal.</p>\n",
    "    </div>\n",
    "  </div>\n",
    "</div>"
   ]
  },
  {
   "cell_type": "code",
   "execution_count": null,
   "metadata": {},
   "outputs": [],
   "source": [
    "name1 = \"Amin\"\n",
    "name2 = \"Amin\""
   ]
  },
  {
   "cell_type": "code",
   "execution_count": 31,
   "metadata": {},
   "outputs": [
    {
     "data": {
      "text/plain": [
       "False"
      ]
     },
     "execution_count": 31,
     "metadata": {},
     "output_type": "execute_result"
    }
   ],
   "source": [
    "# This might be False because they are two different string objects with the same value\n",
    "name1 is name2"
   ]
  },
  {
   "cell_type": "code",
   "execution_count": 32,
   "metadata": {},
   "outputs": [
    {
     "data": {
      "text/plain": [
       "True"
      ]
     },
     "execution_count": 32,
     "metadata": {},
     "output_type": "execute_result"
    }
   ],
   "source": [
    "# This is True because their values are identical\n",
    "name1 == name2"
   ]
  },
  {
   "cell_type": "markdown",
   "metadata": {},
   "source": [
    "<style>\n",
    "  * { box-sizing: border-box; }\n",
    "  .section-card { background: linear-gradient(145deg, rgb(61, 61, 87), rgb(49, 49, 70)); border-radius: 15px; padding: 2rem; margin: 0 auto 2.5rem; box-shadow: 0 8px 20px rgba(0, 0, 0, 0.5); width: 100%; max-width: min(1200px, 95vw); }\n",
    "  .section-card h2, .card h3 { color: #ffffff; font-family: 'Poppins', sans-serif; letter-spacing: 1px; }\n",
    "  .section-card h2 { text-align: center; font-size: 1.8rem; margin-bottom: 1.5rem; }\n",
    "  .card h3 { font-size: 1.3rem; margin-bottom: 0.75rem; font-weight: bold; }\n",
    "  .container { display: flex; flex-direction: column; gap: 1.25rem; align-items: center; }\n",
    "  .card { background: linear-gradient(145deg, #24243e, #1e1e3a); border-radius: 12px; padding: 1.5rem; box-shadow: 0 6px 16px rgba(0, 0, 0, 0.4); border-left: 4px solid #66bb6a; width: min(1000px, 90vw); margin: 0 auto 1.25rem; }\n",
    "  .card:hover {transform: translateY(-6px);box-shadow: 0 10px 20px rgba(0, 0, 0, 0.5);}\n",
    "  .card {transition: transform 0.3s ease, box-shadow 0.3s ease;}\n",
    "  .container > .card:last-child { margin-bottom: 2rem; }\n",
    "  p { color: #dcdcdc; font-size: 0.95rem; line-height: 1.5; font-family: 'Segoe UI', sans-serif; margin-bottom: 0.75rem; }\n",
    "  img { max-width: 500px; height: auto; display: block; margin: 10px auto; border-radius: 5px; }\n",
    "  @media (max-width: 768px) { .section-card { padding: 1.25rem; max-width: 95vw; } .card { width: 100%; padding: 1rem; margin: 0 auto 1rem; } .container > .card:last-child { margin-bottom: 1.5rem; } h2 { font-size: 1.4rem; } p { font-size: 0.9rem; } }\n",
    "</style>\n",
    "<div class=\"section-card\" id=\"toc3_\">\n",
    "  <h2>Common Pitfalls and Best Practices</h2>\n",
    "  <div class=\"container\">\n",
    "    <div class=\"card\">\n",
    "      <h3>Confusing 'is' with '=='</h3>\n",
    "      <p><strong>Best Practice:</strong> Use <code>is</code> only when you need to check if two variables point to the exact same object. For comparing the actual content or value of variables, always use <code>==</code>.</p>\n",
    "      <img src=\"../images/4.png\" width=\"500\">\n",
    "    </div>\n",
    "    <div class=\"card\">\n",
    "       <h3>Not Understanding Variable References</h3>\n",
    "       <p><strong>Pitfall:</strong> Assigning one variable to another (e.g., <code>b = a</code>) does not create a new object. It creates a new reference pointing to the same object.</p>\n",
    "       <p><strong>Best Practice:</strong> If you need a separate copy of an object, you must explicitly create one. For complex objects like lists, this often involves using methods like <code>.copy()</code>, which will be covered later.</p>\n",
    "       <img src=\"../images/3.png\" width=\"400\">\n",
    "    </div>\n",
    "  </div>\n",
    "</div>"
   ]
  },
  {
   "cell_type": "markdown",
   "metadata": {},
   "source": [
    "<style>\n",
    "  * { box-sizing: border-box; }\n",
    "  .section-card { background: linear-gradient(145deg, rgb(61, 61, 87), rgb(49, 49, 70)); border-radius: 15px; padding: 2rem; margin: 0 auto 2.5rem; box-shadow: 0 8px 20px rgba(0, 0, 0, 0.5); width: 100%; max-width: min(1200px, 95vw); }\n",
    "  .section-card h2 { text-align: center; color: #ffffff; font-size: 1.8rem; margin-bottom: 1.5rem; font-family: 'Poppins', sans-serif; letter-spacing: 1px; }\n",
    "  .container { display: flex; flex-direction: column; gap: 1.25rem; align-items: center; }\n",
    "  .card { background: linear-gradient(145deg, #24243e, #1e1e3a); border-radius: 12px; padding: 1.5rem; box-shadow: 0 6px 16px rgba(0, 0, 0, 0.4); border-left: 4px solid #66bb6a; width: min(1000px, 90vw); margin: 0 auto 1.25rem; }\n",
    "  .container > .card:last-child { margin-bottom: 2rem; }\n",
    "  .card.blue { border-left-color: #29b6f6; }\n",
    "  .card:hover {transform: translateY(-6px);box-shadow: 0 10px 20px rgba(0, 0, 0, 0.5);}\n",
    "  .card {transition: transform 0.3s ease, box-shadow 0.3s ease;}\n",
    "  p { color: #dcdcdc; font-size: 0.95rem; line-height: 1.5; font-family: 'Segoe UI', sans-serif; margin-bottom: 0.75rem; }\n",
    "  ol { padding-left: 1.25rem; margin-bottom: 0; color: #dcdcdc; font-size: 0.95rem; }\n",
    "  li { margin-bottom: 0.5rem; }\n",
    "  @media (max-width: 768px) { .section-card { padding: 1.25rem; max-width: 95vw; } .card { width: 100%; padding: 1rem; margin: 0 auto 1rem; } .container > .card:last-child { margin-bottom: 1.5rem; } h2 { font-size: 1.4rem; } p, li { font-size: 0.9rem; } }\n",
    "</style>\n",
    "<div class=\"section-card\" id=\"toc4_\">\n",
    "  <h2>Conclusion and Key Takeaways</h2>\n",
    "  <div class=\"container\">\n",
    "    <div class=\"card blue\">\n",
    "       <p>Let's summarize the key points about object references and identity:</p>\n",
    "       <ol>\n",
    "          <li><strong>Object References</strong>: Variables in Python are references (or pointers) to objects, allowing access to the actual data.</li>\n",
    "          <li><strong>Object Identity</strong>: Every object has a unique ID, retrievable with the <code>id()</code> function. The <code>is</code> keyword checks if two variables point to the same object by comparing their IDs.</li>\n",
    "       </ol>\n",
    "       <p style=\"margin-bottom:0;\">Understanding these concepts helps prevent common bugs and allows you to write more efficient Python code. Remember to practice regularly to solidify these ideas.</p>\n",
    "    </div>\n",
    "  </div>\n",
    "</div>"
   ]
  }
 ],
 "metadata": {
  "kernelspec": {
   "display_name": "Python 3",
   "language": "python",
   "name": "python3"
  },
  "language_info": {
   "codemirror_mode": {
    "name": "ipython",
    "version": 3
   },
   "file_extension": ".py",
   "mimetype": "text/x-python",
   "name": "python",
   "nbconvert_exporter": "python",
   "pygments_lexer": "ipython3",
   "version": "3.8.5"
  }
 },
 "nbformat": 4,
 "nbformat_minor": 4
}
