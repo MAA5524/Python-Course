{
 "cells": [
  {
   "cell_type": "markdown",
   "metadata": {},
   "source": [
    "<style>\n",
    "  * { box-sizing: border-box; }\n",
    "  h1 { width: 100%; text-align: center; color: #ffffff; font-size: 2.8rem; margin-bottom: 1.5rem; font-family: 'Poppins', sans-serif; letter-spacing: 1px; }\n",
    "  .section-card { background: linear-gradient(145deg, rgb(61, 61, 87), rgb(49, 49, 70)); border-radius: 15px; padding: 2rem; margin: 0 auto 2.5rem; box-shadow: 0 8px 20px rgba(0, 0, 0, 0.5); width: 100%; max-width: min(1200px, 95vw); }\n",
    "  .container { display: flex; flex-direction: column; gap: 1.25rem; align-items: center; }\n",
    "  .card { background: linear-gradient(145deg, #24243e, #1e1e3a); border-radius: 12px; padding: 1.5rem; box-shadow: 0 6px 16px rgba(0, 0, 0, 0.4); border-left: 4px solid transparent; width: min(1000px, 90vw); margin: 0 auto 1.25rem; }\n",
    "  .container > .card:last-child { margin-bottom: 2rem; }\n",
    "  .card.green { border-left-color: #66bb6a; }\n",
    "  p { color: #dcdcdc; font-size: 0.95rem; line-height: 1.5; font-family: 'Segoe UI', sans-serif; margin-bottom: 0.75rem; }\n",
    "  @media (max-width: 768px) { h1 { font-size: 2rem; } .section-card { padding: 1.25rem; } .card { width: 100%; padding: 1rem; margin: 0 auto 1rem; } .container > .card:last-child { margin-bottom: 1.5rem; } p { font-size: 0.9rem; } }\n",
    "</style>\n",
    "\n",
    "<div class=\"section-card\">\n",
    "<h1>String Methods</h1>\n",
    "</div>\n",
    "<div class=\"section-card\">\n",
    "  <div class=\"container\">\n",
    "    <div class=\"card green\">\n",
    "      <p style=\"margin-bottom:0;\">Before diving into string methods, it's crucial to understand that strings are objects, and methods are functions that belong to these objects.</p>\n",
    "    </div>\n",
    "  </div>\n",
    "</div>"
   ]
  },
  {
   "cell_type": "markdown",
   "metadata": {},
   "source": [
    "<style>\n",
    "  * { box-sizing: border-box; }\n",
    "  h1 { width: 100%; text-align: center; color: #ffffff; font-size: 2.8rem; margin-bottom: 1.5rem; font-family: 'Poppins', sans-serif; letter-spacing: 1px; }\n",
    "  .section-card { background: linear-gradient(145deg, rgb(61, 61, 87), rgb(49, 49, 70)); border-radius: 15px; padding: 2rem; margin: 0 auto 2.5rem; box-shadow: 0 8px 20px rgba(0, 0, 0, 0.5); width: 100%; max-width: min(1200px, 95vw); }\n",
    "  .section-card h2 { text-align: center; color: #ffffff; font-size: 1.8rem; margin-bottom: 1.5rem; font-family: 'Poppins', sans-serif; letter-spacing: 1px; }\n",
    "  .container { display: flex; flex-direction: column; gap: 1.25rem; align-items: center; }\n",
    "  .card { background: linear-gradient(145deg, #24243e, #1e1e3a); border-radius: 12px; padding: 1.5rem; box-shadow: 0 6px 16px rgba(0, 0, 0, 0.4); border-left: 4px solid transparent; width: min(1000px, 90vw); margin: 0 auto 1.25rem; }\n",
    "  .container > .card:last-child { margin-bottom: 2rem; }\n",
    "  .card.blue { border-left-color: #29b6f6; }\n",
    "  li { margin-bottom: 0.5rem; color: #dcdcdc; font-size: 0.95rem; line-height: 1.5; font-family: 'Segoe UI', sans-serif; }\n",
    "  .toc-card ul { list-style-type: none; padding-left: 0; margin-bottom:0; }\n",
    "  .toc-card a { color: #29b6f6; text-decoration: none; }\n",
    "  .toc-card ul ul { padding-left: 1.5rem; margin-top:0.5rem; }\n",
    "  @media (max-width: 768px) { h1 { font-size: 2rem; } .section-card { padding: 1.25rem; } .card { width: 100%; padding: 1rem; margin: 0 auto 1rem; } .container > .card:last-child { margin-bottom: 1.5rem; } .section-card h2 { font-size: 1.4rem; } li { font-size: 0.9rem; } }\n",
    "</style>\n",
    "<div class=\"section-card\">\n",
    "  <h2>Table of contents</h2>\n",
    "  <div class=\"container\">\n",
    "    <div class=\"card blue toc-card\">\n",
    "      <ul>\n",
    "        <li><a href=\"#toc3_\">String Methods</a>\n",
    "          <ul>\n",
    "            <li><a href=\"#toc3_1_\">Changing Case</a></li>\n",
    "            <li><a href=\"#toc3_2_\">Checking String Characteristics</a></li>\n",
    "            <li><a href=\"#toc3_3_\">Searching and Replacing</a></li>\n",
    "            <li><a href=\"#toc3_4_\">Stripping Whitespaces</a></li>\n",
    "            <li><a href=\"#toc3_5_\">Splitting</a></li>\n",
    "          </ul>\n",
    "        </li>\n",
    "        <li><a href=\"#toc4_\">Understanding the Immutability of Strings</a></li>\n",
    "      </ul>\n",
    "    </div>\n",
    "  </div>\n",
    "</div>"
   ]
  },
  {
   "cell_type": "markdown",
   "metadata": {},
   "source": [
    "<style>\n",
    "  * { box-sizing: border-box; }\n",
    "  h1 { width: 100%; text-align: center; color: #ffffff; font-size: 2.8rem; margin-bottom: 1.5rem; font-family: 'Poppins', sans-serif; letter-spacing: 1px; }\n",
    "  .section-card { background: linear-gradient(145deg, rgb(61, 61, 87), rgb(49, 49, 70)); border-radius: 15px; padding: 2rem; margin: 0 auto 2.5rem; box-shadow: 0 8px 20px rgba(0, 0, 0, 0.5); width: 100%; max-width: min(1200px, 95vw); }\n",
    "  .section-card h2, .card h3 { color: #ffffff; font-family: 'Poppins', sans-serif; letter-spacing: 1px; }\n",
    "  .section-card h2 { text-align: center; font-size: 1.8rem; margin-bottom: 1.5rem; }\n",
    "  .card h3 { font-size: 1.3rem; margin-bottom: 0.75rem; font-weight: bold; }\n",
    "  .container { display: flex; flex-direction: column; gap: 1.25rem; align-items: center; }\n",
    "  .card { background: linear-gradient(145deg, #24243e, #1e1e3a); border-radius: 12px; padding: 1.5rem; box-shadow: 0 6px 16px rgba(0, 0, 0, 0.4); border-left: 4px solid transparent; width: min(1000px, 90vw); margin: 0 auto 1.25rem; }\n",
    "  .container > .card:last-child { margin-bottom: 2rem; }\n",
    "  .card.orange { border-left-color: #ffa726; }\n",
    "  .card.purple { border-left-color: #ba68c8; }\n",
    "  .card.red { border-left-color: #ef5350; }\n",
    "  .card.green { border-left-color: #66bb6a; }\n",
    "  .card:hover {transform: translateY(-6px);box-shadow: 0 10px 20px rgba(0, 0, 0, 0.5);}\n",
    "  .card {transition: transform 0.3s ease, box-shadow 0.3s ease;}\n",
    "  p, li { color: #dcdcdc; font-size: 0.95rem; line-height: 1.5; font-family: 'Segoe UI', sans-serif; margin-bottom: 0.75rem; }\n",
    "  ul { padding-left: 1.25rem; }\n",
    "  @media (max-width: 768px) { h1 { font-size: 2rem; } .section-card { padding: 1.25rem; } .card { width: 100%; padding: 1rem; margin: 0 auto 1rem; } .container > .card:last-child { margin-bottom: 1.5rem; } .section-card h2 { font-size: 1.4rem; } p, li { font-size: 0.9rem; } }\n",
    "</style>\n",
    "<div class=\"section-card\" id=\"toc3_\">\n",
    "  <h2>String Methods</h2>\n",
    "  <div class=\"container\">\n",
    "    <div class=\"card orange\">\n",
    "      <p>Strings, being objects, have built-in methods (functions) to perform common operations. You call a method using dot notation: <code>my_string.method_name()</code>.</p>\n",
    "    </div>\n",
    "  </div>\n",
    "</div>"
   ]
  },
  {
   "cell_type": "markdown",
   "metadata": {},
   "source": [
    "<style>\n",
    "  * { box-sizing: border-box; }\n",
    "  h1 { width: 100%; text-align: center; color: #ffffff; font-size: 2.8rem; margin-bottom: 1.5rem; font-family: 'Poppins', sans-serif; letter-spacing: 1px; }\n",
    "  .section-card { background: linear-gradient(145deg, rgb(61, 61, 87), rgb(49, 49, 70)); border-radius: 15px; padding: 2rem; margin: 0 auto 2.5rem; box-shadow: 0 8px 20px rgba(0, 0, 0, 0.5); width: 100%; max-width: min(1200px, 95vw); }\n",
    "  .section-card h2, .card h3 { color: #ffffff; font-family: 'Poppins', sans-serif; letter-spacing: 1px; }\n",
    "  .section-card h2 { text-align: center; font-size: 1.8rem; margin-bottom: 1.5rem; }\n",
    "  .card h3 { font-size: 1.3rem; margin-bottom: 0.75rem; font-weight: bold; }\n",
    "  .container { display: flex; flex-direction: column; gap: 1.25rem; align-items: center; }\n",
    "  .card { background: linear-gradient(145deg, #24243e, #1e1e3a); border-radius: 12px; padding: 1.5rem; box-shadow: 0 6px 16px rgba(0, 0, 0, 0.4); border-left: 4px solid transparent; width: min(1000px, 90vw); margin: 0 auto 1.25rem; }\n",
    "  .container > .card:last-child { margin-bottom: 2rem; }\n",
    "  .card.orange { border-left-color: #ffa726; }\n",
    "  .card.purple { border-left-color: #ba68c8; }\n",
    "  .card.red { border-left-color: #ef5350; }\n",
    "  .card.green { border-left-color: #66bb6a; }\n",
    "  .card:hover {transform: translateY(-6px);box-shadow: 0 10px 20px rgba(0, 0, 0, 0.5);}\n",
    "  .card {transition: transform 0.3s ease, box-shadow 0.3s ease;}\n",
    "  p, li { color: #dcdcdc; font-size: 0.95rem; line-height: 1.5; font-family: 'Segoe UI', sans-serif; margin-bottom: 0.75rem; }\n",
    "  ul { padding-left: 1.25rem; }\n",
    "  @media (max-width: 768px) { h1 { font-size: 2rem; } .section-card { padding: 1.25rem; } .card { width: 100%; padding: 1rem; margin: 0 auto 1rem; } .container > .card:last-child { margin-bottom: 1.5rem; } .section-card h2 { font-size: 1.4rem; } p, li { font-size: 0.9rem; } }\n",
    "</style>\n",
    "<div class=\"section-card\">\n",
    "  <div class=\"container\">\n",
    "    <div class=\"card orange\" id=\"toc3_1_\">\n",
    "      <h3>Changing Case</h3>\n",
    "      <ul>\n",
    "        <li><code>.upper()</code>: Converts the entire string to uppercase.</li>\n",
    "        <li><code>.lower()</code>: Converts the entire string to lowercase.</li>\n",
    "        <li><code>.capitalize()</code>: Capitalizes only the first character of the string.</li>\n",
    "        <li><code>.title()</code>: Capitalizes the first character of each word.</li>\n",
    "      </ul>\n",
    "    </div>\n",
    "  </div>\n",
    "</div>"
   ]
  },
  {
   "cell_type": "code",
   "execution_count": 1,
   "metadata": {},
   "outputs": [],
   "source": [
    "text = \"Mohammad\""
   ]
  },
  {
   "cell_type": "code",
   "execution_count": 2,
   "metadata": {},
   "outputs": [
    {
     "data": {
      "text/plain": [
       "'MOHAMMAD'"
      ]
     },
     "execution_count": 2,
     "metadata": {},
     "output_type": "execute_result"
    }
   ],
   "source": [
    "text.upper()"
   ]
  },
  {
   "cell_type": "code",
   "execution_count": 3,
   "metadata": {},
   "outputs": [
    {
     "data": {
      "text/plain": [
       "'mohammad'"
      ]
     },
     "execution_count": 3,
     "metadata": {},
     "output_type": "execute_result"
    }
   ],
   "source": [
    "text.lower()"
   ]
  },
  {
   "cell_type": "code",
   "execution_count": 4,
   "metadata": {},
   "outputs": [
    {
     "data": {
      "text/plain": [
       "'Mohammad'"
      ]
     },
     "execution_count": 4,
     "metadata": {},
     "output_type": "execute_result"
    }
   ],
   "source": [
    "text.capitalize()"
   ]
  },
  {
   "cell_type": "code",
   "execution_count": 5,
   "metadata": {},
   "outputs": [
    {
     "data": {
      "text/plain": [
       "'Mohammad'"
      ]
     },
     "execution_count": 5,
     "metadata": {},
     "output_type": "execute_result"
    }
   ],
   "source": [
    "text.title()"
   ]
  },
  {
   "cell_type": "markdown",
   "metadata": {},
   "source": [
    "<style>\n",
    "  * { box-sizing: border-box; }\n",
    "  h1 { width: 100%; text-align: center; color: #ffffff; font-size: 2.8rem; margin-bottom: 1.5rem; font-family: 'Poppins', sans-serif; letter-spacing: 1px; }\n",
    "  .section-card { background: linear-gradient(145deg, rgb(61, 61, 87), rgb(49, 49, 70)); border-radius: 15px; padding: 2rem; margin: 0 auto 2.5rem; box-shadow: 0 8px 20px rgba(0, 0, 0, 0.5); width: 100%; max-width: min(1200px, 95vw); }\n",
    "  .section-card h2, .card h3 { color: #ffffff; font-family: 'Poppins', sans-serif; letter-spacing: 1px; }\n",
    "  .section-card h2 { text-align: center; font-size: 1.8rem; margin-bottom: 1.5rem; }\n",
    "  .card h3 { font-size: 1.3rem; margin-bottom: 0.75rem; font-weight: bold; }\n",
    "  .container { display: flex; flex-direction: column; gap: 1.25rem; align-items: center; }\n",
    "  .card { background: linear-gradient(145deg, #24243e, #1e1e3a); border-radius: 12px; padding: 1.5rem; box-shadow: 0 6px 16px rgba(0, 0, 0, 0.4); border-left: 4px solid transparent; width: min(1000px, 90vw); margin: 0 auto 1.25rem; }\n",
    "  .container > .card:last-child { margin-bottom: 2rem; }\n",
    "  .card.orange { border-left-color: #ffa726; }\n",
    "  .card.purple { border-left-color: #ba68c8; }\n",
    "  .card.red { border-left-color: #ef5350; }\n",
    "  .card.green { border-left-color: #66bb6a; }\n",
    "  .card:hover {transform: translateY(-6px);box-shadow: 0 10px 20px rgba(0, 0, 0, 0.5);}\n",
    "  .card {transition: transform 0.3s ease, box-shadow 0.3s ease;}\n",
    "  p, li { color: #dcdcdc; font-size: 0.95rem; line-height: 1.5; font-family: 'Segoe UI', sans-serif; margin-bottom: 0.75rem; }\n",
    "  ul { padding-left: 1.25rem; }\n",
    "  @media (max-width: 768px) { h1 { font-size: 2rem; } .section-card { padding: 1.25rem; } .card { width: 100%; padding: 1rem; margin: 0 auto 1rem; } .container > .card:last-child { margin-bottom: 1.5rem; } .section-card h2 { font-size: 1.4rem; } p, li { font-size: 0.9rem; } }\n",
    "</style>\n",
    "<div class=\"section-card\">\n",
    "  <div class=\"container\">\n",
    "    <div class=\"card orange\" id=\"toc3_2_\">\n",
    "      <h3>Checking String Characteristics</h3>\n",
    "      <ul>\n",
    "        <li><code>.isalpha()</code>: Returns <code>True</code> if all characters are alphabetic.</li>\n",
    "        <li><code>.isdigit()</code>: Returns <code>True</code> if all characters are digits.</li>\n",
    "      </ul>\n",
    "    </div>\n",
    "  </div>\n",
    "</div>"
   ]
  },
  {
   "cell_type": "code",
   "execution_count": 6,
   "metadata": {},
   "outputs": [
    {
     "data": {
      "text/plain": [
       "True"
      ]
     },
     "execution_count": 6,
     "metadata": {},
     "output_type": "execute_result"
    }
   ],
   "source": [
    "text = \"hello\"\n",
    "text.isalpha()"
   ]
  },
  {
   "cell_type": "code",
   "execution_count": 7,
   "metadata": {},
   "outputs": [
    {
     "data": {
      "text/plain": [
       "False"
      ]
     },
     "execution_count": 7,
     "metadata": {},
     "output_type": "execute_result"
    }
   ],
   "source": [
    "text = \"hello123\"\n",
    "text.isalpha()"
   ]
  },
  {
   "cell_type": "code",
   "execution_count": 8,
   "metadata": {},
   "outputs": [
    {
     "data": {
      "text/plain": [
       "True"
      ]
     },
     "execution_count": 8,
     "metadata": {},
     "output_type": "execute_result"
    }
   ],
   "source": [
    "text = \"12345\"\n",
    "text.isdigit()"
   ]
  },
  {
   "cell_type": "code",
   "execution_count": 9,
   "metadata": {},
   "outputs": [
    {
     "data": {
      "text/plain": [
       "False"
      ]
     },
     "execution_count": 9,
     "metadata": {},
     "output_type": "execute_result"
    }
   ],
   "source": [
    "text = \"12345a\"\n",
    "text.isdigit()"
   ]
  },
  {
   "cell_type": "markdown",
   "metadata": {},
   "source": [
    "<style>\n",
    "  * { box-sizing: border-box; }\n",
    "  h1 { width: 100%; text-align: center; color: #ffffff; font-size: 2.8rem; margin-bottom: 1.5rem; font-family: 'Poppins', sans-serif; letter-spacing: 1px; }\n",
    "  .section-card { background: linear-gradient(145deg, rgb(61, 61, 87), rgb(49, 49, 70)); border-radius: 15px; padding: 2rem; margin: 0 auto 2.5rem; box-shadow: 0 8px 20px rgba(0, 0, 0, 0.5); width: 100%; max-width: min(1200px, 95vw); }\n",
    "  .section-card h2, .card h3 { color: #ffffff; font-family: 'Poppins', sans-serif; letter-spacing: 1px; }\n",
    "  .section-card h2 { text-align: center; font-size: 1.8rem; margin-bottom: 1.5rem; }\n",
    "  .card h3 { font-size: 1.3rem; margin-bottom: 0.75rem; font-weight: bold; }\n",
    "  .container { display: flex; flex-direction: column; gap: 1.25rem; align-items: center; }\n",
    "  .card { background: linear-gradient(145deg, #24243e, #1e1e3a); border-radius: 12px; padding: 1.5rem; box-shadow: 0 6px 16px rgba(0, 0, 0, 0.4); border-left: 4px solid transparent; width: min(1000px, 90vw); margin: 0 auto 1.25rem; }\n",
    "  .container > .card:last-child { margin-bottom: 2rem; }\n",
    "  .card.orange { border-left-color: #ffa726; }\n",
    "  .card.purple { border-left-color: #ba68c8; }\n",
    "  .card.red { border-left-color: #ef5350; }\n",
    "  .card.green { border-left-color: #66bb6a; }\n",
    "  .card:hover {transform: translateY(-6px);box-shadow: 0 10px 20px rgba(0, 0, 0, 0.5);}\n",
    "  .card {transition: transform 0.3s ease, box-shadow 0.3s ease;}\n",
    "  p, li { color: #dcdcdc; font-size: 0.95rem; line-height: 1.5; font-family: 'Segoe UI', sans-serif; margin-bottom: 0.75rem; }\n",
    "  ul { padding-left: 1.25rem; }\n",
    "  @media (max-width: 768px) { h1 { font-size: 2rem; } .section-card { padding: 1.25rem; } .card { width: 100%; padding: 1rem; margin: 0 auto 1rem; } .container > .card:last-child { margin-bottom: 1.5rem; } .section-card h2 { font-size: 1.4rem; } p, li { font-size: 0.9rem; } }\n",
    "</style>\n",
    "<div class=\"section-card\">\n",
    "  <div class=\"container\">\n",
    "    <div class=\"card orange\" id=\"toc3_3_\">\n",
    "       <h3>Searching and Replacing</h3>\n",
    "       <ul>\n",
    "         <li><code>.find(substring)</code>: Returns the starting index of the first occurrence of a substring. Returns <code>-1</code> if not found.</li>\n",
    "         <li><code>.replace(old, new)</code>: Returns a new string where all occurrences of the <code>old</code> substring are replaced with the <code>new</code> one.</li>\n",
    "       </ul>\n",
    "    </div>\n",
    "  </div>\n",
    "</div>"
   ]
  },
  {
   "cell_type": "code",
   "execution_count": 10,
   "metadata": {},
   "outputs": [
    {
     "data": {
      "text/plain": [
       "6"
      ]
     },
     "execution_count": 10,
     "metadata": {},
     "output_type": "execute_result"
    }
   ],
   "source": [
    "text = \"hello world\"\n",
    "text.find(\"world\")"
   ]
  },
  {
   "cell_type": "code",
   "execution_count": 11,
   "metadata": {},
   "outputs": [
    {
     "data": {
      "text/plain": [
       "-1"
      ]
     },
     "execution_count": 11,
     "metadata": {},
     "output_type": "execute_result"
    }
   ],
   "source": [
    "text.find(\"python\")"
   ]
  },
  {
   "cell_type": "code",
   "execution_count": 12,
   "metadata": {},
   "outputs": [
    {
     "data": {
      "text/plain": [
       "'hello Python'"
      ]
     },
     "execution_count": 12,
     "metadata": {},
     "output_type": "execute_result"
    }
   ],
   "source": [
    "text = \"hello world\"\n",
    "text.replace(\"world\", \"Python\")"
   ]
  },
  {
   "cell_type": "code",
   "execution_count": 13,
   "metadata": {},
   "outputs": [
    {
     "data": {
      "text/plain": [
       "'hello world'"
      ]
     },
     "execution_count": 13,
     "metadata": {},
     "output_type": "execute_result"
    }
   ],
   "source": [
    "# if the word is not in the text, it will not change anything\n",
    "text.replace(\"x\", \"X\")"
   ]
  },
  {
   "cell_type": "markdown",
   "metadata": {},
   "source": [
    "<style>\n",
    "  * { box-sizing: border-box; }\n",
    "  h1 { width: 100%; text-align: center; color: #ffffff; font-size: 2.8rem; margin-bottom: 1.5rem; font-family: 'Poppins', sans-serif; letter-spacing: 1px; }\n",
    "  .section-card { background: linear-gradient(145deg, rgb(61, 61, 87), rgb(49, 49, 70)); border-radius: 15px; padding: 2rem; margin: 0 auto 2.5rem; box-shadow: 0 8px 20px rgba(0, 0, 0, 0.5); width: 100%; max-width: min(1200px, 95vw); }\n",
    "  .section-card h2, .card h3 { color: #ffffff; font-family: 'Poppins', sans-serif; letter-spacing: 1px; }\n",
    "  .section-card h2 { text-align: center; font-size: 1.8rem; margin-bottom: 1.5rem; }\n",
    "  .card h3 { font-size: 1.3rem; margin-bottom: 0.75rem; font-weight: bold; }\n",
    "  .container { display: flex; flex-direction: column; gap: 1.25rem; align-items: center; }\n",
    "  .card { background: linear-gradient(145deg, #24243e, #1e1e3a); border-radius: 12px; padding: 1.5rem; box-shadow: 0 6px 16px rgba(0, 0, 0, 0.4); border-left: 4px solid transparent; width: min(1000px, 90vw); margin: 0 auto 1.25rem; }\n",
    "  .container > .card:last-child { margin-bottom: 2rem; }\n",
    "  .card.orange { border-left-color: #ffa726; }\n",
    "  .card.purple { border-left-color: #ba68c8; }\n",
    "  .card.red { border-left-color: #ef5350; }\n",
    "  .card.green { border-left-color: #66bb6a; }\n",
    "  .card:hover {transform: translateY(-6px);box-shadow: 0 10px 20px rgba(0, 0, 0, 0.5);}\n",
    "  .card {transition: transform 0.3s ease, box-shadow 0.3s ease;}\n",
    "  p, li { color: #dcdcdc; font-size: 0.95rem; line-height: 1.5; font-family: 'Segoe UI', sans-serif; margin-bottom: 0.75rem; }\n",
    "  ul { padding-left: 1.25rem; }\n",
    "  @media (max-width: 768px) { h1 { font-size: 2rem; } .section-card { padding: 1.25rem; } .card { width: 100%; padding: 1rem; margin: 0 auto 1rem; } .container > .card:last-child { margin-bottom: 1.5rem; } .section-card h2 { font-size: 1.4rem; } p, li { font-size: 0.9rem; } }\n",
    "</style>\n",
    "<div class=\"section-card\">\n",
    "  <div class=\"container\">\n",
    "    <div class=\"card orange\" id=\"toc3_4_\">\n",
    "      <h3>Stripping Whitespaces</h3>\n",
    "      <ul><li><code>.strip()</code>: Returns a new string with leading and trailing whitespaces removed.</li></ul>\n",
    "    </div>\n",
    "  </div>\n",
    "</div>"
   ]
  },
  {
   "cell_type": "code",
   "execution_count": 14,
   "metadata": {},
   "outputs": [
    {
     "data": {
      "text/plain": [
       "'hello world'"
      ]
     },
     "execution_count": 14,
     "metadata": {},
     "output_type": "execute_result"
    }
   ],
   "source": [
    "text = \"   hello world   \"\n",
    "text.strip()"
   ]
  },
  {
   "cell_type": "markdown",
   "metadata": {},
   "source": [
    "<style>\n",
    "  * { box-sizing: border-box; }\n",
    "  h1 { width: 100%; text-align: center; color: #ffffff; font-size: 2.8rem; margin-bottom: 1.5rem; font-family: 'Poppins', sans-serif; letter-spacing: 1px; }\n",
    "  .section-card { background: linear-gradient(145deg, rgb(61, 61, 87), rgb(49, 49, 70)); border-radius: 15px; padding: 2rem; margin: 0 auto 2.5rem; box-shadow: 0 8px 20px rgba(0, 0, 0, 0.5); width: 100%; max-width: min(1200px, 95vw); }\n",
    "  .section-card h2, .card h3 { color: #ffffff; font-family: 'Poppins', sans-serif; letter-spacing: 1px; }\n",
    "  .section-card h2 { text-align: center; font-size: 1.8rem; margin-bottom: 1.5rem; }\n",
    "  .card h3 { font-size: 1.3rem; margin-bottom: 0.75rem; font-weight: bold; }\n",
    "  .container { display: flex; flex-direction: column; gap: 1.25rem; align-items: center; }\n",
    "  .card { background: linear-gradient(145deg, #24243e, #1e1e3a); border-radius: 12px; padding: 1.5rem; box-shadow: 0 6px 16px rgba(0, 0, 0, 0.4); border-left: 4px solid transparent; width: min(1000px, 90vw); margin: 0 auto 1.25rem; }\n",
    "  .container > .card:last-child { margin-bottom: 2rem; }\n",
    "  .card.orange { border-left-color: #ffa726; }\n",
    "  .card.purple { border-left-color: #ba68c8; }\n",
    "  .card.red { border-left-color: #ef5350; }\n",
    "  .card.green { border-left-color: #66bb6a; }\n",
    "  .card:hover {transform: translateY(-6px);box-shadow: 0 10px 20px rgba(0, 0, 0, 0.5);}\n",
    "  .card {transition: transform 0.3s ease, box-shadow 0.3s ease;}\n",
    "  p, li { color: #dcdcdc; font-size: 0.95rem; line-height: 1.5; font-family: 'Segoe UI', sans-serif; margin-bottom: 0.75rem; }\n",
    "  ul { padding-left: 1.25rem; }\n",
    "  @media (max-width: 768px) { h1 { font-size: 2rem; } .section-card { padding: 1.25rem; } .card { width: 100%; padding: 1rem; margin: 0 auto 1rem; } .container > .card:last-child { margin-bottom: 1.5rem; } .section-card h2 { font-size: 1.4rem; } p, li { font-size: 0.9rem; } }\n",
    "</style>\n",
    "<div class=\"section-card\">\n",
    "  <div class=\"container\">\n",
    "    <div class=\"card orange\" id=\"toc3_5_\">\n",
    "      <h3>Splitting</h3>\n",
    "      <ul><li><code>.split(separator)</code>: Splits the string at each occurrence of the separator and returns a list of the resulting substrings.</li></ul>\n",
    "    </div>\n",
    "  </div>\n",
    "</div>"
   ]
  },
  {
   "cell_type": "code",
   "execution_count": 15,
   "metadata": {},
   "outputs": [
    {
     "data": {
      "text/plain": [
       "['hello', 'world']"
      ]
     },
     "execution_count": 15,
     "metadata": {},
     "output_type": "execute_result"
    }
   ],
   "source": [
    "text = \"hello,world\"\n",
    "text.split(\",\")"
   ]
  },
  {
   "cell_type": "markdown",
   "metadata": {},
   "source": [
    "<style>\n",
    "  * { box-sizing: border-box; }\n",
    "  h1 { width: 100%; text-align: center; color: #ffffff; font-size: 2.8rem; margin-bottom: 1.5rem; font-family: 'Poppins', sans-serif; letter-spacing: 1px; }\n",
    "  .section-card { background: linear-gradient(145deg, rgb(61, 61, 87), rgb(49, 49, 70)); border-radius: 15px; padding: 2rem; margin: 0 auto 2.5rem; box-shadow: 0 8px 20px rgba(0, 0, 0, 0.5); width: 100%; max-width: min(1200px, 95vw); }\n",
    "  .section-card h2 { text-align: center; color: #ffffff; font-size: 1.8rem; margin-bottom: 1.5rem; font-family: 'Poppins', sans-serif; letter-spacing: 1px; }\n",
    "  .container { display: flex; flex-direction: column; gap: 1.25rem; align-items: center; }\n",
    "  .card { background: linear-gradient(145deg, #24243e, #1e1e3a); border-radius: 12px; padding: 1.5rem; box-shadow: 0 6px 16px rgba(0, 0, 0, 0.4); border-left: 4px solid transparent; width: min(1000px, 90vw); margin: 0 auto 1.25rem; }\n",
    "  .container > .card:last-child { margin-bottom: 2rem; }\n",
    "  .card.blue { border-left-color: #29b6f6; }\n",
    "  .card:hover {transform: translateY(-6px);box-shadow: 0 10px 20px rgba(0, 0, 0, 0.5);}\n",
    "  .card {transition: transform 0.3s ease, box-shadow 0.3s ease;}\n",
    "  p { color: #dcdcdc; font-size: 0.95rem; line-height: 1.5; font-family: 'Segoe UI', sans-serif; margin-bottom: 0.75rem; }\n",
    "  @media (max-width: 768px) { h1 { font-size: 2rem; } .section-card { padding: 1.25rem; } .card { width: 100%; padding: 1rem; margin: 0 auto 1rem; } .container > .card:last-child { margin-bottom: 1.5rem; } .section-card h2 { font-size: 1.4rem; } p { font-size: 0.9rem; } }\n",
    "</style>\n",
    "<div class=\"section-card\" id=\"toc4_\">\n",
    "  <h2>Understanding the Immutability of Strings</h2>\n",
    "  <div class=\"container\">\n",
    "    <div class=\"card blue\">\n",
    "      <p>A crucial aspect of strings in Python is that they are <strong>immutable</strong>, which means they cannot be changed after they are created. Attempting to modify a character at a specific index will result in a <code>TypeError</code>.</p>\n",
    "    </div>\n",
    "    <div class=\"card blue\">\n",
    "      <h3>So, How Do We 'Change' Strings?</h3>\n",
    "      <p>Since strings can't be modified in place, any operation or method that seems to 'change' a string—like <code>.upper()</code> or <code>.replace()</code>—actually creates and returns a <strong>new string</strong> with the changes applied.</p>\n",
    "      <p style=\"margin-bottom:0;\">The original string remains unaltered. This is a fundamental concept to prevent bugs and errors in your code.</p>\n",
    "    </div>\n",
    "  </div>\n",
    "</div>"
   ]
  },
  {
   "cell_type": "code",
   "execution_count": 16,
   "metadata": {},
   "outputs": [],
   "source": [
    "s = \"Hello, world!\""
   ]
  },
  {
   "cell_type": "code",
   "execution_count": 17,
   "metadata": {},
   "outputs": [
    {
     "ename": "TypeError",
     "evalue": "'str' object does not support item assignment",
     "output_type": "error",
     "traceback": [
      "\u001b[1;31m---------------------------------------------------------------------------\u001b[0m",
      "\u001b[1;31mTypeError\u001b[0m                                 Traceback (most recent call last)",
      "Cell \u001b[1;32mIn[17], line 1\u001b[0m\n\u001b[1;32m----> 1\u001b[0m s[\u001b[38;5;241m0\u001b[39m] \u001b[38;5;241m=\u001b[39m \u001b[38;5;124m\"\u001b[39m\u001b[38;5;124mh\u001b[39m\u001b[38;5;124m\"\u001b[39m\n",
      "\u001b[1;31mTypeError\u001b[0m: 'str' object does not support item assignment"
     ]
    }
   ],
   "source": [
    "s[0] = \"h\" # This will raise a TypeError"
   ]
  },
  {
   "cell_type": "code",
   "execution_count": 18,
   "metadata": {},
   "outputs": [
    {
     "data": {
      "text/plain": [
       "'HELLO, WORLD!'"
      ]
     },
     "execution_count": 18,
     "metadata": {},
     "output_type": "execute_result"
    }
   ],
   "source": [
    "s_upper = s.upper() # s.upper() returns a new string\n",
    "s_upper"
   ]
  }
 ],
 "metadata": {
  "kernelspec": {
   "display_name": "base",
   "language": "python",
   "name": "python3"
  },
  "language_info": {
   "codemirror_mode": {
    "name": "ipython",
    "version": 3
   },
   "file_extension": ".py",
   "mimetype": "text/x-python",
   "name": "python",
   "nbconvert_exporter": "python",
   "pygments_lexer": "ipython3",
   "version": "3.11.5"
  },
  "orig_nbformat": 4
 },
 "nbformat": 4,
 "nbformat_minor": 2
}
