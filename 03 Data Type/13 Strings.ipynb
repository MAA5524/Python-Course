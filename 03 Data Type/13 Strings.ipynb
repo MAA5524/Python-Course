{
 "cells": [
  {
   "cell_type": "markdown",
   "metadata": {},
   "source": [
    "<style>\n",
    "  * { box-sizing: border-box; }\n",
    "  h1 { width: 100%; text-align: center; color: #ffffff; font-size: 2.8rem; margin-bottom: 1.5rem; font-family: 'Poppins', sans-serif; letter-spacing: 1px; }\n",
    "  .section-card { background: linear-gradient(145deg, rgb(61, 61, 87), rgb(49, 49, 70)); border-radius: 15px; padding: 2rem; margin: 0 auto 2.5rem; box-shadow: 0 8px 20px rgba(0, 0, 0, 0.5); width: 100%; max-width: min(1200px, 95vw); }\n",
    "  .section-card h2 { text-align: center; color: #ffffff; font-size: 1.8rem; margin-bottom: 1.5rem; font-family: 'Poppins', sans-serif; letter-spacing: 1px; }\n",
    "  .container { display: flex; flex-direction: column; gap: 1.25rem; align-items: center; }\n",
    "  .card { background: linear-gradient(145deg, #24243e, #1e1e3a); border-radius: 12px; padding: 1.5rem; box-shadow: 0 6px 16px rgba(0, 0, 0, 0.4); border-left: 4px solid transparent; width: min(1000px, 90vw); margin: 0 auto 1.25rem; }\n",
    "  .card:hover {transform: translateY(-6px);box-shadow: 0 10px 20px rgba(0, 0, 0, 0.5);}\n",
    "  .card {transition: transform 0.3s ease, box-shadow 0.3s ease;}\n",
    "  .container > .card:last-child { margin-bottom: 2rem; }\n",
    "  .card.green { border-left-color: #66bb6a; }\n",
    "  p { color: #dcdcdc; font-size: 0.95rem; line-height: 1.5; font-family: 'Segoe UI', sans-serif; margin-bottom: 0.75rem; }\n",
    "  @media (max-width: 768px) { h1 { font-size: 2rem; } .section-card { padding: 1.25rem; } .card { width: 100%; padding: 1rem; margin: 0 auto 1rem; } .section-card h2 { font-size: 1.4rem; } p { font-size: 0.9rem; } }\n",
    "</style>\n",
    "\n",
    "<div class=\"section-card\">\n",
    "<h1>Strings</h1>\n",
    "</div>\n",
    "<div class=\"section-card\">\n",
    "  <div class=\"container\">\n",
    "    <div class=\"card green\">\n",
    "      <p>Strings are one of the most common and fundamental data types in programming, used for representing and manipulating all forms of text.</p>\n",
    "      <p style=\"margin-bottom:0;\">This lecture will provide a solid foundation on how strings are created and accessed in Python, preparing you for more advanced topics.</p>\n",
    "    </div>\n",
    "  </div>\n",
    "</div>"
   ]
  },
  {
   "cell_type": "markdown",
   "metadata": {},
   "source": [
    "<style>\n",
    "  * { box-sizing: border-box; }\n",
    "  h1 { width: 100%; text-align: center; color: #ffffff; font-size: 2.8rem; margin-bottom: 1.5rem; font-family: 'Poppins', sans-serif; letter-spacing: 1px; }\n",
    "  .section-card { background: linear-gradient(145deg, rgb(61, 61, 87), rgb(49, 49, 70)); border-radius: 15px; padding: 2rem; margin: 0 auto 2.5rem; box-shadow: 0 8px 20px rgba(0, 0, 0, 0.5); width: 100%; max-width: min(1200px, 95vw); }\n",
    "  .section-card h2 { text-align: center; color: #ffffff; font-size: 1.8rem; margin-bottom: 1.5rem; font-family: 'Poppins', sans-serif; letter-spacing: 1px; }\n",
    "  .container { display: flex; flex-direction: column; gap: 1.25rem; align-items: center; }\n",
    "  .card { background: linear-gradient(145deg, #24243e, #1e1e3a); border-radius: 12px; padding: 1.5rem; box-shadow: 0 6px 16px rgba(0, 0, 0, 0.4); border-left: 4px solid transparent; width: min(1000px, 90vw); margin: 0 auto 1.25rem; }\n",
    "  .card:hover {transform: translateY(-6px);box-shadow: 0 10px 20px rgba(0, 0, 0, 0.5);}\n",
    "  .card {transition: transform 0.3s ease, box-shadow 0.3s ease;}\n",
    "  .container > .card:last-child { margin-bottom: 2rem; }\n",
    "  .card.blue { border-left-color: #29b6f6; }\n",
    "  li { margin-bottom: 0.5rem; color: #dcdcdc; font-size: 0.95rem; line-height: 1.5; font-family: 'Segoe UI', sans-serif; }\n",
    "  .toc-card ul { list-style-type: none; padding-left: 0; margin-bottom:0; }\n",
    "  .toc-card a { color: #29b6f6; text-decoration: none; }\n",
    "  @media (max-width: 768px) { h1 { font-size: 2rem; } .section-card { padding: 1.25rem; } .card { width: 100%; padding: 1rem; margin: 0 auto 1rem; } .section-card h2 { font-size: 1.4rem; } li { font-size: 0.9rem; } }\n",
    "</style>\n",
    "<div class=\"section-card\">\n",
    "  <h2>Table of contents</h2>\n",
    "  <div class=\"container\">\n",
    "    <div class=\"card blue toc-card\">\n",
    "      <ul>\n",
    "        <li><a href=\"#toc1_\">Why are Strings Important?</a></li>\n",
    "        <li><a href=\"#toc2_\">What is a string?</a></li>\n",
    "        <li><a href=\"#toc3_\">Creating and Assigning Strings in Python</a></li>\n",
    "        <li><a href=\"#toc4_\">Multiline Strings</a></li>\n",
    "      </ul>\n",
    "    </div>\n",
    "  </div>\n",
    "</div>"
   ]
  },
  {
   "cell_type": "markdown",
   "metadata": {},
   "source": [
    "<style>\n",
    "  * { box-sizing: border-box; }\n",
    "  h1 { width: 100%; text-align: center; color: #ffffff; font-size: 2.8rem; margin-bottom: 1.5rem; font-family: 'Poppins', sans-serif; letter-spacing: 1px; }\n",
    "  .section-card { background: linear-gradient(145deg, rgb(61, 61, 87), rgb(49, 49, 70)); border-radius: 15px; padding: 2rem; margin: 0 auto 2.5rem; box-shadow: 0 8px 20px rgba(0, 0, 0, 0.5); width: 100%; max-width: min(1200px, 95vw); }\n",
    "  .section-card h2 { text-align: center; color: #ffffff; font-size: 1.8rem; margin-bottom: 1.5rem; font-family: 'Poppins', sans-serif; letter-spacing: 1px; }\n",
    "  .container { display: flex; flex-direction: column; gap: 1.25rem; align-items: center; }\n",
    "  .card { background: linear-gradient(145deg, #24243e, #1e1e3a); border-radius: 12px; padding: 1.5rem; box-shadow: 0 6px 16px rgba(0, 0, 0, 0.4); border-left: 4px solid transparent; width: min(1000px, 90vw); margin: 0 auto 1.25rem; }\n",
    "  .card:hover {transform: translateY(-6px);box-shadow: 0 10px 20px rgba(0, 0, 0, 0.5);}\n",
    "  .card {transition: transform 0.3s ease, box-shadow 0.3s ease;}\n",
    "  .container > .card:last-child { margin-bottom: 2rem; }\n",
    "  .card.orange { border-left-color: #ffa726; }\n",
    "  p, li { color: #dcdcdc; font-size: 0.95rem; line-height: 1.5; font-family: 'Segoe UI', sans-serif; }\n",
    "  p { margin-bottom: 0.75rem; }\n",
    "  ol { padding-left: 1.25rem; margin-bottom: 0; }\n",
    "  li { margin-bottom: 0.5rem; }\n",
    "  @media (max-width: 768px) { h1 { font-size: 2rem; } .section-card { padding: 1.25rem; } .card { width: 100%; padding: 1rem; margin: 0 auto 1rem; } .section-card h2 { font-size: 1.4rem; } p, li { font-size: 0.9rem; } }\n",
    "</style>\n",
    "<div class=\"section-card\" id=\"toc1_\">\n",
    "  <h2>Why are Strings Important?</h2>\n",
    "  <div class=\"container\">\n",
    "    <div class=\"card orange\">\n",
    "       <p>Strings are essential in programming as they are the primary way to represent and work with text. They are used everywhere, from user interaction and communication with web services to storing data in files and databases.</p>\n",
    "    </div>\n",
    "    <div class=\"card orange\">\n",
    "      <p>Key roles of strings include:</p>\n",
    "      <ol>\n",
    "        <li><strong>Text Representation</strong>: Most real-world data like names, addresses, and descriptions are text-based.</li>\n",
    "        <li><strong>Data Storage and Retrieval</strong>: Strings are widely used for storing data in databases and reading from files.</li>\n",
    "        <li><strong>Communication</strong>: Data is often sent and received in string formats like JSON or XML when dealing with APIs.</li>\n",
    "        <li><strong>User Interaction</strong>: Most user input and output in applications is handled through strings.</li>\n",
    "      </ol>\n",
    "    </div>\n",
    "  </div>\n",
    "</div>"
   ]
  },
  {
   "cell_type": "markdown",
   "metadata": {},
   "source": [
    "<style>\n",
    "  * { box-sizing: border-box; }\n",
    "  h1 { width: 100%; text-align: center; color: #ffffff; font-size: 2.8rem; margin: 0 auto 2.5rem; font-family: 'Poppins', sans-serif; letter-spacing: 1px; }\n",
    "  .section-card { background: linear-gradient(145deg, rgb(61, 61, 87), rgb(49, 49, 70)); border-radius: 15px; padding: 2rem; margin: 0 auto 2.5rem; box-shadow: 0 8px 20px rgba(0, 0, 0, 0.5); width: 100%; max-width: min(1200px, 95vw); }\n",
    "  .section-card h2 { text-align: center; color: #ffffff; font-size: 1.8rem; margin-bottom: 1.5rem; font-family: 'Poppins', sans-serif; letter-spacing: 1px; }\n",
    "  .container { display: flex; flex-direction: column; gap: 1.25rem; align-items: center; }\n",
    "  .card { background: linear-gradient(145deg, #24243e, #1e1e3a); border-radius: 12px; padding: 1.5rem; box-shadow: 0 6px 16px rgba(0, 0, 0, 0.4); border-left: 4px solid transparent; width: min(1000px, 90vw); margin: 0 auto 1.25rem; }\n",
    "  .card:hover {transform: translateY(-6px);box-shadow: 0 10px 20px rgba(0, 0, 0, 0.5);}\n",
    "  .card {transition: transform 0.3s ease, box-shadow 0.3s ease;}\n",
    "  .container > .card:last-child { margin-bottom: 2rem; }\n",
    "  .card.purple { border-left-color: #ba68c8; }\n",
    "  p { color: #dcdcdc; font-size: 0.95rem; line-height: 1.5; font-family: 'Segoe UI', sans-serif; margin-bottom: 0.75rem; }\n",
    "  img { display: block; max-width: 100%; height: auto; margin: 0 auto; border-radius: 10px; }\n",
    "  @media (max-width: 768px) { h1 { font-size: 2rem; } .section-card { padding: 1.25rem; } .card { width: 100%; padding: 1rem; margin: 0 auto 1rem; } .section-card h2 { font-size: 1.4rem; } p { font-size: 0.9rem; } }\n",
    "</style>\n",
    "<div class=\"section-card\" id=\"toc2_\">\n",
    "  <h2>What is a string?</h2>\n",
    "  <div class=\"container\">\n",
    "    <div class=\"card purple\">\n",
    "       <p style=\"margin-bottom:0;\">A string is a sequence of characters. In Python, this can include letters, numbers, symbols, and spaces—essentially any character you can type.</p>\n",
    "    </div>\n",
    "    <div class=\"card purple\">\n",
    "       <img src=\"../images/string.png\" alt=\"String illustration\">\n",
    "    </div>\n",
    "  </div>\n",
    "</div>"
   ]
  },
  {
   "cell_type": "markdown",
   "metadata": {},
   "source": [
    "<style>\n",
    "  * { box-sizing: border-box; }\n",
    "  h1 { width: 100%; text-align: center; color: #ffffff; font-size: 2.8rem; margin-bottom: 1.5rem; font-family: 'Poppins', sans-serif; letter-spacing: 1px; }\n",
    "  .section-card { background: linear-gradient(145deg, rgb(61, 61, 87), rgb(49, 49, 70)); border-radius: 15px; padding: 2rem; margin: 0 auto 2.5rem; box-shadow: 0 8px 20px rgba(0, 0, 0, 0.5); width: 100%; max-width: min(1200px, 95vw); }\n",
    "  .section-card h2 { text-align: center; color: #ffffff; font-size: 1.8rem; margin-bottom: 1.5rem; font-family: 'Poppins', sans-serif; letter-spacing: 1px; }\n",
    "  .container { display: flex; flex-direction: column; gap: 1.25rem; align-items: center; }\n",
    "  .card { background: linear-gradient(145deg, #24243e, #1e1e3a); border-radius: 12px; padding: 1.5rem; box-shadow: 0 6px 16px rgba(0, 0, 0, 0.4); border-left: 4px solid transparent; width: min(1000px, 90vw); margin: 0 auto 1.25rem; }\n",
    "  .card:hover {transform: translateY(-6px);box-shadow: 0 10px 20px rgba(0, 0, 0, 0.5);}\n",
    "  .card {transition: transform 0.3s ease, box-shadow 0.3s ease;}\n",
    "  .container > .card:last-child { margin-bottom: 2rem; }\n",
    "  .card.red { border-left-color: #ef5350; }\n",
    "  p { color: #dcdcdc; font-size: 0.95rem; line-height: 1.5; font-family: 'Segoe UI', sans-serif; margin-bottom: 0.75rem; }\n",
    "  @media (max-width: 768px) { h1 { font-size: 2rem; } .section-card { padding: 1.25rem; } .card { width: 100%; padding: 1rem; margin: 0 auto 1rem; } .section-card h2 { font-size: 1.4rem; } p { font-size: 0.9rem; } }\n",
    "</style>\n",
    "<div class=\"section-card\" id=\"toc3_\">\n",
    "  <h2>Creating and Assigning Strings in Python</h2>\n",
    "  <div class=\"container\">\n",
    "    <div class=\"card red\">\n",
    "      <p>In Python, strings are created by enclosing characters in either single (<code>'</code>) or double (<code>\"</code>) quotes. The choice is a matter of preference, but it allows for flexibility when a string needs to contain a quote character.</p>\n",
    "      <p style=\"margin-bottom:0;\">To include a single quote, enclose the string in double quotes, and vice-versa. If a string contains both, you'll need to use escape sequences, which are covered in more advanced topics.</p>\n",
    "    </div>\n",
    "  </div>\n",
    "</div>"
   ]
  },
  {
   "cell_type": "code",
   "execution_count": 1,
   "metadata": {},
   "outputs": [],
   "source": [
    "name = \"Mohammad Shafiee\""
   ]
  },
  {
   "cell_type": "code",
   "execution_count": 2,
   "metadata": {},
   "outputs": [
    {
     "data": {
      "text/plain": [
       "'Mohammad Shafiee'"
      ]
     },
     "execution_count": 2,
     "metadata": {},
     "output_type": "execute_result"
    }
   ],
   "source": [
    "name"
   ]
  },
  {
   "cell_type": "code",
   "execution_count": 5,
   "metadata": {},
   "outputs": [
    {
     "ename": "SyntaxError",
     "evalue": "unterminated string literal (detected at line 2) (1239820130.py, line 2)",
     "output_type": "error",
     "traceback": [
      "\u001b[0;36m  Cell \u001b[0;32mIn[5], line 2\u001b[0;36m\u001b[0m\n\u001b[0;31m    'It's a beautiful day!'\u001b[0m\n\u001b[0m                          ^\u001b[0m\n\u001b[0;31mSyntaxError\u001b[0m\u001b[0;31m:\u001b[0m unterminated string literal (detected at line 2)\n"
     ]
    }
   ],
   "source": [
    "# This will cause a syntax error\n",
    "'It's a beautiful day!'"
   ]
  },
  {
   "cell_type": "code",
   "execution_count": 6,
   "metadata": {},
   "outputs": [
    {
     "data": {
      "text/plain": [
       "\"It's a beautiful day!\""
      ]
     },
     "execution_count": 6,
     "metadata": {},
     "output_type": "execute_result"
    }
   ],
   "source": [
    "# Correct way:\n",
    "\"It's a beautiful day!\""
   ]
  },
  {
   "cell_type": "markdown",
   "metadata": {},
   "source": [
    "<style>\n",
    "  * { box-sizing: border-box; }\n",
    "  h1 { width: 100%; text-align: center; color: #ffffff; font-size: 2.8rem; margin-bottom: 1.5rem; font-family: 'Poppins', sans-serif; letter-spacing: 1px; }\n",
    "  .section-card { background: linear-gradient(145deg, rgb(61, 61, 87), rgb(49, 49, 70)); border-radius: 15px; padding: 2rem; margin: 0 auto 2.5rem; box-shadow: 0 8px 20px rgba(0, 0, 0, 0.5); width: 100%; max-width: min(1200px, 95vw); }\n",
    "  .section-card h2 { text-align: center; color: #ffffff; font-size: 1.8rem; margin-bottom: 1.5rem; font-family: 'Poppins', sans-serif; letter-spacing: 1px; }\n",
    "  .container { display: flex; flex-direction: column; gap: 1.25rem; align-items: center; }\n",
    "  .card { background: linear-gradient(145deg, #24243e, #1e1e3a); border-radius: 12px; padding: 1.5rem; box-shadow: 0 6px 16px rgba(0, 0, 0, 0.4); border-left: 4px solid transparent; width: min(1000px, 90vw); margin: 0 auto 1.25rem; }\n",
    "  .card:hover {transform: translateY(-6px);box-shadow: 0 10px 20px rgba(0, 0, 0, 0.5);}\n",
    "  .card {transition: transform 0.3s ease, box-shadow 0.3s ease;}\n",
    "  .container > .card:last-child { margin-bottom: 2rem; }\n",
    "  .card.green { border-left-color: #66bb6a; }\n",
    "  p { color: #dcdcdc; font-size: 0.95rem; line-height: 1.5; font-family: 'Segoe UI', sans-serif; margin-bottom: 0.75rem; }\n",
    "  @media (max-width: 768px) { h1 { font-size: 2rem; } .section-card { padding: 1.25rem; } .card { width: 100%; padding: 1rem; margin: 0 auto 1rem; } .section-card h2 { font-size: 1.4rem; } p { font-size: 0.9rem; } }\n",
    "</style>\n",
    "<div class=\"section-card\" id=\"toc4_\">\n",
    "  <h2>Multiline Strings</h2>\n",
    "  <div class=\"container\">\n",
    "    <div class=\"card green\">\n",
    "      <p>To represent a string that spans multiple lines, Python uses triple quotes (<code>'''</code> or <code>\"\"\"</code>).</p>\n",
    "      <p style=\"margin-bottom:0;\">This syntax is also commonly used for docstrings, which provide documentation for functions, classes, and modules.</p>\n",
    "    </div>\n",
    "  </div>\n",
    "</div>"
   ]
  },
  {
   "cell_type": "code",
   "execution_count": 9,
   "metadata": {},
   "outputs": [
    {
     "name": "stdout",
     "output_type": "stream",
     "text": [
      "\n",
      "Hello,\n",
      "This is a multiline string in Python.\n",
      "Have a great day!\n",
      "\n"
     ]
    }
   ],
   "source": [
    "message = \"\"\"\n",
    "Hello,\n",
    "This is a multiline string in Python.\n",
    "Have a great day!\n",
    "\"\"\"\n",
    "print(message)"
   ]
  }
 ],
 "metadata": {
  "kernelspec": {
   "display_name": "base",
   "language": "python",
   "name": "python3"
  },
  "language_info": {
   "codemirror_mode": {
    "name": "ipython",
    "version": 3
   },
   "file_extension": ".py",
   "mimetype": "text/x-python",
   "name": "python",
   "nbconvert_exporter": "python",
   "pygments_lexer": "ipython3",
   "version": "3.12.8"
  },
  "orig_nbformat": 4
 },
 "nbformat": 4,
 "nbformat_minor": 2
}
