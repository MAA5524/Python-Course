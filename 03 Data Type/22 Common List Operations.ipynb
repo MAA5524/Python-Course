{
 "cells": [
  {
   "cell_type": "markdown",
   "metadata": {},
   "source": [
    "<style>\n",
    "  * { box-sizing: border-box; }\n",
    "  h1 { width: 100%; text-align: center; color: #ffffff; font-size: 2.8rem; margin-bottom: 1.5rem; font-family: 'Poppins', sans-serif; letter-spacing: 1px; }\n",
    "  .section-card { background: linear-gradient(145deg, rgb(61, 61, 87), rgb(49, 49, 70)); border-radius: 15px; padding: 2rem; margin: 0 auto 2.5rem; box-shadow: 0 8px 20px rgba(0, 0, 0, 0.5); width: 100%; max-width: min(1200px, 95vw); }\n",
    "  .container { display: flex; flex-direction: column; gap: 1.25rem; align-items: center; }\n",
    "  .card { background: linear-gradient(145deg, #24243e, #1e1e3a); border-radius: 12px; padding: 1.5rem; box-shadow: 0 6px 16px rgba(0, 0, 0, 0.4); border-left: 4px solid transparent; width: min(1000px, 90vw); margin: 0 auto 1.25rem; transition: transform 0.3s ease, box-shadow 0.3s ease; }\n",
    "  .card:hover { transform: translateY(-6px); box-shadow: 0 10px 20px rgba(0, 0, 0, 0.5); }\n",
    "  .container > .card:last-child { margin-bottom: 2rem; }\n",
    "  .card.green { border-left-color: #66bb6a; }\n",
    "  p { color: #dcdcdc; font-size: 0.95rem; line-height: 1.5; font-family: 'Segoe UI', sans-serif; margin-bottom: 0.75rem; }\n",
    "  @media (max-width: 768px) { h1 { font-size: 2rem; } .section-card { padding: 1.25rem; } .card { width: 100%; padding: 1rem; margin: 0 auto 1rem; } .container > .card:last-child { margin-bottom: 1.5rem; } p { font-size: 0.9rem; } }\n",
    "</style>\n",
    "<div class=\"section-card\">\n",
    "  <div class=\"container\">\n",
    "  <h1>Common List Operations</h1>\n",
    "    <div class=\"card green\">\n",
    "      <p style=\"margin-bottom:0;\">Python's lists come with a variety of powerful built-in operations for common tasks like concatenation, counting, and sorting. Mastering these essential operations allows for effective list manipulation.</p>\n",
    "    </div>\n",
    "  </div>\n",
    "</div>"
   ]
  },
  {
   "cell_type": "markdown",
   "metadata": {},
   "source": [
    "<style>\n",
    "  * { box-sizing: border-box; }\n",
    "  h1 { width: 100%; text-align: center; color: #ffffff; font-size: 2.8rem; margin-bottom: 1.5rem; font-family: 'Poppins', sans-serif; letter-spacing: 1px; }\n",
    "  .section-card { background: linear-gradient(145deg, rgb(61, 61, 87), rgb(49, 49, 70)); border-radius: 15px; padding: 2rem; margin: 0 auto 2.5rem; box-shadow: 0 8px 20px rgba(0, 0, 0, 0.5); width: 100%; max-width: min(1200px, 95vw); }\n",
    "  .section-card h2 { text-align: center; color: #ffffff; font-size: 1.8rem; margin-bottom: 1.5rem; font-family: 'Poppins', sans-serif; letter-spacing: 1px; }\n",
    "  .container { display: flex; flex-direction: column; gap: 1.25rem; align-items: center; }\n",
    "  .card { background: linear-gradient(145deg, #24243e, #1e1e3a); border-radius: 12px; padding: 1.5rem; box-shadow: 0 6px 16px rgba(0, 0, 0, 0.4); border-left: 4px solid transparent; width: min(1000px, 90vw); margin: 0 auto 1.25rem; transition: transform 0.3s ease, box-shadow 0.3s ease; }\n",
    "  .card:hover { transform: translateY(-6px); box-shadow: 0 10px 20px rgba(0, 0, 0, 0.5); }\n",
    "  .container > .card:last-child { margin-bottom: 2rem; }\n",
    "  .card.blue { border-left-color: #29b6f6; }\n",
    "  li { margin-bottom: 0.5rem; color: #dcdcdc; font-size: 0.95rem; line-height: 1.5; font-family: 'Segoe UI', sans-serif; }\n",
    "  .toc-card ul { list-style-type: none; padding-left: 0; margin-bottom:0; }\n",
    "  .toc-card a { color: #29b6f6; text-decoration: none; }\n",
    "  .toc-card ul ul { padding-left: 1.5rem; margin-top:0.5rem; }\n",
    "  @media (max-width: 768px) { h1 { font-size: 2rem; } .section-card { padding: 1.25rem; } .card { width: 100%; padding: 1rem; margin: 0 auto 1rem; } .container > .card:last-child { margin-bottom: 1.5rem; } .section-card h2 { font-size: 1.4rem; } li { font-size: 0.9rem; } }\n",
    "</style>\n",
    "<div class=\"section-card\">\n",
    "  <h2>Table of contents</h2>\n",
    "  <div class=\"container\">\n",
    "    <div class=\"card blue toc-card\">\n",
    "      <ul>\n",
    "        <li><a href=\"#toc1_\">List Concatenation and Replication</a></li>\n",
    "        <li><a href=\"#toc2_\">Membership Testing</a></li>\n",
    "        <li><a href=\"#toc3_\">Finding and Counting Elements</a></li>\n",
    "        <li><a href=\"#toc4_\">Reversing and Sorting a List</a></li>\n",
    "        <li><a href=\"#toc5_\">Conclusion and Summary</a></li>\n",
    "        <li><a href=\"#toc6_\">Practice Exercises</a>\n",
    "          <ul>\n",
    "            <li><a href=\"#toc6_1_\">Exercise 1: Create and Modify List</a></li>\n",
    "            <li><a href=\"#toc6_2_\">Exercise 2: Access and Slice</a></li>\n",
    "            <li><a href=\"#toc6_3_\">Exercise 3: List Membership Testing</a></li>\n",
    "            <li><a href=\"#toc6_4_\">Exercise 4: Concatenation and Repetition</a></li>\n",
    "          </ul>\n",
    "        </li>\n",
    "      </ul>\n",
    "    </div>\n",
    "  </div>\n",
    "</div>"
   ]
  },
  {
   "cell_type": "markdown",
   "metadata": {},
   "source": [
    "<style>\n",
    "  * { box-sizing: border-box; }\n",
    "  h1 { width: 100%; text-align: center; color: #ffffff; font-size: 2.8rem; margin-bottom: 1.5rem; font-family: 'Poppins', sans-serif; letter-spacing: 1px; }\n",
    "  .section-card { background: linear-gradient(145deg, rgb(61, 61, 87), rgb(49, 49, 70)); border-radius: 15px; padding: 2rem; margin: 0 auto 2.5rem; box-shadow: 0 8px 20px rgba(0, 0, 0, 0.5); width: 100%; max-width: min(1200px, 95vw); }\n",
    "  .section-card h2 { text-align: center; color: #ffffff; font-size: 1.8rem; margin-bottom: 1.5rem; font-family: 'Poppins', sans-serif; letter-spacing: 1px; }\n",
    "  .container { display: flex; flex-direction: column; gap: 1.25rem; align-items: center; }\n",
    "  .card { background: linear-gradient(145deg, #24243e, #1e1e3a); border-radius: 12px; padding: 1.5rem; box-shadow: 0 6px 16px rgba(0, 0, 0, 0.4); border-left: 4px solid transparent; width: min(1000px, 90vw); margin: 0 auto 1.25rem; transition: transform 0.3s ease, box-shadow 0.3s ease; }\n",
    "  .card:hover { transform: translateY(-6px); box-shadow: 0 10px 20px rgba(0, 0, 0, 0.5); }\n",
    "  .container > .card:last-child { margin-bottom: 2rem; }\n",
    "  .card.orange { border-left-color: #ffa726; }\n",
    "  p { color: #dcdcdc; font-size: 0.95rem; line-height: 1.5; font-family: 'Segoe UI', sans-serif; margin-bottom: 0.75rem; }\n",
    "  @media (max-width: 768px) { h1 { font-size: 2rem; } .section-card { padding: 1.25rem; } .card { width: 100%; padding: 1rem; margin: 0 auto 1rem; } .container > .card:last-child { margin-bottom: 1.5rem; } .section-card h2 { font-size: 1.4rem; } p { font-size: 0.9rem; } }\n",
    "</style>\n",
    "<div class=\"section-card\" id=\"toc1_\">\n",
    "  <h2>List Concatenation and Replication</h2>\n",
    "  <div class=\"container\">\n",
    "    <div class=\"card orange\">\n",
    "      <p style=\"margin-bottom:0;\">You can concatenate (join) lists using the <code>+</code> operator, which merges two lists into a new one. To replicate a list's contents, use the <code>*</code> operator, which repeats the list a specified number of times.</p>\n",
    "    </div>\n",
    "  </div>\n",
    "</div>"
   ]
  },
  {
   "cell_type": "code",
   "execution_count": 1,
   "metadata": {},
   "outputs": [],
   "source": [
    "list_one = [1, 2, 3]\n",
    "list_two = [4, 5, 6]"
   ]
  },
  {
   "cell_type": "markdown",
   "metadata": {},
   "source": [
    "Cancatenation"
   ]
  },
  {
   "cell_type": "code",
   "execution_count": 2,
   "metadata": {},
   "outputs": [
    {
     "data": {
      "text/plain": [
       "[1, 2, 3, 4, 5, 6]"
      ]
     },
     "execution_count": 2,
     "metadata": {},
     "output_type": "execute_result"
    }
   ],
   "source": [
    "combined_list = list_one + list_two\n",
    "combined_list"
   ]
  },
  {
   "cell_type": "markdown",
   "metadata": {},
   "source": [
    "Replication"
   ]
  },
  {
   "cell_type": "code",
   "execution_count": 3,
   "metadata": {},
   "outputs": [
    {
     "data": {
      "text/plain": [
       "[1, 2, 3, 1, 2, 3, 1, 2, 3]"
      ]
     },
     "execution_count": 3,
     "metadata": {},
     "output_type": "execute_result"
    }
   ],
   "source": [
    "repeated_list = list_one * 3\n",
    "repeated_list"
   ]
  },
  {
   "cell_type": "markdown",
   "metadata": {},
   "source": [
    "<style>\n",
    "  * { box-sizing: border-box; }\n",
    "  h1 { width: 100%; text-align: center; color: #ffffff; font-size: 2.8rem; margin-bottom: 1.5rem; font-family: 'Poppins', sans-serif; letter-spacing: 1px; }\n",
    "  .section-card { background: linear-gradient(145deg, rgb(61, 61, 87), rgb(49, 49, 70)); border-radius: 15px; padding: 2rem; margin: 0 auto 2.5rem; box-shadow: 0 8px 20px rgba(0, 0, 0, 0.5); width: 100%; max-width: min(1200px, 95vw); }\n",
    "  .section-card h2 { text-align: center; color: #ffffff; font-size: 1.8rem; margin-bottom: 1.5rem; font-family: 'Poppins', sans-serif; letter-spacing: 1px; }\n",
    "  .container { display: flex; flex-direction: column; gap: 1.25rem; align-items: center; }\n",
    "  .card { background: linear-gradient(145deg, #24243e, #1e1e3a); border-radius: 12px; padding: 1.5rem; box-shadow: 0 6px 16px rgba(0, 0, 0, 0.4); border-left: 4px solid transparent; width: min(1000px, 90vw); margin: 0 auto 1.25rem; transition: transform 0.3s ease, box-shadow 0.3s ease; }\n",
    "  .card:hover { transform: translateY(-6px); box-shadow: 0 10px 20px rgba(0, 0, 0, 0.5); }\n",
    "  .container > .card:last-child { margin-bottom: 2rem; }\n",
    "  .card.purple { border-left-color: #ba68c8; }\n",
    "  p { color: #dcdcdc; font-size: 0.95rem; line-height: 1.5; font-family: 'Segoe UI', sans-serif; margin-bottom: 0.75rem; }\n",
    "  @media (max-width: 768px) { h1 { font-size: 2rem; } .section-card { padding: 1.25rem; } .card { width: 100%; padding: 1rem; margin: 0 auto 1rem; } .container > .card:last-child { margin-bottom: 1.5rem; } .section-card h2 { font-size: 1.4rem; } p { font-size: 0.9rem; } }\n",
    "</style>\n",
    "<div class=\"section-card\" id=\"toc2_\">\n",
    "  <h2>Membership Testing</h2>\n",
    "  <div class=\"container\">\n",
    "    <div class=\"card purple\">\n",
    "      <p style=\"margin-bottom:0;\">To efficiently check if an item exists within a list, Python provides the <code>in</code> and <code>not in</code> operators.</p>\n",
    "    </div>\n",
    "  </div>\n",
    "</div>"
   ]
  },
  {
   "cell_type": "code",
   "execution_count": 4,
   "metadata": {},
   "outputs": [],
   "source": [
    "pets = ['dog', 'cat', 'bird']"
   ]
  },
  {
   "cell_type": "code",
   "execution_count": 5,
   "metadata": {},
   "outputs": [
    {
     "data": {
      "text/plain": [
       "True"
      ]
     },
     "execution_count": 5,
     "metadata": {},
     "output_type": "execute_result"
    }
   ],
   "source": [
    "# Check if 'cat' is in the list\n",
    "'cat' in pets  # Returns True"
   ]
  },
  {
   "cell_type": "code",
   "execution_count": 6,
   "metadata": {},
   "outputs": [
    {
     "data": {
      "text/plain": [
       "True"
      ]
     },
     "execution_count": 6,
     "metadata": {},
     "output_type": "execute_result"
    }
   ],
   "source": [
    "# Check if 'fish' is not in the list\n",
    "'fish' not in pets  # Returns True"
   ]
  },
  {
   "cell_type": "markdown",
   "metadata": {},
   "source": [
    "<style>\n",
    "  * { box-sizing: border-box; }\n",
    "  h1 { width: 100%; text-align: center; color: #ffffff; font-size: 2.8rem; margin-bottom: 1.5rem; font-family: 'Poppins', sans-serif; letter-spacing: 1px; }\n",
    "  .section-card { background: linear-gradient(145deg, rgb(61, 61, 87), rgb(49, 49, 70)); border-radius: 15px; padding: 2rem; margin: 0 auto 2.5rem; box-shadow: 0 8px 20px rgba(0, 0, 0, 0.5); width: 100%; max-width: min(1200px, 95vw); }\n",
    "  .section-card h2 { text-align: center; color: #ffffff; font-size: 1.8rem; margin-bottom: 1.5rem; font-family: 'Poppins', sans-serif; letter-spacing: 1px; }\n",
    "  .container { display: flex; flex-direction: column; gap: 1.25rem; align-items: center; }\n",
    "  .card { background: linear-gradient(145deg, #24243e, #1e1e3a); border-radius: 12px; padding: 1.5rem; box-shadow: 0 6px 16px rgba(0, 0, 0, 0.4); border-left: 4px solid transparent; width: min(1000px, 90vw); margin: 0 auto 1.25rem; transition: transform 0.3s ease, box-shadow 0.3s ease; }\n",
    "  .card:hover { transform: translateY(-6px); box-shadow: 0 10px 20px rgba(0, 0, 0, 0.5); }\n",
    "  .container > .card:last-child { margin-bottom: 2rem; }\n",
    "  .card.red { border-left-color: #ef5350; }\n",
    "  p, li { color: #dcdcdc; font-size: 0.95rem; line-height: 1.5; font-family: 'Segoe UI', sans-serif; }\n",
    "  p { margin-bottom: 0.75rem; }\n",
    "  ul { padding-left: 1.25rem; margin-bottom: 0; }\n",
    "  li { margin-bottom: 0.5rem; }\n",
    "  @media (max-width: 768px) { h1 { font-size: 2rem; } .section-card { padding: 1.25rem; } .card { width: 100%; padding: 1rem; margin: 0 auto 1rem; } .container > .card:last-child { margin-bottom: 1.5rem; } .section-card h2 { font-size: 1.4rem; } p, li { font-size: 0.9rem; } }\n",
    "</style>\n",
    "<div class=\"section-card\" id=\"toc3_\">\n",
    "  <h2>Finding and Counting Elements</h2>\n",
    "  <div class=\"container\">\n",
    "    <div class=\"card red\">\n",
    "      <p>Two useful list methods for inspection are:</p>\n",
    "      <ul>\n",
    "        <li><strong><code>.index(item)</code></strong>: Returns the index of the first occurrence of an item. It raises a <code>ValueError</code> if the item is not found.</li>\n",
    "        <li><strong><code>.count(item)</code></strong>: Returns the total number of times an item appears in the list.</li>\n",
    "      </ul>\n",
    "    </div>\n",
    "  </div>\n",
    "</div>"
   ]
  },
  {
   "cell_type": "code",
   "execution_count": 7,
   "metadata": {},
   "outputs": [
    {
     "data": {
      "text/plain": [
       "1"
      ]
     },
     "execution_count": 7,
     "metadata": {},
     "output_type": "execute_result"
    }
   ],
   "source": [
    "# Get the index of 'cat'\n",
    "pets.index('cat')"
   ]
  },
  {
   "cell_type": "code",
   "execution_count": 8,
   "metadata": {},
   "outputs": [
    {
     "data": {
      "text/plain": [
       "1"
      ]
     },
     "execution_count": 8,
     "metadata": {},
     "output_type": "execute_result"
    }
   ],
   "source": [
    "# Get the count of 'cat'\n",
    "pets.count('cat')"
   ]
  },
  {
   "cell_type": "markdown",
   "metadata": {},
   "source": [
    "<style>\n",
    "  * { box-sizing: border-box; }\n",
    "  h1 { width: 100%; text-align: center; color: #ffffff; font-size: 2.8rem; margin-bottom: 1.5rem; font-family: 'Poppins', sans-serif; letter-spacing: 1px; }\n",
    "  .section-card { background: linear-gradient(145deg, rgb(61, 61, 87), rgb(49, 49, 70)); border-radius: 15px; padding: 2rem; margin: 0 auto 2.5rem; box-shadow: 0 8px 20px rgba(0, 0, 0, 0.5); width: 100%; max-width: min(1200px, 95vw); }\n",
    "  .section-card h2 { text-align: center; color: #ffffff; font-size: 1.8rem; margin-bottom: 1.5rem; font-family: 'Poppins', sans-serif; letter-spacing: 1px; }\n",
    "  .container { display: flex; flex-direction: column; gap: 1.25rem; align-items: center; }\n",
    "  .card { background: linear-gradient(145deg, #24243e, #1e1e3a); border-radius: 12px; padding: 1.5rem; box-shadow: 0 6px 16px rgba(0, 0, 0, 0.4); border-left: 4px solid transparent; width: min(1000px, 90vw); margin: 0 auto 1.25rem; transition: transform 0.3s ease, box-shadow 0.3s ease; }\n",
    "  .card:hover { transform: translateY(-6px); box-shadow: 0 10px 20px rgba(0, 0, 0, 0.5); }\n",
    "  .container > .card:last-child { margin-bottom: 2rem; }\n",
    "  .card.green { border-left-color: #66bb6a; }\n",
    "  p { color: #dcdcdc; font-size: 0.95rem; line-height: 1.5; font-family: 'Segoe UI', sans-serif; margin-bottom: 0.75rem; }\n",
    "  @media (max-width: 768px) { h1 { font-size: 2rem; } .section-card { padding: 1.25rem; } .card { width: 100%; padding: 1rem; margin: 0 auto 1rem; } .container > .card:last-child { margin-bottom: 1.5rem; } .section-card h2 { font-size: 1.4rem; } p { font-size: 0.9rem; } }\n",
    "</style>\n",
    "<div class=\"section-card\" id=\"toc4_\">\n",
    "  <h2>Reversing and Sorting a List</h2>\n",
    "  <div class=\"container\">\n",
    "    <div class=\"card green\">\n",
    "      <p>To reverse a list, you can use the <code>.reverse()</code> method, which modifies the list <strong>in-place</strong>. Alternatively, the <code>reversed()</code> function returns a new reversed iterator (which can be converted back to a list) without changing the original list.</p>\n",
    "    </div>\n",
    "    <div class=\"card green\">\n",
    "      <p>Similarly, the <code>.sort()</code> method sorts a list <strong>in-place</strong> (with an optional <code>reverse=True</code> argument for descending order). The <code>sorted()</code> function returns a new sorted list while leaving the original untouched.</p>\n",
    "    </div>\n",
    "  </div>\n",
    "</div>"
   ]
  },
  {
   "cell_type": "markdown",
   "metadata": {},
   "source": [
    "Reverse"
   ]
  },
  {
   "cell_type": "code",
   "execution_count": 9,
   "metadata": {},
   "outputs": [],
   "source": [
    "numbers = [1, 5, 2, 4, 3]\n",
    "numbers.reverse()"
   ]
  },
  {
   "cell_type": "code",
   "execution_count": 10,
   "metadata": {},
   "outputs": [
    {
     "data": {
      "text/plain": [
       "[3, 4, 2, 5, 1]"
      ]
     },
     "execution_count": 10,
     "metadata": {},
     "output_type": "execute_result"
    }
   ],
   "source": [
    "numbers"
   ]
  },
  {
   "cell_type": "code",
   "execution_count": 11,
   "metadata": {},
   "outputs": [
    {
     "data": {
      "text/plain": [
       "[1, 5, 2, 4, 3]"
      ]
     },
     "execution_count": 11,
     "metadata": {},
     "output_type": "execute_result"
    }
   ],
   "source": [
    "list(reversed(numbers))"
   ]
  },
  {
   "cell_type": "markdown",
   "metadata": {},
   "source": [
    "Sort"
   ]
  },
  {
   "cell_type": "code",
   "execution_count": 12,
   "metadata": {},
   "outputs": [
    {
     "data": {
      "text/plain": [
       "[1, 2, 3, 4, 5]"
      ]
     },
     "execution_count": 12,
     "metadata": {},
     "output_type": "execute_result"
    }
   ],
   "source": [
    "# Sort the list in ascending order\n",
    "numbers.sort()\n",
    "numbers"
   ]
  },
  {
   "cell_type": "code",
   "execution_count": 13,
   "metadata": {},
   "outputs": [
    {
     "data": {
      "text/plain": [
       "[5, 4, 3, 2, 1]"
      ]
     },
     "execution_count": 13,
     "metadata": {},
     "output_type": "execute_result"
    }
   ],
   "source": [
    "# Sort the list in descending order\n",
    "numbers.sort(reverse=True)\n",
    "numbers"
   ]
  },
  {
   "cell_type": "code",
   "execution_count": 14,
   "metadata": {},
   "outputs": [
    {
     "data": {
      "text/plain": [
       "[1, 2, 3, 4, 5]"
      ]
     },
     "execution_count": 14,
     "metadata": {},
     "output_type": "execute_result"
    }
   ],
   "source": [
    "sorted(numbers)"
   ]
  },
  {
   "cell_type": "markdown",
   "metadata": {},
   "source": [
    "<style>\n",
    "  * { box-sizing: border-box; }\n",
    "  h1 { width: 100%; text-align: center; color: #ffffff; font-size: 2.8rem; margin-bottom: 1.5rem; font-family: 'Poppins', sans-serif; letter-spacing: 1px; }\n",
    "  .section-card { background: linear-gradient(145deg, rgb(61, 61, 87), rgb(49, 49, 70)); border-radius: 15px; padding: 2rem; margin: 0 auto 2.5rem; box-shadow: 0 8px 20px rgba(0, 0, 0, 0.5); width: 100%; max-width: min(1200px, 95vw); }\n",
    "  .section-card h2, .card h3 { color: #ffffff; font-family: 'Poppins', sans-serif; letter-spacing: 1px; }\n",
    "  .section-card h2 { text-align: center; font-size: 1.8rem; margin-bottom: 1.5rem; }\n",
    "  .card h3 { font-size: 1.3rem; margin-bottom: 0.75rem; font-weight: bold; }\n",
    "  .container { display: flex; flex-direction: column; gap: 1.25rem; align-items: center; }\n",
    "  .card { background: linear-gradient(145deg, #24243e, #1e1e3a); border-radius: 12px; padding: 1.5rem; box-shadow: 0 6px 16px rgba(0, 0, 0, 0.4); border-left: 4px solid transparent; width: min(1000px, 90vw); margin: 0 auto 1.25rem; transition: transform 0.3s ease, box-shadow 0.3s ease; }\n",
    "  .card:hover { transform: translateY(-6px); box-shadow: 0 10px 20px rgba(0, 0, 0, 0.5); }\n",
    "  .container > .card:last-child { margin-bottom: 2rem; }\n",
    "  .card.blue { border-left-color: #29b6f6; }\n",
    "  p, li { color: #dcdcdc; font-size: 0.95rem; line-height: 1.5; font-family: 'Segoe UI', sans-serif; }\n",
    "  p { margin-bottom: 0.75rem; }\n",
    "  ul { padding-left: 1.25rem; margin-bottom: 0; }\n",
    "  li { margin-bottom: 0.5rem; }\n",
    "  @media (max-width: 768px) { h1 { font-size: 2rem; } .section-card { padding: 1.25rem; } .card { width: 100%; padding: 1rem; margin: 0 auto 1rem; } .container > .card:last-child { margin-bottom: 1.5rem; } .section-card h2 { font-size: 1.4rem; } p, li { font-size: 0.9rem; } }\n",
    "</style>\n",
    "<div class=\"section-card\" id=\"toc5_\">\n",
    "  <h2>Conclusion and Summary</h2>\n",
    "  <div class=\"container\">\n",
    "    <div class=\"card blue\" >\n",
    "      <p>We've recapped the core concepts of lists and explored fundamental operations:</p>\n",
    "      <ul>\n",
    "        <li><strong>Lists</strong> are mutable, ordered collections.</li>\n",
    "        <li><strong>Creation</strong> can be done with <code>[]</code>, <code>list()</code>, or by repeating elements with <code>*</code>.</li>\n",
    "        <li><strong>Access</strong> is done via indexing and slicing.</li>\n",
    "        <li><strong>Modification</strong> is handled with methods like <code>.append()</code>, <code>.extend()</code>, and <code>.insert()</code>.</li>\n",
    "        <li><strong>Common Operations</strong> include concatenation (<code>+</code>), membership testing (<code>in</code>), sorting, and reversing.</li>\n",
    "      </ul>\n",
    "    </div>\n",
    "  </div>\n",
    "</div>"
   ]
  },
  {
   "cell_type": "markdown",
   "metadata": {},
   "source": [
    "<style>\n",
    "  * { box-sizing: border-box; }\n",
    "  h1 { width: 100%; text-align: center; color: #ffffff; font-size: 2.8rem; margin-bottom: 1.5rem; font-family: 'Poppins', sans-serif; letter-spacing: 1px; }\n",
    "  .section-card { background: linear-gradient(145deg, rgb(61, 61, 87), rgb(49, 49, 70)); border-radius: 15px; padding: 2rem; margin: 0 auto 2.5rem; box-shadow: 0 8px 20px rgba(0, 0, 0, 0.5); width: 100%; max-width: min(1200px, 95vw); }\n",
    "  .section-card h2, .card h3 { color: #ffffff; font-family: 'Poppins', sans-serif; letter-spacing: 1px; }\n",
    "  .section-card h2 { text-align: center; font-size: 1.8rem; margin-bottom: 1.5rem; }\n",
    "  .card h3 { font-size: 1.3rem; margin-bottom: 0.75rem; font-weight: bold; }\n",
    "  .container { display: flex; flex-direction: column; gap: 1.25rem; align-items: center; }\n",
    "  .card { background: linear-gradient(145deg, #24243e, #1e1e3a); border-radius: 12px; padding: 1.5rem; box-shadow: 0 6px 16px rgba(0, 0, 0, 0.4); border-left: 4px solid transparent; width: min(1000px, 90vw); margin: 0 auto 1.25rem; transition: transform 0.3s ease, box-shadow 0.3s ease; }\n",
    "  .card:hover { transform: translateY(-6px); box-shadow: 0 10px 20px rgba(0, 0, 0, 0.5); }\n",
    "  .container > .card:last-child { margin-bottom: 2rem; }\n",
    "  .card.orange { border-left-color: #ffa726; }\n",
    "  p { color: #dcdcdc; font-size: 0.95rem; line-height: 1.5; font-family: 'Segoe UI', sans-serif; margin-bottom: 0.75rem; }\n",
    "  @media (max-width: 768px) { h1 { font-size: 2rem; } .section-card { padding: 1.25rem; } .card { width: 100%; padding: 1rem; margin: 0 auto 1rem; } .container > .card:last-child { margin-bottom: 1.5rem; } .section-card h2 { font-size: 1.4rem; } p { font-size: 0.9rem; } }\n",
    "</style>\n",
    "<div class=\"section-card\" id=\"toc6_\">\n",
    "  <h2>Practice Exercises</h2>\n",
    "  <div class=\"container\">\n",
    "    <div class=\"card orange\" id=\"toc6_1_\">\n",
    "      <h3>Exercise 1: Create and Modify List</h3>\n",
    "      <p>Create a list named <code>colors</code> containing 'red', 'green', 'blue', and 'yellow'. Then, change 'blue' to 'aqua' and append a new color, 'purple', to the list.</p>\n",
    "    </div>\n",
    "    <div class=\"card orange\" id=\"toc6_2_\">\n",
    "      <h3>Exercise 2: Access and Slice</h3>\n",
    "      <p>Given the list <code>nums = [0, 1, 2, 3, 4, 5, 6, 7, 8, 9]</code>, access and print the fifth element, and create a slice of <code>nums</code> that contains only the even numbers.</p>\n",
    "    </div>\n",
    "    <div class=\"card orange\" id=\"toc6_3_\">\n",
    "      <h3>Exercise 3: List Membership Testing</h3>\n",
    "      <p>Create a list of your five favorite foods, then write a script that checks if 'pizza' is among your favorites and prints an appropriate message.</p>\n",
    "    </div>\n",
    "    <div class=\"card orange\" id=\"toc6_4_\">\n",
    "      <h3>Exercise 4: Concatenation and Repetition</h3>\n",
    "      <p>Concatenate <code>list_a = [1, 2, 3]</code> and <code>list_b = [4, 5, 6]</code>. Then create a third list that contains three repetitions of the result.</p>\n",
    "    </div>\n",
    "  </div>\n",
    "</div>"
   ]
  }
 ],
 "metadata": {
  "kernelspec": {
   "display_name": "base",
   "language": "python",
   "name": "python3"
  },
  "language_info": {
   "codemirror_mode": {
    "name": "ipython",
    "version": 3
   },
   "file_extension": ".py",
   "mimetype": "text/x-python",
   "name": "python",
   "nbconvert_exporter": "python",
   "pygments_lexer": "ipython3",
   "version": "3.11.5"
  }
 },
 "nbformat": 4,
 "nbformat_minor": 2
}
