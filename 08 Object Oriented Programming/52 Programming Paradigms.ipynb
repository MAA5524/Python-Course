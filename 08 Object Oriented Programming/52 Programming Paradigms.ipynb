{
 "cells": [
  {
   "cell_type": "markdown",
   "metadata": {},
   "source": [
    "<style>*{box-sizing:border-box}.section-card{background:linear-gradient(145deg,rgb(61,61,87),rgb(49,49,70));border-radius:15px;padding:2rem;margin:0 auto 2.5rem;box-shadow:0 8px 20px rgba(0,0,0,0.5);width:100%;max-width:min(1200px,95vw)}.section-card h1{width:100%;text-align:center;color:#ffffff;font-size:2.8rem;margin-bottom:0;font-family:'Poppins',sans-serif;letter-spacing:1px}.container{display:flex;flex-direction:column;gap:1.25rem;align-items:center}.card{background:linear-gradient(145deg,#24243e,#1e1e3a);border-radius:12px;padding:1.5rem;box-shadow:0 6px 16px rgba(0,0,0,0.4);border-left:4px solid transparent;width:min(1000px,90vw);margin:0 auto 1.25rem;transition:transform 0.3s ease,box-shadow 0.3s ease}.card:hover{transform:translateY(-6px);box-shadow:0 10px 20px rgba(0,0,0,0.5)}.container>.card:last-child{margin-bottom:2rem}.card.green{border-left-color:#66bb6a}p,li{color:#dcdcdc;font-size:0.95rem;line-height:1.5;font-family:'Segoe UI',sans-serif}p{margin-bottom:0.75rem}ul,ol{padding-left:1.25rem;margin-bottom:0.75rem}li{margin-bottom:0.5rem}@media (max-width:768px){.section-card{padding:1.25rem}.section-card h1{font-size:2rem}.card{width:100%;padding:1rem;margin:0 auto 1rem}.container>.card:last-child{margin-bottom:1.5rem}p,li{font-size:0.9rem}}</style>\n",
    "<div class=\"section-card\">\n",
    "  <h1>Introduction to Programming Paradigms</h1>\n",
    "</div>\n",
    "<div class=\"section-card\">\n",
    "  <div class=\"container\">\n",
    "    <div class=\"card green\">\n",
    "      <p>Programming paradigms are foundational frameworks that shape how we structure and write code, guiding problem-solving approaches. Common paradigms include Imperative, Declarative, Object-Oriented, Functional, Procedural, and Logic programming.</p>\n",
    "      <p>Understanding paradigms enhances problem-solving, improves code quality, fosters better communication, increases adaptability, and boosts job opportunities by demonstrating versatility in programming.</p>\n",
    "    </div>\n",
    "  </div>\n",
    "</div>"
   ]
  },
  {
   "cell_type": "markdown",
   "metadata": {},
   "source": [
    "<style>*{box-sizing:border-box}.section-card{background:linear-gradient(145deg,rgb(61,61,87),rgb(49,49,70));border-radius:15px;padding:2rem;margin:0 auto 2.5rem;box-shadow:0 8px 20px rgba(0,0,0,0.5);width:100%;max-width:min(1200px,95vw)}.section-card h2{text-align:center;color:#ffffff;font-size:1.8rem;margin-bottom:1.5rem;font-family:'Poppins',sans-serif;letter-spacing:1px}.container{display:flex;flex-direction:column;gap:1.25rem;align-items:center}.card{background:linear-gradient(145deg,#24243e,#1e1e3a);border-radius:12px;padding:1.5rem;box-shadow:0 6px 16px rgba(0,0,0,0.4);border-left:4px solid transparent;width:min(1000px,90vw);margin:0 auto 1.25rem;transition:transform 0.3s ease,box-shadow 0.3s ease}.card:hover{transform:translateY(-6px);box-shadow:0 10px 20px rgba(0,0,0,0.5)}.container>.card:last-child{margin-bottom:2rem}.card.blue{border-left-color:#29b6f6}li,p{color:#dcdcdc;font-size:0.95rem;line-height:1.5;font-family:'Segoe UI',sans-serif}p{margin-bottom:0.75rem}.toc-card ul{list-style-type:none;padding-left:0;margin-bottom:0}.toc-card a{color:#29b6f6;text-decoration:none}.toc-card ul ul{padding-left:1.5rem;margin-top:0.5rem}@media (max-width:768px){.section-card{padding:1.25rem}.card{width:100%;padding:1rem;margin:0 auto 1rem}.container>.card:last-child{margin-bottom:1.5rem}.section-card h2{font-size:1.4rem}p,li{font-size:0.9rem}}</style>\n",
    "<div class=\"section-card\" id=\"toc0_\">\n",
    "  <h2>Table of contents</h2>\n",
    "  <div class=\"container\">\n",
    "    <div class=\"card blue toc-card\">\n",
    "      <ul>\n",
    "        <li><a href=\"#toc1_\">Programming Paradigm Overview</a>\n",
    "          <ul>\n",
    "            <li><a href=\"#toc1_1_\">What is a Programming Paradigm?</a></li>\n",
    "            <li><a href=\"#toc1_2_\">What a Programming Paradigm is Not</a></li>\n",
    "          </ul>\n",
    "        </li>\n",
    "        <li><a href=\"#toc2_\">Imperative Programming Paradigm</a>\n",
    "          <ul>\n",
    "            <li><a href=\"#toc2_1_\">Procedural Programming</a></li>\n",
    "            <li><a href=\"#toc2_2_\">Object-Oriented Programming (OOP)</a></li>\n",
    "          </ul>\n",
    "        </li>\n",
    "        <li><a href=\"#toc3_\">Declarative Programming Paradigm</a>\n",
    "          <ul>\n",
    "            <li><a href=\"#toc3_1_\">Functional Programming</a></li>\n",
    "            <li><a href=\"#toc3_2_\">Logic Programming</a></li>\n",
    "            <li><a href=\"#toc3_3_\">Database Querying</a></li>\n",
    "          </ul>\n",
    "        </li>\n",
    "        <li><a href=\"#toc4_\">Comparing Programming Paradigms</a>\n",
    "          <ul>\n",
    "            <li><a href=\"#toc4_1_\">Imperative Programming</a></li>\n",
    "            <li><a href=\"#toc4_2_\">Declarative Programming</a></li>\n",
    "            <li><a href=\"#toc4_3_\">Guidelines on Choosing the Appropriate Paradigm</a></li>\n",
    "          </ul>\n",
    "        </li>\n",
    "        <li><a href=\"#toc5_\">Conclusion</a></li>\n",
    "      </ul>\n",
    "    </div>\n",
    "  </div>\n",
    "</div>"
   ]
  },
  {
   "cell_type": "markdown",
   "metadata": {},
   "source": [
    "<style>*{box-sizing:border-box}.section-card{background:linear-gradient(145deg,rgb(61,61,87),rgb(49,49,70));border-radius:15px;padding:2rem;margin:0 auto 2.5rem;box-shadow:0 8px 20px rgba(0,0,0,0.5);width:100%;max-width:min(1200px,95vw)}.section-card h2,.card h3{color:#ffffff;font-family:'Poppins',sans-serif;letter-spacing:1px}.section-card h2{text-align:center;font-size:1.8rem;margin-bottom:1.5rem}.card h3{font-size:1.3rem;margin-bottom:0.75rem;font-weight:bold}.container{display:flex;flex-direction:column;gap:1.25rem;align-items:center}.card{background:linear-gradient(145deg,#24243e,#1e1e3a);border-radius:12px;padding:1.5rem;box-shadow:0 6px 16px rgba(0,0,0,0.4);border-left:4px solid transparent;width:min(1000px,90vw);margin:0 auto 1.25rem;transition:transform 0.3s ease,box-shadow 0.3s ease}.card:hover{transform:translateY(-6px);box-shadow:0 10px 20px rgba(0,0,0,0.5)}.container>.card:last-child{margin-bottom:2rem}.card.yellow{border-left-color:#fbc02d}p,li{color:#dcdcdc;font-size:0.95rem;line-height:1.5;font-family:'Segoe UI',sans-serif}p{margin-bottom:0.75rem}ul,ol{padding-left:1.25rem;margin-bottom:0.75rem}li{margin-bottom:0.5rem}img{display:block;max-width:50vw;height:auto;margin:0 auto;border-radius:10px}@media (max-width:768px){.section-card{padding:1.25rem}.card{width:100%;padding:1rem;margin:0 auto 1rem}.container>.card:last-child{margin-bottom:1.5rem}.section-card h2{font-size:1.4rem}.card h3{font-size:1.2rem}p,li{font-size:0.9rem}}</style>\n",
    "<div class=\"section-card\" id=\"toc1_\">\n",
    "  <h2>Programming Paradigm Overview</h2>\n",
    "  <div class=\"container\">\n",
    "    <div class=\"card yellow\">\n",
    "       <p>Programming paradigms provide structured approaches to coding, shaping how programmers solve problems and manage data.</p>\n",
    "    </div>\n",
    "  </div>\n",
    "</div>"
   ]
  },
  {
   "cell_type": "markdown",
   "metadata": {},
   "source": [
    "<style>*{box-sizing:border-box}.section-card{background:linear-gradient(145deg,rgb(61,61,87),rgb(49,49,70));border-radius:15px;padding:2rem;margin:0 auto 2.5rem;box-shadow:0 8px 20px rgba(0,0,0,0.5);width:100%;max-width:min(1200px,95vw)}.card h3{color:#ffffff;font-family:'Poppins',sans-serif;letter-spacing:1px;font-size:1.3rem;margin-bottom:0.75rem;font-weight:bold}.container{display:flex;flex-direction:column;gap:1.25rem;align-items:center}.card{background:linear-gradient(145deg,#24243e,#1e1e3a);border-radius:12px;padding:1.5rem;box-shadow:0 6px 16px rgba(0,0,0,0.4);border-left:4px solid transparent;width:min(1000px,90vw);margin:0 auto 1.25rem;transition:transform 0.3s ease,box-shadow 0.3s ease}.card:hover{transform:translateY(-6px);box-shadow:0 10px 20px rgba(0,0,0,0.5)}.container>.card:last-child{margin-bottom:2rem}.card.yellow{border-left-color:#fbc02d}p,li{color:#dcdcdc;font-size:0.95rem;line-height:1.5;font-family:'Segoe UI',sans-serif}p{margin-bottom:0.75rem}ul,ol{padding-left:1.25rem;margin-bottom:0.75rem}li{margin-bottom:0.5rem}img{display:block;max-width:50vw;height:auto;margin:0 auto;border-radius:10px}@media (max-width:768px){.section-card{padding:1.25rem}.card{width:100%;padding:1rem;margin:0 auto 1rem}.container>.card:last-child{margin-bottom:1.5rem}.card h3{font-size:1.2rem}p,li{font-size:0.9rem}}</style>\n",
    "<div class=\"section-card\" id=\"toc1_1_\">\n",
    "  <div class=\"container\">\n",
    "    <div class=\"card yellow\">\n",
    "      <h3>What is a Programming Paradigm?</h3>\n",
    "      <p>Programming paradigms are like different recipe books — each offers unique tools and methods suited for specific types of problems.</p>\n",
    "      <p>They guide how you structure code, approach problem-solving, and work efficiently. Multiple paradigms exist because different tasks demand different styles. just like genres in music or literature and evolve as technology advances and preferences change.</p>\n",
    "      <p>Paradigms fall into two main categories: <strong>imperative</strong> and <strong>declarative</strong>, each containing sub-paradigms with distinct problem-solving approaches, explored in detail next.</p>\n",
    "      <img src=\"../images/programming-paradigms.jpg\" alt=\"Programming Paradigm Overview\" />\n",
    "    </div>\n",
    "  </div>\n",
    "</div>"
   ]
  },
  {
   "cell_type": "markdown",
   "metadata": {},
   "source": [
    "<style>*{box-sizing:border-box}.section-card{background:linear-gradient(145deg,rgb(61,61,87),rgb(49,49,70));border-radius:15px;padding:2rem;margin:0 auto 2.5rem;box-shadow:0 8px 20px rgba(0,0,0,0.5);width:100%;max-width:min(1200px,95vw)}.card h3{color:#ffffff;font-family:'Poppins',sans-serif;letter-spacing:1px;font-size:1.3rem;margin-bottom:0.75rem;font-weight:bold}.container{display:flex;flex-direction:column;gap:1.25rem;align-items:center}.card{background:linear-gradient(145deg,#24243e,#1e1e3a);border-radius:12px;padding:1.5rem;box-shadow:0 6px 16px rgba(0,0,0,0.4);border-left:4px solid transparent;width:min(1000px,90vw);margin:0 auto 1.25rem;transition:transform 0.3s ease,box-shadow 0.3s ease}.card:hover{transform:translateY(-6px);box-shadow:0 10px 20px rgba(0,0,0,0.5)}.container>.card:last-child{margin-bottom:2rem}.card.yellow{border-left-color:#fbc02d}p,li{color:#dcdcdc;font-size:0.95rem;line-height:1.5;font-family:'Segoe UI',sans-serif}p{margin-bottom:0.75rem}ul,ol{padding-left:1.25rem;margin-bottom:0.75rem}li{margin-bottom:0.5rem}@media (max-width:768px){.section-card{padding:1.25rem}.card{width:100%;padding:1rem;margin:0 auto 1rem}.container>.card:last-child{margin-bottom:1.5rem}.card h3{font-size:1.2rem}p,li{font-size:0.9rem}}</style>\n",
    "<div class=\"section-card\" id=\"toc1_2_\">\n",
    "  <div class=\"container\">\n",
    "    <div class=\"card yellow\">\n",
    "      <h3>What a Programming Paradigm is Not</h3>\n",
    "      <p>A programming paradigm is not a language or tool. it’s a guiding mindset or set of principles that shapes how you design and structure code.</p>\n",
    "<p>While some languages align closely with specific paradigms (e.g., Haskell with functional programming), like Python and JavaScript, support multiple paradigms, allowing flexible, hybrid approaches within the same program.</p>\n",
    "<p>You’re not locked into one paradigm; combining ideas from different paradigms often leads to more effective solutions.</p>\n",
    "<p>Paradigms offer diverse strategies for problem-solving. Not as physical tools, but as conceptual frameworks that help you think clearly and choose the right approach for each task.</p>\n",
    "    </div>\n",
    "  </div>\n",
    "</div>"
   ]
  },
  {
   "cell_type": "markdown",
   "metadata": {},
   "source": [
    "<style>*{box-sizing:border-box}.section-card{background:linear-gradient(145deg,rgb(61,61,87),rgb(49,49,70));border-radius:15px;padding:2rem;margin:0 auto 2.5rem;box-shadow:0 8px 20px rgba(0,0,0,0.5);width:100%;max-width:min(1200px,95vw)}.section-card h2,.card h3{color:#ffffff;font-family:'Poppins',sans-serif;letter-spacing:1px}.section-card h2{text-align:center;font-size:1.8rem;margin-bottom:1.5rem}.card h3{font-size:1.3rem;margin-bottom:0.75rem;font-weight:bold}.container{display:flex;flex-direction:column;gap:1.25rem;align-items:center}.card{background:linear-gradient(145deg,#24243e,#1e1e3a);border-radius:12px;padding:1.5rem;box-shadow:0 6px 16px rgba(0,0,0,0.4);border-left:4px solid transparent;width:min(1000px,90vw);margin:0 auto 1.25rem;transition:transform 0.3s ease,box-shadow 0.3s ease}.card:hover{transform:translateY(-6px);box-shadow:0 10px 20px rgba(0,0,0,0.5)}.container>.card:last-child{margin-bottom:2rem}.card.red{border-left-color:#ef5350}p,li{color:#dcdcdc;font-size:0.95rem;line-height:1.5;font-family:'Segoe UI',sans-serif}p{margin-bottom:0.75rem}ul,ol{padding-left:1.25rem;margin-bottom:0.75rem}li{margin-bottom:0.5rem}img { display: block; max-width: 50vw; height: auto; margin: 0 auto; border-radius: 10px; }@media (max-width:768px){.section-card{padding:1.25rem}.card{width:100%;padding:1rem;margin:0 auto 1rem}.container>.card:last-child{margin-bottom:1.5rem}.section-card h2{font-size:1.4rem}.card h3{font-size:1.2rem}p,li{font-size:0.9rem}}</style>\n",
    "<div class=\"section-card\" id=\"toc2_\">\n",
    "  <h2>Imperative Programming Paradigm</h2>\n",
    "  <div class=\"container\">\n",
    "    <div class=\"card red\">\n",
    "      <p>The Imperative Programming Paradigm gives the computer explicit, step-by-step directions — like following a recipe. It focuses on how to achieve a result by changing program state with assignments and controlling flow using loops and conditionals.</p>\n",
    "<p>It defines the exact sequence of actions for the machine to execute. In contrast, declarative paradigms specify what the desired outcome is, leaving the implementation details to the system.</p>\n",
    "      <img src=\"../images/how-what.webp\" alt=\"Imperative Programming Paradigm\" />\n",
    "    </div>\n",
    "  </div>\n",
    "</div>"
   ]
  },
  {
   "cell_type": "markdown",
   "metadata": {},
   "source": [
    "<style>*{box-sizing:border-box}.section-card{background:linear-gradient(145deg,rgb(61,61,87),rgb(49,49,70));border-radius:15px;padding:2rem;margin:0 auto 2.5rem;box-shadow:0 8px 20px rgba(0,0,0,0.5);width:100%;max-width:min(1200px,95vw)}.card h3{color:#ffffff;font-family:'Poppins',sans-serif;letter-spacing:1px;font-size:1.3rem;margin-bottom:0.75rem;font-weight:bold}.container{display:flex;flex-direction:column;gap:1.25rem;align-items:center}.card{background:linear-gradient(145deg,#24243e,#1e1e3a);border-radius:12px;padding:1.5rem;box-shadow:0 6px 16px rgba(0,0,0,0.4);border-left:4px solid transparent;width:min(1000px,90vw);margin:0 auto 1.25rem;transition:transform 0.3s ease,box-shadow 0.3s ease}.card:hover{transform:translateY(-6px);box-shadow:0 10px 20px rgba(0,0,0,0.5)}.container>.card:last-child{margin-bottom:2rem}.card.red{border-left-color:#ef5350}p,li{color:#dcdcdc;font-size:0.95rem;line-height:1.5;font-family:'Segoe UI',sans-serif}p{margin-bottom:0.75rem}ul,ol{padding-left:1.25rem;margin-bottom:0.75rem}li{margin-bottom:0.5rem}@media (max-width:768px){.section-card{padding:1.25rem}.card{width:100%;padding:1rem;margin:0 auto 1rem}.container>.card:last-child{margin-bottom:1.5rem}.card h3{font-size:1.2rem}p,li{font-size:0.9rem}}</style>\n",
    "<div class=\"section-card\" id=\"toc2_1_\">\n",
    "  <div class=\"container\">\n",
    "    <div class=\"card red\">\n",
    "      <h3>Procedural Programming</h3>\n",
    "      <strong>key Characteristics:</strong>\n",
    "      <ul>\n",
    "        <li><strong>Sequence of Instructions</strong>: Tasks are broken into clear, ordered steps or procedures (functions).</li>\n",
    "        <li><strong>Modularity</strong>: Code is organized into reusable functions, improving readability and maintainability.</li>\n",
    "        <li><strong>Local Variable Scope</strong>: Variables declared inside functions have limited scope, reducing unintended side effects.</li>\n",
    "      </ul>\n",
    "    </div>\n",
    "  </div>\n",
    "</div>"
   ]
  },
  {
   "cell_type": "code",
   "execution_count": null,
   "metadata": {},
   "outputs": [],
   "source": [
    "def sum_of_evens(numbers):\n",
    "    total = 0\n",
    "    for num in numbers:\n",
    "        if num % 2 == 0:\n",
    "            total += num\n",
    "    return total"
   ]
  },
  {
   "cell_type": "code",
   "execution_count": null,
   "metadata": {},
   "outputs": [
    {
     "data": {
      "text/plain": [
       "12"
      ]
     },
     "metadata": {},
     "output_type": "display_data"
    }
   ],
   "source": [
    "numbers = [1, 2, 3, 4, 5, 6]\n",
    "result = sum_of_evens(numbers)\n",
    "result\n"
   ]
  },
  {
   "cell_type": "markdown",
   "metadata": {},
   "source": [
    "<style>*{box-sizing:border-box}.section-card{background:linear-gradient(145deg,rgb(61,61,87),rgb(49,49,70));border-radius:15px;padding:2rem;margin:0 auto 2.5rem;box-shadow:0 8px 20px rgba(0,0,0,0.5);width:100%;max-width:min(1200px,95vw)}.card h3{color:#ffffff;font-family:'Poppins',sans-serif;letter-spacing:1px;font-size:1.3rem;margin-bottom:0.75rem;font-weight:bold}.container{display:flex;flex-direction:column;gap:1.25rem;align-items:center}.card{background:linear-gradient(145deg,#24243e,#1e1e3a);border-radius:12px;padding:1.5rem;box-shadow:0 6px 16px rgba(0,0,0,0.4);border-left:4px solid transparent;width:min(1000px,90vw);margin:0 auto 1.25rem;transition:transform 0.3s ease,box-shadow 0.3s ease}.note{background-color: #fdd835;color: #000;padding: 1rem;border-radius: 6px;margin-top: 1.25rem;font-style: italic;font-size: 0.95rem;font-family: 'Segoe UI', sans-serif;width: min(900px, 90vw);margin: 1.25rem auto 0;}.card:hover{transform:translateY(-6px);box-shadow:0 10px 20px rgba(0,0,0,0.5)}.container>.card:last-child{margin-bottom:2rem}.card.red{border-left-color:#ef5350}code{color:white;background-color:#000;font-size:0.95rem;line-height:1.5;font-family:'Segoe UI',sans-serif} p,li{color:#000;font-size:0.95rem;line-height:1.5;font-family:'Segoe UI',sans-serif}p{margin-bottom:0.75rem}ul,ol{padding-left:1.25rem;margin-bottom:0.75rem}li{margin-bottom:0.5rem}@media (max-width:768px){.section-card{padding:1.25rem}.card{width:100%;padding:1rem;margin:0 auto 1rem}.container>.card:last-child{margin-bottom:1.5rem}.card h3{font-size:1.2rem}p,li{font-size:0.9rem}.container > .note:last-child { margin-bottom: 1.5rem; } .section-card h2 { font-size: 1.4rem; } p { font-size: 0.9rem; } .note { width: 100%; }}</style>\n",
    "<div class=\"section-card\" id=\"toc2_2_\">\n",
    "  <div class=\"container\">\n",
    "    <div class=\"note\">\n",
    "      <p>In programming, “function” and “procedure” are related but context-dependent terms.</p>\n",
    "\n",
    "<ul>\n",
    "  <li><strong>Function</strong>: A block of code that takes input, performs operations, and returns a value. Emphasis is on producing output.</li>\n",
    "  <li><strong>Procedure</strong>: A block of code that performs actions or side effects; like printing, modifying data, or updating state, without returning a value.</li>\n",
    "</ul>\n",
    "\n",
    "<p>In languages like Pascal, the distinction is syntactic: <code>function</code> returns a value, <code>procedure</code> does not. In C, Python, Java, or C#, the term “function” (or “method”) covers both — with <code>void</code> indicating no return, similar to a procedure.</p>\n",
    "\n",
    "<p>Even without syntactic distinction, developers may still refer to a “procedure” when describing a function used primarily for side effects.</p>\n",
    "\n",
    "<p>In essence: functions focus on returning values; procedures focus on performing actions.</p>\n",
    "    </div>\n",
    "  </div>\n",
    "</div>"
   ]
  },
  {
   "cell_type": "markdown",
   "metadata": {},
   "source": [
    "<style>*{box-sizing:border-box}.section-card{background:linear-gradient(145deg,rgb(61,61,87),rgb(49,49,70));border-radius:15px;padding:2rem;margin:0 auto 2.5rem;box-shadow:0 8px 20px rgba(0,0,0,0.5);width:100%;max-width:min(1200px,95vw)}.card h3{color:#ffffff;font-family:'Poppins',sans-serif;letter-spacing:1px;font-size:1.3rem;margin-bottom:0.75rem;font-weight:bold}.container{display:flex;flex-direction:column;gap:1.25rem;align-items:center}.card{background:linear-gradient(145deg,#24243e,#1e1e3a);border-radius:12px;padding:1.5rem;box-shadow:0 6px 16px rgba(0,0,0,0.4);border-left:4px solid transparent;width:min(1000px,90vw);margin:0 auto 1.25rem;transition:transform 0.3s ease,box-shadow 0.3s ease}.card:hover{transform:translateY(-6px);box-shadow:0 10px 20px rgba(0,0,0,0.5)}.container>.card:last-child{margin-bottom:2rem}.card.red{border-left-color:#ef5350}p,li{color:#dcdcdc;font-size:0.95rem;line-height:1.5;font-family:'Segoe UI',sans-serif}p{margin-bottom:0.75rem}ul,ol{padding-left:1.25rem;margin-bottom:0.75rem}li{margin-bottom:0.5rem}@media (max-width:768px){.section-card{padding:1.25rem}.card{width:100%;padding:1rem;margin:0 auto 1rem}.container>.card:last-child{margin-bottom:1.5rem}.card h3{font-size:1.2rem}p,li{font-size:0.9rem}}</style>\n",
    "<div class=\"section-card\" id=\"toc2_2_\">\n",
    "  <div class=\"container\">\n",
    "    <div class=\"card red\">\n",
    "      <h3>Object-Oriented Programming (OOP)</h3>\n",
    "      <strong>Key Characteristics:</strong>\n",
    "      <ul>\n",
    "  <li><strong>Encapsulation</strong>: Combines data and methods that work on that data into a single unit, or class.</li>\n",
    "  <li><strong>Inheritance</strong>: Creates new classes based on existing ones, inheriting their attributes and methods to reuse code and reduce redundancy.</li>\n",
    "  <li><strong>Polymorphism</strong>: Allows different data types to share the same interface, enabling consistent interaction despite internal differences.</li>\n",
    "</ul>\n",
    "    </div>\n",
    "  </div>\n",
    "</div>"
   ]
  },
  {
   "cell_type": "code",
   "execution_count": null,
   "metadata": {},
   "outputs": [],
   "source": [
    "class Circle:\n",
    "    pi = 3.14159\n",
    "\n",
    "    def __init__(self, radius):\n",
    "        self.radius = radius\n",
    "\n",
    "    def calculate_area(self):\n",
    "        return self.pi * (self.radius ** 2)"
   ]
  },
  {
   "cell_type": "code",
   "execution_count": null,
   "metadata": {},
   "outputs": [
    {
     "name": "stdout",
     "output_type": "stream",
     "text": [
      "The area of circle1 with radius 5 is 78.53975.\n",
      "The area of circle2 with radius 10 is 314.159.\n"
     ]
    }
   ],
   "source": [
    "circle1 = Circle(5)\n",
    "circle2 = Circle(10)\n",
    "\n",
    "print(f\"The area of circle1 with radius {circle1.radius} is {circle1.calculate_area()}.\")\n",
    "print(f\"The area of circle2 with radius {circle2.radius} is {circle2.calculate_area()}.\")"
   ]
  },
  {
   "cell_type": "markdown",
   "metadata": {},
   "source": [
    "<style>*{box-sizing:border-box}.section-card{background:linear-gradient(145deg,rgb(61,61,87),rgb(49,49,70));border-radius:15px;padding:2rem;margin:0 auto 2.5rem;box-shadow:0 8px 20px rgba(0,0,0,0.5);width:100%;max-width:min(1200px,95vw)}.section-card h2,.card h3{color:#ffffff;font-family:'Poppins',sans-serif;letter-spacing:1px}.section-card h2{text-align:center;font-size:1.8rem;margin-bottom:1.5rem}.card h3{font-size:1.3rem;margin-bottom:0.75rem;font-weight:bold}.container{display:flex;flex-direction:column;gap:1.25rem;align-items:center}.card{background:linear-gradient(145deg,#24243e,#1e1e3a);border-radius:12px;padding:1.5rem;box-shadow:0 6px 16px rgba(0,0,0,0.4);border-left:4px solid transparent;width:min(1000px,90vw);margin:0 auto 1.25rem;transition:transform 0.3s ease,box-shadow 0.3s ease}.card:hover{transform:translateY(-6px);box-shadow:0 10px 20px rgba(0,0,0,0.5)}.container>.card:last-child{margin-bottom:2rem}.card.orange{border-left-color:#ffa726}p,li{color:#dcdcdc;font-size:0.95rem;line-height:1.5;font-family:'Segoe UI',sans-serif}p{margin-bottom:0.75rem}ul,ol{padding-left:1.25rem;margin-bottom:0.75rem}li{margin-bottom:0.5rem}img { display: block; max-width: 50vw; height: auto; margin: 0 auto; border-radius: 10px; }@media (max-width:768px){.section-card{padding:1.25rem}.card{width:100%;padding:1rem;margin:0 auto 1rem}.container>.card:last-child{margin-bottom:1.5rem}.section-card h2{font-size:1.4rem}.card h3{font-size:1.2rem}p,li{font-size:0.9rem}}</style>\n",
    "<div class=\"section-card\" id=\"toc3_\">\n",
    "  <h2>Declarative Programming Paradigm</h2>\n",
    "  <div class=\"container\">\n",
    "    <div class=\"card orange\">\n",
    "      <p>Declarative programming focuses on specifying what the program should achieve, not how, simplifying code for tasks like data manipulation.</p>\n",
    "      <img src=\"../images/imperative-declarative.gif\">\n",
    "    </div>\n",
    "  </div>\n",
    "</div>"
   ]
  },
  {
   "cell_type": "markdown",
   "metadata": {},
   "source": [
    "<style>*{box-sizing:border-box}.section-card{background:linear-gradient(145deg,rgb(61,61,87),rgb(49,49,70));border-radius:15px;padding:2rem;margin:0 auto 2.5rem;box-shadow:0 8px 20px rgba(0,0,0,0.5);width:100%;max-width:min(1200px,95vw)}.card h3{color:#ffffff;font-family:'Poppins',sans-serif;letter-spacing:1px;font-size:1.3rem;margin-bottom:0.75rem;font-weight:bold}.container{display:flex;flex-direction:column;gap:1.25rem;align-items:center}.card{background:linear-gradient(145deg,#24243e,#1e1e3a);border-radius:12px;padding:1.5rem;box-shadow:0 6px 16px rgba(0,0,0,0.4);border-left:4px solid transparent;width:min(1000px,90vw);margin:0 auto 1.25rem;transition:transform 0.3s ease,box-shadow 0.3s ease}.card:hover{transform:translateY(-6px);box-shadow:0 10px 20px rgba(0,0,0,0.5)}.container>.card:last-child{margin-bottom:2rem}.card.orange{border-left-color:#ffa726}p,li{color:#dcdcdc;font-size:0.95rem;line-height:1.5;font-family:'Segoe UI',sans-serif}p{margin-bottom:0.75rem}ul,ol{padding-left:1.25rem;margin-bottom:0.75rem}li{margin-bottom:0.5rem}@media (max-width:768px){.section-card{padding:1.25rem}.card{width:100%;padding:1rem;margin:0 auto 1rem}.container>.card:last-child{margin-bottom:1.5rem}.card h3{font-size:1.2rem}p,li{font-size:0.9rem}}</style>\n",
    "<div class=\"section-card\" id=\"toc3_1_\">\n",
    "  <div class=\"container\">\n",
    "    <div class=\"card orange\">\n",
    "      <h3>Functional Programming</h3>\n",
    "      <p>Functional programming emphasizes pure functions and immutability, enhancing predictability and concurrency support.</p>\n",
    "    </div>\n",
    "  </div>\n",
    "</div>"
   ]
  },
  {
   "cell_type": "code",
   "execution_count": null,
   "metadata": {},
   "outputs": [
    {
     "data": {
      "text/plain": [
       "12"
      ]
     },
     "metadata": {},
     "output_type": "display_data"
    }
   ],
   "source": [
    "numbers = [1, 2, 3, 4, 5, 6]\n",
    "result = sum(filter(lambda x: x % 2 == 0, numbers))\n",
    "result"
   ]
  },
  {
   "cell_type": "markdown",
   "metadata": {},
   "source": [
    "<style>*{box-sizing:border-box}.section-card{background:linear-gradient(145deg,rgb(61,61,87),rgb(49,49,70));border-radius:15px;padding:2rem;margin:0 auto 2.5rem;box-shadow:0 8px 20px rgba(0,0,0,0.5);width:100%;max-width:min(1200px,95vw)}.card h3{color:#ffffff;font-family:'Poppins',sans-serif;letter-spacing:1px;font-size:1.3rem;margin-bottom:0.75rem;font-weight:bold}.container{display:flex;flex-direction:column;gap:1.25rem;align-items:center}.card{background:linear-gradient(145deg,#24243e,#1e1e3a);border-radius:12px;padding:1.5rem;box-shadow:0 6px 16px rgba(0,0,0,0.4);border-left:4px solid transparent;width:min(1000px,90vw);margin:0 auto 1.25rem;transition:transform 0.3s ease,box-shadow 0.3s ease}.card:hover{transform:translateY(-6px);box-shadow:0 10px 20px rgba(0,0,0,0.5)}.container>.card:last-child{margin-bottom:2rem}.card.orange{border-left-color:#ffa726}p,li{color:#dcdcdc;font-size:0.95rem;line-height:1.5;font-family:'Segoe UI',sans-serif}p{margin-bottom:0.75rem}ul,ol{padding-left:1.25rem;margin-bottom:0.75rem}li{margin-bottom:0.5rem}@media (max-width:768px){.section-card{padding:1.25rem}.card{width:100%;padding:1rem;margin:0 auto 1rem}.container>.card:last-child{margin-bottom:1.5rem}.card h3{font-size:1.2rem}p,li{font-size:0.9rem}}</style>\n",
    "<div class=\"section-card\" id=\"toc3_2_\">\n",
    "  <div class=\"container\">\n",
    "    <div class=\"card orange\">\n",
    "      <h3>Logic Programming</h3>\n",
    "      <p>Logic programming uses rules and facts to derive solutions, ideal for tasks like knowledge representation and reasoning.</p>\n",
    "    </div>\n",
    "  </div>\n",
    "</div>"
   ]
  },
  {
   "cell_type": "markdown",
   "metadata": {},
   "source": [
    "<style>*{box-sizing:border-box}.section-card{background:linear-gradient(145deg,rgb(61,61,87),rgb(49,49,70));border-radius:15px;padding:2rem;margin:0 auto 2.5rem;box-shadow:0 8px 20px rgba(0,0,0,0.5);width:100%;max-width:min(1200px,95vw)}.card h3{color:#ffffff;font-family:'Poppins',sans-serif;letter-spacing:1px;font-size:1.3rem;margin-bottom:0.75rem;font-weight:bold}.container{display:flex;flex-direction:column;gap:1.25rem;align-items:center}.card{background:linear-gradient(145deg,#24243e,#1e1e3a);border-radius:12px;padding:1.5rem;box-shadow:0 6px 16px rgba(0,0,0,0.4);border-left:4px solid transparent;width:min(1000px,90vw);margin:0 auto 1.25rem;transition:transform 0.3s ease,box-shadow 0.3s ease}.card:hover{transform:translateY(-6px);box-shadow:0 10px 20px rgba(0,0,0,0.5)}.container>.card:last-child{margin-bottom:2rem}.card.orange{border-left-color:#ffa726}p,li{color:#dcdcdc;font-size:0.95rem;line-height:1.5;font-family:'Segoe UI',sans-serif}p{margin-bottom:0.75rem}ul,ol{padding-left:1.25rem;margin-bottom:0.75rem}li{margin-bottom:0.5rem}img { display: block; max-width: 50vw; height: auto; margin: 0 auto; border-radius: 10px; }@media (max-width:768px){.section-card{padding:1.25rem}.card{width:100%;padding:1rem;margin:0 auto 1rem}.container>.card:last-child{margin-bottom:1.5rem}.card h3{font-size:1.2rem}p,li{font-size:0.9rem}}</style>\n",
    "<div class=\"section-card\" id=\"toc3_3_\">\n",
    "  <div class=\"container\">\n",
    "    <div class=\"card orange\">\n",
    "      <h3>Database Querying</h3>\n",
    "      <p>Declarative database querying, like SQL, specifies desired data without detailing retrieval steps, simplifying data manipulation.</p>\n",
    "      <img src=\"../images/sql-query.png\">\n",
    "    </div>\n",
    "  </div>\n",
    "</div>"
   ]
  },
  {
   "cell_type": "markdown",
   "metadata": {},
   "source": [
    "<style>*{box-sizing:border-box}.section-card{background:linear-gradient(145deg,rgb(61,61,87),rgb(49,49,70));border-radius:15px;padding:2rem;margin:0 auto 2.5rem;box-shadow:0 8px 20px rgba(0,0,0,0.5);width:100%;max-width:min(1200px,95vw)}.section-card h2,.card h3{color:#ffffff;font-family:'Poppins',sans-serif;letter-spacing:1px}.section-card h2{text-align:center;font-size:1.8rem;margin-bottom:1.5rem}.card h3{font-size:1.3rem;margin-bottom:0.75rem;font-weight:bold}.container{display:flex;flex-direction:column;gap:1.25rem;align-items:center}.card{background:linear-gradient(145deg,#24243e,#1e1e3a);border-radius:12px;padding:1.5rem;box-shadow:0 6px 16px rgba(0,0,0,0.4);border-left:4px solid transparent;width:min(1000px,90vw);margin:0 auto 1.25rem;transition:transform 0.3s ease,box-shadow 0.3s ease}.card:hover{transform:translateY(-6px);box-shadow:0 10px 20px rgba(0,0,0,0.5)}.container>.card:last-child{margin-bottom:2rem}.card.purple{border-left-color:#ba68c8}p,li{color:#dcdcdc;font-size:0.95rem;line-height:1.5;font-family:'Segoe UI',sans-serif}p{margin-bottom:0.75rem}ul,ol{padding-left:1.25rem;margin-bottom:0.75rem}li{margin-bottom:0.5rem}@media (max-width:768px){.section-card{padding:1.25rem}.card{width:100%;padding:1rem;margin:0 auto 1rem}.container>.card:last-child{margin-bottom:1.5rem}.section-card h2{font-size:1.4rem}.card h3{font-size:1.2rem}p,li{font-size:0.9rem}}</style>\n",
    "<div class=\"section-card\" id=\"toc4_\">\n",
    "  <h2>Comparing Programming Paradigms</h2>\n",
    "  <div class=\"container\">\n",
    "    <div class=\"card purple\">\n",
    "      <p>Comparing paradigms helps identify their strengths and weaknesses, guiding the choice for specific project needs.</p>\n",
    "    </div>\n",
    "  </div>\n",
    "</div>"
   ]
  },
  {
   "cell_type": "markdown",
   "metadata": {},
   "source": [
    "<style>*{box-sizing:border-box}.section-card{background:linear-gradient(145deg,rgb(61,61,87),rgb(49,49,70));border-radius:15px;padding:2rem;margin:0 auto 2.5rem;box-shadow:0 8px 20px rgba(0,0,0,0.5);width:100%;max-width:min(1200px,95vw)}.card h3{color:#ffffff;font-family:'Poppins',sans-serif;letter-spacing:1px;font-size:1.3rem;margin-bottom:0.75rem;font-weight:bold}.container{display:flex;flex-direction:column;gap:1.25rem;align-items:center}.card{background:linear-gradient(145deg,#24243e,#1e1e3a);border-radius:12px;padding:1.5rem;box-shadow:0 6px 16px rgba(0,0,0,0.4);border-left:4px solid transparent;width:min(1000px,90vw);margin:0 auto 1.25rem;transition:transform 0.3s ease,box-shadow 0.3s ease}.card:hover{transform:translateY(-6px);box-shadow:0 10px 20px rgba(0,0,0,0.5)}.container>.card:last-child{margin-bottom:2rem}.card.purple{border-left-color:#ba68c8}p,li{color:#dcdcdc;font-size:0.95rem;line-height:1.5;font-family:'Segoe UI',sans-serif}p{margin-bottom:0.75rem}ul,ol{padding-left:1.25rem;margin-bottom:0.75rem}li{margin-bottom:0.5rem}img { display: block; max-width: 50vw; height: auto; margin: 0 auto; border-radius: 10px; }@media (max-width:768px){.section-card{padding:1.25rem}.card{width:100%;padding:1rem;margin:0 auto 1rem}.container>.card:last-child{margin-bottom:1.5rem}.card h3{font-size:1.2rem}p,li{font-size:0.9rem}}</style>\n",
    "<div class=\"section-card\" id=\"toc4_1_\">\n",
    "  <div class=\"container\">\n",
    "    <div class=\"card purple\">\n",
    "      <h3>Imperative Programming</h3>\n",
    "      <ul>\n",
    "        <li><strong>Strengths</strong></li>\n",
    "        <ul>\n",
    "          <li><strong>Control</strong>: Full control over state and flow. ideal for low-level or state-sensitive tasks.</li>\n",
    "          <li><strong>Familiarity</strong>: Easy to learn and widely understood.</li>\n",
    "        </ul>\n",
    "        <li><strong>Weaknesses</strong></li>\n",
    "        <ul>\n",
    "          <li><strong>Complexity</strong>: Hard to track state and flow in large systems.</li>\n",
    "          <li><strong>Scalability</strong>: Becomes messy and rigid as codebase grows.</li>\n",
    "        </ul>\n",
    "      </ul>\n",
    "      <img src=\"../images/imperative-paradigm.png\">\n",
    "    </div>\n",
    "  </div>\n",
    "</div>"
   ]
  },
  {
   "cell_type": "markdown",
   "metadata": {},
   "source": [
    "<style>*{box-sizing:border-box}.section-card{background:linear-gradient(145deg,rgb(61,61,87),rgb(49,49,70));border-radius:15px;padding:2rem;margin:0 auto 2.5rem;box-shadow:0 8px 20px rgba(0,0,0,0.5);width:100%;max-width:min(1200px,95vw)}.card h3{color:#ffffff;font-family:'Poppins',sans-serif;letter-spacing:1px;font-size:1.3rem;margin-bottom:0.75rem;font-weight:bold}.container{display:flex;flex-direction:column;gap:1.25rem;align-items:center}.card{background:linear-gradient(145deg,#24243e,#1e1e3a);border-radius:12px;padding:1.5rem;box-shadow:0 6px 16px rgba(0,0,0,0.4);border-left:4px solid transparent;width:min(1000px,90vw);margin:0 auto 1.25rem;transition:transform 0.3s ease,box-shadow 0.3s ease}.card:hover{transform:translateY(-6px);box-shadow:0 10px 20px rgba(0,0,0,0.5)}.container>.card:last-child{margin-bottom:2rem}.card.purple{border-left-color:#ba68c8}p,li{color:#dcdcdc;font-size:0.95rem;line-height:1.5;font-family:'Segoe UI',sans-serif}p{margin-bottom:0.75rem}ul,ol{padding-left:1.25rem;margin-bottom:0.75rem}li{margin-bottom:0.5rem}img { display: block; max-width: 50vw; height: auto; margin: 0 auto; border-radius: 10px; }@media (max-width:768px){.section-card{padding:1.25rem}.card{width:100%;padding:1rem;margin:0 auto 1rem}.container>.card:last-child{margin-bottom:1.5rem}.card h3{font-size:1.2rem}p,li{font-size:0.9rem}}</style>\n",
    "<div class=\"section-card\" id=\"toc4_2_\">\n",
    "  <div class=\"container\">\n",
    "    <div class=\"card purple\">\n",
    "      <h3>Declarative Programming</h3>\n",
    "      <ul>\n",
    "        <li><strong>Strengths</strong></li>\n",
    "        <ul>\n",
    "          <li><strong>Simplicity</strong>: Focuses on what to do. code is shorter and clearer.</li>\n",
    "          <li><strong>Maintainability</strong>: Less control flow detail. easier to update and manage.</li>\n",
    "        </ul>\n",
    "        <li><strong>Weaknesses</strong></li>\n",
    "        <ul>\n",
    "          <li><strong>Performance</strong>: Abstraction may reduce efficiency in performance-sensitive cases.</li>\n",
    "          <li><strong>Learning Curve</strong>: Can feel unfamiliar to those used to imperative styles.</li>\n",
    "        </ul>\n",
    "      </ul>\n",
    "      <img src=\"../images/declarative-paradigm.png\">\n",
    "    </div>\n",
    "  </div>\n",
    "</div>"
   ]
  },
  {
   "cell_type": "markdown",
   "metadata": {},
   "source": [
    "<style>*{box-sizing:border-box}.section-card{background:linear-gradient(145deg,rgb(61,61,87),rgb(49,49,70));border-radius:15px;padding:2rem;margin:0 auto 2.5rem;box-shadow:0 8px 20px rgba(0,0,0,0.5);width:100%;max-width:min(1200px,95vw)}.card h3{color:#ffffff;font-family:'Poppins',sans-serif;letter-spacing:1px;font-size:1.3rem;margin-bottom:0.75rem;font-weight:bold}.container{display:flex;flex-direction:column;gap:1.25rem;align-items:center}.card{background:linear-gradient(145deg,#24243e,#1e1e3a);border-radius:12px;padding:1.5rem;box-shadow:0 6px 16px rgba(0,0,0,0.4);border-left:4px solid transparent;width:min(1000px,90vw);margin:0 auto 1.25rem;transition:transform 0.3s ease,box-shadow 0.3s ease}.card:hover{transform:translateY(-6px);box-shadow:0 10px 20px rgba(0,0,0,0.5)}.container>.card:last-child{margin-bottom:2rem}.card.purple{border-left-color:#ba68c8}p,li{color:#dcdcdc;font-size:0.95rem;line-height:1.5;font-family:'Segoe UI',sans-serif}p{margin-bottom:0.75rem}ul,ol{padding-left:1.25rem;margin-bottom:0.75rem}li{margin-bottom:0.5rem}@media (max-width:768px){.section-card{padding:1.25rem}.card{width:100%;padding:1rem;margin:0 auto 1rem}.container>.card:last-child{margin-bottom:1.5rem}.card h3{font-size:1.2rem}p,li{font-size:0.9rem}}</style>\n",
    "<div class=\"section-card\" id=\"toc4_3_\">\n",
    "  <div class=\"container\">\n",
    "    <div class=\"card purple\">\n",
    "      <h3>Guidelines on Choosing the Appropriate Paradigm</h3>\n",
    "      <ul>\n",
    "  <li><strong>Problem Domain</strong>: Choose based on task. OOP for state-heavy systems, functional for data transformations.</li>\n",
    "  <li><strong>Performance Requirements</strong>: Imperative or OOP may suit performance-critical or resource-sensitive applications.</li>\n",
    "  <li><strong>Team Expertise</strong>: Pick a paradigm your team knows. unfamiliar styles can slow initial progress.</li>\n",
    "  <li><strong>Ecosystem and Language Support</strong>: Match paradigm to language strengths. e.g., Haskell for functional, Python for multi-paradigm flexibility.</li>\n",
    "  <li><strong>Maintainability and Scalability</strong>: Prefer OOP or functional for large, evolving projects. they support modularity and clean structure.</li>\n",
    "</ul>\n",
    "    </div>\n",
    "  </div>\n",
    "</div>"
   ]
  },
  {
   "cell_type": "markdown",
   "metadata": {},
   "source": [
    "<style>*{box-sizing:border-box}.section-card{background:linear-gradient(145deg,rgb(61,61,87),rgb(49,49,70));border-radius:15px;padding:2rem;margin:0 auto 2.5rem;box-shadow:0 8px 20px rgba(0,0,0,0.5);width:100%;max-width:min(1200px,95vw)}.section-card h2,.card h3{color:#ffffff;font-family:'Poppins',sans-serif;letter-spacing:1px}.section-card h2{text-align:center;font-size:1.8rem;margin-bottom:1.5rem}.card h3{font-size:1.3rem;margin-bottom:0.75rem;font-weight:bold}.container{display:flex;flex-direction:column;gap:1.25rem;align-items:center}.card{background:linear-gradient(145deg,#24243e,#1e1e3a);border-radius:12px;padding:1.5rem;box-shadow:0 6px 16px rgba(0,0,0,0.4);border-left:4px solid transparent;width:min(1000px,90vw);margin:0 auto 1.25rem;transition:transform 0.3s ease,box-shadow 0.3s ease}.card:hover{transform:translateY(-6px);box-shadow:0 10px 20px rgba(0,0,0,0.5)}.container>.card:last-child{margin-bottom:2rem}.card.pink{border-left-color:#ec407a}p,li{color:#dcdcdc;font-size:0.95rem;line-height:1.5;font-family:'Segoe UI',sans-serif}p{margin-bottom:0.75rem}ul,ol{padding-left:1.25rem;margin-bottom:0.75rem}li{margin-bottom:0.5rem}@media (max-width:768px){.section-card{padding:1.25rem}.card{width:100%;padding:1rem;margin:0 auto 1rem}.container>.card:last-child{margin-bottom:1.5rem}.section-card h2{font-size:1.4rem}.card h3{font-size:1.2rem}p,li{font-size:0.9rem}}</style>\n",
    "<div class=\"section-card\" id=\"toc5_\">\n",
    "  <h2>Conclusion</h2>\n",
    "  <div class=\"container\">\n",
    "    <div class=\"card pink\">\n",
    "      <p>Each paradigm like imperative, declarative, functional, OOP, and logic offers unique strengths. Combining paradigms in multi-paradigm languages enhances flexibility, preparing developers for evolving challenges.</p>\n",
    "      <ul>\n",
    "        <li>Imperative: Fine control, but complex at scale.</li>\n",
    "        <li>Declarative: Simplified outcomes, potential performance trade-offs.</li>\n",
    "        <li>Functional: Predictable, concurrency-friendly.</li>\n",
    "        <li>OOP: Reusable, but may add overhead.</li>\n",
    "        <li>Choose based on project needs and team skills.</li>\n",
    "      </ul>\n",
    "      <p>Future paradigms will likely blend approaches, with advances in compilers and domain-specific languages driving innovation.</p>\n",
    "    </div>\n",
    "  </div>\n",
    "</div>"
   ]
  }
 ],
 "metadata": {
  "kernelspec": {
   "display_name": "py310",
   "language": "python",
   "name": "python3"
  },
  "language_info": {
   "codemirror_mode": {
    "name": "ipython",
    "version": 3
   },
   "file_extension": ".py",
   "mimetype": "text/x-python",
   "name": "python",
   "nbconvert_exporter": "python",
   "pygments_lexer": "ipython3",
   "version": "3.10.12"
  }
 },
 "nbformat": 4,
 "nbformat_minor": 2
}
