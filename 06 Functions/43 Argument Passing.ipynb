{
 "cells": [
  {
   "cell_type": "markdown",
   "metadata": {},
   "source": [
    "<style>\n",
    "  * { box-sizing: border-box; }\n",
    "  .section-card { background: linear-gradient(145deg, rgb(61, 61, 87), rgb(49, 49, 70)); border-radius: 15px; padding: 2rem; margin: 0 auto 2.5rem; box-shadow: 0 8px 20px rgba(0, 0, 0, 0.5); width: 100%; max-width: min(1200px, 95vw); }\n",
    "  .section-card h1 { width: 100%; text-align: center; color: #ffffff; font-size: 2.8rem; margin-bottom: 0; font-family: 'Poppins', sans-serif; letter-spacing: 1px; }\n",
    "  .container { display: flex; flex-direction: column; gap: 1.25rem; align-items: center; }\n",
    "  .card { background: linear-gradient(145deg, #24243e, #1e1e3a); border-radius: 12px; padding: 1.5rem; box-shadow: 0 6px 16px rgba(0, 0, 0, 0.4); border-left: 4px solid transparent; width: min(1000px, 90vw); margin: 0 auto 1.25rem; transition: transform 0.3s ease, box-shadow 0.3s ease; }\n",
    "  .card:hover { transform: translateY(-6px); box-shadow: 0 10px 20px rgba(0, 0, 0, 0.5); }\n",
    "  .container > .card:last-child { margin-bottom: 2rem; }\n",
    "  .card.green { border-left-color: #66bb6a; }\n",
    "  p, li { color: #dcdcdc; font-size: 0.95rem; line-height: 1.5; font-family: 'Segoe UI', sans-serif; }\n",
    "  p { margin-bottom: 0.75rem; }\n",
    "  ul { list-style-position: inside; padding-left: 0; }\n",
    "  li { margin-bottom: 0.5rem; }\n",
    "  img { display: block; max-width: 50vw; height: auto; margin: 0 auto; border-radius: 10px; }\n",
    "  @media (max-width: 768px) { .section-card { padding: 1.25rem; } .section-card h1 { font-size: 2rem; } .card { width: 100%; padding: 1rem; margin: 0 auto 1rem; } .container > .card:last-child { margin-bottom: 1.5rem; } p, li { font-size: 0.9rem; } }\n",
    "</style>\n",
    "<div class=\"section-card\">\n",
    "  <h1>Argument Passing in Python Functions</h1>\n",
    "</div>\n",
    "<div class=\"section-card\">\n",
    "  <div class=\"container\">\n",
    "    <div class=\"card green\">\n",
    "      <p>Function arguments are essential, as they allow functions to operate on different data, making them more versatile. When you define a function, you specify its parameters. When you call it, you pass arguments that are assigned to those parameters.</p>\n",
    "      <p>Passing data allows for customization of a function's behavior without altering its code. This enhances flexibility and reduces redundancy.</p>\n",
    "    </div>\n",
    "    <div class=\"card green\">\n",
    "       <img src=\"../images/parameters-arguments.png\" alt=\"Parameters vs Arguments Diagram\">\n",
    "    </div>\n",
    "    <div class=\"card green\">\n",
    "       <p>By the end of this lecture, you should have a solid understanding of how to:</p>\n",
    "       <ul>\n",
    "         <li>Use positional arguments to pass mandatory information.</li>\n",
    "         <li>Leverage keyword arguments to improve code readability.</li>\n",
    "         <li>Define functions with default arguments to make them more versatile.</li>\n",
    "       </ul>\n",
    "       <p style=\"margin-bottom:0;\">Moreover, we will explore best practices to ensure your use of function arguments is clear and maintainable.</p>\n",
    "    </div>\n",
    "  </div>\n",
    "</div>"
   ]
  },
  {
   "cell_type": "markdown",
   "metadata": {},
   "source": [
    "<style>\n",
    "  * { box-sizing: border-box; }\n",
    "  .section-card { background: linear-gradient(145deg, rgb(61, 61, 87), rgb(49, 49, 70)); border-radius: 15px; padding: 2rem; margin: 0 auto 2.5rem; box-shadow: 0 8px 20px rgba(0, 0, 0, 0.5); width: 100%; max-width: min(1200px, 95vw); }\n",
    "  .section-card h2 { text-align: center; color: #ffffff; font-size: 1.8rem; margin-bottom: 1.5rem; font-family: 'Poppins', sans-serif; letter-spacing: 1px; }\n",
    "  .container { display: flex; flex-direction: column; gap: 1.25rem; align-items: center; }\n",
    "  .card { background: linear-gradient(145deg, #24243e, #1e1e3a); border-radius: 12px; padding: 1.5rem; box-shadow: 0 6px 16px rgba(0, 0, 0, 0.4); border-left: 4px solid transparent; width: min(1000px, 90vw); margin: 0 auto 1.25rem; transition: transform 0.3s ease, box-shadow 0.3s ease; }\n",
    "  .card:hover { transform: translateY(-6px); box-shadow: 0 10px 20px rgba(0, 0, 0, 0.5); }\n",
    "  .container > .card:last-child { margin-bottom: 2rem; }\n",
    "  .card.blue { border-left-color: #29b6f6; }\n",
    "  li { margin-bottom: 0.5rem; color: #dcdcdc; font-size: 0.95rem; line-height: 1.5; font-family: 'Segoe UI', sans-serif; }\n",
    "  .toc-card ul { list-style-type: none; padding-left: 0; margin-bottom:0; }\n",
    "  .toc-card a { color: #29b6f6; text-decoration: none; }\n",
    "  .toc-card ul ul { padding-left: 1.5rem; margin-top:0.5rem; }\n",
    "  @media (max-width: 768px) { .section-card { padding: 1.25rem; } .card { width: 100%; padding: 1rem; margin: 0 auto 1rem; } .container > .card:last-child { margin-bottom: 1.5rem; } .section-card h2 { font-size: 1.4rem; } li { font-size: 0.9rem; } }\n",
    "</style>\n",
    "<div class=\"section-card\">\n",
    "  <h2>Table of contents</h2>\n",
    "  <div class=\"container\">\n",
    "    <div class=\"card blue toc-card\">\n",
    "      <ul>\n",
    "        <li><a href=\"#toc1_\">Positional Arguments</a></li>\n",
    "        <li><a href=\"#toc2_\">Keyword Arguments</a></li>\n",
    "        <li><a href=\"#toc3_\">Default Parameters</a></li>\n",
    "        <li><a href=\"#toc4_\">Best Practices for Function Arguments in Python</a></li>\n",
    "        <li><a href=\"#toc5_\">Practice Exercise: A Day at the Zoo</a></li>\n",
    "      </ul>\n",
    "    </div>\n",
    "  </div>\n",
    "</div>"
   ]
  },
  {
   "cell_type": "markdown",
   "metadata": {},
   "source": [
    "<style>\n",
    "  * { box-sizing: border-box; }\n",
    "  .section-card { background: linear-gradient(145deg, rgb(61, 61, 87), rgb(49, 49, 70)); border-radius: 15px; padding: 2rem; margin: 0 auto 2.5rem; box-shadow: 0 8px 20px rgba(0, 0, 0, 0.5); width: 100%; max-width: min(1200px, 95vw); }\n",
    "  .section-card h2 { text-align: center; color: #ffffff; font-size: 1.8rem; margin-bottom: 1.5rem; font-family: 'Poppins', sans-serif; letter-spacing: 1px; }\n",
    "  .container { display: flex; flex-direction: column; gap: 1.25rem; align-items: center; }\n",
    "  .card { background: linear-gradient(145deg, #24243e, #1e1e3a); border-radius: 12px; padding: 1.5rem; box-shadow: 0 6px 16px rgba(0, 0, 0, 0.4); border-left: 4px solid transparent; width: min(1000px, 90vw); margin: 0 auto 1.25rem; transition: transform 0.3s ease, box-shadow 0.3s ease; }\n",
    "  .card:hover { transform: translateY(-6px); box-shadow: 0 10px 20px rgba(0, 0, 0, 0.5); }\n",
    "  .container > .card:last-child { margin-bottom: 2rem; }\n",
    "  .card.orange { border-left-color: #ffa726; }\n",
    "  p, li { color: #dcdcdc; font-size: 0.95rem; line-height: 1.5; font-family: 'Segoe UI', sans-serif; }\n",
    "  p { margin-bottom: 0.75rem; }\n",
    "  ul { list-style-position: inside; padding-left: 0; }\n",
    "  li { margin-bottom: 0.5rem; }\n",
    "  @media (max-width: 768px) { .section-card { padding: 1.25rem; } .card { width: 100%; padding: 1rem; margin: 0 auto 1rem; } .container > .card:last-child { margin-bottom: 1.5rem; } .section-card h2 { font-size: 1.4rem; } p, li { font-size: 0.9rem; } }\n",
    "</style>\n",
    "<div class=\"section-card\" id=\"toc1_\">\n",
    "  <h2>Positional Arguments</h2>\n",
    "  <div class=\"container\">\n",
    "    <div class=\"card orange\">\n",
    "      <p>Positional arguments are the most basic way to pass information to functions. They rely on the order of the arguments to match them with the parameters in the function definition.</p>\n",
    "      <p>When using positional arguments, remember:</p>\n",
    "      <ul>\n",
    "        <li><strong>Order Is Key</strong>: The order in which you pass arguments must align with the order of parameters.</li>\n",
    "        <li><strong>Exact Number of Arguments</strong>: You must provide the same number of arguments as there are parameters.</li>\n",
    "      </ul>\n",
    "    </div>\n",
    "  </div>\n",
    "</div>"
   ]
  },
  {
   "cell_type": "markdown",
   "metadata": {},
   "source": [
    "**Creating a function to print a message for a birthday invitation**"
   ]
  },
  {
   "cell_type": "code",
   "execution_count": 1,
   "metadata": {},
   "outputs": [],
   "source": [
    "def create_invitation(name, age, date):\n",
    "    print(f\"Dear {name}, you're invited to a birthday party celebrating {age} years on {date}!\")"
   ]
  },
  {
   "cell_type": "markdown",
   "metadata": {},
   "source": [
    "**Calling function with positional arguments by exact order**"
   ]
  },
  {
   "cell_type": "code",
   "execution_count": 2,
   "metadata": {},
   "outputs": [
    {
     "name": "stdout",
     "output_type": "stream",
     "text": [
      "Dear Alice, you're invited to a birthday party celebrating 10 years on April 21st!\n"
     ]
    }
   ],
   "source": [
    "create_invitation('Alice', 10, 'April 21st')"
   ]
  },
  {
   "cell_type": "markdown",
   "metadata": {},
   "source": [
    "**Calling function with positional arguments by wrong order**"
   ]
  },
  {
   "cell_type": "code",
   "execution_count": 3,
   "metadata": {},
   "outputs": [
    {
     "name": "stdout",
     "output_type": "stream",
     "text": [
      "Dear 10, you're invited to a birthday party celebrating April 21st years on Alice!\n"
     ]
    }
   ],
   "source": [
    "# Mixing up the order results in a nonsensical invitation\n",
    "create_invitation(10, 'April 21st', 'Alice')"
   ]
  },
  {
   "cell_type": "markdown",
   "metadata": {},
   "source": [
    "**Calling function with missing positional arguments**"
   ]
  },
  {
   "cell_type": "code",
   "execution_count": 4,
   "metadata": {},
   "outputs": [
    {
     "ename": "TypeError",
     "evalue": "create_invitation() missing 1 required positional argument: 'date'",
     "output_type": "error",
     "traceback": [
      "\u001b[1;31m---------------------------------------------------------------------------\u001b[0m",
      "\u001b[1;31mTypeError\u001b[0m                                 Traceback (most recent call last)",
      "Cell \u001b[1;32mIn[4], line 1\u001b[0m\n\u001b[1;32m----> 1\u001b[0m create_invitation(\u001b[38;5;124m'\u001b[39m\u001b[38;5;124mAlice\u001b[39m\u001b[38;5;124m'\u001b[39m, \u001b[38;5;241m10\u001b[39m)\n",
      "\u001b[1;31mTypeError\u001b[0m: create_invitation() missing 1 required positional argument: 'date'"
     ]
    }
   ],
   "source": [
    "create_invitation('Alice', 10)"
   ]
  },
  {
   "cell_type": "markdown",
   "metadata": {},
   "source": [
    "**Calling function with extra positional arguments**"
   ]
  },
  {
   "cell_type": "code",
   "execution_count": 5,
   "metadata": {},
   "outputs": [
    {
     "ename": "TypeError",
     "evalue": "create_invitation() takes 3 positional arguments but 4 were given",
     "output_type": "error",
     "traceback": [
      "\u001b[1;31m---------------------------------------------------------------------------\u001b[0m",
      "\u001b[1;31mTypeError\u001b[0m                                 Traceback (most recent call last)",
      "Cell \u001b[1;32mIn[5], line 1\u001b[0m\n\u001b[1;32m----> 1\u001b[0m create_invitation(\u001b[38;5;124m'\u001b[39m\u001b[38;5;124mAlice\u001b[39m\u001b[38;5;124m'\u001b[39m, \u001b[38;5;241m10\u001b[39m, \u001b[38;5;124m'\u001b[39m\u001b[38;5;124mApril 21st\u001b[39m\u001b[38;5;124m'\u001b[39m, \u001b[38;5;124m'\u001b[39m\u001b[38;5;124m2 PM\u001b[39m\u001b[38;5;124m'\u001b[39m)\n",
      "\u001b[1;31mTypeError\u001b[0m: create_invitation() takes 3 positional arguments but 4 were given"
     ]
    }
   ],
   "source": [
    "create_invitation('Alice', 10, 'April 21st', '2 PM')\n",
    "# Error: takes 3 positional arguments but 4 were given"
   ]
  },
  {
   "cell_type": "markdown",
   "metadata": {},
   "source": [
    "<style>\n",
    "  * { box-sizing: border-box; }\n",
    "  .section-card { background: linear-gradient(145deg, rgb(61, 61, 87), rgb(49, 49, 70)); border-radius: 15px; padding: 2rem; margin: 0 auto 2.5rem; box-shadow: 0 8px 20px rgba(0, 0, 0, 0.5); width: 100%; max-width: min(1200px, 95vw); }\n",
    "  .section-card h2 { text-align: center; color: #ffffff; font-size: 1.8rem; margin-bottom: 1.5rem; font-family: 'Poppins', sans-serif; letter-spacing: 1px; }\n",
    "  .container { display: flex; flex-direction: column; gap: 1.25rem; align-items: center; }\n",
    "  .card { background: linear-gradient(145deg, #24243e, #1e1e3a); border-radius: 12px; padding: 1.5rem; box-shadow: 0 6px 16px rgba(0, 0, 0, 0.4); border-left: 4px solid transparent; width: min(1000px, 90vw); margin: 0 auto 1.25rem; transition: transform 0.3s ease, box-shadow 0.3s ease; }\n",
    "  .card:hover { transform: translateY(-6px); box-shadow: 0 10px 20px rgba(0, 0, 0, 0.5); }\n",
    "  .container > .card:last-child { margin-bottom: 2rem; }\n",
    "  .card.purple { border-left-color: #ba68c8; }\n",
    "  p { color: #dcdcdc; font-size: 0.95rem; line-height: 1.5; font-family: 'Segoe UI', sans-serif; margin-bottom: 0.75rem; }\n",
    "  @media (max-width: 768px) { .section-card { padding: 1.25rem; } .card { width: 100%; padding: 1rem; margin: 0 auto 1rem; } .container > .card:last-child { margin-bottom: 1.5rem; } .section-card h2 { font-size: 1.4rem; } p { font-size: 0.9rem; } }\n",
    "</style>\n",
    "<div class=\"section-card\" id=\"toc2_\">\n",
    "  <h2>Keyword Arguments</h2>\n",
    "  <div class=\"container\">\n",
    "    <div class=\"card purple\">\n",
    "      <p>Keyword arguments allow you to specify arguments by explicitly naming each one (<code>keyword=value</code>). This gives you the freedom to provide them in any order.</p>\n",
    "      <p style=\"margin-bottom:0;\">While flexible, positional arguments must always come before keyword arguments in a function call.</p>\n",
    "    </div>\n",
    "  </div>\n",
    "</div>"
   ]
  },
  {
   "cell_type": "markdown",
   "metadata": {},
   "source": [
    "**Creating a function for printing out details of a book purchase**"
   ]
  },
  {
   "cell_type": "code",
   "execution_count": 6,
   "metadata": {},
   "outputs": [],
   "source": [
    "def print_purchase(book_title, author, price):\n",
    "    print(f\"Purchased book: {book_title} by {author} for ${price}\")"
   ]
  },
  {
   "cell_type": "markdown",
   "metadata": {},
   "source": [
    "**Calling function with ordered keyword arguments**"
   ]
  },
  {
   "cell_type": "code",
   "execution_count": null,
   "metadata": {},
   "outputs": [
    {
     "name": "stdout",
     "output_type": "stream",
     "text": [
      "Purchased book: The Great Gatsby by F. Scott Fitzgerald for $12.99\n"
     ]
    }
   ],
   "source": [
    "print_purchase(book_title='The Great Gatsby', author='F. Scott Fitzgerald', price=12.99)"
   ]
  },
  {
   "cell_type": "markdown",
   "metadata": {},
   "source": [
    "**Calling function with unordered keyword arguments**"
   ]
  },
  {
   "cell_type": "code",
   "execution_count": 7,
   "metadata": {},
   "outputs": [
    {
     "name": "stdout",
     "output_type": "stream",
     "text": [
      "Purchased book: The Great Gatsby by F. Scott Fitzgerald for $12.99\n"
     ]
    }
   ],
   "source": [
    "# Order of keyword arguments does not matter\n",
    "print_purchase(price=12.99, book_title='The Great Gatsby', author='F. Scott Fitzgerald')"
   ]
  },
  {
   "cell_type": "markdown",
   "metadata": {},
   "source": [
    "**Calling function with unexpected keyword arguments**"
   ]
  },
  {
   "cell_type": "code",
   "execution_count": null,
   "metadata": {},
   "outputs": [
    {
     "ename": "TypeError",
     "evalue": "print_purchase() got an unexpected keyword argument 'writer'",
     "output_type": "error",
     "traceback": [
      "\u001b[0;31m---------------------------------------------------------------------------\u001b[0m\n",
      "\u001b[0;31mTypeError\u001b[0m                                 Traceback (most recent call last)\n",
      "Cell \u001b[0;32mIn[9], line 1\u001b[0m\n",
      "\u001b[0;32m----> 1\u001b[0m \u001b[43mprint_purchase\u001b[49m\u001b[43m(\u001b[49m\u001b[43mbook_title\u001b[49m\u001b[38;5;241;43m=\u001b[39;49m\u001b[38;5;124;43m'\u001b[39;49m\u001b[38;5;124;43mThe Great Gatsby\u001b[39;49m\u001b[38;5;124;43m'\u001b[39;49m\u001b[43m,\u001b[49m\u001b[43m \u001b[49m\u001b[43mwriter\u001b[49m\u001b[38;5;241;43m=\u001b[39;49m\u001b[38;5;124;43m'\u001b[39;49m\u001b[38;5;124;43mF. Scott Fitzgerald\u001b[39;49m\u001b[38;5;124;43m'\u001b[39;49m\u001b[43m,\u001b[49m\u001b[43m \u001b[49m\u001b[43mprice\u001b[49m\u001b[38;5;241;43m=\u001b[39;49m\u001b[38;5;241;43m12.99\u001b[39;49m\u001b[43m)\u001b[49m\n",
      "\u001b[1;32m      2\u001b[0m \u001b[38;5;66;03m# Error: got an unexpected keyword argument 'writer'\u001b[39;00m\n",
      "\n",
      "\u001b[0;31mTypeError\u001b[0m: print_purchase() got an unexpected keyword argument 'writer'"
     ]
    }
   ],
   "source": [
    "print_purchase(book_title='The Great Gatsby', writer='F. Scott Fitzgerald', price=12.99)\n",
    "# Error: got an unexpected keyword argument 'writer'"
   ]
  },
  {
   "cell_type": "markdown",
   "metadata": {},
   "source": [
    "**Calling function with missing keyword arguments**"
   ]
  },
  {
   "cell_type": "code",
   "execution_count": null,
   "metadata": {},
   "outputs": [
    {
     "ename": "TypeError",
     "evalue": "print_purchase() missing 1 required positional argument: 'price'",
     "output_type": "error",
     "traceback": [
      "\u001b[0;31m---------------------------------------------------------------------------\u001b[0m\n",
      "\u001b[0;31mTypeError\u001b[0m                                 Traceback (most recent call last)\n",
      "Cell \u001b[0;32mIn[10], line 1\u001b[0m\n",
      "\u001b[0;32m----> 1\u001b[0m \u001b[43mprint_purchase\u001b[49m\u001b[43m(\u001b[49m\u001b[43mbook_title\u001b[49m\u001b[38;5;241;43m=\u001b[39;49m\u001b[38;5;124;43m'\u001b[39;49m\u001b[38;5;124;43mThe Great Gatsby\u001b[39;49m\u001b[38;5;124;43m'\u001b[39;49m\u001b[43m,\u001b[49m\u001b[43m \u001b[49m\u001b[43mauthor\u001b[49m\u001b[38;5;241;43m=\u001b[39;49m\u001b[38;5;124;43m'\u001b[39;49m\u001b[38;5;124;43mF. Scott Fitzgerald\u001b[39;49m\u001b[38;5;124;43m'\u001b[39;49m\u001b[43m)\u001b[49m\n",
      "\u001b[1;32m      2\u001b[0m \u001b[38;5;66;03m# Error: missing 1 required positional argument: 'price'\u001b[39;00m\n",
      "\n",
      "\u001b[0;31mTypeError\u001b[0m: print_purchase() missing 1 required positional argument: 'price'"
     ]
    }
   ],
   "source": [
    "print_purchase(book_title='The Great Gatsby', author='F. Scott Fitzgerald')\n",
    "# Error: missing 1 required positional argument: 'price'"
   ]
  },
  {
   "cell_type": "markdown",
   "metadata": {},
   "source": [
    "**Calling function with mixing positional and keyword arguments**"
   ]
  },
  {
   "cell_type": "code",
   "execution_count": 8,
   "metadata": {},
   "outputs": [
    {
     "name": "stdout",
     "output_type": "stream",
     "text": [
      "Purchased book: The Great Gatsby by F. Scott Fitzgerald for $12.99\n"
     ]
    }
   ],
   "source": [
    "# Mixing positional and keyword arguments\n",
    "print_purchase('The Great Gatsby', price=12.99, author='F. Scott Fitzgerald')"
   ]
  },
  {
   "cell_type": "markdown",
   "metadata": {},
   "source": [
    "<style>\n",
    "  * { box-sizing: border-box; }\n",
    "  .section-card { background: linear-gradient(145deg, rgb(61, 61, 87), rgb(49, 49, 70)); border-radius: 15px; padding: 2rem; margin: 0 auto 2.5rem; box-shadow: 0 8px 20px rgba(0, 0, 0, 0.5); width: 100%; max-width: min(1200px, 95vw); }\n",
    "  .section-card h2 { text-align: center; color: #ffffff; font-size: 1.8rem; margin-bottom: 1.5rem; font-family: 'Poppins', sans-serif; letter-spacing: 1px; }\n",
    "  .container { display: flex; flex-direction: column; gap: 1.25rem; align-items: center; }\n",
    "  .card { background: linear-gradient(145deg, #24243e, #1e1e3a); border-radius: 12px; padding: 1.5rem; box-shadow: 0 6px 16px rgba(0, 0, 0, 0.4); border-left: 4px solid transparent; width: min(1000px, 90vw); margin: 0 auto 1.25rem; transition: transform 0.3s ease, box-shadow 0.3s ease; }\n",
    "  .card:hover { transform: translateY(-6px); box-shadow: 0 10px 20px rgba(0, 0, 0, 0.5); }\n",
    "  .container > .card:last-child { margin-bottom: 2rem; }\n",
    "  .card.red { border-left-color: #ef5350; }\n",
    "  p { color: #dcdcdc; font-size: 0.95rem; line-height: 1.5; font-family: 'Segoe UI', sans-serif; margin-bottom: 0.75rem; }\n",
    "  @media (max-width: 768px) { .section-card { padding: 1.25rem; } .card { width: 100%; padding: 1rem; margin: 0 auto 1rem; } .container > .card:last-child { margin-bottom: 1.5rem; } .section-card h2 { font-size: 1.4rem; } p { font-size: 0.9rem; } }\n",
    "</style>\n",
    "<div class=\"section-card\" id=\"toc3_\">\n",
    "  <h2>Default Parameters</h2>\n",
    "  <div class=\"container\">\n",
    "    <div class=\"card red\">\n",
    "      <p>Default parameters allow functions to have parameters with preset values, making some arguments optional during a function call. Default parameters must always follow non-default (positional) parameters in the function definition.</p>\n",
    "    </div>\n",
    "  </div>\n",
    "</div>"
   ]
  },
  {
   "cell_type": "markdown",
   "metadata": {},
   "source": [
    "**Creating a function to display information about a user, where some details might not always be provided**"
   ]
  },
  {
   "cell_type": "code",
   "execution_count": null,
   "metadata": {},
   "outputs": [],
   "source": [
    "def create_profile(name, age, country='Unknown', language='English'):\n",
    "    print(f\"Name: {name}, Age: {age}, Country: {country}, Language: {language}\")"
   ]
  },
  {
   "cell_type": "markdown",
   "metadata": {},
   "source": [
    "**Calling function with only required arguments**"
   ]
  },
  {
   "cell_type": "code",
   "execution_count": null,
   "metadata": {},
   "outputs": [
    {
     "name": "stdout",
     "output_type": "stream",
     "text": [
      "Name: Albert Einstein, Age: 76, Country: Unknown, Language: English\n"
     ]
    }
   ],
   "source": [
    "create_profile('Albert Einstein', 76)"
   ]
  },
  {
   "cell_type": "markdown",
   "metadata": {},
   "source": [
    "**Overriding a default value with a keyword argument**"
   ]
  },
  {
   "cell_type": "code",
   "execution_count": null,
   "metadata": {},
   "outputs": [
    {
     "name": "stdout",
     "output_type": "stream",
     "text": [
      "Name: Marie Curie, Age: 66, Country: Poland, Language: English\n"
     ]
    }
   ],
   "source": [
    "create_profile('Marie Curie', 66, 'Poland')"
   ]
  },
  {
   "cell_type": "code",
   "execution_count": null,
   "metadata": {},
   "outputs": [
    {
     "name": "stdout",
     "output_type": "stream",
     "text": [
      "Name: Nikola Tesla, Age: 86, Country: Unknown, Language: Serbian\n"
     ]
    }
   ],
   "source": [
    "create_profile('Nikola Tesla', 86, language='Serbian')"
   ]
  },
  {
   "cell_type": "markdown",
   "metadata": {},
   "source": [
    "**Default parameters must follow non-default parameters; otherwise, Python raises a syntax error.**"
   ]
  },
  {
   "cell_type": "code",
   "execution_count": null,
   "metadata": {},
   "outputs": [
    {
     "ename": "SyntaxError",
     "evalue": "non-default argument follows default argument (807339484.py, line 1)",
     "output_type": "error",
     "traceback": [
      "\u001b[0;36m  Cell \u001b[0;32mIn[19], line 1\u001b[0;36m\u001b[0m\n",
      "\u001b[0;31m    def user_profile(country='Unknown', name, language='English'):\u001b[0m\n",
      "\u001b[0m                                        ^\u001b[0m\n",
      "\u001b[0;31mSyntaxError\u001b[0m\u001b[0;31m:\u001b[0m non-default argument follows default argument\n"
     ]
    }
   ],
   "source": [
    "def user_profile(country='Unknown', name, language='English'):\n",
    "    print(f\"Name: {name}, Country: {country}, Language: {language}\")"
   ]
  },
  {
   "cell_type": "markdown",
   "metadata": {},
   "source": [
    "<style>\n",
    "  * { box-sizing: border-box; }\n",
    "  .section-card { background: linear-gradient(145deg, rgb(61, 61, 87), rgb(49, 49, 70)); border-radius: 15px; padding: 2rem; margin: 0 auto 2.5rem; box-shadow: 0 8px 20px rgba(0, 0, 0, 0.5); width: 100%; max-width: min(1200px, 95vw); }\n",
    "  .section-card h2, .card h3 { color: #ffffff; font-family: 'Poppins', sans-serif; letter-spacing: 1px; }\n",
    "  .section-card h2 { text-align: center; font-size: 1.8rem; margin-bottom: 1.5rem; }\n",
    "  .container { display: flex; flex-direction: column; gap: 1.25rem; align-items: center; }\n",
    "  .card { background: linear-gradient(145deg, #24243e, #1e1e3a); border-radius: 12px; padding: 1.5rem; box-shadow: 0 6px 16px rgba(0, 0, 0, 0.4); border-left: 4px solid transparent; width: min(1000px, 90vw); margin: 0 auto 1.25rem; transition: transform 0.3s ease, box-shadow 0.3s ease; }\n",
    "  .card:hover { transform: translateY(-6px); box-shadow: 0 10px 20px rgba(0, 0, 0, 0.5); }\n",
    "  .container > .card:last-child { margin-bottom: 2rem; }\n",
    "  .card.green { border-left-color: #66bb6a; }\n",
    "  p, li { color: #dcdcdc; font-size: 0.95rem; line-height: 1.5; font-family: 'Segoe UI', sans-serif; }\n",
    "  p { margin-bottom: 0.75rem; }\n",
    "  ul { list-style-position: inside; padding-left: 0; margin-bottom: 0; }\n",
    "  li { margin-bottom: 0.5rem; }\n",
    "  @media (max-width: 768px) { .section-card { padding: 1.25rem; } .card { width: 100%; padding: 1rem; margin: 0 auto 1rem; } .container > .card:last-child { margin-bottom: 1.5rem; } .section-card h2 { font-size: 1.4rem; } p, li { font-size: 0.9rem; } }\n",
    "</style>\n",
    "<div class=\"section-card\" id=\"toc4_\">\n",
    "  <h2>Best Practices and Exercise</h2>\n",
    "  <div class=\"container\">\n",
    "    <div class=\"card green\">\n",
    "      <h3>Best Practices</h3>\n",
    "      <ul>\n",
    "        <li>Use positional arguments for required parameters with a clear, logical order.</li>\n",
    "        <li>Use keyword arguments to enhance clarity, especially when a function has many parameters.</li>\n",
    "        <li>Choose sensible default values for parameters based on common use cases to make your functions more versatile.</li>\n",
    "      </ul>\n",
    "    </div>\n",
    "    <div class=\"card green\" id=\"toc5_\">\n",
    "       <h3>Exercise: A Day at the Zoo</h3>\n",
    "       <p>Write a function <code>schedule_visit</code> that takes <code>section</code>, <code>time</code>, and an optional <code>activity</code> (defaulting to \"Feeding\"). Then, call it for the \"Reptiles\" section at \"10:00 AM\" (using the default) and for the \"Birds\" section at \"1:00 PM\" with the activity \"Educational Talk\".</p>\n",
    "    </div>\n",
    "  </div>\n",
    "</div>"
   ]
  },
  {
   "cell_type": "code",
   "execution_count": null,
   "metadata": {},
   "outputs": [
    {
     "name": "stdout",
     "output_type": "stream",
     "text": [
      "Planning to visit Reptiles section at 10:00 AM for a Feeding activity.\n",
      "Planning to visit Birds section at 1:00 PM for a Educational Talk activity.\n"
     ]
    }
   ],
   "source": [
    "# Solution\n",
    "def schedule_visit(section, time, activity='Feeding'):\n",
    "    print(f\"Planning to visit {section} section at {time} for a {activity} activity.\")\n",
    "\n",
    "schedule_visit('Reptiles', '10:00 AM')\n",
    "schedule_visit('Birds', '1:00 PM', 'Educational Talk')"
   ]
  }
 ],
 "metadata": {
  "kernelspec": {
   "display_name": "base",
   "language": "python",
   "name": "python3"
  },
  "language_info": {
   "codemirror_mode": {
    "name": "ipython",
    "version": 3
   },
   "file_extension": ".py",
   "mimetype": "text/x-python",
   "name": "python",
   "nbconvert_exporter": "python",
   "pygments_lexer": "ipython3",
   "version": "3.11.5"
  }
 },
 "nbformat": 4,
 "nbformat_minor": 2
}
