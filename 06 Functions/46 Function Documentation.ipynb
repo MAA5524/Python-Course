{
 "cells": [
  {
   "cell_type": "markdown",
   "metadata": {},
   "source": [
    "<style>*{box-sizing:border-box;}h1{width:100%;text-align:center;color:#ffffff;font-size:2.8rem;margin-bottom:1.5rem;font-family:'Poppins',sans-serif;letter-spacing:1px;}.section-card{background:linear-gradient(145deg,rgb(61,61,87),rgb(49,49,70));border-radius:15px;padding:2rem;margin:0 auto 2.5rem;box-shadow:0 8px 20px rgba(0,0,0,0.5);width:100%;max-width:min(1200px,95vw);}.section-card h2,.card h3{color:#ffffff;font-family:'Poppins',sans-serif;letter-spacing:1px;}.section-card h2{text-align:center;font-size:1.8rem;margin-bottom:1.5rem;}.card h3{font-size:1.3rem;margin-bottom:0.75rem;font-weight:bold;}.container{display:flex;flex-direction:column;gap:1.25rem;align-items:center;}.card{background:linear-gradient(145deg,#24243e,#1e1e3a);border-radius:12px;padding:1.5rem;box-shadow:0 6px 16px rgba(0,0,0,0.4);border-left:4px solid transparent;width:min(1000px,90vw);margin:0 auto 1.25rem;transition:transform 0.3s ease,box-shadow 0.3s ease;}.card:hover{transform:translateY(-6px);box-shadow:0 10px 20px rgba(0,0,0,0.5);}.container>.card:last-child{margin-bottom:2rem;}.card.green{border-left-color:#66bb6a;}.card.blue{border-left-color:#29b6f6;}.card.orange{border-left-color:#ffa726;}.card.purple{border-left-color:#ba68c8;}.card.red{border-left-color:#ef5350;}p,li{color:#dcdcdc;font-size:0.95rem;line-height:1.5;font-family:'Segoe UI',sans-serif;}p{margin-bottom:0.75rem;}ul,ol{padding-left:1.25rem;margin-bottom:0.75rem;}li{margin-bottom:0.5rem;}blockquote{border-left:3px solid #66bb6a;padding-left:1rem;margin-left:0;color:#f0f0f0;font-style:italic;}.note{background-color:#fdd835;color:#000;padding:1rem;border-radius:6px;margin-top:1.25rem;font-style:italic;font-size:0.95rem;font-family:'Segoe UI',sans-serif;width:min(1000px,90vw);margin:1.25rem auto 0;}.toc-card ul{list-style-type:none;padding-left:0;}.toc-card a{color:#29b6f6;text-decoration:none;}@media (max-width:768px){.section-card{padding:1.25rem;}.card{width:100%;padding:1rem;margin:0 auto 1rem;}.container>.card:last-child{margin-bottom:1.5rem;}h1{font-size:2rem;}.section-card h2{font-size:1.4rem;}.card h3{font-size:1.2rem;}p,li{font-size:0.9rem;}}\n",
    "</style>\n",
    "<div class='section-card'>\n",
    "    <h1>Function Documentation</h1>\n",
    "</div>\n",
    "<div class='section-card'>\n",
    "    <div class='container'>\n",
    "        <div class='card green'>\n",
    "            <p>Documenting functions is essential for maintainable, readable code. This lecture covers communicating function purpose and usage through docstrings, including behavior, parameters, returns, and examples.</p>\n",
    "        </div>\n",
    "        <div class='card blue'>\n",
    "            <p>We will explore: importance of documentation, docstring syntax, best practices, accessing docstrings, styles, type hints, and tools for generating documentation.</p>\n",
    "        </div>\n",
    "    </div>\n",
    "</div>"
   ]
  },
  {
   "cell_type": "markdown",
   "metadata": {},
   "source": [
    "<style>\n",
    "  * { box-sizing: border-box; }\n",
    "  .section-card { background: linear-gradient(145deg, rgb(61, 61, 87), rgb(49, 49, 70)); border-radius: 15px; padding: 2rem; margin: 0 auto 2.5rem; box-shadow: 0 8px 20px rgba(0, 0, 0, 0.5); width: 100%; max-width: min(1200px, 95vw); }\n",
    "  .section-card h2 { text-align: center; color: #ffffff; font-size: 1.8rem; margin-bottom: 1.5rem; font-family: 'Poppins', sans-serif; letter-spacing: 1px; }\n",
    "  .container { display: flex; flex-direction: column; gap: 1.25rem; align-items: center; }\n",
    "  .card { background: linear-gradient(145deg, #24243e, #1e1e3a); border-radius: 12px; padding: 1.5rem; box-shadow: 0 6px 16px rgba(0, 0, 0, 0.4); border-left: 4px solid transparent; width: min(1000px, 90vw); margin: 0 auto 1.25rem; transition: transform 0.3s ease, box-shadow 0.3s ease; }\n",
    "  .card:hover { transform: translateY(-6px); box-shadow: 0 10px 20px rgba(0, 0, 0, 0.5); }\n",
    "  .container > .card:last-child { margin-bottom: 2rem; }\n",
    "  .card.blue { border-left-color: #29b6f6; }\n",
    "  li { margin-bottom: 0.5rem; color: #dcdcdc; font-size: 0.95rem; line-height: 1.5; font-family: 'Segoe UI', sans-serif; }\n",
    "  .toc-card ul { list-style-type: none; padding-left: 0; margin-bottom:0; }\n",
    "  .toc-card a { color: #29b6f6; text-decoration: none; }\n",
    "  .toc-card ul ul { padding-left: 1.5rem; margin-top:0.5rem; }\n",
    "  @media (max-width: 768px) { .section-card { padding: 1.25rem; } .card { width: 100%; padding: 1rem; margin: 0 auto 1rem; } .container > .card:last-child { margin-bottom: 1.5rem; } .section-card h2 { font-size: 1.4rem; } li { font-size: 0.9rem; } }\n",
    "</style>\n",
    "<div class=\"section-card\">\n",
    "  <h2>Table of contents</h2>\n",
    "  <div class=\"container\">\n",
    "    <div class=\"card blue toc-card\">\n",
    "      <strong>Table of contents</strong><a id=\"toc0_\"></a>\n",
    "      <ul>\n",
    "        <li><a href=\"#toc1_\">The Importance of Documenting Functions</a></li>\n",
    "        <li><a href=\"#toc2_\">Docstrings: The Basics</a></li>\n",
    "        <li><a href=\"#toc3_\">Writing Effective Docstrings</a>\n",
    "          <ul>\n",
    "            <li><a href=\"#toc3_1_\">Style</a></li>\n",
    "          </ul>\n",
    "        </li>\n",
    "        <li><a href=\"#toc4_\">Accessing Docstrings</a>\n",
    "          <ul>\n",
    "            <li><a href=\"#toc4_1_\">Using the help() Function</a></li>\n",
    "            <li><a href=\"#toc4_2_\">Using the .__doc__ Attribute</a></li>\n",
    "            <li><a href=\"#toc4_4_\">Interactive Environments</a></li>\n",
    "          </ul>\n",
    "        </li>\n",
    "        <li><a href=\"#toc5_\">Docstring Styles</a>\n",
    "          <ul>\n",
    "            <li><a href=\"#toc5_1_\">Google Style</a></li>\n",
    "            <li><a href=\"#toc5_2_\">NumPy/SciPy Style</a></li>\n",
    "            <li><a href=\"#toc5_3_\">reStructuredText (reST)</a></li>\n",
    "            <li><a href=\"#toc5_4_\">Epytext</a></li>\n",
    "            <li><a href=\"#toc5_5_\">Choosing a Style</a></li>\n",
    "          </ul>\n",
    "        </li>\n",
    "        <li><a href=\"#toc6_\">Annotations and Type Hints</a>\n",
    "          <ul>\n",
    "            <li><a href=\"#toc6_1_\">Syntax</a></li>\n",
    "            <li><a href=\"#toc6_2_\">Benefits</a></li>\n",
    "            <li><a href=\"#toc6_3_\">Using Type Hints with Docstrings</a></li>\n",
    "          </ul>\n",
    "        </li>\n",
    "        <li><a href=\"#toc7_\">Practice Exercise</a>\n",
    "        </li>\n",
    "      </ul>\n",
    "    </div>\n",
    "  </div>\n",
    "</div>"
   ]
  },
  {
   "cell_type": "markdown",
   "metadata": {},
   "source": [
    "<style>*{box-sizing:border-box;}h1{width:100%;text-align:center;color:#ffffff;font-size:2.8rem;margin-bottom:1.5rem;font-family:'Poppins',sans-serif;letter-spacing:1px;}.section-card{background:linear-gradient(145deg,rgb(61,61,87),rgb(49,49,70));border-radius:15px;padding:2rem;margin:0 auto 2.5rem;box-shadow:0 8px 20px rgba(0,0,0,0.5);width:100%;max-width:min(1200px,95vw);}.section-card h2,.card h3{color:#ffffff;font-family:'Poppins',sans-serif;letter-spacing:1px;}.section-card h2{text-align:center;font-size:1.8rem;margin-bottom:1.5rem;}.card h3{font-size:1.3rem;margin-bottom:0.75rem;font-weight:bold;}.container{display:flex;flex-direction:column;gap:1.25rem;align-items:center;}.card{background:linear-gradient(145deg,#24243e,#1e1e3a);border-radius:12px;padding:1.5rem;box-shadow:0 6px 16px rgba(0,0,0,0.4);border-left:4px solid transparent;width:min(1000px,90vw);margin:0 auto 1.25rem;transition:transform 0.3s ease,box-shadow 0.3s ease;}.card:hover{transform:translateY(-6px);box-shadow:0 10px 20px rgba(0,0,0,0.5);}.container>.card:last-child{margin-bottom:2rem;}.card.green{border-left-color:#66bb6a;}.card.blue{border-left-color:#29b6f6;}.card.orange{border-left-color:#ffa726;}.card.purple{border-left-color:#ba68c8;}.card.red{border-left-color:#ef5350;}p,li{color:#dcdcdc;font-size:0.95rem;line-height:1.5;font-family:'Segoe UI',sans-serif;}p{margin-bottom:0.75rem;}ul,ol{padding-left:1.25rem;margin-bottom:0.75rem;}li{margin-bottom:0.5rem;}blockquote{border-left:3px solid #66bb6a;padding-left:1rem;margin-left:0;color:#f0f0f0;font-style:italic;}.note{background-color:#fdd835;color:#000;padding:1rem;border-radius:6px;margin-top:1.25rem;font-style:italic;font-size:0.95rem;font-family:'Segoe UI',sans-serif;width:min(1000px,90vw);margin:1.25rem auto 0;}.toc-card ul{list-style-type:none;padding-left:0;}.toc-card a{color:#29b6f6;text-decoration:none;}@media (max-width:768px){.section-card{padding:1.25rem;}.card{width:100%;padding:1rem;margin:0 auto 1rem;}.container>.card:last-child{margin-bottom:1.5rem;}h1{font-size:2rem;}.section-card h2{font-size:1.4rem;}.card h3{font-size:1.2rem;}p,li{font-size:0.9rem;}}</style>\n",
    "<div class='section-card' id='toc1_'>\n",
    "<h2>The Importance of Documenting Functions</h2>\n",
    "<div class='container'>\n",
    "<div class='card orange'>\n",
    "<p>Documenting functions ensures code readability, maintenance, onboarding, collaboration, debugging, and reusability, making software development more efficient and accessible.</p>\n",
    "</div>\n",
    "<div class='card orange'>\n",
    "<ul>\n",
    "<li><strong>Readability:</strong> Conveys function purpose quickly, reducing cognitive load.</li>\n",
    "<li><strong>Maintenance:</strong> Guides future changes with context on design decisions.</li>\n",
    "<li><strong>Onboarding:</strong> Eases new developers' learning curve.</li>\n",
    "<li><strong>Collaboration:</strong> Aligns team understanding of inputs and outputs.</li>\n",
    "<li><strong>Debugging:</strong> Provides hints for tracing issues.</li>\n",
    "<li><strong>Reusability:</strong> Defines clear interfaces for broader use.</li>\n",
    "</ul>\n",
    "</div>\n",
    "</div>\n",
    "</div>"
   ]
  },
  {
   "cell_type": "markdown",
   "metadata": {},
   "source": [
    "<style>*{box-sizing:border-box;}h1{width:100%;text-align:center;color:#ffffff;font-size:2.8rem;margin-bottom:1.5rem;font-family:'Poppins',sans-serif;letter-spacing:1px;}.section-card{background:linear-gradient(145deg,rgb(61,61,87),rgb(49,49,70));border-radius:15px;padding:2rem;margin:0 auto 2.5rem;box-shadow:0 8px 20px rgba(0,0,0,0.5);width:100%;max-width:min(1200px,95vw);}.section-card h2,.card h3{color:#ffffff;font-family:'Poppins',sans-serif;letter-spacing:1px;}.section-card h2{text-align:center;font-size:1.8rem;margin-bottom:1.5rem;}.card h3{font-size:1.3rem;margin-bottom:0.75rem;font-weight:bold;}.container{display:flex;flex-direction:column;gap:1.25rem;align-items:center;}.card{background:linear-gradient(145deg,#24243e,#1e1e3a);border-radius:12px;padding:1.5rem;box-shadow:0 6px 16px rgba(0,0,0,0.4);border-left:4px solid transparent;width:min(1000px,90vw);margin:0 auto 1.25rem;transition:transform 0.3s ease,box-shadow 0.3s ease;}.card:hover{transform:translateY(-6px);box-shadow:0 10px 20px rgba(0,0,0,0.5);}.container>.card:last-child{margin-bottom:2rem;}.card.green{border-left-color:#66bb6a;}.card.blue{border-left-color:#29b6f6;}.card.orange{border-left-color:#ffa726;}.card.purple{border-left-color:#ba68c8;}.card.red{border-left-color:#ef5350;}p,li{color:#dcdcdc;font-size:0.95rem;line-height:1.5;font-family:'Segoe UI',sans-serif;}p{margin-bottom:0.75rem;}ul,ol{padding-left:1.25rem;margin-bottom:0.75rem;}li{margin-bottom:0.5rem;}blockquote{border-left:3px solid #66bb6a;padding-left:1rem;margin-left:0;color:#f0f0f0;font-style:italic;}.note{background-color:#fdd835;color:#000;padding:1rem;border-radius:6px;margin-top:1.25rem;font-style:italic;font-size:0.95rem;font-family:'Segoe UI',sans-serif;width:min(1000px,90vw);margin:1.25rem auto 0;}.toc-card ul{list-style-type:none;padding-left:0;}.toc-card a{color:#29b6f6;text-decoration:none;}@media (max-width:768px){.section-card{padding:1.25rem;}.card{width:100%;padding:1rem;margin:0 auto 1rem;}.container>.card:last-child{margin-bottom:1.5rem;}h1{font-size:2rem;}.section-card h2{font-size:1.4rem;}.card h3{font-size:1.2rem;}p,li{font-size:0.9rem;}}</style>\n",
    "<div class='section-card' id='toc2_'>\n",
    "<h2>Docstrings: The Basics</h2>\n",
    "<div class='container'>\n",
    "<div class='card purple'>\n",
    "<p>A docstring is a string literal documenting modules, classes, methods, or functions, enclosed in triple quotes and assigned to the __doc__ attribute.</p>\n",
    "<p>Use triple double quotes (\"\"\"), placed immediately after the function definition. Access via help() or __doc__.</p>\n",
    "</div>"
   ]
  },
  {
   "cell_type": "code",
   "execution_count": 2,
   "metadata": {},
   "outputs": [],
   "source": [
    "def my_function():\n",
    "    \"\"\"This is a docstring that describes what the my_function() does.\"\"\"\n",
    "    # Function body goes here"
   ]
  },
  {
   "cell_type": "code",
   "execution_count": 3,
   "metadata": {},
   "outputs": [],
   "source": [
    "def greet(name):\n",
    "    \"\"\"\n",
    "    Greets a person with a hello message.\n",
    "\n",
    "    Args:\n",
    "        name (str): The name of the person to greet.\n",
    "\n",
    "    Returns:\n",
    "        None\n",
    "    \"\"\"\n",
    "    print(f\"Hello, {name}!\")"
   ]
  },
  {
   "cell_type": "markdown",
   "metadata": {},
   "source": [
    "<style>*{box-sizing:border-box;}h1{width:100%;text-align:center;color:#ffffff;font-size:2.8rem;margin-bottom:1.5rem;font-family:'Poppins',sans-serif;letter-spacing:1px;}.section-card{background:linear-gradient(145deg,rgb(61,61,87),rgb(49,49,70));border-radius:15px;padding:2rem;margin:0 auto 2.5rem;box-shadow:0 8px 20px rgba(0,0,0,0.5);width:100%;max-width:min(1200px,95vw);}.section-card h2,.card h3{color:#ffffff;font-family:'Poppins',sans-serif;letter-spacing:1px;}.section-card h2{text-align:center;font-size:1.8rem;margin-bottom:1.5rem;}.card h3{font-size:1.3rem;margin-bottom:0.75rem;font-weight:bold;}.container{display:flex;flex-direction:column;gap:1.25rem;align-items:center;}.card{background:linear-gradient(145deg,#24243e,#1e1e3a);border-radius:12px;padding:1.5rem;box-shadow:0 6px 16px rgba(0,0,0,0.4);border-left:4px solid transparent;width:min(1000px,90vw);margin:0 auto 1.25rem;transition:transform 0.3s ease,box-shadow 0.3s ease;}.card:hover{transform:translateY(-6px);box-shadow:0 10px 20px rgba(0,0,0,0.5);}.container>.card:last-child{margin-bottom:2rem;}.card.green{border-left-color:#66bb6a;}.card.blue{border-left-color:#29b6f6;}.card.orange{border-left-color:#ffa726;}.card.purple{border-left-color:#ba68c8;}.card.red{border-left-color:#ef5350;}p,li{color:#dcdcdc;font-size:0.95rem;line-height:1.5;font-family:'Segoe UI',sans-serif;}p{margin-bottom:0.75rem;}ul,ol{padding-left:1.25rem;margin-bottom:0.75rem;}li{margin-bottom:0.5rem;}blockquote{border-left:3px solid #66bb6a;padding-left:1rem;margin-left:0;color:#f0f0f0;font-style:italic;}.note{background-color:#fdd835;color:#000;padding:1rem;border-radius:6px;margin-top:1.25rem;font-style:italic;font-size:0.95rem;font-family:'Segoe UI',sans-serif;width:min(1000px,90vw);margin:1.25rem auto 0;}.toc-card ul{list-style-type:none;padding-left:0;}.toc-card a{color:#29b6f6;text-decoration:none;}@media (max-width:768px){.section-card{padding:1.25rem;}.card{width:100%;padding:1rem;margin:0 auto 1rem;}.container>.card:last-child{margin-bottom:1.5rem;}h1{font-size:2rem;}.section-card h2{font-size:1.4rem;}.card h3{font-size:1.2rem;}p,li{font-size:0.9rem;}}</style>\n",
    "<div class='section-card' id='toc3_'>\n",
    "<h2>Writing Effective Docstrings</h2>\n",
    "<div class='container'>\n",
    "<div class='card red'>\n",
    "<p>Effective docstrings include brief description, parameters (name, type, explanation), return values (type, description), examples, raises, notes, and see also sections.</p>\n",
    "</div>\n",
    "<div class='card red' id=\"toc3_1_\">\n",
    "<h3>Style</h3>\n",
    "<p>Use consistent formatting like NumPy, Google, or Sphinx for readability and tool compatibility.</p>\n",
    "</div>"
   ]
  },
  {
   "cell_type": "code",
   "execution_count": 4,
   "metadata": {},
   "outputs": [],
   "source": [
    "def calculate_area(radius):\n",
    "    \"\"\"\n",
    "    Calculate the area of a circle given its radius.\n",
    "\n",
    "    Args:\n",
    "        radius (float): The radius of the circle.\n",
    "\n",
    "    Returns:\n",
    "        float: The area of the circle.\n",
    "\n",
    "    Raises:\n",
    "        ValueError: If the radius is negative.\n",
    "\n",
    "    Examples:\n",
    "        >>> calculate_area(5)\n",
    "        78.53981633974483\n",
    "\n",
    "    Note:\n",
    "        The area is calculated using the formula pi * radius^2.\n",
    "    \"\"\"\n",
    "    if radius < 0:\n",
    "        raise ValueError(\"The radius cannot be negative.\")\n",
    "    return 3.141592653589793 * radius ** 2"
   ]
  },
  {
   "cell_type": "markdown",
   "metadata": {},
   "source": [
    "<style>*{box-sizing:border-box;}h1{width:100%;text-align:center;color:#ffffff;font-size:2.8rem;margin-bottom:1.5rem;font-family:'Poppins',sans-serif;letter-spacing:1px;}.section-card{background:linear-gradient(145deg,rgb(61,61,87),rgb(49,49,70));border-radius:15px;padding:2rem;margin:0 auto 2.5rem;box-shadow:0 8px 20px rgba(0,0,0,0.5);width:100%;max-width:min(1200px,95vw);}.section-card h2,.card h3{color:#ffffff;font-family:'Poppins',sans-serif;letter-spacing:1px;}.section-card h2{text-align:center;font-size:1.8rem;margin-bottom:1.5rem;}.card h3{font-size:1.3rem;margin-bottom:0.75rem;font-weight:bold;}.container{display:flex;flex-direction:column;gap:1.25rem;align-items:center;}.card{background:linear-gradient(145deg,#24243e,#1e1e3a);border-radius:12px;padding:1.5rem;box-shadow:0 6px 16px rgba(0,0,0,0.4);border-left:4px solid transparent;width:min(1000px,90vw);margin:0 auto 1.25rem;transition:transform 0.3s ease,box-shadow 0.3s ease;}.card:hover{transform:translateY(-6px);box-shadow:0 10px 20px rgba(0,0,0,0.5);}.container>.card:last-child{margin-bottom:2rem;}.card.green{border-left-color:#66bb6a;}.card.blue{border-left-color:#29b6f6;}.card.orange{border-left-color:#ffa726;}.card.purple{border-left-color:#ba68c8;}.card.red{border-left-color:#ef5350;}p,li{color:#dcdcdc;font-size:0.95rem;line-height:1.5;font-family:'Segoe UI',sans-serif;}p{margin-bottom:0.75rem;}ul,ol{padding-left:1.25rem;margin-bottom:0.75rem;}li{margin-bottom:0.5rem;}blockquote{border-left:3px solid #66bb6a;padding-left:1rem;margin-left:0;color:#f0f0f0;font-style:italic;}.note{background-color:#fdd835;color:#000;padding:1rem;border-radius:6px;margin-top:1.25rem;font-style:italic;font-size:0.95rem;font-family:'Segoe UI',sans-serif;width:min(1000px,90vw);margin:1.25rem auto 0;}.toc-card ul{list-style-type:none;padding-left:0;}.toc-card a{color:#29b6f6;text-decoration:none;}@media (max-width:768px){.section-card{padding:1.25rem;}.card{width:100%;padding:1rem;margin:0 auto 1rem;}.container>.card:last-child{margin-bottom:1.5rem;}h1{font-size:2rem;}.section-card h2{font-size:1.4rem;}.card h3{font-size:1.2rem;}p,li{font-size:0.9rem;}}</style>\n",
    "<div class='section-card' id=\"toc4_\">\n",
    "<h2>Accessing Docstrings</h2>\n",
    "<div class='container'>\n",
    "<div class='card green' id=\"toc4_1\">\n",
    "<h3>Using the help() Function</h3>\n",
    "<p>The <code>help()</code> function is a built-in Python tool that displays detailed information about modules, classes, functions, and more; usable in any Python environment like CLI or Jupyter notebooks.</p>\n",
    "</div>"
   ]
  },
  {
   "cell_type": "code",
   "execution_count": null,
   "metadata": {},
   "outputs": [],
   "source": [
    "def my_function():\n",
    "    \"\"\"This is a simple docstring.\"\"\"\n",
    "    pass\n"
   ]
  },
  {
   "cell_type": "code",
   "execution_count": null,
   "metadata": {},
   "outputs": [
    {
     "data": {
      "text/plain": [
       "'This is a simple docstring.'"
      ]
     },
     "metadata": {},
     "output_type": "display_data"
    }
   ],
   "source": [
    "my_function.__doc__"
   ]
  },
  {
   "cell_type": "markdown",
   "metadata": {},
   "source": [
    "<style>*{box-sizing:border-box;}h1{width:100%;text-align:center;color:#ffffff;font-size:2.8rem;margin-bottom:1.5rem;font-family:'Poppins',sans-serif;letter-spacing:1px;}.section-card{background:linear-gradient(145deg,rgb(61,61,87),rgb(49,49,70));border-radius:15px;padding:2rem;margin:0 auto 2.5rem;box-shadow:0 8px 20px rgba(0,0,0,0.5);width:100%;max-width:min(1200px,95vw);}.section-card h2,.card h3{color:#ffffff;font-family:'Poppins',sans-serif;letter-spacing:1px;}.section-card h2{text-align:center;font-size:1.8rem;margin-bottom:1.5rem;}.card h3{font-size:1.3rem;margin-bottom:0.75rem;font-weight:bold;}.container{display:flex;flex-direction:column;gap:1.25rem;align-items:center;}.card{background:linear-gradient(145deg,#24243e,#1e1e3a);border-radius:12px;padding:1.5rem;box-shadow:0 6px 16px rgba(0,0,0,0.4);border-left:4px solid transparent;width:min(1000px,90vw);margin:0 auto 1.25rem;transition:transform 0.3s ease,box-shadow 0.3s ease;}.card:hover{transform:translateY(-6px);box-shadow:0 10px 20px rgba(0,0,0,0.5);}.container>.card:last-child{margin-bottom:2rem;}.card.green{border-left-color:#66bb6a;}.card.blue{border-left-color:#29b6f6;}.card.orange{border-left-color:#ffa726;}.card.purple{border-left-color:#ba68c8;}.card.red{border-left-color:#ef5350;}p,li{color:#dcdcdc;font-size:0.95rem;line-height:1.5;font-family:'Segoe UI',sans-serif;}p{margin-bottom:0.75rem;}ul,ol{padding-left:1.25rem;margin-bottom:0.75rem;}li{margin-bottom:0.5rem;}blockquote{border-left:3px solid #66bb6a;padding-left:1rem;margin-left:0;color:#f0f0f0;font-style:italic;}.note{background-color:#fdd835;color:#000;padding:1rem;border-radius:6px;margin-top:1.25rem;font-style:italic;font-size:0.95rem;font-family:'Segoe UI',sans-serif;width:min(1000px,90vw);margin:1.25rem auto 0;}.toc-card ul{list-style-type:none;padding-left:0;}.toc-card a{color:#29b6f6;text-decoration:none;}@media (max-width:768px){.section-card{padding:1.25rem;}.card{width:100%;padding:1rem;margin:0 auto 1rem;}.container>.card:last-child{margin-bottom:1.5rem;}h1{font-size:2rem;}.section-card h2{font-size:1.4rem;}.card h3{font-size:1.2rem;}p,li{font-size:0.9rem;}}</style>\n",
    "<div class='section-card' id='toc4_2_'>\n",
    "<div class='container'>\n",
    "<div class='card green'>\n",
    "<h3>Using the <code>.doc</code> Attribute</h3>\n",
    "<p>Every Python function has a <code>__doc__</code> attribute that stores its docstring; you can access it directly to retrieve or display the documentation.</p>\n",
    "</div>"
   ]
  },
  {
   "cell_type": "code",
   "execution_count": null,
   "metadata": {},
   "outputs": [],
   "source": [
    "def calculate_area(radius):\n",
    "    \"\"\"\n",
    "    Calculate the area of a circle given its radius.\n",
    "\n",
    "    Args:\n",
    "        radius (float): The radius of the circle.\n",
    "\n",
    "    Returns:\n",
    "        float: The area of the circle.\n",
    "    \"\"\"\n",
    "    return 3.141592653589793 * radius ** 2"
   ]
  },
  {
   "cell_type": "code",
   "execution_count": null,
   "metadata": {},
   "outputs": [
    {
     "name": "stdout",
     "output_type": "stream",
     "text": [
      "Help on function calculate_area in module __main__:\n",
      "\n",
      "calculate_area(radius)\n",
      "    Calculate the area of a circle given its radius.\n",
      "    \n",
      "    Args:\n",
      "        radius (float): The radius of the circle.\n",
      "    \n",
      "    Returns:\n",
      "        float: The area of the circle.\n",
      "\n"
     ]
    }
   ],
   "source": [
    "# Using help()\n",
    "help(calculate_area)"
   ]
  },
  {
   "cell_type": "code",
   "execution_count": null,
   "metadata": {},
   "outputs": [
    {
     "name": "stdout",
     "output_type": "stream",
     "text": [
      "\n",
      "    Calculate the area of a circle given its radius.\n",
      "\n",
      "    Args:\n",
      "        radius (float): The radius of the circle.\n",
      "\n",
      "    Returns:\n",
      "        float: The area of the circle.\n",
      "    \n"
     ]
    }
   ],
   "source": [
    "# Using __doc__\n",
    "print(calculate_area.__doc__)\n"
   ]
  },
  {
   "cell_type": "markdown",
   "metadata": {},
   "source": [
    "<style>*{box-sizing:border-box;}h1{width:100%;text-align:center;color:#ffffff;font-size:2.8rem;margin-bottom:1.5rem;font-family:'Poppins',sans-serif;letter-spacing:1px;}.section-card{background:linear-gradient(145deg,rgb(61,61,87),rgb(49,49,70));border-radius:15px;padding:2rem;margin:0 auto 2.5rem;box-shadow:0 8px 20px rgba(0,0,0,0.5);width:100%;max-width:min(1200px,95vw);}.section-card h2,.card h3{color:#ffffff;font-family:'Poppins',sans-serif;letter-spacing:1px;}.section-card h2{text-align:center;font-size:1.8rem;margin-bottom:1.5rem;}.card h3{font-size:1.3rem;margin-bottom:0.75rem;font-weight:bold;}.container{display:flex;flex-direction:column;gap:1.25rem;align-items:center;}.card{background:linear-gradient(145deg,#24243e,#1e1e3a);border-radius:12px;padding:1.5rem;box-shadow:0 6px 16px rgba(0,0,0,0.4);border-left:4px solid transparent;width:min(1000px,90vw);margin:0 auto 1.25rem;transition:transform 0.3s ease,box-shadow 0.3s ease;}.card:hover{transform:translateY(-6px);box-shadow:0 10px 20px rgba(0,0,0,0.5);}.container>.card:last-child{margin-bottom:2rem;}.card.green{border-left-color:#66bb6a;}.card.blue{border-left-color:#29b6f6;}.card.orange{border-left-color:#ffa726;}.card.purple{border-left-color:#ba68c8;}.card.red{border-left-color:#ef5350;}p,li{color:#dcdcdc;font-size:0.95rem;line-height:1.5;font-family:'Segoe UI',sans-serif;}p{margin-bottom:0.75rem;}ul,ol{padding-left:1.25rem;margin-bottom:0.75rem;}li{margin-bottom:0.5rem;}blockquote{border-left:3px solid #66bb6a;padding-left:1rem;margin-left:0;color:#f0f0f0;font-style:italic;}.note{background-color:#fdd835;color:#000;padding:1rem;border-radius:6px;margin-top:1.25rem;font-style:italic;font-size:0.95rem;font-family:'Segoe UI',sans-serif;width:min(1000px,90vw);margin:1.25rem auto 0;}.toc-card ul{list-style-type:none;padding-left:0;}.toc-card a{color:#29b6f6;text-decoration:none;}@media (max-width:768px){.section-card{padding:1.25rem;}.card{width:100%;padding:1rem;margin:0 auto 1rem;}.container>.card:last-child{margin-bottom:1.5rem;}h1{font-size:2rem;}.section-card h2{font-size:1.4rem;}.card h3{font-size:1.2rem;}p,li{font-size:0.9rem;}}</style>\n",
    "<div class='section-card' id='toc4_3_'>\n",
    "<div class='container'>\n",
    "<div class='card green'>\n",
    "<h3>Interactive Environments</h3>\n",
    "<p>In IPython or Jupyter notebooks, append <code>?</code> to a function name to quickly view its docstring.</p>\n",
    "</div>"
   ]
  },
  {
   "cell_type": "code",
   "execution_count": null,
   "metadata": {},
   "outputs": [
    {
     "name": "stdout",
     "output_type": "stream",
     "text": [
      "\u001b[0;31mSignature:\u001b[0m \u001b[0mcalculate_area\u001b[0m\u001b[0;34m(\u001b[0m\u001b[0mradius\u001b[0m\u001b[0;34m)\u001b[0m\u001b[0;34m\u001b[0m\u001b[0;34m\u001b[0m\u001b[0m\n",
      "\u001b[0;31mDocstring:\u001b[0m\n",
      "Calculate the area of a circle given its radius.\n",
      "\n",
      "Args:\n",
      "    radius (float): The radius of the circle.\n",
      "\n",
      "Returns:\n",
      "    float: The area of the circle.\n",
      "\u001b[0;31mFile:\u001b[0m      /var/folders/g_/1vbng5jn1nv9ztt7z6_k8lg00000gn/T/ipykernel_95425/777152004.py\n",
      "\u001b[0;31mType:\u001b[0m      function"
     ]
    }
   ],
   "source": [
    "calculate_area?"
   ]
  },
  {
   "cell_type": "markdown",
   "metadata": {},
   "source": [
    "<style>*{box-sizing:border-box;}h1{width:100%;text-align:center;color:#ffffff;font-size:2.8rem;margin-bottom:1.5rem;font-family:'Poppins',sans-serif;letter-spacing:1px;}.section-card{background:linear-gradient(145deg,rgb(61,61,87),rgb(49,49,70));border-radius:15px;padding:2rem;margin:0 auto 2.5rem;box-shadow:0 8px 20px rgba(0,0,0,0.5);width:100%;max-width:min(1200px,95vw);}.section-card h2,.card h3{color:#ffffff;font-family:'Poppins',sans-serif;letter-spacing:1px;}.section-card h2{text-align:center;font-size:1.8rem;margin-bottom:1.5rem;}.card h3{font-size:1.3rem;margin-bottom:0.75rem;font-weight:bold;}.container{display:flex;flex-direction:column;gap:1.25rem;align-items:center;}.card{background:linear-gradient(145deg,#24243e,#1e1e3a);border-radius:12px;padding:1.5rem;box-shadow:0 6px 16px rgba(0,0,0,0.4);border-left:4px solid transparent;width:min(1000px,90vw);margin:0 auto 1.25rem;transition:transform 0.3s ease,box-shadow 0.3s ease;}.card:hover{transform:translateY(-6px);box-shadow:0 10px 20px rgba(0,0,0,0.5);}.container>.card:last-child{margin-bottom:2rem;}.card.pink{border-left-color:rgb(239, 80, 157);}.card.blue{border-left-color:#29b6f6;}.card.orange{border-left-color:#ffa726;}.card.purple{border-left-color:#ba68c8;}.card.red{border-left-color:#ef5350;}p,li{color:#dcdcdc;font-size:0.95rem;line-height:1.5;font-family:'Segoe UI',sans-serif;}p{margin-bottom:0.75rem;}ul,ol{padding-left:1.25rem;margin-bottom:0.75rem;}li{margin-bottom:0.5rem;}blockquote{border-left:3px solid #66bb6a;padding-left:1rem;margin-left:0;color:#f0f0f0;font-style:italic;}.note{background-color:#fdd835;color:#000;padding:1rem;border-radius:6px;margin-top:1.25rem;font-style:italic;font-size:0.95rem;font-family:'Segoe UI',sans-serif;width:min(1000px,90vw);margin:1.25rem auto 0;}.toc-card ul{list-style-type:none;padding-left:0;}.toc-card a{color:#29b6f6;text-decoration:none;}@media (max-width:768px){.section-card{padding:1.25rem;}.card{width:100%;padding:1rem;margin:0 auto 1rem;}.container>.card:last-child{margin-bottom:1.5rem;}h1{font-size:2rem;}.section-card h2{font-size:1.4rem;}.card h3{font-size:1.2rem;}p,li{font-size:0.9rem;}}</style>\n",
    "<div class='section-card' id='toc5_'>\n",
    "<h2>Docstring Styles</h2>\n",
    "<div class='container'>\n",
    "<div class='card pink'>\n",
    "<h3>Google Style</h3>\n",
    "<p>Google-style docstrings use indentation to separate sections; designed for plain-text readability and ease of writing and understanding.</p>\n",
    "</div>\n",
    "</div>\n",
    "</div>"
   ]
  },
  {
   "cell_type": "code",
   "execution_count": 7,
   "metadata": {},
   "outputs": [],
   "source": [
    "def multiply(a: float, b: float) -> float:\n",
    "    \"\"\"\n",
    "    Multiply two numbers.\n",
    "\n",
    "    Args:\n",
    "        a (float): The first number.\n",
    "        b (float): The second number.\n",
    "\n",
    "    Returns:\n",
    "        float: The product of a and b.\n",
    "    \"\"\"\n",
    "    return a * b"
   ]
  },
  {
   "cell_type": "markdown",
   "metadata": {},
   "source": [
    "<style>*{box-sizing:border-box;}h1{width:100%;text-align:center;color:#ffffff;font-size:2.8rem;margin-bottom:1.5rem;font-family:'Poppins',sans-serif;letter-spacing:1px;}.section-card{background:linear-gradient(145deg,rgb(61,61,87),rgb(49,49,70));border-radius:15px;padding:2rem;margin:0 auto 2.5rem;box-shadow:0 8px 20px rgba(0,0,0,0.5);width:100%;max-width:min(1200px,95vw);}.section-card h2,.card h3{color:#ffffff;font-family:'Poppins',sans-serif;letter-spacing:1px;}.section-card h2{text-align:center;font-size:1.8rem;margin-bottom:1.5rem;}.card h3{font-size:1.3rem;margin-bottom:0.75rem;font-weight:bold;}.container{display:flex;flex-direction:column;gap:1.25rem;align-items:center;}.card{background:linear-gradient(145deg,#24243e,#1e1e3a);border-radius:12px;padding:1.5rem;box-shadow:0 6px 16px rgba(0,0,0,0.4);border-left:4px solid transparent;width:min(1000px,90vw);margin:0 auto 1.25rem;transition:transform 0.3s ease,box-shadow 0.3s ease;}.card:hover{transform:translateY(-6px);box-shadow:0 10px 20px rgba(0,0,0,0.5);}.container>.card:last-child{margin-bottom:2rem;}.card.green{border-left-color:#66bb6a;}.card.blue{border-left-color:#29b6f6;}.card.orange{border-left-color:#ffa726;}.card.purple{border-left-color:#ba68c8;}.card.red{border-left-color:#ef5350;}p,li{color:#dcdcdc;font-size:0.95rem;line-height:1.5;font-family:'Segoe UI',sans-serif;}p{margin-bottom:0.75rem;}ul,ol{padding-left:1.25rem;margin-bottom:0.75rem;}li{margin-bottom:0.5rem;}blockquote{border-left:3px solid #66bb6a;padding-left:1rem;margin-left:0;color:#f0f0f0;font-style:italic;}.note{background-color:#fdd835;color:#000;padding:1rem;border-radius:6px;margin-top:1.25rem;font-style:italic;font-size:0.95rem;font-family:'Segoe UI',sans-serif;width:min(1000px,90vw);margin:1.25rem auto 0;}.toc-card ul{list-style-type:none;padding-left:0;}.toc-card a{color:#29b6f6;text-decoration:none;}.card.pink{border-left-color:rgb(239, 80, 157);}@media (max-width:768px){.section-card{padding:1.25rem;}.card{width:100%;padding:1rem;margin:0 auto 1rem;}.container>.card:last-child{margin-bottom:1.5rem;}h1{font-size:2rem;}.section-card h2{font-size:1.4rem;}.card h3{font-size:1.2rem;}p,li{font-size:0.9rem;}}</style>\n",
    "<div class='section-card' id='toc5_2_'>\n",
    "<div class='container'>\n",
    "<div class='card pink'>\n",
    "<h3>NumPy/SciPy Style</h3>\n",
    "<p>NumPy/SciPy docstring style is detailed and structured; ideal for scientific Python, with consistent formatting for parameters, types, and returns.</p>\n",
    "</div>\n",
    "</div>\n",
    "</div>"
   ]
  },
  {
   "cell_type": "code",
   "execution_count": null,
   "metadata": {},
   "outputs": [],
   "source": [
    "def function(arg1, arg2):\n",
    "    \"\"\"\n",
    "    Description of the function.\n",
    "\n",
    "    Parameters\n",
    "    ----------\n",
    "    arg1 : int\n",
    "        Description of arg1.\n",
    "    arg2 : str\n",
    "        Description of arg2.\n",
    "\n",
    "    Returns\n",
    "    -------\n",
    "    bool\n",
    "        Description of the return value.\n",
    "    \"\"\""
   ]
  },
  {
   "cell_type": "markdown",
   "metadata": {},
   "source": [
    "<style>*{box-sizing:border-box;}h1{width:100%;text-align:center;color:#ffffff;font-size:2.8rem;margin-bottom:1.5rem;font-family:'Poppins',sans-serif;letter-spacing:1px;}.section-card{background:linear-gradient(145deg,rgb(61,61,87),rgb(49,49,70));border-radius:15px;padding:2rem;margin:0 auto 2.5rem;box-shadow:0 8px 20px rgba(0,0,0,0.5);width:100%;max-width:min(1200px,95vw);}.section-card h2,.card h3{color:#ffffff;font-family:'Poppins',sans-serif;letter-spacing:1px;}.section-card h2{text-align:center;font-size:1.8rem;margin-bottom:1.5rem;}.card h3{font-size:1.3rem;margin-bottom:0.75rem;font-weight:bold;}.container{display:flex;flex-direction:column;gap:1.25rem;align-items:center;}.card{background:linear-gradient(145deg,#24243e,#1e1e3a);border-radius:12px;padding:1.5rem;box-shadow:0 6px 16px rgba(0,0,0,0.4);border-left:4px solid transparent;width:min(1000px,90vw);margin:0 auto 1.25rem;transition:transform 0.3s ease,box-shadow 0.3s ease;}.card:hover{transform:translateY(-6px);box-shadow:0 10px 20px rgba(0,0,0,0.5);}.container>.card:last-child{margin-bottom:2rem;}.card.pink{border-left-color:rgb(239, 80, 157);}.card.blue{border-left-color:#29b6f6;}.card.orange{border-left-color:#ffa726;}.card.purple{border-left-color:#ba68c8;}.card.red{border-left-color:#ef5350;}p,li{color:#dcdcdc;font-size:0.95rem;line-height:1.5;font-family:'Segoe UI',sans-serif;}p{margin-bottom:0.75rem;}ul,ol{padding-left:1.25rem;margin-bottom:0.75rem;}li{margin-bottom:0.5rem;}blockquote{border-left:3px solid #66bb6a;padding-left:1rem;margin-left:0;color:#f0f0f0;font-style:italic;}.note{background-color:#fdd835;color:#000;padding:1rem;border-radius:6px;margin-top:1.25rem;font-style:italic;font-size:0.95rem;font-family:'Segoe UI',sans-serif;width:min(1000px,90vw);margin:1.25rem auto 0;}.toc-card ul{list-style-type:none;padding-left:0;}.toc-card a{color:#29b6f6;text-decoration:none;}@media (max-width:768px){.section-card{padding:1.25rem;}.card{width:100%;padding:1rem;margin:0 auto 1rem;}.container>.card:last-child{margin-bottom:1.5rem;}h1{font-size:2rem;}.section-card h2{font-size:1.4rem;}.card h3{font-size:1.2rem;}p,li{font-size:0.9rem;}}</style>\n",
    "<div class='section-card' id='toc5_3_'>\n",
    "<div class='container'>\n",
    "<div class='card pink'>\n",
    "<h3>reStructuredText (reST)</h3>\n",
    "<p>reStructuredText is a markup syntax standard in Python documentation; integrates with Sphinx to generate well-structured, professional docs.</p>\n",
    "</div>\n",
    "</div>\n",
    "</div>"
   ]
  },
  {
   "cell_type": "code",
   "execution_count": 9,
   "metadata": {},
   "outputs": [],
   "source": [
    "def multiply(a: float, b: float) -> float:\n",
    "    \"\"\"\n",
    "    Multiply two numbers.\n",
    "\n",
    "    :param a: The first number.\n",
    "    :type a: float\n",
    "    :param b: The second number.\n",
    "    :type b: float\n",
    "    :returns: The product of a and b.\n",
    "    :rtype: float\n",
    "    \"\"\"\n",
    "    return a * b"
   ]
  },
  {
   "cell_type": "markdown",
   "metadata": {},
   "source": [
    "<style>*{box-sizing:border-box;}h1{width:100%;text-align:center;color:#ffffff;font-size:2.8rem;margin-bottom:1.5rem;font-family:'Poppins',sans-serif;letter-spacing:1px;}.section-card{background:linear-gradient(145deg,rgb(61,61,87),rgb(49,49,70));border-radius:15px;padding:2rem;margin:0 auto 2.5rem;box-shadow:0 8px 20px rgba(0,0,0,0.5);width:100%;max-width:min(1200px,95vw);}.section-card h2,.card h3{color:#ffffff;font-family:'Poppins',sans-serif;letter-spacing:1px;}.section-card h2{text-align:center;font-size:1.8rem;margin-bottom:1.5rem;}.card h3{font-size:1.3rem;margin-bottom:0.75rem;font-weight:bold;}.container{display:flex;flex-direction:column;gap:1.25rem;align-items:center;}.card{background:linear-gradient(145deg,#24243e,#1e1e3a);border-radius:12px;padding:1.5rem;box-shadow:0 6px 16px rgba(0,0,0,0.4);border-left:4px solid transparent;width:min(1000px,90vw);margin:0 auto 1.25rem;transition:transform 0.3s ease,box-shadow 0.3s ease;}.card:hover{transform:translateY(-6px);box-shadow:0 10px 20px rgba(0,0,0,0.5);}.container>.card:last-child{margin-bottom:2rem;}.card.pink{border-left-color:rgb(239, 80, 157);}.card.blue{border-left-color:#29b6f6;}.card.orange{border-left-color:#ffa726;}.card.purple{border-left-color:#ba68c8;}.card.red{border-left-color:#ef5350;}p,li{color:#dcdcdc;font-size:0.95rem;line-height:1.5;font-family:'Segoe UI',sans-serif;}p{margin-bottom:0.75rem;}ul,ol{padding-left:1.25rem;margin-bottom:0.75rem;}li{margin-bottom:0.5rem;}blockquote{border-left:3px solid #66bb6a;padding-left:1rem;margin-left:0;color:#f0f0f0;font-style:italic;}.note{background-color:#fdd835;color:#000;padding:1rem;border-radius:6px;margin-top:1.25rem;font-style:italic;font-size:0.95rem;font-family:'Segoe UI',sans-serif;width:min(1000px,90vw);margin:1.25rem auto 0;}.toc-card ul{list-style-type:none;padding-left:0;}.toc-card a{color:#29b6f6;text-decoration:none;}@media (max-width:768px){.section-card{padding:1.25rem;}.card{width:100%;padding:1rem;margin:0 auto 1rem;}.container>.card:last-child{margin-bottom:1.5rem;}h1{font-size:2rem;}.section-card h2{font-size:1.4rem;}.card h3{font-size:1.2rem;}p,li{font-size:0.9rem;}}</style>\n",
    "<div class='section-card' id='toc5_4_'>\n",
    "<div class='container'>\n",
    "<div class='card pink'>\n",
    "<h3>Epytext</h3>\n",
    "<p>Epytext is a Javadoc-style format used by Epydoc; less common now but still found in legacy projects for consistency.</p>\n",
    "</div>\n",
    "</div>\n",
    "</div>"
   ]
  },
  {
   "cell_type": "code",
   "execution_count": 10,
   "metadata": {},
   "outputs": [],
   "source": [
    "def multiply(a: float, b: float) -> float:\n",
    "    \"\"\"\n",
    "    Multiply two numbers.\n",
    "\n",
    "    @param a: Description of a.\n",
    "    @type a: float\n",
    "    @param b: Description of b.\n",
    "    @type b: float\n",
    "    @return: Description of the return value.\n",
    "    @rtype: float\n",
    "    \"\"\"\n",
    "    return a * b"
   ]
  },
  {
   "cell_type": "markdown",
   "metadata": {},
   "source": [
    "<style>*{box-sizing:border-box;}h1{width:100%;text-align:center;color:#ffffff;font-size:2.8rem;margin-bottom:1.5rem;font-family:'Poppins',sans-serif;letter-spacing:1px;}.section-card{background:linear-gradient(145deg,rgb(61,61,87),rgb(49,49,70));border-radius:15px;padding:2rem;margin:0 auto 2.5rem;box-shadow:0 8px 20px rgba(0,0,0,0.5);width:100%;max-width:min(1200px,95vw);}.section-card h2,.card h3{color:#ffffff;font-family:'Poppins',sans-serif;letter-spacing:1px;}.section-card h2{text-align:center;font-size:1.8rem;margin-bottom:1.5rem;}.card h3{font-size:1.3rem;margin-bottom:0.75rem;font-weight:bold;}.container{display:flex;flex-direction:column;gap:1.25rem;align-items:center;}.card{background:linear-gradient(145deg,#24243e,#1e1e3a);border-radius:12px;padding:1.5rem;box-shadow:0 6px 16px rgba(0,0,0,0.4);border-left:4px solid transparent;width:min(1000px,90vw);margin:0 auto 1.25rem;transition:transform 0.3s ease,box-shadow 0.3s ease;}.card:hover{transform:translateY(-6px);box-shadow:0 10px 20px rgba(0,0,0,0.5);}.container>.card:last-child{margin-bottom:2rem;}.card.pink{border-left-color:rgb(239, 80, 157);}.card.blue{border-left-color:#29b6f6;}.card.orange{border-left-color:#ffa726;}.card.purple{border-left-color:#ba68c8;}.card.red{border-left-color:#ef5350;}p,li{color:#dcdcdc;font-size:0.95rem;line-height:1.5;font-family:'Segoe UI',sans-serif;}p{margin-bottom:0.75rem;}ul,ol{padding-left:1.25rem;margin-bottom:0.75rem;}li{margin-bottom:0.5rem;}blockquote{border-left:3px solid #66bb6a;padding-left:1rem;margin-left:0;color:#f0f0f0;font-style:italic;}.note{background-color:#fdd835;color:#000;padding:1rem;border-radius:6px;margin-top:1.25rem;font-style:italic;font-size:0.95rem;font-family:'Segoe UI',sans-serif;width:min(1000px,90vw);margin:1.25rem auto 0;}.toc-card ul{list-style-type:none;padding-left:0;}.toc-card a{color:#29b6f6;text-decoration:none;}@media (max-width:768px){.section-card{padding:1.25rem;}.card{width:100%;padding:1rem;margin:0 auto 1rem;}.container>.card:last-child{margin-bottom:1.5rem;}h1{font-size:2rem;}.section-card h2{font-size:1.4rem;}.card h3{font-size:1.2rem;}p,li{font-size:0.9rem;}}</style>\n",
    "<div class='section-card' id='toc5_5_'>\n",
    "<div class='container'>\n",
    "<div class='card pink'>\n",
    "<h3>Choosing a Style</h3>\n",
    "<ul>\n",
    "<li><strong>Consistency:</strong> Use one style across the codebase.</li>\n",
    "<li><strong>Tooling:</strong> Match tools like Sphinx for reST.</li>\n",
    "<li><strong>Community:</strong> Follow common practices for contributions.</li>\n",
    "<li><strong>Readability:</strong> Prioritize clear communication.</li>\n",
    "</ul>\n",
    "</div>\n",
    "</div>\n",
    "</div>"
   ]
  },
  {
   "cell_type": "markdown",
   "metadata": {},
   "source": [
    "<style>*{box-sizing:border-box;}h1{width:100%;text-align:center;color:#ffffff;font-size:2.8rem;margin-bottom:1.5rem;font-family:'Poppins',sans-serif;letter-spacing:1px;}.section-card{background:linear-gradient(145deg,rgb(61,61,87),rgb(49,49,70));border-radius:15px;padding:2rem;margin:0 auto 2.5rem;box-shadow:0 8px 20px rgba(0,0,0,0.5);width:100%;max-width:min(1200px,95vw);}.section-card h2,.card h3{color:#ffffff;font-family:'Poppins',sans-serif;letter-spacing:1px;}.section-card h2{text-align:center;font-size:1.8rem;margin-bottom:1.5rem;}.card h3{font-size:1.3rem;margin-bottom:0.75rem;font-weight:bold;}.container{display:flex;flex-direction:column;gap:1.25rem;align-items:center;}.card{background:linear-gradient(145deg,#24243e,#1e1e3a);border-radius:12px;padding:1.5rem;box-shadow:0 6px 16px rgba(0,0,0,0.4);border-left:4px solid transparent;width:min(1000px,90vw);margin:0 auto 1.25rem;transition:transform 0.3s ease,box-shadow 0.3s ease;}.card:hover{transform:translateY(-6px);box-shadow:0 10px 20px rgba(0,0,0,0.5);}.container>.card:last-child{margin-bottom:2rem;}.card.green{border-left-color:#66bb6a;}.card.blue{border-left-color:#29b6f6;}.card.orange{border-left-color:#ffa726;}.card.purple{border-left-color:#ba68c8;}.card.red{border-left-color:#ef5350;}p,li{color:#dcdcdc;font-size:0.95rem;line-height:1.5;font-family:'Segoe UI',sans-serif;}p{margin-bottom:0.75rem;}ul,ol{padding-left:1.25rem;margin-bottom:0.75rem;}li{margin-bottom:0.5rem;}blockquote{border-left:3px solid #66bb6a;padding-left:1rem;margin-left:0;color:#f0f0f0;font-style:italic;}.note{background-color:#fdd835;color:#000;padding:1rem;border-radius:6px;margin-top:1.25rem;font-style:italic;font-size:0.95rem;font-family:'Segoe UI',sans-serif;width:min(1000px,90vw);margin:1.25rem auto 0;}.toc-card ul{list-style-type:none;padding-left:0;}.toc-card a{color:#29b6f6;text-decoration:none;}@media (max-width:768px){.section-card{padding:1.25rem;}.card{width:100%;padding:1rem;margin:0 auto 1rem;}.container>.card:last-child{margin-bottom:1.5rem;}h1{font-size:2rem;}.section-card h2{font-size:1.4rem;}.card h3{font-size:1.2rem;}p,li{font-size:0.9rem;}}</style>\n",
    "<div class='section-card' id='toc6_'>\n",
    "<h2>Annotations and Type Hints</h2>\n",
    "<div class='container'>\n",
    "<div class='card green'>\n",
    "<p>Type hints (Python 3.5+) specify expected types for arguments and returns, aiding static analysis, IDEs, and documentation without runtime enforcement.</p>\n",
    "</div>\n",
    "<div class='card green' id='toc6_1_'>\n",
    "<h3>Syntax</h3>\n",
    "<p>Type hints are added with <code>:</code> after parameter names and return type with <code>-></code> before the function’s colon.</p>\n",
    "</div>\n",
    "</div>\n",
    "</div>"
   ]
  },
  {
   "cell_type": "code",
   "execution_count": 11,
   "metadata": {},
   "outputs": [],
   "source": [
    "def greeting(name: str) -> str:\n",
    "    return f\"Hello, {name}\""
   ]
  },
  {
   "cell_type": "markdown",
   "metadata": {},
   "source": [
    "<style>*{box-sizing:border-box;}h1{width:100%;text-align:center;color:#ffffff;font-size:2.8rem;margin-bottom:1.5rem;font-family:'Poppins',sans-serif;letter-spacing:1px;}.section-card{background:linear-gradient(145deg,rgb(61,61,87),rgb(49,49,70));border-radius:15px;padding:2rem;margin:0 auto 2.5rem;box-shadow:0 8px 20px rgba(0,0,0,0.5);width:100%;max-width:min(1200px,95vw);}.section-card h2,.card h3{color:#ffffff;font-family:'Poppins',sans-serif;letter-spacing:1px;}.section-card h2{text-align:center;font-size:1.8rem;margin-bottom:1.5rem;}.card h3{font-size:1.3rem;margin-bottom:0.75rem;font-weight:bold;}.container{display:flex;flex-direction:column;gap:1.25rem;align-items:center;}.card{background:linear-gradient(145deg,#24243e,#1e1e3a);border-radius:12px;padding:1.5rem;box-shadow:0 6px 16px rgba(0,0,0,0.4);border-left:4px solid transparent;width:min(1000px,90vw);margin:0 auto 1.25rem;transition:transform 0.3s ease,box-shadow 0.3s ease;}.card:hover{transform:translateY(-6px);box-shadow:0 10px 20px rgba(0,0,0,0.5);}.container>.card:last-child{margin-bottom:2rem;}.card.green{border-left-color:#66bb6a;}.card.blue{border-left-color:#29b6f6;}.card.orange{border-left-color:#ffa726;}.card.purple{border-left-color:#ba68c8;}.card.red{border-left-color:#ef5350;}p,li{color:#dcdcdc;font-size:0.95rem;line-height:1.5;font-family:'Segoe UI',sans-serif;}p{margin-bottom:0.75rem;}ul,ol{padding-left:1.25rem;margin-bottom:0.75rem;}li{margin-bottom:0.5rem;}blockquote{border-left:3px solid #66bb6a;padding-left:1rem;margin-left:0;color:#f0f0f0;font-style:italic;}.note{background-color:#fdd835;color:#000;padding:1rem;border-radius:6px;margin-top:1.25rem;font-style:italic;font-size:0.95rem;font-family:'Segoe UI',sans-serif;width:min(1000px,90vw);margin:1.25rem auto 0;}.toc-card ul{list-style-type:none;padding-left:0;}.toc-card a{color:#29b6f6;text-decoration:none;}@media (max-width:768px){.section-card{padding:1.25rem;}.card{width:100%;padding:1rem;margin:0 auto 1rem;}.container>.card:last-child{margin-bottom:1.5rem;}h1{font-size:2rem;}.section-card h2{font-size:1.4rem;}.card h3{font-size:1.2rem;}p,li{font-size:0.9rem;}}</style>\n",
    "<div class='section-card'>\n",
    "<div class='container'>\n",
    "<div class='card green' id='toc6_2_'>\n",
    "<h3>Benefits</h3>\n",
    "<p>Improves readability, enables static checking, enhances IDE support, and serves as live documentation.</p>\n",
    "</div>\n",
    "<div class='card green' id='toc6_3_'>\n",
    "<h3>Using Type Hints with Docstrings</h3>\n",
    "<p>Combine for complete interface description; hints for types, docstrings for details.</p>\n",
    "</div>\n",
    "</div>\n",
    "</div>"
   ]
  },
  {
   "cell_type": "code",
   "execution_count": 12,
   "metadata": {},
   "outputs": [],
   "source": [
    "def calculate_area(radius: float) -> float:\n",
    "    \"\"\"\n",
    "    Calculate the area of a circle given its radius.\n",
    "\n",
    "    The calculation is based on the formula: pi * radius^2.\n",
    "\n",
    "    Args:\n",
    "        radius: The radius of the circle.\n",
    "\n",
    "    Returns:\n",
    "        The area of the circle.\n",
    "    \"\"\"\n",
    "    return 3.141592653589793 * radius ** 2"
   ]
  },
  {
   "cell_type": "markdown",
   "metadata": {},
   "source": [
    "<style>*{box-sizing:border-box;}h1{width:100%;text-align:center;color:#ffffff;font-size:2.8rem;margin-bottom:1.5rem;font-family:'Poppins',sans-serif;letter-spacing:1px;}.section-card{background:linear-gradient(145deg,rgb(61,61,87),rgb(49,49,70));border-radius:15px;padding:2rem;margin:0 auto 2.5rem;box-shadow:0 8px 20px rgba(0,0,0,0.5);width:100%;max-width:min(1200px,95vw);}.section-card h2,.card h3{color:#ffffff;font-family:'Poppins',sans-serif;letter-spacing:1px;}.section-card h2{text-align:center;font-size:1.8rem;margin-bottom:1.5rem;}.card h3{font-size:1.3rem;margin-bottom:0.75rem;font-weight:bold;}.container{display:flex;flex-direction:column;gap:1.25rem;align-items:center;}.card{background:linear-gradient(145deg,#24243e,#1e1e3a);border-radius:12px;padding:1.5rem;box-shadow:0 6px 16px rgba(0,0,0,0.4);border-left:4px solid transparent;width:min(1000px,90vw);margin:0 auto 1.25rem;transition:transform 0.3s ease,box-shadow 0.3s ease;}.card:hover{transform:translateY(-6px);box-shadow:0 10px 20px rgba(0,0,0,0.5);}.container>.card:last-child{margin-bottom:2rem;}.card.green{border-left-color:#66bb6a;}.card.blue{border-left-color:#29b6f6;}.card.orange{border-left-color:#ffa726;}.card.purple{border-left-color:#ba68c8;}.card.red{border-left-color:#ef5350;}p,li{color:#dcdcdc;font-size:0.95rem;line-height:1.5;font-family:'Segoe UI',sans-serif;}p{margin-bottom:0.75rem;}ul,ol{padding-left:1.25rem;margin-bottom:0.75rem;}li{margin-bottom:0.5rem;}blockquote{border-left:3px solid #66bb6a;padding-left:1rem;margin-left:0;color:#f0f0f0;font-style:italic;}.note{background-color:#fdd835;color:#000;padding:1rem;border-radius:6px;margin-top:1.25rem;font-style:italic;font-size:0.95rem;font-family:'Segoe UI',sans-serif;width:min(1000px,90vw);margin:1.25rem auto 0;}.toc-card ul{list-style-type:none;padding-left:0;}.toc-card a{color:#29b6f6;text-decoration:none;}@media (max-width:768px){.section-card{padding:1.25rem;}.card{width:100%;padding:1rem;margin:0 auto 1rem;}.container>.card:last-child{margin-bottom:1.5rem;}h1{font-size:2rem;}.section-card h2{font-size:1.4rem;}.card h3{font-size:1.2rem;}p,li{font-size:0.9rem;}}</style>\n",
    "<div class='section-card' id='toc7_'>\n",
    "<h2>Practice Exercise</h2>\n",
    "<div class='container'>\n",
    "<div class='card blue'>\n",
    "<p>Document a rectangle area function with docstring (description, params, returns) and type hints (float inputs/outputs).</p>\n",
    "<p>Access docstring via help() and __doc__.</p>\n",
    "<p>Bonus: Rewrite in Google style.</p>\n",
    "</div>\n",
    "<div class='card blue'>\n",
    "<ol>\n",
    "<li><strong>Write the Function:</strong> Define calculate_rectangle_area(width, height).</li>\n",
    "<li><strong>Add Docstring:</strong> Include description, parameters, returns.</li>\n",
    "<li><strong>Include Type Hints:</strong> Use float for params and return.</li>\n",
    "<li><strong>Access Docstring:</strong> Print using help() and __doc__.</li>\n",
    "<li><strong>Bonus:</strong> Use Google style.</li>\n",
    "</ol>\n",
    "</div>\n",
    "</div>\n",
    "</div>"
   ]
  },
  {
   "cell_type": "code",
   "execution_count": 13,
   "metadata": {},
   "outputs": [],
   "source": [
    "# Task 1, 2, 3: Write the Function, add Docstring, and Type Annotations\n",
    "def calculate_rectangle_area(width: float, height: float) -> float:\n",
    "    \"\"\"\n",
    "    Calculate the area of a rectangle.\n",
    "\n",
    "    Parameters:\n",
    "    width (float): The width of the rectangle in units.\n",
    "    height (float): The height of the rectangle in units.\n",
    "\n",
    "    Returns:\n",
    "    float: The area of the rectangle in square units.\n",
    "    \"\"\"\n",
    "    return width * height\n"
   ]
  },
  {
   "cell_type": "code",
   "execution_count": 14,
   "metadata": {},
   "outputs": [
    {
     "name": "stdout",
     "output_type": "stream",
     "text": [
      "Using .__doc__ attribute:\n"
     ]
    }
   ],
   "source": [
    "# Task 4: Access the Docstring\n",
    "print(\"Using .__doc__ attribute:\")"
   ]
  },
  {
   "cell_type": "code",
   "execution_count": 15,
   "metadata": {},
   "outputs": [
    {
     "name": "stdout",
     "output_type": "stream",
     "text": [
      "\n",
      "    Calculate the area of a rectangle.\n",
      "\n",
      "    Parameters:\n",
      "    width (float): The width of the rectangle in units.\n",
      "    height (float): The height of the rectangle in units.\n",
      "\n",
      "    Returns:\n",
      "    float: The area of the rectangle in square units.\n",
      "    \n"
     ]
    }
   ],
   "source": [
    "print(calculate_rectangle_area.__doc__)"
   ]
  },
  {
   "cell_type": "code",
   "execution_count": 16,
   "metadata": {},
   "outputs": [
    {
     "name": "stdout",
     "output_type": "stream",
     "text": [
      "Using help() function:\n",
      "Help on function calculate_rectangle_area in module __main__:\n",
      "\n",
      "calculate_rectangle_area(width: float, height: float) -> float\n",
      "    Calculate the area of a rectangle.\n",
      "    \n",
      "    Parameters:\n",
      "    width (float): The width of the rectangle in units.\n",
      "    height (float): The height of the rectangle in units.\n",
      "    \n",
      "    Returns:\n",
      "    float: The area of the rectangle in square units.\n",
      "\n"
     ]
    }
   ],
   "source": [
    "print(\"Using help() function:\")\n",
    "help(calculate_rectangle_area)"
   ]
  },
  {
   "cell_type": "code",
   "execution_count": 17,
   "metadata": {},
   "outputs": [],
   "source": [
    "# Bonus Task: Explore Docstring Styles\n",
    "# Here's an example of the Google docstring style:\n",
    "def calculate_rectangle_area(width: float, height: float) -> float:\n",
    "    \"\"\"\n",
    "    Calculate the area of a rectangle.\n",
    "\n",
    "    Args:\n",
    "        width (float): The width of the rectangle in units.\n",
    "        height (float): The height of the rectangle in units.\n",
    "\n",
    "    Returns:\n",
    "        The area of the rectangle in square units.\n",
    "    \"\"\"\n",
    "    return width * height\n"
   ]
  }
 ],
 "metadata": {
  "kernelspec": {
   "display_name": "base",
   "language": "python",
   "name": "python3"
  },
  "language_info": {
   "codemirror_mode": {
    "name": "ipython",
    "version": 3
   },
   "file_extension": ".py",
   "mimetype": "text/x-python",
   "name": "python",
   "nbconvert_exporter": "python",
   "pygments_lexer": "ipython3",
   "version": "3.11.5"
  }
 },
 "nbformat": 4,
 "nbformat_minor": 2
}
