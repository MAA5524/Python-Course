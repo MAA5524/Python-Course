{
 "cells": [
  {
   "cell_type": "markdown",
   "metadata": {},
   "source": [
    "<style>*{box-sizing:border-box}.section-card{background:linear-gradient(145deg,rgb(61,61,87),rgb(49,49,70));border-radius:15px;padding:2rem;margin:0 auto 2.5rem;box-shadow:0 8px 20px rgba(0,0,0,0.5);width:100%;max-width:min(1200px,95vw)}.section-card h1{width:100%;text-align:center;color:#ffffff;font-size:2.8rem;margin-bottom:0;font-family:'Poppins',sans-serif;letter-spacing:1px}.container{display:flex;flex-direction:column;gap:1.25rem;align-items:center}.card{background:linear-gradient(145deg,#24243e,#1e1e3a);border-radius:12px;padding:1.5rem;box-shadow:0 6px 16px rgba(0,0,0,0.4);border-left:4px solid transparent;width:min(1000px,90vw);margin:0 auto 1.25rem;transition:transform 0.3s ease,box-shadow 0.3s ease}.card:hover{transform:translateY(-6px);box-shadow:0 10px 20px rgba(0,0,0,0.5)}.container>.card:last-child{margin-bottom:2rem}.card.green{border-left-color:#66bb6a}p,li{color:#dcdcdc;font-size:0.95rem;line-height:1.5;font-family:'Segoe UI',sans-serif}p{margin-bottom:0.75rem}@media (max-width:768px){.section-card{padding:1.25rem}.section-card h1{font-size:2rem}.card{width:100%;padding:1rem;margin:0 auto 1rem}.container>.card:last-child{margin-bottom:1.5rem}p,li{font-size:0.9rem}}</style>\n",
    "<div class=\"section-card\">\n",
    "  <h1>Built-in Functions in Python</h1>\n",
    "</div>\n",
    "<div class=\"section-card\">\n",
    "  <div class=\"container\">\n",
    "    <div class=\"card green\">\n",
    "      <p>Built-in functions in Python enable efficient, concise coding without additional imports. They handle tasks like type conversion, data aggregation, and math operations, enhancing code readability and performance.</p>\n",
    "      <p><strong>Key Uses:</strong> Manipulate numbers (<code>abs()</code>, <code>sum()</code>), work with iterables (<code>len()</code>, <code>map()</code>), convert types (<code>int()</code>, <code>str()</code>), and interact with the environment (<code>print()</code>, <code>input()</code>).</p>\n",
    "    </div>\n",
    "  </div>\n",
    "</div>"
   ]
  },
  {
   "cell_type": "markdown",
   "metadata": {},
   "source": [
    "<style>\n",
    "  * { box-sizing: border-box; }\n",
    "  .section-card { background: linear-gradient(145deg, rgb(61, 61, 87), rgb(49, 49, 70)); border-radius: 15px; padding: 2rem; margin: 0 auto 2.5rem; box-shadow: 0 8px 20px rgba(0, 0, 0, 0.5); width: 100%; max-width: min(1200px, 95vw); }\n",
    "  .section-card h2 { text-align: center; color: #ffffff; font-size: 1.8rem; margin-bottom: 1.5rem; font-family: 'Poppins', sans-serif; letter-spacing: 1px; }\n",
    "  .container { display: flex; flex-direction: column; gap: 1.25rem; align-items: center; }\n",
    "  .card { background: linear-gradient(145deg, #24243e, #1e1e3a); border-radius: 12px; padding: 1.5rem; box-shadow: 0 6px 16px rgba(0, 0, 0, 0.4); border-left: 4px solid transparent; width: min(1000px, 90vw); margin: 0 auto 1.25rem; transition: transform 0.3s ease, box-shadow 0.3s ease; }\n",
    "  .card:hover { transform: translateY(-6px); box-shadow: 0 10px 20px rgba(0, 0, 0, 0.5); }\n",
    "  .container > .card:last-child { margin-bottom: 2rem; }\n",
    "  .card.blue { border-left-color: #29b6f6; }\n",
    "  li { margin-bottom: 0.5rem; color: #dcdcdc; font-size: 0.95rem; line-height: 1.5; font-family: 'Segoe UI', sans-serif; }\n",
    "  .toc-card ul { list-style-type: none; padding-left: 0; margin-bottom:0; }\n",
    "  .toc-card a { color: #29b6f6; text-decoration: none; }\n",
    "  .toc-card ul ul { padding-left: 1.5rem; margin-top:0.5rem; }\n",
    "  @media (max-width: 768px) { .section-card { padding: 1.25rem; } .card { width: 100%; padding: 1rem; margin: 0 auto 1rem; } .container > .card:last-child { margin-bottom: 1.5rem; } .section-card h2 { font-size: 1.4rem; } li { font-size: 0.9rem; } }\n",
    "</style>\n",
    "<div class=\"section-card\">\n",
    "  <h2>Table of contents</h2>\n",
    "  <div class=\"container\">\n",
    "    <div class=\"card blue toc-card\">\n",
    "      <strong>Table of contents</strong><a id=\"toc0_\"></a>\n",
    "        <ul>\n",
    "        <li><a href=\"#toc1_\">Common Types of Built-in Functions</a>\n",
    "          <ul>\n",
    "            <li><a href=\"#toc1_1_\">Numeric Functions</a></li>\n",
    "            <li><a href=\"#toc1_2_\">String Functions</a></li>\n",
    "            <li><a href=\"#toc1_3_\">Iteration Functions</a></li>\n",
    "          </ul>\n",
    "        </li>\n",
    "        <li><a href=\"#toc2_\">Best Practices</a>\n",
    "          <ul>\n",
    "            <li><a href=\"#toc2_1_\">Efficiency Considerations</a></li>\n",
    "            <li><a href=\"#toc2_2_\">Readability and Maintainability</a></li>\n",
    "          </ul>\n",
    "        </li>\n",
    "        <li><a href=\"#toc3_\">Practice Exercise</a>\n",
    "          <ul>\n",
    "            <li><a href=\"#toc3_1_\">Solution</a></li>\n",
    "          </ul>\n",
    "        </li>\n",
    "      </ul>\n",
    "    </div>\n",
    "  </div>\n",
    "</div>"
   ]
  },
  {
   "cell_type": "markdown",
   "metadata": {},
   "source": [
    "<style>*{box-sizing:border-box}.section-card{background:linear-gradient(145deg,rgb(61,61,87),rgb(49,49,70));border-radius:15px;padding:2rem;margin:0 auto 2.5rem;box-shadow:0 8px 20px rgba(0,0,0,0.5);width:100%;max-width:min(1200px,95vw)}.section-card h2,.card h3{color:#ffffff;font-family:'Poppins',sans-serif;letter-spacing:1px}.section-card h2{text-align:center;font-size:1.8rem;margin-bottom:1.5rem}.card h3{font-size:1.3rem;margin-bottom:0.75rem;font-weight:bold}.container{display:flex;flex-direction:column;gap:1.25rem;align-items:center}.card{background:linear-gradient(145deg,#24243e,#1e1e3a);border-radius:12px;padding:1.5rem;box-shadow:0 6px 16px rgba(0,0,0,0.4);border-left:4px solid transparent;width:min(1000px,90vw);margin:0 auto 1.25rem;transition:transform 0.3s ease,box-shadow 0.3s ease}.card:hover{transform:translateY(-6px);box-shadow:0 10px 20px rgba(0,0,0,0.5)}.container>.card:last-child{margin-bottom:2rem}.card.orange{border-left-color:#ffa726}p{color:#dcdcdc;font-size:0.95rem;line-height:1.5;font-family:'Segoe UI',sans-serif;margin-bottom:0.75rem}@media (max-width:768px){.section-card{padding:1.25rem}.card{width:100%;padding:1rem;margin:0 auto 1rem}.container>.card:last-child{margin-bottom:1.5rem}.section-card h2{font-size:1.4rem}p{font-size:0.9rem}}</style>\n",
    "<div class=\"section-card\" id=\"toc1_\">\n",
    "  <h2>Common Types of Built-in Functions</h2>\n",
    "  <div class=\"container\">\n",
    "    <div class=\"card orange\">\n",
    "      <h3>Overview</h3>\n",
    "      <p>Built-in functions are categorized into numeric, string, and iteration functions, tailored for efficient data handling.</p>\n",
    "    </div>\n",
    "  </div>\n",
    "</div>"
   ]
  },
  {
   "cell_type": "markdown",
   "metadata": {},
   "source": [
    "<style>*{box-sizing:border-box}.section-card{background:linear-gradient(145deg,rgb(61,61,87),rgb(49,49,70));border-radius:15px;padding:2rem;margin:0 auto 2.5rem;box-shadow:0 8px 20px rgba(0,0,0,0.5);width:100%;max-width:min(1200px,95vw)}.section-card h2,.card h3{color:#ffffff;font-family:'Poppins',sans-serif;letter-spacing:1px}.section-card h2{text-align:center;font-size:1.8rem;margin-bottom:1.5rem}.card h3{color:#ffffff;font-family:'Poppins',sans-serif;letter-spacing:1px;font-size:1.3rem;margin-bottom:0.75rem;font-weight:bold}.container{display:flex;flex-direction:column;gap:1.25rem;align-items:center}.card{background:linear-gradient(145deg,#24243e,#1e1e3a);border-radius:12px;padding:1.5rem;box-shadow:0 6px 16px rgba(0,0,0,0.4);border-left:4px solid transparent;width:min(1000px,90vw);margin:0 auto 1.25rem;transition:transform 0.3s ease,box-shadow 0.3s ease}.card:hover{transform:translateY(-6px);box-shadow:0 10px 20px rgba(0,0,0,0.5)}.container>.card:last-child{margin-bottom:2rem}.card.orange{border-left-color:#ffa726}p,li{color:#dcdcdc;font-size:0.95rem;line-height:1.5;font-family:'Segoe UI',sans-serif}p{margin-bottom:0.75rem}ul{list-style-position:inside;padding-left:0}@media (max-width:768px){.card{width:100%;padding:1rem;margin:0 auto 1rem}.container>.card:last-child{margin-bottom:1.5rem}p,li{font-size:0.9rem}}</style>\n",
    "<div class=\"section-card\" id=\"toc1_1_\">\n",
    "  <div class=\"container\">\n",
    "    <div class=\"card orange\">\n",
    "      <h3>Numeric Functions</h3>\n",
    "      <p>Functions like <code>abs()</code>, <code>sum()</code>, <code>min()</code>, <code>max()</code>, <code>pow()</code> and <code>round()</code> simplify numerical operations.</p>\n",
    "    </div>\n",
    "  </div>\n",
    "</div>"
   ]
  },
  {
   "cell_type": "code",
   "execution_count": 1,
   "metadata": {},
   "outputs": [],
   "source": [
    "numbers = [2, -5, 3.5, 4]"
   ]
  },
  {
   "cell_type": "code",
   "execution_count": 2,
   "metadata": {},
   "outputs": [
    {
     "data": {
      "text/plain": [
       "[2, 5, 3.5, 4]"
      ]
     },
     "execution_count": 2,
     "metadata": {},
     "output_type": "execute_result"
    }
   ],
   "source": [
    "# Get the absolute value of each number\n",
    "[abs(num) for num in numbers]"
   ]
  },
  {
   "cell_type": "code",
   "execution_count": 3,
   "metadata": {},
   "outputs": [
    {
     "data": {
      "text/plain": [
       "4.5"
      ]
     },
     "execution_count": 3,
     "metadata": {},
     "output_type": "execute_result"
    }
   ],
   "source": [
    "# Sum all numbers\n",
    "sum(numbers)"
   ]
  },
  {
   "cell_type": "code",
   "execution_count": 4,
   "metadata": {},
   "outputs": [
    {
     "data": {
      "text/plain": [
       "(-5, 4)"
      ]
     },
     "execution_count": 4,
     "metadata": {},
     "output_type": "execute_result"
    }
   ],
   "source": [
    "# Find the smallest and largest numbers\n",
    "min(numbers), max(numbers)"
   ]
  },
  {
   "cell_type": "code",
   "execution_count": 5,
   "metadata": {},
   "outputs": [
    {
     "data": {
      "text/plain": [
       "[2, -5, 4, 4]"
      ]
     },
     "execution_count": 5,
     "metadata": {},
     "output_type": "execute_result"
    }
   ],
   "source": [
    "# Round each number to the nearest integer\n",
    "[round(num) for num in numbers]"
   ]
  },
  {
   "cell_type": "markdown",
   "metadata": {},
   "source": [
    "<style>*{box-sizing:border-box}.section-card{background:linear-gradient(145deg,rgb(61,61,87),rgb(49,49,70));border-radius:15px;padding:2rem;margin:0 auto 2.5rem;box-shadow:0 8px 20px rgba(0,0,0,0.5);width:100%;max-width:min(1200px,95vw)}.section-card h2,.card h3{color:#ffffff;font-family:'Poppins',sans-serif;letter-spacing:1px}.section-card h2{text-align:center;font-size:1.8rem;margin-bottom:1.5rem}.card h3{color:#ffffff;font-family:'Poppins',sans-serif;letter-spacing:1px;font-size:1.3rem;margin-bottom:0.75rem;font-weight:bold}.container{display:flex;flex-direction:column;gap:1.25rem;align-items:center}.card{background:linear-gradient(145deg,#24243e,#1e1e3a);border-radius:12px;padding:1.5rem;box-shadow:0 6px 16px rgba(0,0,0,0.4);border-left:4px solid transparent;width:min(1000px,90vw);margin:0 auto 1.25rem;transition:transform 0.3s ease,box-shadow 0.3s ease}.card:hover{transform:translateY(-6px);box-shadow:0 10px 20px rgba(0,0,0,0.5)}.container>.card:last-child{margin-bottom:2rem}.card.orange{border-left-color:#ffa726}p,li{color:#dcdcdc;font-size:0.95rem;line-height:1.5;font-family:'Segoe UI',sans-serif}p{margin-bottom:0.75rem}ul{list-style-position:inside;padding-left:0}@media (max-width:768px){.card{width:100%;padding:1rem;margin:0 auto 1rem}.container>.card:last-child{margin-bottom:1.5rem}p,li{font-size:0.9rem}}</style>\n",
    "<div class=\"section-card\" id=\"toc1_2_\">\n",
    "  <div class=\"container\">\n",
    "    <div class=\"card orange\">\n",
    "      <h3>String Functions</h3>\n",
    "      <p>Functions like <code>len()</code> and <code>str()</code> aid in string manipulation and conversion.</p>\n",
    "    </div>\n",
    "  </div>\n",
    "</div>"
   ]
  },
  {
   "cell_type": "code",
   "execution_count": 6,
   "metadata": {},
   "outputs": [],
   "source": [
    "text = \"Hello, Python!\""
   ]
  },
  {
   "cell_type": "code",
   "execution_count": 7,
   "metadata": {},
   "outputs": [
    {
     "data": {
      "text/plain": [
       "14"
      ]
     },
     "execution_count": 7,
     "metadata": {},
     "output_type": "execute_result"
    }
   ],
   "source": [
    "# Get the length of the string\n",
    "len(text)"
   ]
  },
  {
   "cell_type": "code",
   "execution_count": 8,
   "metadata": {},
   "outputs": [
    {
     "data": {
      "text/plain": [
       "'42'"
      ]
     },
     "execution_count": 8,
     "metadata": {},
     "output_type": "execute_result"
    }
   ],
   "source": [
    "# Convert a number to a string\n",
    "str(42)"
   ]
  },
  {
   "cell_type": "markdown",
   "metadata": {},
   "source": [
    "<style>*{box-sizing:border-box}.section-card{background:linear-gradient(145deg,rgb(61,61,87),rgb(49,49,70));border-radius:15px;padding:2rem;margin:0 auto 2.5rem;box-shadow:0 8px 20px rgba(0,0,0,0.5);width:100%;max-width:min(1200px,95vw)}.section-card h2,.card h3{color:#ffffff;font-family:'Poppins',sans-serif;letter-spacing:1px}.section-card h2{text-align:center;font-size:1.8rem;margin-bottom:1.5rem}.card h3{color:#ffffff;font-family:'Poppins',sans-serif;letter-spacing:1px;font-size:1.3rem;margin-bottom:0.75rem;font-weight:bold}.container{display:flex;flex-direction:column;gap:1.25rem;align-items:center}.card{background:linear-gradient(145deg,#24243e,#1e1e3a);border-radius:12px;padding:1.5rem;box-shadow:0 6px 16px rgba(0,0,0,0.4);border-left:4px solid transparent;width:min(1000px,90vw);margin:0 auto 1.25rem;transition:transform 0.3s ease,box-shadow 0.3s ease}.card:hover{transform:translateY(-6px);box-shadow:0 10px 20px rgba(0,0,0,0.5)}.container>.card:last-child{margin-bottom:2rem}.card.orange{border-left-color:#ffa726}p,li{color:#dcdcdc;font-size:0.95rem;line-height:1.5;font-family:'Segoe UI',sans-serif}p{margin-bottom:0.75rem}ul{list-style-position:inside;padding-left:0}@media (max-width:768px){.card{width:100%;padding:1rem;margin:0 auto 1rem}.container>.card:last-child{margin-bottom:1.5rem}p,li{font-size:0.9rem}}</style>\n",
    "<div class=\"section-card\" id=\"toc1_3_\">\n",
    "  <div class=\"container\">\n",
    "    <div class=\"card orange\">\n",
    "      <h3>Iteration Functions</h3>\n",
    "      <p>Functions like <code>range()</code>, <code>sorted()</code>, <code>filter()</code>, <code>map()</code>, and <code>zip()</code> streamline iterable operations.</p>\n",
    "    </div>\n",
    "  </div>\n",
    "</div>"
   ]
  },
  {
   "cell_type": "code",
   "execution_count": 11,
   "metadata": {},
   "outputs": [],
   "source": [
    "# Generate a range of numbers from 0 to 9\n",
    "numbers = range(10)"
   ]
  },
  {
   "cell_type": "code",
   "execution_count": 12,
   "metadata": {},
   "outputs": [
    {
     "data": {
      "text/plain": [
       "[9, 8, 7, 6, 5, 4, 3, 2, 1, 0]"
      ]
     },
     "execution_count": 12,
     "metadata": {},
     "output_type": "execute_result"
    }
   ],
   "source": [
    "# Sort a list of numbers in descending order\n",
    "sorted(numbers, reverse=True)"
   ]
  },
  {
   "cell_type": "code",
   "execution_count": 13,
   "metadata": {},
   "outputs": [
    {
     "data": {
      "text/plain": [
       "[6, 7, 8, 9]"
      ]
     },
     "execution_count": 13,
     "metadata": {},
     "output_type": "execute_result"
    }
   ],
   "source": [
    "# Filter out numbers greater than 5\n",
    "list(filter(lambda x: x > 5, numbers))"
   ]
  },
  {
   "cell_type": "code",
   "execution_count": 14,
   "metadata": {},
   "outputs": [
    {
     "data": {
      "text/plain": [
       "[0, 1, 4, 9, 16, 25, 36, 49, 64, 81]"
      ]
     },
     "execution_count": 14,
     "metadata": {},
     "output_type": "execute_result"
    }
   ],
   "source": [
    "# Square each number using map\n",
    "list(map(lambda x: x**2, numbers))"
   ]
  },
  {
   "cell_type": "code",
   "execution_count": 15,
   "metadata": {},
   "outputs": [],
   "source": [
    "# Combine two lists into a list of tuples\n",
    "names = ['Alice', 'Bob', 'Charlie']\n",
    "ages = [25, 30, 35]\n",
    "combined = zip(names, ages)"
   ]
  },
  {
   "cell_type": "code",
   "execution_count": 16,
   "metadata": {},
   "outputs": [
    {
     "data": {
      "text/plain": [
       "[('Alice', 25), ('Bob', 30), ('Charlie', 35)]"
      ]
     },
     "execution_count": 16,
     "metadata": {},
     "output_type": "execute_result"
    }
   ],
   "source": [
    "list(combined)"
   ]
  },
  {
   "cell_type": "markdown",
   "metadata": {},
   "source": [
    "<style>*{box-sizing:border-box}.section-card{background:linear-gradient(145deg,rgb(61,61,87),rgb(49,49,70));border-radius:15px;padding:2rem;margin:0 auto 2.5rem;box-shadow:0 8px 20px rgba(0,0,0,0.5);width:100%;max-width:min(1200px,95vw)}.section-card h2,.card h3{color:#ffffff;font-family:'Poppins',sans-serif;letter-spacing:1px}.section-card h2{text-align:center;font-size:1.8rem;margin-bottom:1.5rem}.card h3{font-size:1.3rem;margin-bottom:0.75rem;font-weight:bold}.container{display:flex;flex-direction:column;gap:1.25rem;align-items:center}.card{background:linear-gradient(145deg,#24243e,#1e1e3a);border-radius:12px;padding:1.5rem;box-shadow:0 6px 16px rgba(0,0,0,0.4);border-left:4px solid transparent;width:min(1000px,90vw);margin:0 auto 1.25rem;transition:transform 0.3s ease,box-shadow 0.3s ease}.card:hover{transform:translateY(-6px);box-shadow:0 10px 20px rgba(0,0,0,0.5)}.container>.card:last-child{margin-bottom:2rem}.card.purple{border-left-color:#ba68c8}p,li{color:#dcdcdc;font-size:0.95rem;line-height:1.5;font-family:'Segoe UI',sans-serif}p{margin-bottom:0.75rem}ul{list-style-position:inside;padding-left:0}@media (max-width:768px){.section-card{padding:1.25rem}.card{width:100%;padding:1rem;margin:0 auto 1rem}.container>.card:last-child{margin-bottom:1.5rem}.section-card h2{font-size:1.4rem}p,li{font-size:0.9rem}}</style>\n",
    "<div class=\"section-card\" id=\"toc2_\">\n",
    "  <h2>Best Practices When Using Built-in Functions</h2>\n",
    "  <div class=\"container\">\n",
    "    <div class=\"card purple\">\n",
    "      <h3>Overview</h3>\n",
    "      <p>Use built-in functions thoughtfully to optimize efficiency and ensure code clarity.</p>\n",
    "    </div>\n",
    "  </div>\n",
    "</div>"
   ]
  },
  {
   "cell_type": "markdown",
   "metadata": {},
   "source": [
    "<style>*{box-sizing:border-box}.section-card{background:linear-gradient(145deg,rgb(61,61,87),rgb(49,49,70));border-radius:15px;padding:2rem;margin:0 auto 2.5rem;box-shadow:0 8px 20px rgba(0,0,0,0.5);width:100%;max-width:min(1200px,95vw)}.section-card h2,.card h3{color:#ffffff;font-family:'Poppins',sans-serif;letter-spacing:1px}.section-card h2{text-align:center;font-size:1.8rem;margin-bottom:1.5rem}.card h3{color:#ffffff;font-family:'Poppins',sans-serif;letter-spacing:1px;font-size:1.3rem;margin-bottom:0.75rem;font-weight:bold}.container{display:flex;flex-direction:column;gap:1.25rem;align-items:center}.card{background:linear-gradient(145deg,#24243e,#1e1e3a);border-radius:12px;padding:1.5rem;box-shadow:0 6px 16px rgba(0,0,0,0.4);border-left:4px solid transparent;width:min(1000px,90vw);margin:0 auto 1.25rem;transition:transform 0.3s ease,box-shadow 0.3s ease}.card:hover{transform:translateY(-6px);box-shadow:0 10px 20px rgba(0,0,0,0.5)}.container>.card:last-child{margin-bottom:2rem}.card.purple{border-left-color:#ba68c8}p,li{color:#dcdcdc;font-size:0.95rem;line-height:1.5;font-family:'Segoe UI',sans-serif}p{margin-bottom:0.75rem}ul{list-style-position:inside;padding-left:0}@media (max-width:768px){.card{width:100%;padding:1rem;margin:0 auto 1rem}.container>.card:last-child{margin-bottom:1.5rem}p,li{font-size:0.9rem}}</style>\n",
    "<div class=\"section-card\" id=\"toc2_1_\">\n",
    "  <div class=\"container\">\n",
    "    <div class=\"card purple\">\n",
    "      <h3>Efficiency Considerations</h3>\n",
    "      <ul>\n",
    "        <li><strong>Use the Right Tool for the Job</strong>: Built-ins like <code>sorted()</code>, <code>min()</code>, <code>max()</code> are optimized — choose based on task for best performance.</li>\n",
    "        <li><strong>Leverage Lazy Evaluation</strong>: <code>map()</code> and <code>filter()</code> return iterators; process data on-demand to save memory with large datasets.</li>\n",
    "        <li><strong>Beware of Unnecessary Copies</strong>: Functions like <code>sorted()</code> create new objects; prefer in-place methods like <code>.sort()</code> for large data.</li>\n",
    "        <li><strong>Combine Functions Judiciously</strong>: Chaining is powerful but can hurt performance; always check for simpler, more direct alternatives.</li>\n",
    "      </ul>\n",
    "    </div>\n",
    "  </div>\n",
    "</div>"
   ]
  },
  {
   "cell_type": "markdown",
   "metadata": {},
   "source": [
    "<style>*{box-sizing:border-box}.section-card{background:linear-gradient(145deg,rgb(61,61,87),rgb(49,49,70));border-radius:15px;padding:2rem;margin:0 auto 2.5rem;box-shadow:0 8px 20px rgba(0,0,0,0.5);width:100%;max-width:min(1200px,95vw)}.section-card h2,.card h3{color:#ffffff;font-family:'Poppins',sans-serif;letter-spacing:1px}.section-card h2{text-align:center;font-size:1.8rem;margin-bottom:1.5rem}.card h3{color:#ffffff;font-family:'Poppins',sans-serif;letter-spacing:1px;font-size:1.3rem;margin-bottom:0.75rem;font-weight:bold}.container{display:flex;flex-direction:column;gap:1.25rem;align-items:center}.card{background:linear-gradient(145deg,#24243e,#1e1e3a);border-radius:12px;padding:1.5rem;box-shadow:0 6px 16px rgba(0,0,0,0.4);border-left:4px solid transparent;width:min(1000px,90vw);margin:0 auto 1.25rem;transition:transform 0.3s ease,box-shadow 0.3s ease}.card:hover{transform:translateY(-6px);box-shadow:0 10px 20px rgba(0,0,0,0.5)}.container>.card:last-child{margin-bottom:2rem}.card.purple{border-left-color:#ba68c8}p,li{color:#dcdcdc;font-size:0.95rem;line-height:1.5;font-family:'Segoe UI',sans-serif}p{margin-bottom:0.75rem}ul{list-style-position:inside;padding-left:0}@media (max-width:768px){.card{width:100%;padding:1rem;margin:0 auto 1rem}.container>.card:last-child{margin-bottom:1.5rem}p,li{font-size:0.9rem}}</style>\n",
    "<div class=\"section-card\" id=\"toc2_2_\">\n",
    "  <div class=\"container\">\n",
    "    <div class=\"card purple\">\n",
    "      <h3>Readability and Maintainability</h3>\n",
    "      <ul>\n",
    "        <li><strong>Prefer Readable Code Over Clever Code</strong>: Avoid overly compact or tricky constructs; clarity eases maintenance and debugging.</li>\n",
    "        <li><strong>Use Built-in Functions to Simplify Code</strong>: Replace complex loops or conditionals with built-ins like <code>any()</code> or <code>all()</code> for cleaner, more readable logic.</li>\n",
    "        <li><strong>Follow the Principle of Least Surprise</strong>: Use built-in functions conventionally to avoid confusion and unexpected behavior.</li>\n",
    "        <li><strong>Document Non-Obvious Uses</strong>: If a built-in is used unconventionally, add a comment to explain the reasoning.</li>\n",
    "      </ul>\n",
    "    </div>\n",
    "  </div>\n",
    "</div>"
   ]
  },
  {
   "cell_type": "code",
   "execution_count": 17,
   "metadata": {},
   "outputs": [],
   "source": [
    "# Example: Combine elements from two lists if they are not None\n",
    "names = [\"Alice\", None, \"Charlie\", \"Diana\"]\n",
    "ages = [25, 30, None, 22]"
   ]
  },
  {
   "cell_type": "code",
   "execution_count": 18,
   "metadata": {},
   "outputs": [],
   "source": [
    "# Clear and readable use of zip() and a list comprehension\n",
    "combined_list = [(name, age) for name, age in zip(names, ages) if name is not None and age is not None]"
   ]
  },
  {
   "cell_type": "code",
   "execution_count": 19,
   "metadata": {},
   "outputs": [
    {
     "data": {
      "text/plain": [
       "[('Alice', 25), ('Diana', 22)]"
      ]
     },
     "execution_count": 19,
     "metadata": {},
     "output_type": "execute_result"
    }
   ],
   "source": [
    "combined_list"
   ]
  },
  {
   "cell_type": "markdown",
   "metadata": {},
   "source": [
    "<style>*{box-sizing:border-box}.section-card{background:linear-gradient(145deg,rgb(61,61,87),rgb(49,49,70));border-radius:15px;padding:2rem;margin:0 auto 2.5rem;box-shadow:0 8px 20px rgba(0,0,0,0.5);width:100%;max-width:min(1200px,95vw)}.section-card h2,.card h3{color:#ffffff;font-family:'Poppins',sans-serif;letter-spacing:1px}.section-card h2{text-align:center;font-size:1.8rem;margin-bottom:1.5rem}.card h3{font-size:1.3rem;margin-bottom:0.75rem;font-weight:bold}.container{display:flex;flex-direction:column;gap:1.25rem;align-items:center}.card{background:linear-gradient(145deg,#24243e,#1e1e3a);border-radius:12px;padding:1.5rem;box-shadow:0 6px 16px rgba(0,0,0,0.4);border-left:4px solid transparent;width:min(1000px,90vw);margin:0 auto 1.25rem;transition:transform 0.3s ease,box-shadow 0.3s ease}.card:hover{transform:translateY(-6px);box-shadow:0 10px 20px rgba(0,0,0,0.5)}.container>.card:last-child{margin-bottom:2rem}.card.green{border-left-color:#66bb6a}p,li{color:#dcdcdc;font-size:0.95rem;line-height:1.5;font-family:'Segoe UI',sans-serif}p{margin-bottom:0.75rem}ol{list-style-position:inside;padding-left:0}@media (max-width:768px){.section-card{padding:1.25rem}.card{width:100%;padding:1rem;margin:0 auto 1rem}.container>.card:last-child{margin-bottom:1.5rem}.section-card h2{font-size:1.4rem}p,li{font-size:0.9rem}}</style>\n",
    "<div class=\"section-card\" id=\"toc3_\">\n",
    "  <h2>Practice Exercise</h2>\n",
    "  <div class=\"container\">\n",
    "    <div class=\"card green\">\n",
    "      <p>Use built-in functions to process strings, numbers, and lists efficiently.</p>\n",
    "      <ol>\n",
    "        <li><strong>String Analysis:</strong> Count chars, convert to uppercase.</li>\n",
    "        <li><strong>Numeric Calculations:</strong> Sum, max, min of numbers.</li>\n",
    "        <li><strong>List Manipulation:</strong> Count, sort descending.</li>\n",
    "        <li><strong>Iteration:</strong> Filter words, square numbers.</li>\n",
    "      </ol>\n",
    "    </div>\n",
    "  </div>\n",
    "</div>"
   ]
  },
  {
   "cell_type": "markdown",
   "metadata": {},
   "source": [
    "<style>*{box-sizing:border-box}.section-card{background:linear-gradient(145deg,rgb(61,61,87),rgb(49,49,70));border-radius:15px;padding:2rem;margin:0 auto 2.5rem;box-shadow:0 8px 20px rgba(0,0,0,0.5);width:100%;max-width:min(1200px,95vw)}.section-card h2,.card h3{color:#ffffff;font-family:'Poppins',sans-serif;letter-spacing:1px}.section-card h2{text-align:center;font-size:1.8rem;margin-bottom:1.5rem}.card h3{font-size:1.3rem;margin-bottom:0.75rem;font-weight:bold}.container{display:flex;flex-direction:column;gap:1.25rem;align-items:center}.card{background:linear-gradient(145deg,#24243e,#1e1e3a);border-radius:12px;padding:1.5rem;box-shadow:0 6px 16px rgba(0,0,0,0.4);border-left:4px solid transparent;width:min(1000px,90vw);margin:0 auto 1.25rem;transition:transform 0.3s ease,box-shadow 0.3s ease}.card:hover{transform:translateY(-6px);box-shadow:0 10px 20px rgba(0,0,0,0.5)}.container>.card:last-child{margin-bottom:2rem}.card.green{border-left-color:#66bb6a}p{color:#dcdcdc;font-size:0.95rem;line-height:1.5;font-family:'Segoe UI',sans-serif;margin-bottom:0.75rem}@media (max-width:768px){.section-card{padding:1.25rem}.card{width:100%;padding:1rem;margin:0 auto 1rem}.container>.card:last-child{margin-bottom:1.5rem}.section-card h2{font-size:1.4rem}p{font-size:0.9rem}}</style>\n",
    "<div class=\"section-card\" id=\"toc3_1_\">\n",
    "  <h2>Solution</h2>\n",
    "  <div class=\"container\">\n",
    "    <div class=\"card green\">\n",
    "      <p>Solutions use built-in functions like <code>len()</code>, <code>sum()</code>, <code>max()</code>, <code>min()</code>, <code>count()</code>, <code>sorted()</code>, <code>filter()</code>, and <code>map()</code> for efficient data processing.</p>\n",
    "    </div>\n",
    "  </div>\n",
    "</div>"
   ]
  },
  {
   "cell_type": "code",
   "execution_count": 20,
   "metadata": {},
   "outputs": [],
   "source": [
    "text = \"The quick brown fox jumps over the lazy dog\"\n",
    "numbers_list = [8, 23, 45, 12, 78]\n",
    "mixed_list = [\"hello\", 10, \"world\", 42]"
   ]
  },
  {
   "cell_type": "code",
   "execution_count": 22,
   "metadata": {},
   "outputs": [
    {
     "name": "stdout",
     "output_type": "stream",
     "text": [
      "Number of characters: 43\n",
      "Uppercase text: THE QUICK BROWN FOX JUMPS OVER THE LAZY DOG\n"
     ]
    }
   ],
   "source": [
    "# Task 1: String Analysis\n",
    "print(f\"Number of characters: {len(text)}\")\n",
    "print(f\"Uppercase text: {text.upper()}\")"
   ]
  },
  {
   "cell_type": "code",
   "execution_count": 23,
   "metadata": {},
   "outputs": [
    {
     "name": "stdout",
     "output_type": "stream",
     "text": [
      "Sum of numbers: 166\n",
      "Maximum number: 78\n",
      "Minimum number: 8\n"
     ]
    }
   ],
   "source": [
    "# Task 2: Numeric Calculations\n",
    "print(f\"Sum of numbers: {sum(numbers_list)}\")\n",
    "print(f\"Maximum number: {max(numbers_list)}\")\n",
    "print(f\"Minimum number: {min(numbers_list)}\")"
   ]
  },
  {
   "cell_type": "code",
   "execution_count": 24,
   "metadata": {},
   "outputs": [
    {
     "name": "stdout",
     "output_type": "stream",
     "text": [
      "Occurrences of 10: 1\n",
      "Sorted numbers (descending): [78, 45, 23, 12, 8]\n"
     ]
    }
   ],
   "source": [
    "# Task 3: List Manipulation\n",
    "print(f\"Occurrences of 10: {mixed_list.count(10)}\")\n",
    "print(f\"Sorted numbers (descending): {sorted(numbers_list, reverse=True)}\")"
   ]
  },
  {
   "cell_type": "code",
   "execution_count": 25,
   "metadata": {},
   "outputs": [
    {
     "name": "stdout",
     "output_type": "stream",
     "text": [
      "Iterated words (excluding 'the'): quick, brown, fox, jumps, over, lazy, dog, \n",
      "Squared numbers: [64, 529, 2025, 144, 6084]\n"
     ]
    }
   ],
   "source": [
    "# Task 4: Iterating with Built-in Functions\n",
    "print(\"Iterated words (excluding 'the'):\", end=\" \")\n",
    "for word in filter(lambda w: w.lower() != \"the\", text.split()):\n",
    "    print(word, end=\", \")\n",
    "print()\n",
    "squared_numbers = list(map(lambda x: x**2, numbers_list))\n",
    "print(f\"Squared numbers: {squared_numbers}\")"
   ]
  }
 ],
 "metadata": {
  "kernelspec": {
   "display_name": "py310",
   "language": "python",
   "name": "python3"
  },
  "language_info": {
   "codemirror_mode": {
    "name": "ipython",
    "version": 3
   },
   "file_extension": ".py",
   "mimetype": "text/x-python",
   "name": "python",
   "nbconvert_exporter": "python",
   "pygments_lexer": "ipython3",
   "version": "3.10.12"
  }
 },
 "nbformat": 4,
 "nbformat_minor": 2
}
