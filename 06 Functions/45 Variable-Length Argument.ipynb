{
 "cells": [
  {
   "cell_type": "markdown",
   "metadata": {},
   "source": [
    "<style>\n",
    "  * { box-sizing: border-box; }\n",
    "  .section-card { background: linear-gradient(145deg, rgb(61, 61, 87), rgb(49, 49, 70)); border-radius: 15px; padding: 2rem; margin: 0 auto 2.5rem; box-shadow: 0 8px 20px rgba(0, 0, 0, 0.5); width: 100%; max-width: min(1200px, 95vw); }\n",
    "  .section-card h1 { width: 100%; text-align: center; color: #ffffff; font-size: 2.8rem; margin-bottom: 0; font-family: 'Poppins', sans-serif; letter-spacing: 1px; }\n",
    "  .container { display: flex; flex-direction: column; gap: 1.25rem; align-items: center; }\n",
    "  .card { background: linear-gradient(145deg, #24243e, #1e1e3a); border-radius: 12px; padding: 1.5rem; box-shadow: 0 6px 16px rgba(0, 0, 0, 0.4); border-left: 4px solid transparent; width: min(1000px, 90vw); margin: 0 auto 1.25rem; transition: transform 0.3s ease, box-shadow 0.3s ease; }\n",
    "  .card:hover { transform: translateY(-6px); box-shadow: 0 10px 20px rgba(0, 0, 0, 0.5); }\n",
    "  .container > .card:last-child { margin-bottom: 2rem; }\n",
    "  .card.green { border-left-color: #66bb6a; }\n",
    "  p, li { color: #dcdcdc; font-size: 0.95rem; line-height: 1.5; font-family: 'Segoe UI', sans-serif; }\n",
    "  p { margin-bottom: 0.75rem; }\n",
    "  ul { list-style-position: inside; padding-left: 0; }\n",
    "  li { margin-bottom: 0.5rem; }\n",
    "  @media (max-width: 768px) { .section-card { padding: 1.25rem; } .section-card h1 { font-size: 2rem; } .card { width: 100%; padding: 1rem; margin: 0 auto 1rem; } .container > .card:last-child { margin-bottom: 1.5rem; } p, li { font-size: 0.9rem; } }\n",
    "</style>\n",
    "<div class=\"section-card\">\n",
    "  <h1>Function Variable-Length Argument in Python</h1>\n",
    "</div>\n",
    "<div class=\"section-card\">\n",
    "  <div class=\"container\">\n",
    "    <div class=\"card green\">\n",
    "      <p>Python's ability to handle variable-length arguments in functions allows them to accept an arbitrary number of inputs, which is crucial for writing versatile and efficient code where the number of arguments may vary.</p>\n",
    "      <p>This is achieved through several mechanisms:</p>\n",
    "      <ul>\n",
    "        <li><strong>Argument Tuple Packing (<code>*args</code>)</strong>: Lets a function receive any number of positional arguments as a tuple.</li>\n",
    "        <li><strong>Argument Tuple Unpacking (<code>*</code>)</strong>: Allows an iterable to be unpacked into individual positional arguments.</li>\n",
    "        <li><strong>Argument Dictionary Packing (<code>**kwargs</code>)</strong>: Captures keyword arguments into a dictionary.</li>\n",
    "        <li><strong>Argument Dictionary Unpacking (<code>**</code>)</strong>: Enables a dictionary to be passed as keyword arguments.</li>\n",
    "      </ul>\n",
    "      <p style=\"margin-bottom:0;\">This exploration will equip you with advanced argument handling techniques, opening up new possibilities for solving programming challenges more elegantly.</p>\n",
    "    </div>\n",
    "  </div>\n",
    "</div>"
   ]
  },
  {
   "cell_type": "markdown",
   "metadata": {},
   "source": [
    "<style>\n",
    "  * { box-sizing: border-box; }\n",
    "  .section-card { background: linear-gradient(145deg, rgb(61, 61, 87), rgb(49, 49, 70)); border-radius: 15px; padding: 2rem; margin: 0 auto 2.5rem; box-shadow: 0 8px 20px rgba(0, 0, 0, 0.5); width: 100%; max-width: min(1200px, 95vw); }\n",
    "  .section-card h2 { text-align: center; color: #ffffff; font-size: 1.8rem; margin-bottom: 1.5rem; font-family: 'Poppins', sans-serif; letter-spacing: 1px; }\n",
    "  .container { display: flex; flex-direction: column; gap: 1.25rem; align-items: center; }\n",
    "  .card { background: linear-gradient(145deg, #24243e, #1e1e3a); border-radius: 12px; padding: 1.5rem; box-shadow: 0 6px 16px rgba(0, 0, 0, 0.4); border-left: 4px solid transparent; width: min(1000px, 90vw); margin: 0 auto 1.25rem; transition: transform 0.3s ease, box-shadow 0.3s ease; }\n",
    "  .card:hover { transform: translateY(-6px); box-shadow: 0 10px 20px rgba(0, 0, 0, 0.5); }\n",
    "  .container > .card:last-child { margin-bottom: 2rem; }\n",
    "  .card.blue { border-left-color: #29b6f6; }\n",
    "  li { margin-bottom: 0.5rem; color: #dcdcdc; font-size: 0.95rem; line-height: 1.5; font-family: 'Segoe UI', sans-serif; }\n",
    "  .toc-card ul { list-style-type: none; padding-left: 0; margin-bottom:0; }\n",
    "  .toc-card a { color: #29b6f6; text-decoration: none; }\n",
    "  .toc-card ul ul { padding-left: 1.5rem; margin-top:0.5rem; }\n",
    "  @media (max-width: 768px) { .section-card { padding: 1.25rem; } .card { width: 100%; padding: 1rem; margin: 0 auto 1rem; } .container > .card:last-child { margin-bottom: 1.5rem; } .section-card h2 { font-size: 1.4rem; } li { font-size: 0.9rem; } }\n",
    "</style>\n",
    "<div class=\"section-card\">\n",
    "  <h2>Table of contents</h2>\n",
    "  <div class=\"container\">\n",
    "    <div class=\"card blue toc-card\">\n",
    "      <ul>\n",
    "        <li><a href=\"#toc1_\">Argument Tuple Packing</a></li>\n",
    "        <li>\n",
    "          <a href=\"#toc2_\">Argument Tuple Unpacking</a>\n",
    "          <ul>\n",
    "            <li><a href=\"#toc2_1_\">Unpacking Various Iterable Types</a></li>\n",
    "            <li><a href=\"#toc2_2_\">Combining Packing and Unpacking</a></li>\n",
    "          </ul>\n",
    "        </li>\n",
    "        <li>\n",
    "          <a href=\"#toc3_\">Argument Dictionary Packing</a>\n",
    "          <ul>\n",
    "            <li><a href=\"#toc3_1_\">Combining with Positional Arguments</a></li>\n",
    "          </ul>\n",
    "        </li>\n",
    "        <li><a href=\"#toc4_\">Argument Dictionary Unpacking</a></li>\n",
    "        <li>\n",
    "          <a href=\"#toc5_\">Best Practices and Common Mistakes</a>\n",
    "        </li>\n",
    "        <li>\n",
    "          <a href=\"#toc6_\">Practice Exercise: Organizing a Coding Workshop</a>\n",
    "          <ul>\n",
    "            <li><a href=\"#toc6_1_\">Solution</a></li>\n",
    "          </ul>\n",
    "        </li>\n",
    "      </ul>\n",
    "    </div>\n",
    "  </div>\n",
    "</div>"
   ]
  },
  {
   "cell_type": "markdown",
   "metadata": {},
   "source": [
    "<style>\n",
    "  * { box-sizing: border-box; }\n",
    "  .section-card { background: linear-gradient(145deg, rgb(61, 61, 87), rgb(49, 49, 70)); border-radius: 15px; padding: 2rem; margin: 0 auto 2.5rem; box-shadow: 0 8px 20px rgba(0, 0, 0, 0.5); width: 100%; max-width: min(1200px, 95vw); }\n",
    "  .section-card h2, .card h3 { color: #ffffff; font-family: 'Poppins', sans-serif; letter-spacing: 1px; }\n",
    "  .section-card h2 { text-align: center; font-size: 1.8rem; margin-bottom: 1.5rem; }\n",
    "  .card h3 { font-size: 1.3rem; margin-bottom: 0.75rem; font-weight: bold; }\n",
    "  .container { display: flex; flex-direction: column; gap: 1.25rem; align-items: center; }\n",
    "  .card { background: linear-gradient(145deg, #24243e, #1e1e3a); border-radius: 12px; padding: 1.5rem; box-shadow: 0 6px 16px rgba(0, 0, 0, 0.4); border-left: 4px solid transparent; width: min(1000px, 90vw); margin: 0 auto 1.25rem; transition: transform 0.3s ease, box-shadow 0.3s ease; }\n",
    "  .card:hover { transform: translateY(-6px); box-shadow: 0 10px 20px rgba(0, 0, 0, 0.5); }\n",
    "  .container > .card:last-child { margin-bottom: 2rem; }\n",
    "  .card.orange { border-left-color: #ffa726; }\n",
    "  p { color: #dcdcdc; font-size: 0.95rem; line-height: 1.5; font-family: 'Segoe UI', sans-serif; margin-bottom: 0.75rem; }\n",
    "  @media (max-width: 768px) { .section-card { padding: 1.25rem; } .card { width: 100%; padding: 1rem; margin: 0 auto 1rem; } .container > .card:last-child { margin-bottom: 1.5rem; } .section-card h2 { font-size: 1.4rem; } p { font-size: 0.9rem; } }\n",
    "</style>\n",
    "<div class=\"section-card\" id=\"toc1_\">\n",
    "  <h2>Argument Tuple Packing</h2>\n",
    "  <div class=\"container\">\n",
    "    <div class=\"card orange\">\n",
    "      <p>Argument tuple packing allows a function to receive any number of positional arguments, which are then accessible as a tuple within the function. This is achieved by prefixing a parameter name with an asterisk (<code>*</code>).</p>\n",
    "      <p style=\"margin-bottom:0;\">While any name can be used, <code>*args</code> is a widely adopted convention.</p>\n",
    "    </div>\n",
    "  </div>\n",
    "</div>"
   ]
  },
  {
   "cell_type": "markdown",
   "metadata": {},
   "source": [
    "Consider a real-world scenario where you need to calculate the average of varying numbers of test scores:\n"
   ]
  },
  {
   "cell_type": "code",
   "execution_count": null,
   "metadata": {},
   "outputs": [],
   "source": [
    "def calculate_average(*scores):\n",
    "    if scores:\n",
    "        return sum(scores) / len(scores)\n",
    "    else:\n",
    "        return 0"
   ]
  },
  {
   "cell_type": "code",
   "execution_count": null,
   "metadata": {},
   "outputs": [
    {
     "data": {
      "text/plain": [
       "90.0"
      ]
     },
     "metadata": {},
     "output_type": "display_data"
    }
   ],
   "source": [
    "# Calculate the average of three scores\n",
    "calculate_average(85, 90, 95)"
   ]
  },
  {
   "cell_type": "code",
   "execution_count": null,
   "metadata": {},
   "outputs": [
    {
     "data": {
      "text/plain": [
       "80.0"
      ]
     },
     "metadata": {},
     "output_type": "display_data"
    }
   ],
   "source": [
    "# Calculate the average of five scores\n",
    "calculate_average(70, 75, 80, 85, 90)"
   ]
  },
  {
   "cell_type": "markdown",
   "metadata": {},
   "source": [
    "Another practical use case is concatenating an arbitrary number of strings with a specified separator:\n"
   ]
  },
  {
   "cell_type": "code",
   "execution_count": null,
   "metadata": {},
   "outputs": [],
   "source": [
    "def concatenate_strings(separator, *args):\n",
    "    return separator.join(args)"
   ]
  },
  {
   "cell_type": "code",
   "execution_count": null,
   "metadata": {},
   "outputs": [
    {
     "data": {
      "text/plain": [
       "'Python is awesome'"
      ]
     },
     "metadata": {},
     "output_type": "display_data"
    }
   ],
   "source": [
    "# Concatenate with a space separator\n",
    "concatenate_strings(\" \", \"Python\", \"is\", \"awesome\")"
   ]
  },
  {
   "cell_type": "code",
   "execution_count": null,
   "metadata": {},
   "outputs": [
    {
     "data": {
      "text/plain": [
       "'2023-04-21'"
      ]
     },
     "metadata": {},
     "output_type": "display_data"
    }
   ],
   "source": [
    "# Concatenate with a hyphen separator\n",
    "concatenate_strings(\"-\", \"2023\", \"04\", \"21\")"
   ]
  },
  {
   "cell_type": "markdown",
   "metadata": {},
   "source": [
    "<style>\n",
    "  * { box-sizing: border-box; }\n",
    "  .section-card { background: linear-gradient(145deg, rgb(61, 61, 87), rgb(49, 49, 70)); border-radius: 15px; padding: 2rem; margin: 0 auto 2.5rem; box-shadow: 0 8px 20px rgba(0, 0, 0, 0.5); width: 100%; max-width: min(1200px, 95vw); }\n",
    "  .section-card h2, .card h3 { color: #ffffff; font-family: 'Poppins', sans-serif; letter-spacing: 1px; }\n",
    "  .section-card h2 { text-align: center; font-size: 1.8rem; margin-bottom: 1.5rem; }\n",
    "  .card h3 { font-size: 1.3rem; margin-bottom: 0.75rem; font-weight: bold; }\n",
    "  .container { display: flex; flex-direction: column; gap: 1.25rem; align-items: center; }\n",
    "  .card { background: linear-gradient(145deg, #24243e, #1e1e3a); border-radius: 12px; padding: 1.5rem; box-shadow: 0 6px 16px rgba(0, 0, 0, 0.4); border-left: 4px solid transparent; width: min(1000px, 90vw); margin: 0 auto 1.25rem; transition: transform 0.3s ease, box-shadow 0.3s ease; }\n",
    "  .card:hover { transform: translateY(-6px); box-shadow: 0 10px 20px rgba(0, 0, 0, 0.5); }\n",
    "  .container > .card:last-child { margin-bottom: 2rem; }\n",
    "  .card.purple { border-left-color: #ba68c8; }\n",
    "  p { color: #dcdcdc; font-size: 0.95rem; line-height: 1.5; font-family: 'Segoe UI', sans-serif; margin-bottom: 0.75rem; }\n",
    "  @media (max-width: 768px) { .section-card { padding: 1.25rem; } .card { width: 100%; padding: 1rem; margin: 0 auto 1rem; } .container > .card:last-child { margin-bottom: 1.5rem; } .section-card h2 { font-size: 1.4rem; } p { font-size: 0.9rem; } }\n",
    "</style>\n",
    "<div class=\"section-card\" id=\"toc2_\">\n",
    "  <h2>Argument Tuple Unpacking</h2>\n",
    "  <div class=\"container\">\n",
    "    <div class=\"card purple\">\n",
    "      <p>Argument tuple unpacking enables you to take a collection (like a list or tuple) and unpack its items as individual arguments when calling a function. This technique is useful when your data is already in a structured form.</p>\n",
    "      <p>The unpacking operator (<code>*</code>) is not limited to tuples; it works with any iterable. However, since sets are unordered, unpacking a set into a function expecting ordered data might not yield the correct results.</p>\n",
    "    </div>\n",
    "  </div>\n",
    "</div>"
   ]
  },
  {
   "cell_type": "markdown",
   "metadata": {},
   "source": [
    "**Example 1**"
   ]
  },
  {
   "cell_type": "code",
   "execution_count": null,
   "metadata": {},
   "outputs": [],
   "source": [
    "def print_book_info(title, author, year):\n",
    "    print(f\"Title: {title}, Author: {author}, Year: {year}\")"
   ]
  },
  {
   "cell_type": "code",
   "execution_count": null,
   "metadata": {},
   "outputs": [],
   "source": [
    "book_details = ('The Great Gatsby', 'F. Scott Fitzgerald', 1925)"
   ]
  },
  {
   "cell_type": "code",
   "execution_count": null,
   "metadata": {},
   "outputs": [
    {
     "name": "stdout",
     "output_type": "stream",
     "text": [
      "Title: The Great Gatsby, Author: F. Scott Fitzgerald, Year: 1925\n"
     ]
    }
   ],
   "source": [
    "# Unpack the tuple directly into the function call\n",
    "print_book_info(*book_details)"
   ]
  },
  {
   "cell_type": "code",
   "execution_count": 16,
   "metadata": {},
   "outputs": [
    {
     "name": "stdout",
     "output_type": "stream",
     "text": [
      "J.K. Rowling\n",
      "George R.R. Martin\n",
      "J.R.R. Tolkien\n"
     ]
    }
   ],
   "source": [
    "def print_authors(*authors):\n",
    "    for author in authors:\n",
    "        print(author)\n",
    "\n",
    "author_list = ['J.K. Rowling', 'George R.R. Martin', 'J.R.R. Tolkien']\n",
    "print_authors(*author_list)"
   ]
  },
  {
   "cell_type": "markdown",
   "metadata": {},
   "source": [
    "<style>\n",
    "  * { box-sizing: border-box; }\n",
    "  .section-card { background: linear-gradient(145deg, rgb(61, 61, 87), rgb(49, 49, 70)); border-radius: 15px; padding: 2rem; margin: 0 auto 2.5rem; box-shadow: 0 8px 20px rgba(0, 0, 0, 0.5); width: 100%; max-width: min(1200px, 95vw); }\n",
    "  .section-card h2, .card h3 { color: #ffffff; font-family: 'Poppins', sans-serif; letter-spacing: 1px; }\n",
    "  .section-card h2 { text-align: center; font-size: 1.8rem; margin-bottom: 1.5rem; }\n",
    "  .card h3 { font-size: 1.3rem; margin-bottom: 0.75rem; font-weight: bold; }\n",
    "  .container { display: flex; flex-direction: column; gap: 1.25rem; align-items: center; }\n",
    "  .card { background: linear-gradient(145deg, #24243e, #1e1e3a); border-radius: 12px; padding: 1.5rem; box-shadow: 0 6px 16px rgba(0, 0, 0, 0.4); border-left: 4px solid transparent; width: min(1000px, 90vw); margin: 0 auto 1.25rem; transition: transform 0.3s ease, box-shadow 0.3s ease; }\n",
    "  .card:hover { transform: translateY(-6px); box-shadow: 0 10px 20px rgba(0, 0, 0, 0.5); }\n",
    "  .container > .card:last-child { margin-bottom: 2rem; }\n",
    "  .card.purple { border-left-color: #ba68c8; }\n",
    "  p { color: #dcdcdc; font-size: 0.95rem; line-height: 1.5; font-family: 'Segoe UI', sans-serif; margin-bottom: 0.75rem; }\n",
    "  @media (max-width: 768px) { .section-card { padding: 1.25rem; } .card { width: 100%; padding: 1rem; margin: 0 auto 1rem; } .container > .card:last-child { margin-bottom: 1.5rem; } .section-card h2 { font-size: 1.4rem; } p { font-size: 0.9rem; } }\n",
    "</style>\n",
    "<div class=\"section-card\" id=\"toc2_1_\">\n",
    "  <div class=\"container\">\n",
    "    <div class=\"card purple\">\n",
    "      <h2>Unpacking Various Iterable Types</h2>\n",
    "      <p>The beauty of argument tuple unpacking is that it's not limited to tuples; it works with any iterable, including lists and sets.</p>\n",
    "    </div>\n",
    "  </div>\n",
    "</div>"
   ]
  },
  {
   "cell_type": "code",
   "execution_count": null,
   "metadata": {},
   "outputs": [],
   "source": [
    "book_list = ['To Kill a Mockingbird', 'Harper Lee', 1960]"
   ]
  },
  {
   "cell_type": "code",
   "execution_count": null,
   "metadata": {},
   "outputs": [
    {
     "name": "stdout",
     "output_type": "stream",
     "text": [
      "Title: To Kill a Mockingbird, Author: Harper Lee, Year: 1960\n"
     ]
    }
   ],
   "source": [
    "# Unpack the list into the function call\n",
    "print_book_info(*book_list)"
   ]
  },
  {
   "cell_type": "markdown",
   "metadata": {},
   "source": [
    "And with a set:\n"
   ]
  },
  {
   "cell_type": "code",
   "execution_count": null,
   "metadata": {},
   "outputs": [],
   "source": [
    "book_set = {'1984', 'George Orwell', 1949}"
   ]
  },
  {
   "cell_type": "code",
   "execution_count": null,
   "metadata": {},
   "outputs": [
    {
     "name": "stdout",
     "output_type": "stream",
     "text": [
      "Title: George Orwell, Author: 1984, Year: 1949\n"
     ]
    }
   ],
   "source": [
    "# Note: Sets are unordered, so this might not work as expected\n",
    "print_book_info(*book_set)"
   ]
  },
  {
   "cell_type": "markdown",
   "metadata": {},
   "source": [
    "<style>\n",
    "  * { box-sizing: border-box; }\n",
    "  .section-card { background: linear-gradient(145deg, rgb(61, 61, 87), rgb(49, 49, 70)); border-radius: 15px; padding: 2rem; margin: 0 auto 2.5rem; box-shadow: 0 8px 20px rgba(0, 0, 0, 0.5); width: 100%; max-width: min(1200px, 95vw); }\n",
    "  .section-card h2, .card h3 { color: #ffffff; font-family: 'Poppins', sans-serif; letter-spacing: 1px; }\n",
    "  .section-card h2 { text-align: center; font-size: 1.8rem; margin-bottom: 1.5rem; }\n",
    "  .card h3 { font-size: 1.3rem; margin-bottom: 0.75rem; font-weight: bold; }\n",
    "  .container { display: flex; flex-direction: column; gap: 1.25rem; align-items: center; }\n",
    "  .card { background: linear-gradient(145deg, #24243e, #1e1e3a); border-radius: 12px; padding: 1.5rem; box-shadow: 0 6px 16px rgba(0, 0, 0, 0.4); border-left: 4px solid transparent; width: min(1000px, 90vw); margin: 0 auto 1.25rem; transition: transform 0.3s ease, box-shadow 0.3s ease; }\n",
    "  .card:hover { transform: translateY(-6px); box-shadow: 0 10px 20px rgba(0, 0, 0, 0.5); }\n",
    "  .container > .card:last-child { margin-bottom: 2rem; }\n",
    "  .card.purple { border-left-color: #ba68c8; }\n",
    "  p { color: #dcdcdc; font-size: 0.95rem; line-height: 1.5; font-family: 'Segoe UI', sans-serif; margin-bottom: 0.75rem; }\n",
    "  @media (max-width: 768px) { .section-card { padding: 1.25rem; } .card { width: 100%; padding: 1rem; margin: 0 auto 1rem; } .container > .card:last-child { margin-bottom: 1.5rem; } .section-card h2 { font-size: 1.4rem; } p { font-size: 0.9rem; } }\n",
    "</style>\n",
    "<div class=\"section-card\" id=\"toc2_2_\">\n",
    "  <div class=\"container\">\n",
    "    <div class=\"card purple\">\n",
    "      <h2>Combining Packing and Unpacking</h2>\n",
    "      <p>Python's flexibility shines when you combine both packing and unpacking in function calls:</p>\n",
    "    </div>\n",
    "  </div>\n",
    "</div>"
   ]
  },
  {
   "cell_type": "code",
   "execution_count": null,
   "metadata": {},
   "outputs": [],
   "source": [
    "def print_authors(*authors):\n",
    "    for author in authors:\n",
    "        print(author)"
   ]
  },
  {
   "cell_type": "code",
   "execution_count": null,
   "metadata": {},
   "outputs": [],
   "source": [
    "author_list = ['J.K. Rowling', 'George R.R. Martin', 'J.R.R. Tolkien']"
   ]
  },
  {
   "cell_type": "code",
   "execution_count": null,
   "metadata": {},
   "outputs": [
    {
     "name": "stdout",
     "output_type": "stream",
     "text": [
      "J.K. Rowling\n",
      "George R.R. Martin\n",
      "J.R.R. Tolkien\n"
     ]
    }
   ],
   "source": [
    "# The list is unpacked into individual arguments, then packed into a tuple\n",
    "print_authors(*author_list)"
   ]
  },
  {
   "cell_type": "markdown",
   "metadata": {},
   "source": [
    "<style>\n",
    "  * { box-sizing: border-box; }\n",
    "  .section-card { background: linear-gradient(145deg, rgb(61, 61, 87), rgb(49, 49, 70)); border-radius: 15px; padding: 2rem; margin: 0 auto 2.5rem; box-shadow: 0 8px 20px rgba(0, 0, 0, 0.5); width: 100%; max-width: min(1200px, 95vw); }\n",
    "  .section-card h2, .card h3 { color: #ffffff; font-family: 'Poppins', sans-serif; letter-spacing: 1px; }\n",
    "  .section-card h2 { text-align: center; font-size: 1.8rem; margin-bottom: 1.5rem; }\n",
    "  .card h3 { font-size: 1.3rem; margin-bottom: 0.75rem; font-weight: bold; }\n",
    "  .container { display: flex; flex-direction: column; gap: 1.25rem; align-items: center; }\n",
    "  .card { background: linear-gradient(145deg, #24243e, #1e1e3a); border-radius: 12px; padding: 1.5rem; box-shadow: 0 6px 16px rgba(0, 0, 0, 0.4); border-left: 4px solid transparent; width: min(1000px, 90vw); margin: 0 auto 1.25rem; transition: transform 0.3s ease, box-shadow 0.3s ease; }\n",
    "  .card:hover { transform: translateY(-6px); box-shadow: 0 10px 20px rgba(0, 0, 0, 0.5); }\n",
    "  .container > .card:last-child { margin-bottom: 2rem; }\n",
    "  .card.red { border-left-color: #ef5350; }\n",
    "  p { color: #dcdcdc; font-size: 0.95rem; line-height: 1.5; font-family: 'Segoe UI', sans-serif; margin-bottom: 0.75rem; }\n",
    "  @media (max-width: 768px) { .section-card { padding: 1.25rem; } .card { width: 100%; padding: 1rem; margin: 0 auto 1rem; } .container > .card:last-child { margin-bottom: 1.5rem; } .section-card h2 { font-size: 1.4rem; } p { font-size: 0.9rem; } }\n",
    "</style>\n",
    "<div class=\"section-card\" id=\"toc3_\">\n",
    "  <h2>Argument Dictionary Packing</h2>\n",
    "  <div class=\"container\">\n",
    "    <div class=\"card red\">\n",
    "      <p>Argument dictionary packing uses the double asterisk (<code>**</code>) operator to allow a function to accept an arbitrary number of keyword arguments. These key-value pairs are packed into a dictionary.</p>\n",
    "      <p>This method is useful when you want a function to be adaptable to various named inputs without predetermining the exact parameters. It can also be combined with standard positional arguments.</p>\n",
    "    </div>\n",
    "  </div>\n",
    "</div>"
   ]
  },
  {
   "cell_type": "code",
   "execution_count": null,
   "metadata": {},
   "outputs": [],
   "source": [
    "def introduce_yourself(**kwargs):\n",
    "    for key, value in kwargs.items():\n",
    "        print(f\"{key}: {value}\")"
   ]
  },
  {
   "cell_type": "code",
   "execution_count": null,
   "metadata": {},
   "outputs": [
    {
     "name": "stdout",
     "output_type": "stream",
     "text": [
      "name: Alice\n",
      "age: 30\n",
      "profession: Engineer\n"
     ]
    }
   ],
   "source": [
    "# Introducing a person with multiple attributes\n",
    "introduce_yourself(name=\"Alice\", age=30, profession=\"Engineer\")"
   ]
  },
  {
   "cell_type": "markdown",
   "metadata": {},
   "source": [
    "<style>\n",
    "  * { box-sizing: border-box; }\n",
    "  .section-card { background: linear-gradient(145deg, rgb(61, 61, 87), rgb(49, 49, 70)); border-radius: 15px; padding: 2rem; margin: 0 auto 2.5rem; box-shadow: 0 8px 20px rgba(0, 0, 0, 0.5); width: 100%; max-width: min(1200px, 95vw); }\n",
    "  .section-card h2, .card h3 { color: #ffffff; font-family: 'Poppins', sans-serif; letter-spacing: 1px; }\n",
    "  .section-card h2 { text-align: center; font-size: 1.8rem; margin-bottom: 1.5rem; }\n",
    "  .card h3 { font-size: 1.3rem; margin-bottom: 0.75rem; font-weight: bold; }\n",
    "  .container { display: flex; flex-direction: column; gap: 1.25rem; align-items: center; }\n",
    "  .card { background: linear-gradient(145deg, #24243e, #1e1e3a); border-radius: 12px; padding: 1.5rem; box-shadow: 0 6px 16px rgba(0, 0, 0, 0.4); border-left: 4px solid transparent; width: min(1000px, 90vw); margin: 0 auto 1.25rem; transition: transform 0.3s ease, box-shadow 0.3s ease; }\n",
    "  .card:hover { transform: translateY(-6px); box-shadow: 0 10px 20px rgba(0, 0, 0, 0.5); }\n",
    "  .container > .card:last-child { margin-bottom: 2rem; }\n",
    "  .card.red { border-left-color: #ef5350; }\n",
    "  p { color: #dcdcdc; font-size: 0.95rem; line-height: 1.5; font-family: 'Segoe UI', sans-serif; margin-bottom: 0.75rem; }\n",
    "  @media (max-width: 768px) { .section-card { padding: 1.25rem; } .card { width: 100%; padding: 1rem; margin: 0 auto 1rem; } .container > .card:last-child { margin-bottom: 1.5rem; } .section-card h2 { font-size: 1.4rem; } p { font-size: 0.9rem; } }\n",
    "</style>\n",
    "<div class=\"section-card\" id=\"toc3_1_\">\n",
    "  <div class=\"container\">\n",
    "    <div class=\"card red\">\n",
    "    <h2>Combining with Positional Arguments</h2>\n",
    "      <p>Combining dictionary packing with positional arguments allows a function to accept both fixed and arbitrary keyword arguments, increasing flexibility.</p>\n",
    "    </div>\n",
    "  </div>\n",
    "</div>"
   ]
  },
  {
   "cell_type": "code",
   "execution_count": null,
   "metadata": {},
   "outputs": [],
   "source": [
    "def create_profile(name, age, **details):\n",
    "    print(f\"Profile: {name}, Age: {age}\")\n",
    "    for detail, value in details.items():\n",
    "        print(f\"{detail}: {value}\")"
   ]
  },
  {
   "cell_type": "code",
   "execution_count": null,
   "metadata": {},
   "outputs": [
    {
     "name": "stdout",
     "output_type": "stream",
     "text": [
      "Profile: Alice, Age: 30\n",
      "occupation: Engineer\n",
      "city: New York\n"
     ]
    }
   ],
   "source": [
    "# Creating a profile with additional details\n",
    "create_profile(\"Alice\", 30, occupation=\"Engineer\", city=\"New York\")"
   ]
  },
  {
   "cell_type": "markdown",
   "metadata": {},
   "source": [
    "<style>\n",
    "  * { box-sizing: border-box; }\n",
    "  .section-card { background: linear-gradient(145deg, rgb(61, 61, 87), rgb(49, 49, 70)); border-radius: 15px; padding: 2rem; margin: 0 auto 2.5rem; box-shadow: 0 8px 20px rgba(0, 0, 0, 0.5); width: 100%; max-width: min(1200px, 95vw); }\n",
    "  .section-card h2, .card h3 { color: #ffffff; font-family: 'Poppins', sans-serif; letter-spacing: 1px; }\n",
    "  .section-card h2 { text-align: center; font-size: 1.8rem; margin-bottom: 1.5rem; }\n",
    "  .container { display: flex; flex-direction: column; gap: 1.25rem; align-items: center; }\n",
    "  .card { background: linear-gradient(145deg, #24243e, #1e1e3a); border-radius: 12px; padding: 1.5rem; box-shadow: 0 6px 16px rgba(0, 0, 0, 0.4); border-left: 4px solid transparent; width: min(1000px, 90vw); margin: 0 auto 1.25rem; transition: transform 0.3s ease, box-shadow 0.3s ease; }\n",
    "  .card:hover { transform: translateY(-6px); box-shadow: 0 10px 20px rgba(0, 0, 0, 0.5); }\n",
    "  .container > .card:last-child { margin-bottom: 2rem; }\n",
    "  .card.green { border-left-color: #66bb6a; }\n",
    "  p, li { color: #dcdcdc; font-size: 0.95rem; line-height: 1.5; font-family: 'Segoe UI', sans-serif; }\n",
    "  p { margin-bottom: 0.75rem; }\n",
    "  ul { list-style-position: inside; padding-left: 0; margin-bottom: 0; }\n",
    "  li { margin-bottom: 0.5rem; }\n",
    "  @media (max-width: 768px) { .section-card { padding: 1.25rem; } .card { width: 100%; padding: 1rem; margin: 0 auto 1rem; } .container > .card:last-child { margin-bottom: 1.5rem; } .section-card h2 { font-size: 1.4rem; } p, li { font-size: 0.9rem; } }\n",
    "</style>\n",
    "<div class=\"section-card\" id=\"toc4_\">\n",
    "  <h2>Argument Dictionary Unpacking</h2>\n",
    "  <div class=\"container\">\n",
    "    <div class=\"card green\">\n",
    "      <p>Argument dictionary unpacking does the opposite of packing: it enables a dictionary of key-value pairs to be unpacked and passed as keyword arguments to a function.</p>\n",
    "    </div>\n",
    "  </div>\n",
    "</div>"
   ]
  },
  {
   "cell_type": "markdown",
   "metadata": {},
   "source": [
    "**Scenario 1**"
   ]
  },
  {
   "cell_type": "code",
   "execution_count": null,
   "metadata": {},
   "outputs": [],
   "source": [
    "def display_info(name, age, profession):\n",
    "    print(f\"Name: {name}, Age: {age}, Profession: {profession}\")"
   ]
  },
  {
   "cell_type": "code",
   "execution_count": null,
   "metadata": {},
   "outputs": [],
   "source": [
    "person_info = {'name': 'Alice', 'age': 30, 'profession': 'Engineer'}"
   ]
  },
  {
   "cell_type": "code",
   "execution_count": null,
   "metadata": {},
   "outputs": [
    {
     "name": "stdout",
     "output_type": "stream",
     "text": [
      "Name: Alice, Age: 30, Profession: Engineer\n"
     ]
    }
   ],
   "source": [
    "# Unpacking the dictionary and passing as keyword arguments\n",
    "display_info(**person_info)"
   ]
  },
  {
   "cell_type": "markdown",
   "metadata": {},
   "source": [
    "**Scenario 2**"
   ]
  },
  {
   "cell_type": "code",
   "execution_count": null,
   "metadata": {},
   "outputs": [],
   "source": [
    "def configure_app(**settings):\n",
    "    for setting, value in settings.items():\n",
    "        print(f\"Setting {setting} to {value}\")"
   ]
  },
  {
   "cell_type": "code",
   "execution_count": null,
   "metadata": {},
   "outputs": [],
   "source": [
    "app_settings = {'theme': 'Dark', 'notifications_enabled': True, 'version': '1.0.4'}"
   ]
  },
  {
   "cell_type": "code",
   "execution_count": null,
   "metadata": {},
   "outputs": [
    {
     "name": "stdout",
     "output_type": "stream",
     "text": [
      "Setting theme to Dark\n",
      "Setting notifications_enabled to True\n",
      "Setting version to 1.0.4\n"
     ]
    }
   ],
   "source": [
    "# Applying settings to the app\n",
    "configure_app(**app_settings)"
   ]
  },
  {
   "cell_type": "markdown",
   "metadata": {},
   "source": [
    "<style>\n",
    "  * { box-sizing: border-box; }\n",
    "  .section-card { background: linear-gradient(145deg, rgb(61, 61, 87), rgb(49, 49, 70)); border-radius: 15px; padding: 2rem; margin: 0 auto 2.5rem; box-shadow: 0 8px 20px rgba(0, 0, 0, 0.5); width: 100%; max-width: min(1200px, 95vw); }\n",
    "  .section-card h2, .card h3 { color: #ffffff; font-family: 'Poppins', sans-serif; letter-spacing: 1px; }\n",
    "  .section-card h2 { text-align: center; font-size: 1.8rem; margin-bottom: 1.5rem; }\n",
    "  .container { display: flex; flex-direction: column; gap: 1.25rem; align-items: center; }\n",
    "  .card { background: linear-gradient(145deg, #24243e, #1e1e3a); border-radius: 12px; padding: 1.5rem; box-shadow: 0 6px 16px rgba(0, 0, 0, 0.4); border-left: 4px solid transparent; width: min(1000px, 90vw); margin: 0 auto 1.25rem; transition: transform 0.3s ease, box-shadow 0.3s ease; }\n",
    "  .card:hover { transform: translateY(-6px); box-shadow: 0 10px 20px rgba(0, 0, 0, 0.5); }\n",
    "  .container > .card:last-child { margin-bottom: 2rem; }\n",
    "  .card.blue { border-left-color: #29b6f6; }\n",
    "  p, li { color: #dcdcdc; font-size: 0.95rem; line-height: 1.5; font-family: 'Segoe UI', sans-serif; }\n",
    "  ul { list-style-position: inside; padding-left: 0; margin-bottom: 0; }\n",
    "  li { margin-bottom: 0.5rem; }\n",
    "  @media (max-width: 768px) { .section-card { padding: 1.25rem; } .card { width: 100%; padding: 1rem; margin: 0 auto 1rem; } .container > .card:last-child { margin-bottom: 1.5rem; } .section-card h2 { font-size: 1.4rem; } li { font-size: 0.9rem; } }\n",
    "</style>\n",
    "<div class=\"section-card\" id=\"toc5_\">\n",
    "  <h2>Best Practices and Common Mistakes</h2>\n",
    "  <div class=\"container\">\n",
    "    <div class=\"card blue\">\n",
    "      <ul>\n",
    "        <li><strong>Tuple Packing (<code>*args</code>):</strong> Use sparingly, only when a function genuinely benefits from accepting an arbitrary number of positional arguments.</li>\n",
    "        <li><strong>Tuple Unpacking (<code>*</code>):</strong> Ensure the iterable being unpacked matches the function's expected number and type of arguments.</li>\n",
    "        <li><strong>Dictionary Packing (<code>**kwargs</code>):</strong> Use when a function needs to handle a wide variety of named parameters that cannot be predetermined.</li>\n",
    "        <li><strong>Dictionary Unpacking (<code>**</code>):</strong> Verify that the dictionary keys align with the function's parameter names.</li>\n",
    "      </ul>\n",
    "    </div>\n",
    "  </div>\n",
    "</div>"
   ]
  },
  {
   "cell_type": "markdown",
   "metadata": {},
   "source": [
    "**Tuple Packing**"
   ]
  },
  {
   "cell_type": "code",
   "execution_count": null,
   "metadata": {},
   "outputs": [],
   "source": [
    "# Best Practice\n",
    "def log_messages(*messages):\n",
    "    for message in messages:\n",
    "        print(message)"
   ]
  },
  {
   "cell_type": "code",
   "execution_count": null,
   "metadata": {},
   "outputs": [],
   "source": [
    "# Bad Practice\n",
    "def process_user_data(*data):\n",
    "    # Assuming the first two are name and age, rest are addresses\n",
    "    name, age = data[0], data[1]\n",
    "    addresses = data[2:]"
   ]
  },
  {
   "cell_type": "markdown",
   "metadata": {},
   "source": [
    "**Tuple Unpacking**"
   ]
  },
  {
   "cell_type": "code",
   "execution_count": null,
   "metadata": {},
   "outputs": [],
   "source": [
    "# Best Practice\n",
    "def set_coordinates(x, y):\n",
    "    print(f\"X: {x}, Y: {y}\")"
   ]
  },
  {
   "cell_type": "code",
   "execution_count": null,
   "metadata": {},
   "outputs": [
    {
     "name": "stdout",
     "output_type": "stream",
     "text": [
      "X: 12, Y: 5\n"
     ]
    }
   ],
   "source": [
    "coords = (12, 5)\n",
    "set_coordinates(*coords)"
   ]
  },
  {
   "cell_type": "code",
   "execution_count": null,
   "metadata": {},
   "outputs": [
    {
     "ename": "TypeError",
     "evalue": "set_coordinates() takes 2 positional arguments but 3 were given",
     "output_type": "error",
     "traceback": [
      "\u001b[0;31m---------------------------------------------------------------------------\u001b[0m\n",
      "\u001b[0;31mTypeError\u001b[0m                                 Traceback (most recent call last)\n",
      "Cell \u001b[0;32mIn[31], line 3\u001b[0m\n",
      "\u001b[1;32m      1\u001b[0m \u001b[38;5;66;03m# Common Mistake - Unpacking a tuple with more elements than expected\u001b[39;00m\n",
      "\u001b[1;32m      2\u001b[0m coords \u001b[38;5;241m=\u001b[39m [\u001b[38;5;241m12\u001b[39m, \u001b[38;5;241m5\u001b[39m, \u001b[38;5;241m8\u001b[39m]\n",
      "\u001b[0;32m----> 3\u001b[0m \u001b[43mset_coordinates\u001b[49m\u001b[43m(\u001b[49m\u001b[38;5;241;43m*\u001b[39;49m\u001b[43mcoords\u001b[49m\u001b[43m)\u001b[49m\n",
      "\n",
      "\u001b[0;31mTypeError\u001b[0m: set_coordinates() takes 2 positional arguments but 3 were given"
     ]
    }
   ],
   "source": [
    "# Common Mistake - Unpacking a tuple with more elements than expected\n",
    "coords = [12, 5, 8]\n",
    "set_coordinates(*coords)"
   ]
  },
  {
   "cell_type": "markdown",
   "metadata": {},
   "source": [
    "**Dictionary Packing**"
   ]
  },
  {
   "cell_type": "code",
   "execution_count": null,
   "metadata": {},
   "outputs": [],
   "source": [
    "# Best Practice\n",
    "def create_user(**user_details):\n",
    "    print(f\"Creating user: {user_details.get('username')}\")\n",
    "    # Additional processing using user_details"
   ]
  },
  {
   "cell_type": "code",
   "execution_count": null,
   "metadata": {},
   "outputs": [],
   "source": [
    "# Bad Practice\n",
    "def update_user_profile(**details):\n",
    "    # Assume only updating email and address\n",
    "    email, address = details['email'], details['address']"
   ]
  },
  {
   "cell_type": "markdown",
   "metadata": {},
   "source": [
    "**Dictionary Unpacking**"
   ]
  },
  {
   "cell_type": "code",
   "execution_count": null,
   "metadata": {},
   "outputs": [],
   "source": [
    "# Best Practice\n",
    "def display_book(title, author):\n",
    "    print(f\"{title} by {author}\")"
   ]
  },
  {
   "cell_type": "code",
   "execution_count": null,
   "metadata": {},
   "outputs": [
    {
     "name": "stdout",
     "output_type": "stream",
     "text": [
      "1984 by George Orwell\n"
     ]
    }
   ],
   "source": [
    "book_info = {'title': '1984', 'author': 'George Orwell'}\n",
    "display_book(**book_info)"
   ]
  },
  {
   "cell_type": "code",
   "execution_count": null,
   "metadata": {},
   "outputs": [
    {
     "ename": "TypeError",
     "evalue": "display_book() got an unexpected keyword argument 'book_title'",
     "output_type": "error",
     "traceback": [
      "\u001b[0;31m---------------------------------------------------------------------------\u001b[0m\n",
      "\u001b[0;31mTypeError\u001b[0m                                 Traceback (most recent call last)\n",
      "Cell \u001b[0;32mIn[36], line 3\u001b[0m\n",
      "\u001b[1;32m      1\u001b[0m \u001b[38;5;66;03m# Common Mistake: Passing an incorrect key to the function can lead to unexpected behavior or errors.\u001b[39;00m\n",
      "\u001b[1;32m      2\u001b[0m book_info \u001b[38;5;241m=\u001b[39m {\u001b[38;5;124m'\u001b[39m\u001b[38;5;124mbook_title\u001b[39m\u001b[38;5;124m'\u001b[39m: \u001b[38;5;124m'\u001b[39m\u001b[38;5;124m1984\u001b[39m\u001b[38;5;124m'\u001b[39m, \u001b[38;5;124m'\u001b[39m\u001b[38;5;124mbook_author\u001b[39m\u001b[38;5;124m'\u001b[39m: \u001b[38;5;124m'\u001b[39m\u001b[38;5;124mGeorge Orwell\u001b[39m\u001b[38;5;124m'\u001b[39m}\n",
      "\u001b[0;32m----> 3\u001b[0m \u001b[43mdisplay_book\u001b[49m\u001b[43m(\u001b[49m\u001b[38;5;241;43m*\u001b[39;49m\u001b[38;5;241;43m*\u001b[39;49m\u001b[43mbook_info\u001b[49m\u001b[43m)\u001b[49m\n",
      "\n",
      "\u001b[0;31mTypeError\u001b[0m: display_book() got an unexpected keyword argument 'book_title'"
     ]
    }
   ],
   "source": [
    "# Common Mistake: Passing an incorrect key to the function can lead to unexpected behavior or errors.\n",
    "book_info = {'book_title': '1984', 'book_author': 'George Orwell'}\n",
    "display_book(**book_info)"
   ]
  },
  {
   "cell_type": "markdown",
   "metadata": {},
   "source": [
    "<style>\n",
    "  * { box-sizing: border-box; }\n",
    "  .section-card { background: linear-gradient(145deg, rgb(61, 61, 87), rgb(49, 49, 70)); border-radius: 15px; padding: 2rem; margin: 0 auto 2.5rem; box-shadow: 0 8px 20px rgba(0, 0, 0, 0.5); width: 100%; max-width: min(1200px, 95vw); }\n",
    "  .section-card h2, .card h3 { color: #ffffff; font-family: 'Poppins', sans-serif; letter-spacing: 1px; }\n",
    "  .section-card h2 { text-align: center; font-size: 1.8rem; margin-bottom: 1.5rem; }\n",
    "  .container { display: flex; flex-direction: column; gap: 1.25rem; align-items: center; }\n",
    "  .card { background: linear-gradient(145deg, #24243e, #1e1e3a); border-radius: 12px; padding: 1.5rem; box-shadow: 0 6px 16px rgba(0, 0, 0, 0.4); border-left: 4px solid transparent; width: min(1000px, 90vw); margin: 0 auto 1.25rem; transition: transform 0.3s ease, box-shadow 0.3s ease; }\n",
    "  .card:hover { transform: translateY(-6px); box-shadow: 0 10px 20px rgba(0, 0, 0, 0.5); }\n",
    "  .container > .card:last-child { margin-bottom: 2rem; }\n",
    "  .card.orange { border-left-color: #ffa726; }\n",
    "  p, li { color: #dcdcdc; font-size: 0.95rem; line-height: 1.5; font-family: 'Segoe UI', sans-serif; }\n",
    "  ol { padding-left: 1.25rem; margin-bottom: 0; }\n",
    "  li { margin-bottom: 0.5rem; }\n",
    "  @media (max-width: 768px) { .section-card { padding: 1.25rem; } .card { width: 100%; padding: 1rem; margin: 0 auto 1rem; } .container > .card:last-child { margin-bottom: 1.5rem; } .section-card h2 { font-size: 1.4rem; } p, li { font-size: 0.9rem; } }\n",
    "</style>\n",
    "<div class=\"section-card\" id=\"toc6_\">\n",
    "  <h2>Practice Exercise: Organizing a Coding Workshop</h2>\n",
    "  <div class=\"container\">\n",
    "    <div class=\"card orange\">\n",
    "      <ol>\n",
    "        <li>Write a function <code>plan_session</code> that uses tuple packing to accept a variable number of topics and print them.</li>\n",
    "        <li>Write a function <code>session_details</code> that uses dictionary packing to accept various details (e.g., name, attendees, room) and print them.</li>\n",
    "        <li>Use argument tuple unpacking to call <code>plan_session</code> with a list of topics for a session.</li>\n",
    "        <li>Use argument dictionary unpacking to call <code>session_details</code> with details stored in a dictionary.</li>\n",
    "      </ol>\n",
    "    </div>\n",
    "  </div>\n",
    "</div>"
   ]
  },
  {
   "cell_type": "code",
   "execution_count": 43,
   "metadata": {},
   "outputs": [
    {
     "name": "stdout",
     "output_type": "stream",
     "text": [
      "Topics planned for this session: ['Object Oriented Programming', 'Modules']\n"
     ]
    }
   ],
   "source": [
    "# Solution\n",
    "def plan_session(*topics):\n",
    "    print(\"Topics planned for this session:\", list(topics))\n",
    "\n",
    "def session_details(**details):\n",
    "    print(\"Session Details:\")\n",
    "    for key, value in details.items():\n",
    "        print(f\"{key.capitalize()}: {value}\")\n",
    "\n",
    "advanced_python_topics = ['Object Oriented Programming', 'Modules']\n",
    "plan_session(*advanced_python_topics)"
   ]
  },
  {
   "cell_type": "code",
   "execution_count": 44,
   "metadata": {},
   "outputs": [
    {
     "name": "stdout",
     "output_type": "stream",
     "text": [
      "Session Details:\n",
      "Name: Advanced Python\n",
      "Attendees: 25\n",
      "Room: 203\n"
     ]
    }
   ],
   "source": [
    "advanced_python_details = {\n",
    "    'Name': 'Advanced Python',\n",
    "    'Attendees': 25,\n",
    "    'Room': 203\n",
    "}\n",
    "session_details(**advanced_python_details)"
   ]
  }
 ],
 "metadata": {
  "kernelspec": {
   "display_name": "py310",
   "language": "python",
   "name": "python3"
  },
  "language_info": {
   "codemirror_mode": {
    "name": "ipython",
    "version": 3
   },
   "file_extension": ".py",
   "mimetype": "text/x-python",
   "name": "python",
   "nbconvert_exporter": "python",
   "pygments_lexer": "ipython3",
   "version": "3.10.12"
  }
 },
 "nbformat": 4,
 "nbformat_minor": 2
}
