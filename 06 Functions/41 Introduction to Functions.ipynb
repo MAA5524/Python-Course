{
 "cells": [
  {
   "cell_type": "markdown",
   "metadata": {},
   "source": [
    "<style>\n",
    "  * { box-sizing: border-box; }\n",
    "  .section-card { background: linear-gradient(145deg, rgb(61, 61, 87), rgb(49, 49, 70)); border-radius: 15px; padding: 2rem; margin: 0 auto 2.5rem; box-shadow: 0 8px 20px rgba(0, 0, 0, 0.5); width: 100%; max-width: min(1200px, 95vw); }\n",
    "  .section-card h1 { width: 100%; text-align: center; color: #ffffff; font-size: 2.8rem; margin-bottom: 0; font-family: 'Poppins', sans-serif; letter-spacing: 1px; }\n",
    "  .container { display: flex; flex-direction: column; gap: 1.25rem; align-items: center; }\n",
    "  .card { background: linear-gradient(145deg, #24243e, #1e1e3a); border-radius: 12px; padding: 1.5rem; box-shadow: 0 6px 16px rgba(0, 0, 0, 0.4); border-left: 4px solid transparent; width: min(1000px, 90vw); margin: 0 auto 1.25rem; transition: transform 0.3s ease, box-shadow 0.3s ease; }\n",
    "  .card:hover { transform: translateY(-6px); box-shadow: 0 10px 20px rgba(0, 0, 0, 0.5); }\n",
    "  .container > .card:last-child { margin-bottom: 2rem; }\n",
    "  .card.green { border-left-color: #66bb6a; }\n",
    "  p, li { color: #dcdcdc; font-size: 0.95rem; line-height: 1.5; font-family: 'Segoe UI', sans-serif; }\n",
    "  p { margin-bottom: 0.75rem; }\n",
    "  img { display: block; max-width: 50vw; height: auto; margin: 0 auto; border-radius: 10px; }\n",
    "  a { color: #29b6f6; text-decoration: none; }\n",
    "  a:hover { text-decoration: underline; }\n",
    "  @media (max-width: 768px) { .section-card { padding: 1.25rem; } .section-card h1 { font-size: 2rem; } .card { width: 100%; padding: 1rem; margin: 0 auto 1rem; } .container > .card:last-child { margin-bottom: 1.5rem; } p, li { font-size: 0.9rem; } }\n",
    "</style>\n",
    "<div class=\"section-card\">\n",
    "  <h1>Introduction to Functions</h1>\n",
    "</div>\n",
    "<div class=\"section-card\">\n",
    "  <div class=\"container\">\n",
    "    <div class=\"card green\">\n",
    "      <p>Functions are the building blocks of reusable, organized, and efficient code. In programming, a function can take inputs (parameters), perform operations, and return an output. However, they can do much more, like executing complex blocks of code and creating abstractions that make software more modular.</p>\n",
    "    </div>\n",
    "    <div class=\"card green\">\n",
    "       <img src=\"../images/math-function.png\" alt=\"Mathematical Function Diagram\">\n",
    "    </div>\n",
    "    <div class=\"card green\">\n",
    "       <p>The concept of functions extends to the real world. A coffee machine, for example, takes inputs (beans, water), performs operations (grinding, brewing), and produces an output (coffee). Similarly, you have already used built-in Python functions like <code>id()</code> and <code>len()</code> that encapsulate specific tasks.</p>\n",
    "    </div>\n",
    "    <div class=\"card green\">\n",
    "       <img src=\"../images/vending-function.png\" alt=\"Vending Machine as a Function\">\n",
    "    </div>\n",
    "    <div class=\"card green\">\n",
    "      <p>By learning to define your own functions, you'll gain control over your code's modularity and reusability.</p>\n",
    "      <p>Watch this video on how functions describe the world: <a href=\"https://www.youtube.com/watch?v=PAZTIAfaNr8\">Functions in the Real World</a></p>\n",
    "    </div>\n",
    "  </div>\n",
    "</div>"
   ]
  },
  {
   "cell_type": "code",
   "execution_count": null,
   "metadata": {},
   "outputs": [
    {
     "name": "stdout",
     "output_type": "stream",
     "text": [
      "4397044464\n"
     ]
    }
   ],
   "source": [
    "s = 'foobar'\n",
    "print(id(s))  # Outputs the unique identifier for the string object 's'"
   ]
  },
  {
   "cell_type": "code",
   "execution_count": null,
   "metadata": {},
   "outputs": [
    {
     "name": "stdout",
     "output_type": "stream",
     "text": [
      "4\n"
     ]
    }
   ],
   "source": [
    "a = ['foo', 'bar', 'baz', 'qux']\n",
    "print(len(a))  # Outputs the number of items in the list 'a'"
   ]
  },
  {
   "cell_type": "markdown",
   "metadata": {},
   "source": [
    "<style>\n",
    "  * { box-sizing: border-box; }\n",
    "  .section-card { background: linear-gradient(145deg, rgb(61, 61, 87), rgb(49, 49, 70)); border-radius: 15px; padding: 2rem; margin: 0 auto 2.5rem; box-shadow: 0 8px 20px rgba(0, 0, 0, 0.5); width: 100%; max-width: min(1200px, 95vw); }\n",
    "  .section-card h2 { text-align: center; color: #ffffff; font-size: 1.8rem; margin-bottom: 1.5rem; font-family: 'Poppins', sans-serif; letter-spacing: 1px; }\n",
    "  .container { display: flex; flex-direction: column; gap: 1.25rem; align-items: center; }\n",
    "  .card { background: linear-gradient(145deg, #24243e, #1e1e3a); border-radius: 12px; padding: 1.5rem; box-shadow: 0 6px 16px rgba(0, 0, 0, 0.4); border-left: 4px solid transparent; width: min(1000px, 90vw); margin: 0 auto 1.25rem; transition: transform 0.3s ease, box-shadow 0.3s ease; }\n",
    "  .card:hover { transform: translateY(-6px); box-shadow: 0 10px 20px rgba(0, 0, 0, 0.5); }\n",
    "  .container > .card:last-child { margin-bottom: 2rem; }\n",
    "  .card.blue { border-left-color: #29b6f6; }\n",
    "  li { margin-bottom: 0.5rem; color: #dcdcdc; font-size: 0.95rem; line-height: 1.5; font-family: 'Segoe UI', sans-serif; }\n",
    "  .toc-card ul { list-style-type: none; padding-left: 0; margin-bottom:0; }\n",
    "  .toc-card a { color: #29b6f6; text-decoration: none; }\n",
    "  .toc-card ul ul { padding-left: 1.5rem; margin-top:0.5rem; }\n",
    "  @media (max-width: 768px) { .section-card { padding: 1.25rem; } .card { width: 100%; padding: 1rem; margin: 0 auto 1rem; } .container > .card:last-child { margin-bottom: 1.5rem; } .section-card h2 { font-size: 1.4rem; } li { font-size: 0.9rem; } }\n",
    "</style>\n",
    "<div class=\"section-card\">\n",
    "  <h2>Table of contents</h2>\n",
    "  <div class=\"container\">\n",
    "    <div class=\"card blue toc-card\">\n",
    "      <ul>\n",
    "        <li><a href=\"#toc1_\">What is a Function?</a></li>\n",
    "        <li><a href=\"#toc2_\">The Importance of Python Functions</a>\n",
    "          <ul>\n",
    "            <li><a href=\"#toc2_1_\">Abstraction and Reusability</a></li>\n",
    "            <li><a href=\"#toc2_2_\">Modularity</a></li>\n",
    "            <li><a href=\"#toc2_3_\">Namespace Separation</a></li>\n",
    "          </ul>\n",
    "        </li>\n",
    "        <li><a href=\"#toc3_\">Creating Your First Function</a>\n",
    "          <ul>\n",
    "            <li><a href=\"#toc3_1_\">Function Definition Syntax</a></li>\n",
    "            <li><a href=\"#toc3_2_\">Function Calling Syntax</a></li>\n",
    "            <li><a href=\"#toc3_3_\">Your First Function</a></li>\n",
    "            <li><a href=\"#toc3_4_\">Using Parameters</a></li>\n",
    "            <li><a href=\"#toc3_5_\">Placeholder Functions with <code>pass</code></a></li>\n",
    "          </ul>\n",
    "        </li>\n",
    "      </ul>\n",
    "    </div>\n",
    "  </div>\n",
    "</div>"
   ]
  },
  {
   "cell_type": "markdown",
   "metadata": {},
   "source": [
    "<style>\n",
    "  * { box-sizing: border-box; }\n",
    "  .section-card { background: linear-gradient(145deg, rgb(61, 61, 87), rgb(49, 49, 70)); border-radius: 15px; padding: 2rem; margin: 0 auto 2.5rem; box-shadow: 0 8px 20px rgba(0, 0, 0, 0.5); width: 100%; max-width: min(1200px, 95vw); }\n",
    "  .section-card h2 { text-align: center; color: #ffffff; font-size: 1.8rem; margin-bottom: 1.5rem; font-family: 'Poppins', sans-serif; letter-spacing: 1px; }\n",
    "  .container { display: flex; flex-direction: column; gap: 1.25rem; align-items: center; }\n",
    "  .card { background: linear-gradient(145deg, #24243e, #1e1e3a); border-radius: 12px; padding: 1.5rem; box-shadow: 0 6px 16px rgba(0, 0, 0, 0.4); border-left: 4px solid transparent; width: min(1000px, 90vw); margin: 0 auto 1.25rem; transition: transform 0.3s ease, box-shadow 0.3s ease; }\n",
    "  .card:hover { transform: translateY(-6px); box-shadow: 0 10px 20px rgba(0, 0, 0, 0.5); }\n",
    "  .container > .card:last-child { margin-bottom: 2rem; }\n",
    "  .card.orange { border-left-color: #ffa726; }\n",
    "  p { color: #dcdcdc; font-size: 0.95rem; line-height: 1.5; font-family: 'Segoe UI', sans-serif; margin-bottom: 0.75rem; }\n",
    "  img { display: block; max-width: 65vw; height: auto; margin: 0 auto; border-radius: 10px; }\n",
    "  @media (max-width: 768px) { .section-card { padding: 1.25rem; } .card { width: 100%; padding: 1rem; margin: 0 auto 1rem; } .container > .card:last-child { margin-bottom: 1.5rem; } .section-card h2 { font-size: 1.4rem; } p { font-size: 0.9rem; } }\n",
    "</style>\n",
    "<div class=\"section-card\" id=\"toc1_\">\n",
    "  <h2>What is a Function?</h2>\n",
    "  <div class=\"container\">\n",
    "    <div class=\"card orange\">\n",
    "      <p>A function in programming is a reusable block of code that performs a specific task. Functions take in data, process it, and return a result. In Python, they help organize code and make it more readable, allowing you to write code once and use it multiple times, which is a fundamental aspect of the <strong>DRY (Don't Repeat Yourself)</strong> principle.</p>\n",
    "    </div>\n",
    "    <div class=\"card orange\">\n",
    "       <img src=\"../images/math-function-input-output.png\" alt=\"Function Input-Process-Output Diagram\">\n",
    "    </div>\n",
    "  </div>\n",
    "</div>"
   ]
  },
  {
   "cell_type": "markdown",
   "metadata": {},
   "source": [
    "<style>\n",
    "  * { box-sizing: border-box; }\n",
    "  .section-card { background: linear-gradient(145deg, rgb(61, 61, 87), rgb(49, 49, 70)); border-radius: 15px; padding: 2rem; margin: 0 auto 2.5rem; box-shadow: 0 8px 20px rgba(0, 0, 0, 0.5); width: 100%; max-width: min(1200px, 95vw); }\n",
    "  .section-card h2, .card h3 { color: #ffffff; font-family: 'Poppins', sans-serif; letter-spacing: 1px; }\n",
    "  .section-card h2 { text-align: center; font-size: 1.8rem; margin-bottom: 1.5rem; }\n",
    "  .card h3 { font-size: 1.3rem; margin-bottom: 0.75rem; font-weight: bold; }\n",
    "  .container { display: flex; flex-direction: column; gap: 1.25rem; align-items: center; }\n",
    "  .card { background: linear-gradient(145deg, #24243e, #1e1e3a); border-radius: 12px; padding: 1.5rem; box-shadow: 0 6px 16px rgba(0, 0, 0, 0.4); border-left: 4px solid transparent; width: min(1000px, 90vw); margin: 0 auto 1.25rem; transition: transform 0.3s ease, box-shadow 0.3s ease; }\n",
    "  .card:hover { transform: translateY(-6px); box-shadow: 0 10px 20px rgba(0, 0, 0, 0.5); }\n",
    "  .container > .card:last-child { margin-bottom: 2rem; }\n",
    "  .card.purple { border-left-color: #ba68c8; }\n",
    "  p { color: #dcdcdc; font-size: 0.95rem; line-height: 1.5; font-family: 'Segoe UI', sans-serif; margin-bottom: 0.75rem; }\n",
    "  pre { background-color: #1e1e3a; padding: 1rem; border-radius: 5px; border: 1px solid #444; overflow-x: auto; }\n",
    "  code {background-color: #2e2e2e;  color: #f8f8f2; padding: 2px 4px; border-radius: 4px; font-family: 'Courier New', monospace; }\n",
    "  @media (max-width: 768px) { .section-card { padding: 1.25rem; } .card { width: 100%; padding: 1rem; margin: 0 auto 1rem; } .container > .card:last-child { margin-bottom: 1.5rem; } .section-card h2 { font-size: 1.4rem; } p { font-size: 0.9rem; } }\n",
    "</style>\n",
    "<div class=\"section-card\" id=\"toc2_\">\n",
    "  <h2>The Importance of Python Functions</h2>\n",
    "  <div class=\"container\">\n",
    "    <div class=\"card purple\">\n",
    "      <p>Functions are fundamental in Python because they promote several key aspects of good software design: abstraction, reusability, modularity, and namespace separation.</p>\n",
    "    </div>\n",
    "    <div class=\"card purple\" id=\"toc2_1_\">\n",
    "      <h3>Abstraction and Reusability</h3>\n",
    "      <p>By encapsulating logic within a function, you can reuse that code anywhere in your application just by calling the function. This adheres to the DRY (Don't Repeat Yourself) principle, saving time and reducing errors.</p>\n",
    "      <pre><code>def calculate_average(numbers):\n",
    "    return sum(numbers) / len(numbers)</code></pre>\n",
    "    </div>\n",
    "    <div class=\"card purple\" id=\"toc2_2_\">\n",
    "       <h3>Modularity</h3>\n",
    "       <p>Modularity involves breaking down a complex system into manageable, interchangeable components. Functions allow you to structure programs into modules, where each function handles a specific responsibility, simplifying development and debugging.</p>\n",
    "      <pre><code>\n",
    "def read_file(filepath):\n",
    "    # Logic to read from a file\n",
    "    pass\n",
    "<br>\n",
    "def process_data(data):\n",
    "    # Transform data\n",
    "    pass\n",
    "<br>\n",
    "def write_file(filepath, data):\n",
    "    # Write processed data to a file\n",
    "    pass\n",
    "<br>\n",
    "# Main program flow\n",
    "file_contents = read_file('input.txt')\n",
    "processed_data = process_data(file_contents)\n",
    "write_file('output.txt', processed_data)</code></pre>\n",
    "      <p>Each function handles a distinct aspect of the program, simplifying the development and debugging process.</p>\n",
    "    </div>\n",
    "    <div class=\"card purple\" id=\"toc2_3_\">\n",
    "       <h3>Namespace Separation</h3>\n",
    "       <p>Every function defines its own namespace, meaning variables declared inside a function are local to it. This isolation prevents variable name conflicts and makes code more predictable.</p>\n",
    "       <p>Consider two functions, each defining a variable named <code>temp</code>:</p>\n",
    "       <pre><code>\n",
    "def function_a():\n",
    "    temp = \"I'm local to function_a\"\n",
    "    return temp\n",
    "<br>\n",
    "def function_b():\n",
    "    temp = \"I'm local to function_b\"\n",
    "    return temp\n",
    "<br>\n",
    "# No interference occurs between the two 'temp' variables\n",
    "print(function_a())  # Output: I'm local to function_a\n",
    "print(function_b())  # Output: I'm local to function_b</code></pre>\n",
    "       <p>This separation allows developers to write functions with clean and self-contained logic, knowing that their local variables will not affect or be affected by the rest of the program.</p>\n",
    "    </div>\n",
    "  </div>\n",
    "</div>"
   ]
  },
  {
   "cell_type": "markdown",
   "metadata": {},
   "source": [
    "<style>\n",
    "  * { box-sizing: border-box; }\n",
    "  .section-card { background: linear-gradient(145deg, rgb(61, 61, 87), rgb(49, 49, 70)); border-radius: 15px; padding: 2rem; margin: 0 auto 2.5rem; box-shadow: 0 8px 20px rgba(0, 0, 0, 0.5); width: 100%; max-width: min(1200px, 95vw); }\n",
    "  .section-card h2, .card h3 { color: #ffffff; font-family: 'Poppins', sans-serif; letter-spacing: 1px; }\n",
    "  .section-card h2 { text-align: center; font-size: 1.8rem; margin-bottom: 1.5rem; }\n",
    "  .card h3 { font-size: 1.3rem; margin-bottom: 0.75rem; font-weight: bold; }\n",
    "  .container { display: flex; flex-direction: column; gap: 1.25rem; align-items: center; }\n",
    "  .card { background: linear-gradient(145deg, #24243e, #1e1e3a); border-radius: 12px; padding: 1.5rem; box-shadow: 0 6px 16px rgba(0, 0, 0, 0.4); border-left: 4px solid transparent; width: min(1000px, 90vw); margin: 0 auto 1.25rem; transition: transform 0.3s ease, box-shadow 0.3s ease; }\n",
    "  .card:hover { transform: translateY(-6px); box-shadow: 0 10px 20px rgba(0, 0, 0, 0.5); }\n",
    "  .container > .card:last-child { margin-bottom: 2rem; }\n",
    "  .card.red { border-left-color: #ef5350; }\n",
    "  p, li { color: #dcdcdc; font-size: 0.95rem; line-height: 1.5; font-family: 'Segoe UI', sans-serif; }\n",
    "  p { margin-bottom: 0.75rem; }\n",
    "  ul { list-style-position: inside; padding-left: 0; }\n",
    "  li { margin-bottom: 0.5rem; }\n",
    "  img { display: block; max-width: 60vw; height: auto; margin: 0 auto; border-radius: 10px; }\n",
    "  pre { background-color: #1e1e3a; padding: 1rem; border-radius: 5px; border: 1px solid #444; overflow-x: auto; }\n",
    "  code { background-color: #2e2e2e; color: #f8f8f2; padding: 2px 4px; border-radius: 4px; font-family: 'Courier New', monospace; }\n",
    "  @media (max-width: 768px) { .section-card { padding: 1.25rem; } .card { width: 100%; padding: 1rem; margin: 0 auto 1rem; } .container > .card:last-child { margin-bottom: 1.5rem; } .section-card h2 { font-size: 1.4rem; } p, li { font-size: 0.9rem; } }\n",
    "</style>\n",
    "<div class=\"section-card\" id=\"toc3_\">\n",
    "  <h2>Creating Your First Function</h2>\n",
    "  <div class=\"container\">\n",
    "    <div class=\"card red\" id=\"toc3_1_\">\n",
    "      <h3>Function Definition Syntax</h3>\n",
    "      <p>To define a function, you use the <code>def</code> keyword followed by the function name, parentheses for parameters, and a colon. The function body is an indented block of code.</p>\n",
    "      <pre><code>def function_name(parameters):\n",
    "    statements</code></pre>\n",
    "      <img src=\"../images/function-parts.png\" width=\"600\">\n",
    "    </div>\n",
    "    <div class=\"card red\" id=\"toc3_2_\">\n",
    "      <h3>Function Calling Syntax</h3>\n",
    "      <p>To use a function, call it with its name and parentheses: <pre><code>function_name(arguments)</code></pre></p><p> Include arguments if the function expects parameters; use empty parentheses <code>()</code> if no parameters are needed.</p>\n",
    "    </div>\n",
    "    <div class=\"card red\" id=\"toc3_3_\">\n",
    "       <h3>Your First Function</h3>\n",
    "       <p>Let's create a simple function named<code>greet</code> that takes no parameters and prints a greeting message.</p>\n",
    "    </div>\n",
    "  </div>\n",
    "</div>"
   ]
  },
  {
   "cell_type": "code",
   "execution_count": 3,
   "metadata": {},
   "outputs": [
    {
     "name": "stdout",
     "output_type": "stream",
     "text": [
      "Hello there, welcome to Python functions!\n"
     ]
    }
   ],
   "source": [
    "def greet():\n",
    "    print(\"Hello there, welcome to Python functions!\")\n",
    "\n",
    "greet()"
   ]
  },
  {
   "cell_type": "markdown",
   "metadata": {},
   "source": [
    "<style>\n",
    "  * { box-sizing: border-box; }\n",
    "  .section-card { background: linear-gradient(145deg, rgb(61, 61, 87), rgb(49, 49, 70)); border-radius: 15px; padding: 2rem; margin: 0 auto 2.5rem; box-shadow: 0 8px 20px rgba(0, 0, 0, 0.5); width: 100%; max-width: min(1200px, 95vw); }\n",
    "  .card h3 { color: #ffffff; font-family: 'Poppins', sans-serif; letter-spacing: 1px; font-size: 1.3rem; margin-bottom: 0.75rem; font-weight: bold; }\n",
    "  .container { display: flex; flex-direction: column; gap: 1.25rem; align-items: center; }\n",
    "  .card { background: linear-gradient(145deg, #24243e, #1e1e3a); border-radius: 12px; padding: 1.5rem; box-shadow: 0 6px 16px rgba(0, 0, 0, 0.4); border-left: 4px solid transparent; width: min(1000px, 90vw); margin: 0 auto 1.25rem; transition: transform 0.3s ease, box-shadow 0.3s ease; }\n",
    "  .card:hover { transform: translateY(-6px); box-shadow: 0 10px 20px rgba(0, 0, 0, 0.5); }\n",
    "  .container > .card:last-child { margin-bottom: 2rem; }\n",
    "  .card.red { border-left-color: #ef5350; }\n",
    "  p { color: #dcdcdc; font-size: 0.95rem; line-height: 1.5; font-family: 'Segoe UI', sans-serif; margin-bottom: 0.75rem; }\n",
    "  @media (max-width: 768px) { .card { width: 100%; padding: 1rem; margin: 0 auto 1rem; } .container > .card:last-child { margin-bottom: 1.5rem; } p { font-size: 0.9rem; } }\n",
    "</style>\n",
    "<div class=\"section-card\" id=\"toc3_4_\">\n",
    "  <div class=\"container\">\n",
    "    <div class=\"card red\">\n",
    "      <h3>Using Parameters</h3>\n",
    "      <p>Now, let's enhance the function by adding a parameter to greet someone by name.</p>\n",
    "    </div>\n",
    "  </div>\n",
    "</div>"
   ]
  },
  {
   "cell_type": "code",
   "execution_count": 5,
   "metadata": {},
   "outputs": [
    {
     "name": "stdout",
     "output_type": "stream",
     "text": [
      "Hello, Alice! Welcome to Python functions!\n"
     ]
    }
   ],
   "source": [
    "def greet(name):\n",
    "    print(f\"Hello, {name}! Welcome to Python functions!\")\n",
    "\n",
    "greet(\"Alice\")"
   ]
  },
  {
   "cell_type": "markdown",
   "metadata": {},
   "source": [
    "<style>\n",
    "  * { box-sizing: border-box; }\n",
    "  .section-card { background: linear-gradient(145deg, rgb(61, 61, 87), rgb(49, 49, 70)); border-radius: 15px; padding: 2rem; margin: 0 auto 2.5rem; box-shadow: 0 8px 20px rgba(0, 0, 0, 0.5); width: 100%; max-width: min(1200px, 95vw); }\n",
    "  .card h3 { color: #ffffff; font-family: 'Poppins', sans-serif; letter-spacing: 1px; font-size: 1.3rem; margin-bottom: 0.75rem; font-weight: bold; }\n",
    "  .container { display: flex; flex-direction: column; gap: 1.25rem; align-items: center; }\n",
    "  .card { background: linear-gradient(145deg, #24243e, #1e1e3a); border-radius: 12px; padding: 1.5rem; box-shadow: 0 6px 16px rgba(0, 0, 0, 0.4); border-left: 4px solid transparent; width: min(1000px, 90vw); margin: 0 auto 1.25rem; transition: transform 0.3s ease, box-shadow 0.3s ease; }\n",
    "  .card:hover { transform: translateY(-6px); box-shadow: 0 10px 20px rgba(0, 0, 0, 0.5); }\n",
    "  .container > .card:last-child { margin-bottom: 2rem; }\n",
    "  .card.red { border-left-color: #ef5350; }\n",
    "  p { color: #dcdcdc; font-size: 0.95rem; line-height: 1.5; font-family: 'Segoe UI', sans-serif; margin-bottom: 0.75rem; }\n",
    "  @media (max-width: 768px) { .card { width: 100%; padding: 1rem; margin: 0 auto 1rem; } .container > .card:last-child { margin-bottom: 1.5rem; } p { font-size: 0.9rem; } }\n",
    "</style>\n",
    "<div class=\"section-card\" id=\"toc3_5_\">\n",
    "  <div class=\"container\">\n",
    "    <div class=\"card red\">\n",
    "      <h3>Placeholder Functions with <code>pass</code></h3>\n",
    "      <p style=\"margin-bottom:0;\">Sometimes, you may want to define the structure of a function but delay writing its content. In Python, the <code>pass</code> statement can be used for this purpose.</p>\n",
    "    </div>\n",
    "  </div>\n",
    "</div>"
   ]
  },
  {
   "cell_type": "code",
   "execution_count": 7,
   "metadata": {},
   "outputs": [],
   "source": [
    "def future_function():\n",
    "    pass\n",
    "\n",
    "future_function()  # Does nothing for now"
   ]
  }
 ],
 "metadata": {
  "kernelspec": {
   "display_name": "py310",
   "language": "python",
   "name": "python3"
  },
  "language_info": {
   "codemirror_mode": {
    "name": "ipython",
    "version": 3
   },
   "file_extension": ".py",
   "mimetype": "text/x-python",
   "name": "python",
   "nbconvert_exporter": "python",
   "pygments_lexer": "ipython3",
   "version": "3.10.12"
  }
 },
 "nbformat": 4,
 "nbformat_minor": 2
}
