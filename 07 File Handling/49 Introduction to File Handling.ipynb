{
 "cells": [
  {
   "cell_type": "markdown",
   "metadata": {},
   "source": [
    "<style>*{box-sizing:border-box}.section-card{background:linear-gradient(145deg,rgb(61,61,87),rgb(49,49,70));border-radius:15px;padding:2rem;margin:0 auto 2.5rem;box-shadow:0 8px 20px rgba(0,0,0,0.5);width:100%;max-width:min(1200px,95vw)}.section-card h1{width:100%;text-align:center;color:#ffffff;font-size:2.8rem;margin-bottom:0;font-family:'Poppins',sans-serif;letter-spacing:1px}.container{display:flex;flex-direction:column;gap:1.25rem;align-items:center}.card{background:linear-gradient(145deg,#24243e,#1e1e3a);border-radius:12px;padding:1.5rem;box-shadow:0 6px 16px rgba(0,0,0,0.4);border-left:4px solid transparent;width:min(1000px,90vw);margin:0 auto 1.25rem;transition:transform 0.3s ease,box-shadow 0.3s ease}.card:hover{transform:translateY(-6px);box-shadow:0 10px 20px rgba(0,0,0,0.5)}.container>.card:last-child{margin-bottom:2rem}.card.green{border-left-color:#66bb6a}p,li{color:#dcdcdc;font-size:0.95rem;line-height:1.5;font-family:'Segoe UI',sans-serif}p{margin-bottom:0.75rem}@media (max-width:768px){.section-card{padding:1.25rem}.section-card h1{font-size:2rem}.card{width:100%;padding:1rem;margin:0 auto 1rem}.container>.card:last-child{margin-bottom:1.5rem}p,li{font-size:0.9rem}}</style>\n",
    "<div class=\"section-card\">\n",
    "  <h1>Introduction to File Handling in Python</h1>\n",
    "</div>\n",
    "<div class=\"section-card\">\n",
    "  <div class=\"container\">\n",
    "    <div class=\"card green\">\n",
    "      <p>File handling stores and retrieves data persistently. Essential for logs, data export/import (CSV, JSON), and media files. Covers opening/closing, reading/writing in text/binary formats.</p>\n",
    "    </div>\n",
    "    <div class=\"card green\">\n",
    "      <p>Objectives: Understand files, operations, open/close, read/write, use <code>with</code> for safety.</p>\n",
    "    </div>\n",
    "  </div>\n",
    "</div>"
   ]
  },
  {
   "cell_type": "markdown",
   "metadata": {},
   "source": [
    "<style>*{ box-sizing: border-box; }\n",
    "  .section-card { background: linear-gradient(145deg, rgb(61, 61, 87), rgb(49, 49, 70)); border-radius: 15px; padding: 2rem; margin: 0 auto 2.5rem; box-shadow: 0 8px 20px rgba(0, 0, 0, 0.5); width: 100%; max-width: min(1200px, 95vw); }\n",
    "  .section-card h2 { text-align: center; color: #ffffff; font-size: 1.8rem; margin-bottom: 1.5rem; font-family: 'Poppins', sans-serif; letter-spacing: 1px; }\n",
    "  .container { display: flex; flex-direction: column; gap: 1.25rem; align-items: center; }\n",
    "  .card { background: linear-gradient(145deg, #24243e, #1e1e3a); border-radius: 12px; padding: 1.5rem; box-shadow: 0 6px 16px rgba(0, 0, 0, 0.4); border-left: 4px solid transparent; width: min(1000px, 90vw); margin: 0 auto 1.25rem; transition: transform 0.3s ease, box-shadow 0.3s ease; }\n",
    "  .card:hover { transform: translateY(-6px); box-shadow: 0 10px 20px rgba(0, 0, 0, 0.5); }\n",
    "  .container > .card:last-child { margin-bottom: 2rem; }\n",
    "  .card.blue { border-left-color: #29b6f6; }\n",
    "  li { margin-bottom: 0.5rem; color: #dcdcdc; font-size: 0.95rem; line-height: 1.5; font-family: 'Segoe UI', sans-serif; }\n",
    "  .toc-card ul { list-style-type: none; padding-left: 0; margin-bottom:0; }\n",
    "  .toc-card a { color: #29b6f6; text-decoration: none; }\n",
    "  .toc-card ul ul { padding-left: 1.5rem; margin-top:0.5rem; }@media (max-width: 768px) { .section-card { padding: 1.25rem; } .card { width: 100%; padding: 1rem; margin: 0 auto 1rem; } .container > .card:last-child { margin-bottom: 1.5rem; } .section-card h2 { font-size: 1.4rem; } li { font-size: 0.9rem; } }</style>\n",
    "<div class=\"section-card\" id=\"toc0_\">\n",
    "  <h2>Table of contents</h2>\n",
    "  <div class=\"container\">\n",
    "    <div class=\"card blue toc-card\">\n",
    "      <ul>\n",
    "        <li><a href=\"#toc1_\">What are files?</a>\n",
    "          <ul>\n",
    "            <li><a href=\"#toc1_1_\">Text Files</a></li>\n",
    "            <li><a href=\"#toc1_2_\">Binary Files</a></li>\n",
    "          </ul>\n",
    "        </li>\n",
    "        <li><a href=\"#toc2_\">Why is file handling important?</a></li>\n",
    "        <li><a href=\"#toc3_\">Basic file handling operations</a>\n",
    "          <ul>\n",
    "            <li><a href=\"#toc3_1_\">Open</a></li>\n",
    "            <li><a href=\"#toc3_2_\">Read</a></li>\n",
    "            <li><a href=\"#toc3_3_\">Write</a></li>\n",
    "            <li><a href=\"#toc3_4_\">Close</a></li>\n",
    "            <li><a href=\"#toc3_5_\">Opening a file in Python</a></li>\n",
    "          </ul>\n",
    "        </li>\n",
    "        <li><a href=\"#toc4_\">The <code>open()</code> function and its modes</a>\n",
    "          <ul>\n",
    "            <li><a href=\"#toc4_1_\">Code examples showing how to open files in different modes</a></li>\n",
    "          </ul>\n",
    "        </li>\n",
    "        <li><a href=\"#toc5_\">Text files vs. binary files</a>\n",
    "          <ul>\n",
    "            <li><a href=\"#toc5_1_\">Use cases for each type</a></li>\n",
    "          </ul>\n",
    "        </li>\n",
    "        <li><a href=\"#toc6_\">The importance of closing files and using <code>with</code> statements for safety</a>\n",
    "          <ul>\n",
    "            <li><a href=\"#toc6_1_\">Introduction to the <code>with</code> statement and context managers</a></li>\n",
    "          </ul>\n",
    "        </li>\n",
    "        <li><a href=\"#toc7_\">Practice Exercise</a>\n",
    "          <ul>\n",
    "            <li><a href=\"#toc7_1_\">Solution</a></li>\n",
    "          </ul>\n",
    "        </li>\n",
    "      </ul>\n",
    "    </div>\n",
    "  </div>\n",
    "</div>"
   ]
  },
  {
   "cell_type": "markdown",
   "metadata": {},
   "source": [
    "<style>*{box-sizing:border-box}.section-card{background:linear-gradient(145deg,rgb(61,61,87),rgb(49,49,70));border-radius:15px;padding:2rem;margin:0 auto 2.5rem;box-shadow:0 8px 20px rgba(0,0,0,0.5);width:100%;max-width:min(1200px,95vw)}.section-card h2,.card h3{color:#ffffff;font-family:'Poppins',sans-serif;letter-spacing:1px}.section-card h2{text-align:center;font-size:1.8rem;margin-bottom:1.5rem}.container{display:flex;flex-direction:column;gap:1.25rem;align-items:center}.card{background:linear-gradient(145deg,#24243e,#1e1e3a);border-radius:12px;padding:1.5rem;box-shadow:0 6px 16px rgba(0,0,0,0.4);border-left:4px solid transparent;width:min(1000px,90vw);margin:0 auto 1.25rem;transition:transform 0.3s ease,box-shadow 0.3s ease}.card:hover{transform:translateY(-6px);box-shadow:0 10px 20px rgba(0,0,0,0.5)}.container>.card:last-child{margin-bottom:2rem}.card.purple{border-left-color:#ba68c8}p,li{color:#dcdcdc;font-size:0.95rem;line-height:1.5;font-family:'Segoe UI',sans-serif}p{margin-bottom:0.75rem}ul,ol{padding-left:1.25rem;margin-bottom:0.75rem}li{margin-bottom:0.5rem}@media (max-width:768px){.section-card{padding:1.25rem}.card{width:100%;padding:1rem;margin:0 auto 1rem}.container>.card:last-child{margin-bottom:1.5rem}.section-card h2{font-size:1.4rem}p,li{font-size:0.9rem}}</style>\n",
    "<div class=\"section-card\" id=\"toc1_\">\n",
    "  <h2>What are files?</h2>\n",
    "  <div class=\"container\">\n",
    "    <div class=\"card purple\">\n",
    "      <p>A file is a named collection of data stored persistently on devices like hard drives or SSDs; used to organize and access information easily. File names often include extensions (e.g., <code>.docx</code> for Word documents, <code>.png</code> for images) to indicate type and content, which can range from text and spreadsheets to media and executables.</p>\n",
    "    </div>\n",
    "  </div>\n",
    "</div>"
   ]
  },
  {
   "cell_type": "markdown",
   "metadata": {},
   "source": [
    "<style>*{box-sizing:border-box}.section-card{background:linear-gradient(145deg,rgb(61,61,87),rgb(49,49,70));border-radius:15px;padding:2rem;margin:0 auto 2.5rem;box-shadow:0 8px 20px rgba(0,0,0,0.5);width:100%;max-width:min(1200px,95vw)}.section-card h2,.card h3{color:#ffffff;font-family:'Poppins',sans-serif;letter-spacing:1px}.section-card h2{text-align:center;font-size:1.8rem;margin-bottom:1.5rem}.card h3{color:#ffffff;font-family:'Poppins',sans-serif;letter-spacing:1px;font-size:1.3rem;margin-bottom:0.75rem;font-weight:bold}.container{display:flex;flex-direction:column;gap:1.25rem;align-items:center}.card{background:linear-gradient(145deg,#24243e,#1e1e3a);border-radius:12px;padding:1.5rem;box-shadow:0 6px 16px rgba(0,0,0,0.4);border-left:4px solid transparent;width:min(1000px,90vw);margin:0 auto 1.25rem;transition:transform 0.3s ease,box-shadow 0.3s ease}.card:hover{transform:translateY(-6px);box-shadow:0 10px 20px rgba(0,0,0,0.5)}.container>.card:last-child{margin-bottom:2rem}.card.purple{border-left-color:#ba68c8}p,li{color:#dcdcdc;font-size:0.95rem;line-height:1.5;font-family:'Segoe UI',sans-serif}p{margin-bottom:0.75rem}ul{list-style-position:inside;padding-left:0}@media (max-width:768px){.card{width:100%;padding:1rem;margin:0 auto 1rem}.container>.card:last-child{margin-bottom:1.5rem}p,li{font-size:0.9rem}}</style>\n",
    "<div class=\"section-card\" id=\"toc1_1_\">\n",
    "  <div class=\"container\">\n",
    "    <div class=\"card purple\">\n",
    "      <h3>Text Files</h3>\n",
    "      <p>Human-readable character sequences. Use encoding like ASCII or UTF-8 for byte-to-character translation.</p>\n",
    "      <ul>\n",
    "        <li><code>.txt</code>: Plain text with no formatting.</li>\n",
    "        <li><code>.py</code>: Python source code file.</li>\n",
    "        <li><code>.html</code> or <code>.css</code>: Web markup and styling files.</li>\n",
    "        <li><code>.csv</code>: Tabular data stored as comma-separated values.</li>\n",
    "      </ul>\n",
    "    </div>\n",
    "  </div>\n",
    "</div>"
   ]
  },
  {
   "cell_type": "markdown",
   "metadata": {},
   "source": [
    "<style>*{box-sizing:border-box}.section-card{background:linear-gradient(145deg,rgb(61,61,87),rgb(49,49,70));border-radius:15px;padding:2rem;margin:0 auto 2.5rem;box-shadow:0 8px 20px rgba(0,0,0,0.5);width:100%;max-width:min(1200px,95vw)}.section-card h2,.card h3{color:#ffffff;font-family:'Poppins',sans-serif;letter-spacing:1px}.section-card h2{text-align:center;font-size:1.8rem;margin-bottom:1.5rem}.card h3{color:#ffffff;font-family:'Poppins',sans-serif;letter-spacing:1px;font-size:1.3rem;margin-bottom:0.75rem;font-weight:bold}.container{display:flex;flex-direction:column;gap:1.25rem;align-items:center}.card{background:linear-gradient(145deg,#24243e,#1e1e3a);border-radius:12px;padding:1.5rem;box-shadow:0 6px 16px rgba(0,0,0,0.4);border-left:4px solid transparent;width:min(1000px,90vw);margin:0 auto 1.25rem;transition:transform 0.3s ease,box-shadow 0.3s ease}.card:hover{transform:translateY(-6px);box-shadow:0 10px 20px rgba(0,0,0,0.5)}.container>.card:last-child{margin-bottom:2rem}.card.purple{border-left-color:#ba68c8}p,li{color:#dcdcdc;font-size:0.95rem;line-height:1.5;font-family:'Segoe UI',sans-serif}p{margin-bottom:0.75rem}ul{list-style-position:inside;padding-left:0}img { display: block; max-width: 50vw; height: auto; margin: 0 auto; border-radius: 10px; }@media (max-width:768px){.card{width:100%;padding:1rem;margin:0 auto 1rem}.container>.card:last-child{margin-bottom:1.5rem}p,li{font-size:0.9rem}}</style>\n",
    "<div class=\"section-card\" id=\"toc1_2_\">\n",
    "  <div class=\"container\">\n",
    "    <div class=\"card purple\">\n",
    "      <h3>Binary Files</h3>\n",
    "      <p>Binary files store non-text data efficiently using full byte range; require specific programs to interpret. Correct file mode must be used in Python to handle text vs. binary files properly.</p>\n",
    "        <li><code>.exe</code>: Executable program file.</li>\n",
    "        <li><code>.jpg</code> or <code>.gif</code>: Compressed image formats.</li>\n",
    "        <li><code>.mp3</code>: Compressed audio file.</li>\n",
    "        <li><code>.pdf</code>: Document format preserving layout across platforms.</li>\n",
    "      </ul>\n",
    "      <br>\n",
    "      <img src=\"../images/encode-decode.png\">\n",
    "    </div>\n",
    "  </div>\n",
    "</div>"
   ]
  },
  {
   "cell_type": "markdown",
   "metadata": {},
   "source": [
    "<style>*{box-sizing:border-box}.section-card{background:linear-gradient(145deg,rgb(61,61,87),rgb(49,49,70));border-radius:15px;padding:2rem;margin:0 auto 2.5rem;box-shadow:0 8px 20px rgba(0,0,0,0.5);width:100%;max-width:min(1200px,95vw)}.section-card h2,.card h3{color:#ffffff;font-family:'Poppins',sans-serif;letter-spacing:1px}.section-card h2{text-align:center;font-size:1.8rem;margin-bottom:1.5rem}.container{display:flex;flex-direction:column;gap:1.25rem;align-items:center}.card{background:linear-gradient(145deg,#24243e,#1e1e3a);border-radius:12px;padding:1.5rem;box-shadow:0 6px 16px rgba(0,0,0,0.4);border-left:4px solid transparent;width:min(1000px,90vw);margin:0 auto 1.25rem;transition:transform 0.3s ease,box-shadow 0.3s ease}.card:hover{transform:translateY(-6px);box-shadow:0 10px 20px rgba(0,0,0,0.5)}.container>.card:last-child{margin-bottom:2rem}.card.orange{border-left-color:#ffa726}p,li{color:#dcdcdc;font-size:0.95rem;line-height:1.5;font-family:'Segoe UI',sans-serif}p{margin-bottom:0.75rem}ul{list-style-position:inside;padding-left:0}@media (max-width:768px){.section-card{padding:1.25rem}.card{width:100%;padding:1rem;margin:0 auto 1rem}.container>.card:last-child{margin-bottom:1.5rem}.section-card h2{font-size:1.4rem}p,li{font-size:0.9rem}}</style>\n",
    "<div class=\"section-card\" id=\"toc2_\">\n",
    "  <h2>Why is file handling important?</h2>\n",
    "  <div class=\"container\">\n",
    "    <div class=\"card orange\">\n",
    "      <p>File handling is essential for storing, retrieving, and exchanging data; it allows programs to persist data beyond runtime and interact with storage systems used by users and organizations.</p>\n",
    "      <strong>The applications of file handling:</strong>\n",
    "      <ul>\n",
    "        <li><strong>Data storage and retrieval</strong>: store and update user settings, logs, or game saves — essential for software operation.</li>\n",
    "        <li><strong>Data analysis</strong>: read and process datasets from formats like CSV, JSON, Excel for insights and reporting.</li>\n",
    "        <li><strong>Content creation</strong>: enable opening, saving, editing in tools like word processors, photo or video editors.</li>\n",
    "        <li><strong>Configuration</strong>: maintain app settings via files like <code>.ini</code>, <code>.conf</code>, <code>.json</code> across sessions without code changes.</li>\n",
    "        <li><strong>Inter-process communication</strong>: share data between processes by writing to and reading from shared files.</li>\n",
    "      </ul>\n",
    "      <strong>Problems by Improper file handling:</strong>\n",
    "      <ul>\n",
    "        <li><strong>Data loss</strong>: improper saving or overwriting may erase critical information.</li>\n",
    "        <li><strong>Data corruption</strong>: incorrect modes or missing error checks can damage file integrity.</li>\n",
    "        <li><strong>Security vulnerabilities</strong>: insecure handling risks unauthorized access or code injection.</li>\n",
    "        <li><strong>Resource leakage</strong>: unclosed files consume system resources, risking crashes or slowdowns.</li>\n",
    "        <li><strong>Inconsistencies</strong>: lack of concurrency control causes unreliable data during shared access.</li>\n",
    "        <li><strong>Portability issues</strong>: ignoring platform differences (paths, newlines) breaks cross-platform compatibility.</li>\n",
    "      </ul>\n",
    "    </div>\n",
    "  </div>\n",
    "</div>"
   ]
  },
  {
   "cell_type": "markdown",
   "metadata": {},
   "source": [
    "<style>*{box-sizing:border-box}.section-card{background:linear-gradient(145deg,rgb(61,61,87),rgb(49,49,70));border-radius:15px;padding:2rem;margin:0 auto 2.5rem;box-shadow:0 8px 20px rgba(0,0,0,0.5);width:100%;max-width:min(1200px,95vw)}.section-card h2,.card h3{color:#ffffff;font-family:'Poppins',sans-serif;letter-spacing:1px}.section-card h2{text-align:center;font-size:1.8rem;margin-bottom:1.5rem}.card h3{font-size:1.3rem;margin-bottom:0.75rem;font-weight:bold}.container{display:flex;flex-direction:column;gap:1.25rem;align-items:center}.card{background:linear-gradient(145deg,#24243e,#1e1e3a);border-radius:12px;padding:1.5rem;box-shadow:0 6px 16px rgba(0,0,0,0.4);border-left:4px solid transparent;width:min(1000px,90vw);margin:0 auto 1.25rem;transition:transform 0.3s ease,box-shadow 0.3s ease}.card:hover{transform:translateY(-6px);box-shadow:0 10px 20px rgba(0,0,0,0.5)}.container>.card:last-child{margin-bottom:2rem}.card.purple{border-left-color:#ba68c8}.card.red{border-left-color:#ef5350}.card.green{border-left-color:#66bb6a}.card.blue{border-left-color:#29b6f6}.card.orange{border-left-color:#ffa726}p,li{color:#dcdcdc;font-size:0.95rem;line-height:1.5;font-family:'Segoe UI',sans-serif}p{margin-bottom:0.75rem}ul,ol{padding-left:1.25rem;margin-bottom:0.75rem}li{margin-bottom:0.5rem}@media (max-width:768px){.section-card{padding:1.25rem}.card{width:100%;padding:1rem;margin:0 auto 1rem}.container>.card:last-child{margin-bottom:1.5rem}.section-card h2{font-size:1.4rem}p,li{font-size:0.9rem}}</style>\n",
    "<div class=\"section-card\" id=\"toc3_\">\n",
    "  <h2>Basic file handling operations</h2>\n",
    "  <div class=\"container\">\n",
    "    <div class=\"card green\" id=\"toc3_1_\">\n",
    "      <h3>Open</h3>\n",
    "      <p>The <code>open()</code> function is the key to file handling in Python. it opens a file and returns a file object for reading or writing. Syntax:</p>\n",
    "      <code>file_object = open(file_name, mode)</code>\n",
    "      <ul>\n",
    "      <li><code>file_name</code>: The name (and path) of the file you want to open.</li>\n",
    "      <li><code>mode</code>: The mode in which the file should be opened, e.g., <code>'r'</code> for reading, <code>'w'</code> for writing, <code>'a'</code> for appending, and <code>'b'</code> for binary mode.</li>\n",
    "</ul></p>\n",
    "    </div>\n",
    "    <div class=\"card green\" id=\"toc3_2_\">\n",
    "      <h3>Read</h3>\n",
    "      <p>Once a file is opened in read mode (<code>'r'</code>), use these methods to read its content:</p>\n",
    "      <ul>\n",
    "        <li><code>read(size)</code>: Reads up to <code>size</code> bytes/characters; reads entire file if omitted or negative.</li>\n",
    "        <li><code>readline()</code>: Reads and returns one line from the file.</li>\n",
    "        <li><code>readlines()</code>: Reads all lines and returns them as a list.</li>\n",
    "      </ul>\n",
    "    </div>\n",
    "    <div class=\"card green\" id=\"toc3_3_\">\n",
    "      <h3>Write</h3>\n",
    "      <p>To write to a file, open it in <code>'w'</code> (write) or <code>'a'</code> (append) mode, then use:</p>\n",
    "      <ul>\n",
    "        <li><code>write(string)</code>: Writes a string to the file.</li>\n",
    "        <li><code>writelines(list_of_strings)</code>: Writes a list of strings to the file.</li>\n",
    "      </ul>\n",
    "      <p>Note: <code>'w'</code> mode creates a new file if it doesn’t exist, or truncates it to empty if it does.</p>\n",
    "    </div>\n",
    "    <div class=\"card green\" id=\"toc3_4_\">\n",
    "      <h3>Close</h3>\n",
    "      <p>After finishing with a file, close it using <code>close()</code>:</p>\n",
    "      <code>file_object.close()\n",
    "      </code>\n",
    "      <p>This releases system resources and ensures all buffered data is written before closing.</p>\n",
    "    </div>\n",
    "    <div class=\"card green\" id=\"toc3_5_\">\n",
    "      <h3>Opening a file in Python</h3>\n",
    "      <p><code>file = open('filename', 'mode')</code> for basic access.</p>\n",
    "    </div>\n",
    "  </div>\n",
    "</div>"
   ]
  },
  {
   "cell_type": "code",
   "execution_count": 1,
   "metadata": {},
   "outputs": [
    {
     "name": "stdout",
     "output_type": "stream",
     "text": [
      "Welcome to the world of programming!\n",
      "\n",
      "Let's dive into the world of Python file handling and unleash the power of programming!\n"
     ]
    }
   ],
   "source": [
    "# Open a file in read mode\n",
    "file_object = open('files/example.txt', 'r')\n",
    "\n",
    "# Read the content of the file\n",
    "content = file_object.read()\n",
    "\n",
    "# Print the content\n",
    "print(content)\n",
    "\n",
    "# Close the file\n",
    "file_object.close()"
   ]
  },
  {
   "cell_type": "markdown",
   "metadata": {},
   "source": [
    "<style>*{box-sizing:border-box}.section-card{background:linear-gradient(145deg,rgb(61,61,87),rgb(49,49,70));border-radius:15px;padding:2rem;margin:0 auto 2.5rem;box-shadow:0 8px 20px rgba(0,0,0,0.5);width:100%;max-width:min(1200px,95vw)}.section-card h2,.card h3{color:#ffffff;font-family:'Poppins',sans-serif;letter-spacing:1px}.section-card h2{text-align:center;font-size:1.8rem;margin-bottom:1.5rem}.card h3{font-size:1.3rem;margin-bottom:0.75rem;font-weight:bold}.container{display:flex;flex-direction:column;gap:1.25rem;align-items:center}.card{background:linear-gradient(145deg,#24243e,#1e1e3a);border-radius:12px;padding:1.5rem;box-shadow:0 6px 16px rgba(0,0,0,0.4);border-left:4px solid transparent;width:min(1000px,90vw);margin:0 auto 1.25rem;transition:transform 0.3s ease,box-shadow 0.3s ease}.card:hover{transform:translateY(-6px);box-shadow:0 10px 20px rgba(0,0,0,0.5)}.container>.card:last-child{margin-bottom:2rem}.card.pink{border-left-color:rgba(242, 59, 199, 0.5)}p{color:#dcdcdc;font-size:0.95rem;line-height:1.5;font-family:'Segoe UI',sans-serif;margin-bottom:0.75rem}ul,ol{padding-left:1.25rem;margin-bottom:0.75rem}li{margin-bottom:0.5rem}@media (max-width:768px){.section-card{padding:1.25rem}.card{width:100%;padding:1rem;margin:0 auto 1rem}.container>.card:last-child{margin-bottom:1.5rem}.section-card h2{font-size:1.4rem}p,li{font-size:0.9rem}}</style>\n",
    "<div class=\"section-card\" id=\"toc4_\">\n",
    "  <h2>The open() function and its modes</h2>\n",
    "  <div class=\"container\">\n",
    "    <div class=\"card pink\">\n",
    "      <p>The <code>open()</code> function lets you specify how to interact with a file via different modes:</p>\n",
    "<ul>\n",
    "  <li><code>'r'</code>: Read-only (default) — raises error if file doesn’t exist.</li>\n",
    "  <li><code>'w'</code>: Write — overwrites existing file or creates new one.</li>\n",
    "  <li><code>'a'</code>: Append — adds to end of file; creates if doesn’t exist.</li>\n",
    "  <li><code>'r+'</code>: Read/write — requires file to exist.</li>\n",
    "  <li><code>'w+'</code>: Write/read — overwrites if exists, else creates.</li>\n",
    "  <li><code>'a+'</code>: Append/read — creates if doesn’t exist.</li>\n",
    "</ul>\n",
    "<p>Combine any mode with <code>'b'</code> for binary files (e.g., <code>'rb'</code>, <code>'wb'</code>): used for images, executables, or non-text data.</p>\n",
    "    </div>\n",
    "  </div>\n",
    "</div>"
   ]
  },
  {
   "cell_type": "markdown",
   "metadata": {},
   "source": [
    "<style>*{box-sizing:border-box}.section-card{background:linear-gradient(145deg,rgb(61,61,87),rgb(49,49,70));border-radius:15px;padding:2rem;margin:0 auto 2.5rem;box-shadow:0 8px 20px rgba(0,0,0,0.5);width:100%;max-width:min(1200px,95vw)}.section-card h2,.card h3{color:#ffffff;font-family:'Poppins',sans-serif;letter-spacing:1px}.section-card h2{text-align:center;font-size:1.8rem;margin-bottom:1.5rem}.card h3{font-size:1.3rem;margin-bottom:0.75rem;font-weight:bold}.container{display:flex;flex-direction:column;gap:1.25rem;align-items:center}.card{background:linear-gradient(145deg,#24243e,#1e1e3a);border-radius:12px;padding:1.5rem;box-shadow:0 6px 16px rgba(0,0,0,0.4);border-left:4px solid transparent;width:min(1000px,90vw);margin:0 auto 1.25rem;transition:transform 0.3s ease,box-shadow 0.3s ease}.card:hover{transform:translateY(-6px);box-shadow:0 10px 20px rgba(0,0,0,0.5)}.container>.card:last-child{margin-bottom:2rem}.card.pink{border-left-color:rgba(242, 59, 199, 0.5)}p,li{color:#dcdcdc;font-size:0.95rem;line-height:1.5;font-family:'Segoe UI',sans-serif}p{margin-bottom:0.75rem}ul{list-style-position:inside;padding-left:0}@media (max-width:768px){.section-card{padding:1.25rem}.card{width:100%;padding:1rem;margin:0 auto 1rem}.container>.card:last-child{margin-bottom:1.5rem}.section-card h2{font-size:1.4rem}p,li{font-size:0.9rem}}</style>\n",
    "<div class=\"section-card\" id=\"toc4_1_\">\n",
    "  <div class=\"container\">\n",
    "    <div class=\"card pink\">\n",
    "      <h3>Code examples showing how to open files in different modes</h3>\n",
    "      <p>Examples: <code>open('file.txt', 'r')</code> for reading, <code>open('file.txt', 'w')</code> for writing, <code>open('image.jpg', 'rb')</code> for binary read.</p>\n",
    "    </div>\n",
    "  </div>\n",
    "</div>"
   ]
  },
  {
   "cell_type": "markdown",
   "metadata": {},
   "source": [
    "- **Opening a file for reading (`'r'`)**"
   ]
  },
  {
   "cell_type": "code",
   "execution_count": 2,
   "metadata": {},
   "outputs": [
    {
     "name": "stdout",
     "output_type": "stream",
     "text": [
      "Welcome to the world of programming!\n",
      "\n",
      "Let's dive into the world of Python file handling and unleash the power of programming!\n"
     ]
    }
   ],
   "source": [
    "# Open a text file for reading\n",
    "with open('files/example.txt', 'r') as file:\n",
    "    content = file.read()\n",
    "    print(content)"
   ]
  },
  {
   "cell_type": "markdown",
   "metadata": {},
   "source": [
    "- **Opening a file for writing (`'w'`)**"
   ]
  },
  {
   "cell_type": "code",
   "execution_count": 3,
   "metadata": {},
   "outputs": [],
   "source": [
    "# Open a text file for writing\n",
    "with open('files/write-example.txt', 'w') as file:\n",
    "    file.write('Hello, World!')\n"
   ]
  },
  {
   "cell_type": "markdown",
   "metadata": {},
   "source": [
    "- **Opening a file for appending (`'a'`)**"
   ]
  },
  {
   "cell_type": "code",
   "execution_count": 4,
   "metadata": {},
   "outputs": [],
   "source": [
    "# Append to a text file\n",
    "with open('files/write-example.txt', 'a') as file:\n",
    "    file.write('\\nAppend this line.')\n"
   ]
  },
  {
   "cell_type": "markdown",
   "metadata": {},
   "source": [
    "- **Opening a file for reading and writing (`'r+'`)**\n"
   ]
  },
  {
   "cell_type": "code",
   "execution_count": 5,
   "metadata": {},
   "outputs": [
    {
     "name": "stdout",
     "output_type": "stream",
     "text": [
      "Current content: Hello, World!\n",
      "Append this line.\n"
     ]
    }
   ],
   "source": [
    "# Open for reading and writing to a text file\n",
    "with open('files/write-example.txt', 'r+') as file:\n",
    "    content = file.read()\n",
    "    print('Current content:', content)\n",
    "    file.write('\\nAdd this new line.')\n"
   ]
  },
  {
   "cell_type": "markdown",
   "metadata": {},
   "source": [
    "- **Opening a file in binary mode (`'rb'`, `'wb'`)**\n"
   ]
  },
  {
   "cell_type": "code",
   "execution_count": 6,
   "metadata": {},
   "outputs": [],
   "source": [
    "# Read from a binary file\n",
    "with open('files/image.png', 'rb') as binary_file:\n",
    "    binary_content = binary_file.read()"
   ]
  },
  {
   "cell_type": "code",
   "execution_count": 7,
   "metadata": {},
   "outputs": [],
   "source": [
    "# Write to a binary file\n",
    "with open('files/output.jpg', 'wb') as binary_file:\n",
    "    binary_file.write(binary_content)"
   ]
  },
  {
   "cell_type": "markdown",
   "metadata": {},
   "source": [
    "<style>*{box-sizing:border-box}.section-card{background:linear-gradient(145deg,rgb(61,61,87),rgb(49,49,70));border-radius:15px;padding:2rem;margin:0 auto 2.5rem;box-shadow:0 8px 20px rgba(0,0,0,0.5);width:100%;max-width:min(1200px,95vw)}.section-card h2,.card h3{color:#ffffff;font-family:'Poppins',sans-serif;letter-spacing:1px}.section-card h2{text-align:center;font-size:1.8rem;margin-bottom:1.5rem}.card h3{font-size:1.3rem;margin-bottom:0.75rem;font-weight:bold}.container{display:flex;flex-direction:column;gap:1.25rem;align-items:center}.card{background:linear-gradient(145deg,#24243e,#1e1e3a);border-radius:12px;padding:1.5rem;box-shadow:0 6px 16px rgba(0,0,0,0.4);border-left:4px solid transparent;width:min(1000px,90vw);margin:0 auto 1.25rem;transition:transform 0.3s ease,box-shadow 0.3s ease}.card:hover{transform:translateY(-6px);box-shadow:0 10px 20px rgba(0,0,0,0.5)}.container>.card:last-child{margin-bottom:2rem}.card.orange{border-left-color:#ffa726}p{color:#dcdcdc;font-size:0.95rem;line-height:1.5;font-family:'Segoe UI',sans-serif;margin-bottom:0.75rem}ul,ol{padding-left:1.25rem;margin-bottom:0.75rem}li{margin-bottom:0.5rem}@media (max-width:768px){.section-card{padding:1.25rem}.card{width:100%;padding:1rem;margin:0 auto 1rem}.container>.card:last-child{margin-bottom:1.5rem}.section-card h2{font-size:1.4rem}p,li{font-size:0.9rem}}</style>\n",
    "<div class=\"section-card\" id=\"toc5_\">\n",
    "  <h2>Text files vs. binary files</h2>\n",
    "  <div class=\"container\">\n",
    "    <div class=\"card orange\">\n",
    "      <p>Understanding text vs. binary files is essential in Python — it determines how you open, read, and write them.</p>\n",
    "        <strong>Text Files</strong>:\n",
    "          <ul>\n",
    "            <li><strong>Content</strong>: Human-readable characters (letters, numbers, symbols).</li>\n",
    "            <li><strong>Encoding</strong>: Uses standards like ASCII or UTF-8 to map characters to bytes.</li>\n",
    "            <li><strong>Line Endings</strong>: Uses newline characters (e.g., <code>\\n</code> on Unix, <code>\\r\\n</code> on Windows).</li>\n",
    "            <li><strong>Reading/Writing</strong>: Python handles encoding and line-ending conversions automatically.</li>\n",
    "          </ul>\n",
    "        <strong>Binary Files</strong>:\n",
    "          <ul>\n",
    "            <li><strong>Content</strong>: Non-human-readable data (e.g., images, executables).</li>\n",
    "            <li><strong>Encoding</strong>: No character encoding — raw byte sequences.</li>\n",
    "            <li><strong>Line Endings</strong>: Not applicable.</li>\n",
    "            <li><strong>Reading/Writing</strong>: Data handled as raw bytes — no automatic conversion.</li>\n",
    "          </ul>\n",
    "    </div>\n",
    "  </div>\n",
    "</div>"
   ]
  },
  {
   "cell_type": "markdown",
   "metadata": {},
   "source": [
    "<style>*{box-sizing:border-box}.section-card{background:linear-gradient(145deg,rgb(61,61,87),rgb(49,49,70));border-radius:15px;padding:2rem;margin:0 auto 2.5rem;box-shadow:0 8px 20px rgba(0,0,0,0.5);width:100%;max-width:min(1200px,95vw)}.section-card h2,.card h3{color:#ffffff;font-family:'Poppins',sans-serif;letter-spacing:1px}.section-card h2{text-align:center;font-size:1.8rem;margin-bottom:1.5rem}.card h3{color:#ffffff;font-family:'Poppins',sans-serif;letter-spacing:1px;font-size:1.3rem;margin-bottom:0.75rem;font-weight:bold}.container{display:flex;flex-direction:column;gap:1.25rem;align-items:center}.card{background:linear-gradient(145deg,#24243e,#1e1e3a);border-radius:12px;padding:1.5rem;box-shadow:0 6px 16px rgba(0,0,0,0.4);border-left:4px solid transparent;width:min(1000px,90vw);margin:0 auto 1.25rem;transition:transform 0.3s ease,box-shadow 0.3s ease}.card:hover{transform:translateY(-6px);box-shadow:0 10px 20px rgba(0,0,0,0.5)}.container>.card:last-child{margin-bottom:2rem}.card.orange{border-left-color:#ffa726}p,li{color:#dcdcdc;font-size:0.95rem;line-height:1.5;font-family:'Segoe UI',sans-serif}p{margin-bottom:0.75rem}ul{list-style-position:inside;padding-left:0}@media (max-width:768px){.card{width:100%;padding:1rem;margin:0 auto 1rem}.container>.card:last-child{margin-bottom:1.5rem}p,li{font-size:0.9rem}}</style>\n",
    "<div class=\"section-card\" id=\"toc5_1_\">\n",
    "  <div class=\"container\">\n",
    "    <div class=\"card orange\">\n",
    "      <h3>Use cases for each type</h3>\n",
    "      <p>Text files store human-readable or printable data — ideal for configs, code, docs, and data exchange formats.</p>\n",
    "      <ul>\n",
    "      <li><strong>Configuration files</strong>: Human-readable formats like <code>.ini</code>, <code>.json</code>, <code>.yaml</code> for easy editing.</li>\n",
    "      <li><strong>Source code</strong>: Plain text files such as <code>.py</code> for writing programs.</li>\n",
    "      <li><strong>Documentation</strong>: Text files for READMEs, logs, and written guides.</li>\n",
    "      <li><strong>Data interchange</strong>: CSV, XML, JSON — standard text formats for sharing data across systems.</li>\n",
    "      </ul>\n",
    "      <p>Binary files store data compactly and efficiently — not meant for direct human reading.</p>\n",
    "      <ul>\n",
    "        <li><strong>Executable programs</strong>: Compiled code in formats like <code>.exe</code>.</li>\n",
    "        <li><strong>Media files</strong>: Images (<code>.jpg</code>, <code>.png</code>), audio (<code>.mp3</code>, <code>.wav</code>), video (<code>.mp4</code>, <code>.avi</code>) with compression.</li>\n",
    "        <li><strong>Databases</strong>: Store data in binary for performance and efficiency.</li>\n",
    "        <li><strong>Serialization</strong>: Convert objects to binary for storage or transfer — e.g., Python’s <code>pickle</code>.</li>\n",
    "      </ul>\n",
    "      <p>When handling files in Python, always use the correct mode:</p>\n",
    "      <ul>\n",
    "        <li>For text files: use <code>'r'</code>, <code>'w'</code>, <code>'a'</code>, or their variants.</li>\n",
    "        <li>For binary files: append <code>'b'</code> — e.g., <code>'rb'</code>, <code>'wb'</code>, <code>'ab'</code>.</li>\n",
    "      </ul>\n",
    "    </div>\n",
    "  </div>\n",
    "</div>"
   ]
  },
  {
   "cell_type": "markdown",
   "metadata": {},
   "source": [
    "<style>*{box-sizing:border-box}.section-card{background:linear-gradient(145deg,rgb(61,61,87),rgb(49,49,70));border-radius:15px;padding:2rem;margin:0 auto 2.5rem;box-shadow:0 8px 20px rgba(0,0,0,0.5);width:100%;max-width:min(1200px,95vw)}.section-card h2,.card h3{color:#ffffff;font-family:'Poppins',sans-serif;letter-spacing:1px}.section-card h2{text-align:center;font-size:1.8rem;margin-bottom:1.5rem}.card h3{font-size:1.3rem;margin-bottom:0.75rem;font-weight:bold}.container{display:flex;flex-direction:column;gap:1.25rem;align-items:center}.card{background:linear-gradient(145deg,#24243e,#1e1e3a);border-radius:12px;padding:1.5rem;box-shadow:0 6px 16px rgba(0,0,0,0.4);border-left:4px solid transparent;width:min(1000px,90vw);margin:0 auto 1.25rem;transition:transform 0.3s ease,box-shadow 0.3s ease}.card:hover{transform:translateY(-6px);box-shadow:0 10px 20px rgba(0,0,0,0.5)}.container>.card:last-child{margin-bottom:2rem}.card.blue{border-left-color:#29b6f6}p{color:#dcdcdc;font-size:0.95rem;line-height:1.5;font-family:'Segoe UI',sans-serif;margin-bottom:0.75rem}ul{list-style-position:inside;padding-left:0}@media (max-width:768px){.section-card{padding:1.25rem}.card{width:100%;padding:1rem;margin:0 auto 1rem}.container>.card:last-child{margin-bottom:1.5rem}.section-card h2{font-size:1.4rem}p,li{font-size:0.9rem}}</style>\n",
    "<div class=\"section-card\" id=\"toc6_\">\n",
    "  <h2>The importance of closing files and using <code>with</code> statements for safety</h2>\n",
    "  <div class=\"container\">\n",
    "    <div class=\"card blue\">\n",
    "      <p>Proper file management in Python (especially closing files after use) ensures reliability, prevents resource leaks, and protects data integrity.</p>\n",
    "      <p>Opening a file consumes system resources via file descriptors; failing to close files can exhaust these limited resources and block new file operations. Closing also flushes buffered data to disk, ensuring all content is saved and preventing data loss or corruption.</p>\n",
    "    </div>\n",
    "  </div>\n",
    "</div>"
   ]
  },
  {
   "cell_type": "markdown",
   "metadata": {},
   "source": [
    "<style>*{box-sizing:border-box}.section-card{background:linear-gradient(145deg,rgb(61,61,87),rgb(49,49,70));border-radius:15px;padding:2rem;margin:0 auto 2.5rem;box-shadow:0 8px 20px rgba(0,0,0,0.5);width:100%;max-width:min(1200px,95vw)}.section-card h2,.card h3{color:#ffffff;font-family:'Poppins',sans-serif;letter-spacing:1px}.section-card h2{text-align:center;font-size:1.8rem;margin-bottom:1.5rem}.card h3{color:#ffffff;font-family:'Poppins',sans-serif;letter-spacing:1px;font-size:1.3rem;margin-bottom:0.75rem;font-weight:bold}.container{display:flex;flex-direction:column;gap:1.25rem;align-items:center}.card{background:linear-gradient(145deg,#24243e,#1e1e3a);border-radius:12px;padding:1.5rem;box-shadow:0 6px 16px rgba(0,0,0,0.4);border-left:4px solid transparent;width:min(1000px,90vw);margin:0 auto 1.25rem;transition:transform 0.3s ease,box-shadow 0.3s ease}.card:hover{transform:translateY(-6px);box-shadow:0 10px 20px rgba(0,0,0,0.5)}.container>.card:last-child{margin-bottom:2rem}.card.blue{border-left-color:#29b6f6}p,li{color:#dcdcdc;font-size:0.95rem;line-height:1.5;font-family:'Segoe UI',sans-serif}p{margin-bottom:0.75rem}ul{list-style-position:inside;padding-left:0}@media (max-width:768px){.card{width:100%;padding:1rem;margin:0 auto 1rem}.container>.card:last-child{margin-bottom:1.5rem}p,li{font-size:0.9rem}}</style>\n",
    "<div class=\"section-card\" id=\"toc6_1_\">\n",
    "  <div class=\"container\">\n",
    "    <div class=\"card blue\">\n",
    "      <h3>Introduction to the <code>with</code> statement and context managers</h3>\n",
    "      <p>Python’s <code>with</code> statement simplifies safe file handling by automatically closing files after use — even if an error occurs.</p>\n",
    "      <p>It uses context managers to handle setup and cleanup, eliminating the need for manual <code>try...finally</code> blocks and ensuring reliable resource management.</p>\n",
    "    </div>\n",
    "  </div>\n",
    "</div>"
   ]
  },
  {
   "cell_type": "code",
   "execution_count": null,
   "metadata": {},
   "outputs": [
    {
     "name": "stdout",
     "output_type": "stream",
     "text": [
      "Welcome to the world of programming!\n",
      "\n",
      "Let's dive into the world of Python file handling and unleash the power of programming!\n",
      "\n"
     ]
    }
   ],
   "source": [
    "# Using the with statement for opening and reading from a file\n",
    "with open('files/example.txt', 'r') as file:\n",
    "    content = file.read()\n",
    "    print(content)\n",
    "# No need to explicitly close the file; it's automatically done after the block is exited."
   ]
  },
  {
   "cell_type": "markdown",
   "metadata": {},
   "source": [
    "<style>*{box-sizing:border-box}.section-card{background:linear-gradient(145deg,rgb(61,61,87),rgb(49,49,70));border-radius:15px;padding:2rem;margin:0 auto 2.5rem;box-shadow:0 8px 20px rgba(0,0,0,0.5);width:100%;max-width:min(1200px,95vw)}.section-card h2,.card h3{color:#ffffff;font-family:'Poppins',sans-serif;letter-spacing:1px}.section-card h2{text-align:center;font-size:1.8rem;margin-bottom:1.5rem}.card h3{font-size:1.3rem;margin-bottom:0.75rem;font-weight:bold}.container{display:flex;flex-direction:column;gap:1.25rem;align-items:center}.card{background:linear-gradient(145deg,#24243e,#1e1e3a);border-radius:12px;padding:1.5rem;box-shadow:0 6px 16px rgba(0,0,0,0.4);border-left:4px solid transparent;width:min(1000px,90vw);margin:0 auto 1.25rem;transition:transform 0.3s ease,box-shadow 0.3s ease}.card:hover{transform:translateY(-6px);box-shadow:0 10px 20px rgba(0,0,0,0.5)}.container>.card:last-child{margin-bottom:2rem}.card.green{border-left-color:#66bb6a}p,li,pre,code{color:#dcdcdc;font-size:0.95rem;line-height:1.5;font-family:'Segoe UI',sans-serif}p,pre{margin-bottom:0.75rem}ul,ol{padding-left:1.25rem;margin-bottom:0.75rem}li{margin-bottom:0.5rem}img{display:block;margin:0 auto 1.25rem}@media (max-width:768px){.section-card{padding:1.25rem}.card{width:100%;padding:1rem;margin:0 auto 1rem}.container>.card:last-child{margin-bottom:1.5rem}.section-card h2{font-size:1.4rem}p,li,pre,code{font-size:0.9rem}}</style>\n",
    "<div class=\"section-card\" id=\"toc7_\">\n",
    "  <h2>Practice Exercise</h2>\n",
    "  <div class=\"container\">\n",
    "    <div class=\"card green\">\n",
    "      <p>Apply file handling concepts by working with text files: open, read, write, append, and safely manage resources using <code>with</code>.</p>\n",
    "      <ol>\n",
    "      <li><strong>Read from a Text File</strong>: Open <code>example.txt</code> in read mode and print its content.</li>\n",
    "      <li><strong>Write to a Text File</strong>: Create <code>output.txt</code>, write multiple lines, then reopen and print to verify.</li>\n",
    "      <li><strong>Append to a Text File</strong>: Reopen <code>output.txt</code> in append mode, add a line, then print full content.</li>\n",
    "      <li><strong>Using the <code>with</code> Statement</strong>: Rewrite all tasks using <code>with</code> to auto-close files safely.</li>\n",
    "      <li><strong>Bonus: Type Hinting and Docstrings</strong>: Write a function with parameters (filename, mode), type hints, and a docstring explaining purpose, params, and behavior.</li>\n",
    "      </ol>\n",
    "      <p><strong>Sample Data (example.txt):</strong></p>\n",
    "      <pre>Hello, World!\n",
    "This is a sample text file.</pre>\n",
    "      <p><strong>Expected Output (Task 1):</strong></p>\n",
    "      <pre>Hello, World!\n",
    "This is a sample text file.</pre>\n",
    "      <p><strong>Expected Output (Tasks 2 & 3):</strong></p>\n",
    "      <pre>This is the first line.\n",
    "This is the second line.</pre>\n",
    "      <p>After appending:</p>\n",
    "      <pre>This is the first line.\n",
    "This is the second line.\n",
    "This is a new line added in append mode.</pre>\n",
    "    </div>\n",
    "  </div>\n",
    "</div>"
   ]
  },
  {
   "cell_type": "markdown",
   "metadata": {},
   "source": [
    "<style>*{box-sizing:border-box}.section-card{background:linear-gradient(145deg,rgb(61,61,87),rgb(49,49,70));border-radius:15px;padding:2rem;margin:0 auto 2.5rem;box-shadow:0 8px 20px rgba(0,0,0,0.5);width:100%;max-width:min(1200px,95vw)}.section-card h2,.card h3{color:#ffffff;font-family:'Poppins',sans-serif;letter-spacing:1px}.section-card h2{text-align:center;font-size:1.8rem;margin-bottom:1.5rem}.card h3{font-size:1.3rem;margin-bottom:0.75rem;font-weight:bold}.container{display:flex;flex-direction:column;gap:1.25rem;align-items:center}.card{background:linear-gradient(145deg,#24243e,#1e1e3a);border-radius:12px;padding:1.5rem;box-shadow:0 6px 16px rgba(0,0,0,0.4);border-left:4px solid transparent;width:min(1000px,90vw);margin:0 auto 1.25rem;transition:transform 0.3s ease,box-shadow 0.3s ease}.card:hover{transform:translateY(-6px);box-shadow:0 10px 20px rgba(0,0,0,0.5)}.container>.card:last-child{margin-bottom:2rem}.card.green{border-left-color:#66bb6a}p,li,pre,code{color:#dcdcdc;font-size:0.95rem;line-height:1.5;font-family:'Segoe UI',sans-serif}p,pre{margin-bottom:0.75rem}ul,ol{padding-left:1.25rem;margin-bottom:0.75rem}li{margin-bottom:0.5rem}@media (max-width:768px){.section-card{padding:1.25rem}.card{width:100%;padding:1rem;margin:0 auto 1rem}.container>.card:last-child{margin-bottom:1.5rem}.section-card h2{font-size:1.4rem}p,li,pre,code{font-size:0.9rem}}</style>\n",
    "<div class=\"section-card\" id=\"toc7_1_\">\n",
    "  <h2>Solution</h2>\n",
    "  <div class=\"container\">\n",
    "    <div class=\"card green\">\n",
    "      <p>Solutions demonstrate reading, writing, appending, and using <code>with</code> statements, plus a function with type hints and docstrings for file operations.</p>\n",
    "    </div>\n",
    "  </div>\n",
    "</div>"
   ]
  },
  {
   "cell_type": "code",
   "execution_count": 8,
   "metadata": {},
   "outputs": [
    {
     "name": "stdout",
     "output_type": "stream",
     "text": [
      "Welcome to the world of programming!\n",
      "\n",
      "Let's dive into the world of Python file handling and unleash the power of programming!\n"
     ]
    }
   ],
   "source": [
    "# Task 1: Read from a Text File\n",
    "# Ensure you have a file named 'example.txt' with the provided sample data\n",
    "with open('files/example.txt', 'r') as file:\n",
    "    contents = file.read()\n",
    "    print(contents)\n"
   ]
  },
  {
   "cell_type": "code",
   "execution_count": 9,
   "metadata": {},
   "outputs": [
    {
     "name": "stdout",
     "output_type": "stream",
     "text": [
      "This is the first line.\n",
      "This is the second line.\n",
      "\n"
     ]
    }
   ],
   "source": [
    "# Task 2: Write to a Text File\n",
    "lines_to_write = [\n",
    "    \"This is the first line.\\n\",\n",
    "    \"This is the second line.\\n\"\n",
    "]\n",
    "with open('files/output.txt', 'w') as file:\n",
    "    file.writelines(lines_to_write)\n",
    "\n",
    "# Verify the writing was successful\n",
    "with open('files/output.txt', 'r') as file:\n",
    "    contents = file.read()\n",
    "    print(contents)\n"
   ]
  },
  {
   "cell_type": "code",
   "execution_count": 10,
   "metadata": {},
   "outputs": [
    {
     "name": "stdout",
     "output_type": "stream",
     "text": [
      "This is the first line.\n",
      "This is the second line.\n",
      "This is a new line added in append mode.\n",
      "\n"
     ]
    }
   ],
   "source": [
    "# Task 3: Append to a Text File\n",
    "with open('files/output.txt', 'a') as file:\n",
    "    file.write(\"This is a new line added in append mode.\\n\")\n",
    "\n",
    "# Read and print the entire file to see the updated contents\n",
    "with open('files/output.txt', 'r') as file:\n",
    "    contents = file.read()\n",
    "    print(contents)\n"
   ]
  },
  {
   "cell_type": "code",
   "execution_count": 11,
   "metadata": {},
   "outputs": [],
   "source": [
    "# Task 4: Using the `with` Statement\n",
    "# Tasks 1 to 3 have already been modified to use the `with` statement\n"
   ]
  },
  {
   "cell_type": "code",
   "execution_count": 12,
   "metadata": {},
   "outputs": [
    {
     "name": "stdout",
     "output_type": "stream",
     "text": [
      "Welcome to the world of programming!\n",
      "\n",
      "Let's dive into the world of Python file handling and unleash the power of programming!\n"
     ]
    }
   ],
   "source": [
    "# Bonus: Type Hinting and Docstrings\n",
    "def print_file_contents(file_name: str, mode: str) -> None:\n",
    "    \"\"\"\n",
    "    Opens a file with the given name and mode, then prints its contents.\n",
    "\n",
    "    :param file_name: The name of the file to open.\n",
    "    :param mode: The mode in which to open the file ('r' for read, 'w' for write, etc.).\n",
    "    \"\"\"\n",
    "    with open(file_name, mode) as file:\n",
    "        contents = file.read()\n",
    "        print(contents)\n",
    "\n",
    "# Example usage of the bonus task function\n",
    "print_file_contents('files/example.txt', 'r')"
   ]
  }
 ],
 "metadata": {
  "kernelspec": {
   "display_name": "base",
   "language": "python",
   "name": "python3"
  },
  "language_info": {
   "codemirror_mode": {
    "name": "ipython",
    "version": 3
   },
   "file_extension": ".py",
   "mimetype": "text/x-python",
   "name": "python",
   "nbconvert_exporter": "python",
   "pygments_lexer": "ipython3",
   "version": "3.11.5"
  }
 },
 "nbformat": 4,
 "nbformat_minor": 2
}
