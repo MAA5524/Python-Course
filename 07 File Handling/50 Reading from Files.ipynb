{
 "cells": [
  {
   "cell_type": "markdown",
   "metadata": {},
   "source": [
    "<style>*{box-sizing:border-box}.section-card{background:linear-gradient(145deg,rgb(61,61,87),rgb(49,49,70));border-radius:15px;padding:2rem;margin:0 auto 2.5rem;box-shadow:0 8px 20px rgba(0,0,0,0.5);width:100%;max-width:min(1200px,95vw)}.section-card h1{width:100%;text-align:center;color:#ffffff;font-size:2.8rem;margin-bottom:0;font-family:'Poppins',sans-serif;letter-spacing:1px}.container{display:flex;flex-direction:column;gap:1.25rem;align-items:center}.card{background:linear-gradient(145deg,#24243e,#1e1e3a);border-radius:12px;padding:1.5rem;box-shadow:0 6px 16px rgba(0,0,0,0.4);border-left:4px solid transparent;width:min(1000px,90vw);margin:0 auto 1.25rem;transition:transform 0.3s ease,box-shadow 0.3s ease}.card:hover{transform:translateY(-6px);box-shadow:0 10px 20px rgba(0,0,0,0.5)}.container>.card:last-child{margin-bottom:2rem}.card.green{border-left-color:#66bb6a}p,li,pre,code{color:#dcdcdc;font-size:0.95rem;line-height:1.5;font-family:'Segoe UI',sans-serif}p,pre{margin-bottom:0.75rem}ul,ol{padding-left:1.25rem;margin-bottom:0.75rem}li{margin-bottom:0.5rem}@media (max-width:768px){.section-card{padding:1.25rem}.section-card h1{font-size:2rem}.card{width:100%;padding:1rem;margin:0 auto 1rem}.container>.card:last-child{margin-bottom:1.5rem}p,li,pre,code{font-size:0.9rem}}</style>\n",
    "<div class=\"section-card\">\n",
    "  <h1>Reading from Files</h1>\n",
    "</div>\n",
    "<div class=\"section-card\">\n",
    "  <div class=\"container\">\n",
    "    <div class=\"card green\">\n",
    "      <p>Files are essential for storing and sharing data in computing. Reading files in Python is crucial for tasks like data analysis and automation, handling both simple text and complex formats.</p>\n",
    "      <p>This lecture explores file opening modes (focusing on 'r'), reading methods (<code>read()</code>, <code>readline()</code>, <code>readlines()</code>), efficient line-by-line iteration, and using absolute/relative file paths for cross-platform reliability.</p>\n",
    "      <p>Objectives: Master file reading modes, methods, iteration techniques, and path handling for robust Python scripts.</p>\n",
    "    </div>\n",
    "  </div>\n",
    "</div>"
   ]
  },
  {
   "cell_type": "markdown",
   "metadata": {},
   "source": [
    "<style>*{box-sizing:border-box}.section-card{background:linear-gradient(145deg,rgb(61,61,87),rgb(49,49,70));border-radius:15px;padding:2rem;margin:0 auto 2.5rem;box-shadow:0 8px 20px rgba(0,0,0,0.5);width:100%;max-width:min(1200px,95vw)}.section-card h2{text-align:center;color:#ffffff;font-size:1.8rem;margin-bottom:1.5rem;font-family:'Poppins',sans-serif;letter-spacing:1px}.container{display:flex;flex-direction:column;gap:1.25rem;align-items:center}.card{background:linear-gradient(145deg,#24243e,#1e1e3a);border-radius:12px;padding:1.5rem;box-shadow:0 6px 16px rgba(0,0,0,0.4);border-left:4px solid transparent;width:min(1000px,90vw);margin:0 auto 1.25rem;transition:transform 0.3s ease,box-shadow 0.3s ease}.card:hover{transform:translateY(-6px);box-shadow:0 10px 20px rgba(0,0,0,0.5)}.container>.card:last-child{margin-bottom:2rem}.card.blue{border-left-color:#29b6f6}li,p{color:#dcdcdc;font-size:0.95rem;line-height:1.5;font-family:'Segoe UI',sans-serif}p{margin-bottom:0.75rem}.toc-card ul{list-style-type:none;padding-left:0;margin-bottom:0}.toc-card a{color:#29b6f6;text-decoration:none}.toc-card ul ul{padding-left:1.5rem;margin-top:0.5rem}@media (max-width:768px){.section-card{padding:1.25rem}.card{width:100%;padding:1rem;margin:0 auto 1rem}.container>.card:last-child{margin-bottom:1.5rem}.section-card h2{font-size:1.4rem}p,li{font-size:0.9rem}}</style>\n",
    "<div class=\"section-card\" id=\"toc0_\">\n",
    "  <h2>Table of contents</h2>\n",
    "  <div class=\"container\">\n",
    "    <div class=\"card blue toc-card\">\n",
    "      <ul>\n",
    "        <li><a href=\"#toc1_\">Opening Files for Reading ('r' mode)</a>\n",
    "          <ul>\n",
    "            <li><a href=\"#toc1_1_\">How to Open a File Using <code>open()</code></a></li>\n",
    "          </ul>\n",
    "        </li>\n",
    "        <li><a href=\"#toc2_\">The <code>read()</code>, readline(), and <code>readlines()</code> Methods</a>\n",
    "          <ul>\n",
    "            <li><a href=\"#toc2_1_\">The <code>read()</code> Method</a></li>\n",
    "            <li><a href=\"#toc2_2_\">The <code>readline()</code> Method</a></li>\n",
    "            <li><a href=\"#toc2_3_\">The <code>readlines()</code> Method</a></li>\n",
    "          </ul>\n",
    "        </li>\n",
    "        <li><a href=\"#toc3_\">Iterating Over File Objects Line by Line</a>\n",
    "          <ul>\n",
    "            <li><a href=\"#toc3_1_\">Efficiency Benefits</a></li>\n",
    "          </ul>\n",
    "        </li>\n",
    "        <li><a href=\"#toc4_\">Working with File Paths (Absolute vs. Relative)</a>\n",
    "          <ul>\n",
    "            <li><a href=\"#toc4_1_1_\">Understanding File Paths</a></li>\n",
    "            <li><a href=\"#toc4_1_2_\">Platform-Independent File Paths</a></li>\n",
    "          </ul>\n",
    "        </li>\n",
    "        <li><a href=\"#toc5_\">Exercise: Exploring File Reading Techniques in Python</a>\n",
    "          <ul>\n",
    "            <li><a href=\"#toc5_1_\">Solution</a></li>\n",
    "          </ul>\n",
    "        </li>\n",
    "      </ul>\n",
    "    </div>\n",
    "  </div>\n",
    "</div>"
   ]
  },
  {
   "cell_type": "markdown",
   "metadata": {},
   "source": [
    "<style>*{box-sizing:border-box}.section-card{background:linear-gradient(145deg,rgb(61,61,87),rgb(49,49,70));border-radius:15px;padding:2rem;margin:0 auto 2.5rem;box-shadow:0 8px 20px rgba(0,0,0,0.5);width:100%;max-width:min(1200px,95vw)}.section-card h2,.card h3{color:#ffffff;font-family:'Poppins',sans-serif;letter-spacing:1px}.section-card h2{text-align:center;font-size:1.8rem;margin-bottom:1.5rem}.card h3{font-size:1.3rem;margin-bottom:0.75rem;font-weight:bold}.container{display:flex;flex-direction:column;gap:1.25rem;align-items:center}.card{background:linear-gradient(145deg,#24243e,#1e1e3a);border-radius:12px;padding:1.5rem;box-shadow:0 6px 16px rgba(0,0,0,0.4);border-left:4px solid transparent;width:min(1000px,90vw);margin:0 auto 1.25rem;transition:transform 0.3s ease,box-shadow 0.3s ease}.card:hover{transform:translateY(-6px);box-shadow:0 10px 20px rgba(0,0,0,0.5)}.container>.card:last-child{margin-bottom:2rem}.card.purple { border-left-color: #ba68c8; }p,li,pre,code{color:#dcdcdc;font-size:0.95rem;line-height:1.5;font-family:'Segoe UI',sans-serif}p,pre{margin-bottom:0.75rem}ul,ol{padding-left:1.25rem;margin-bottom:0.75rem}li{margin-bottom:0.5rem}@media (max-width:768px){.section-card{padding:1.25rem}.card{width:100%;padding:1rem;margin:0 auto 1rem}.container>.card:last-child{margin-bottom:1.5rem}.section-card h2{font-size:1.4rem}.card h3{font-size:1.2rem}p,li,pre,code{font-size:0.9rem}}</style>\n",
    "<div class=\"section-card\" id=\"toc1_\">\n",
    "  <h2>Opening Files for Reading ('r' mode)</h2>\n",
    "  <div class=\"container\">\n",
    "    <div class=\"card purple\">\n",
    "      <p>Opening a file in 'r' mode (default for text files) places the pointer at the start. File must exist, or Python raises an error. Writing is not allowed in this mode.</p>\n",
    "    </div>\n",
    "  </div>\n",
    "</div>"
   ]
  },
  {
   "cell_type": "markdown",
   "metadata": {},
   "source": [
    "<style>*{box-sizing:border-box}.section-card{background:linear-gradient(145deg,rgb(61,61,87),rgb(49,49,70));border-radius:15px;padding:2rem;margin:0 auto 2.5rem;box-shadow:0 8px 20px rgba(0,0,0,0.5);width:100%;max-width:min(1200px,95vw)}.card h3{color:#ffffff;font-family:'Poppins',sans-serif;letter-spacing:1px;font-size:1.3rem;margin-bottom:0.75rem;font-weight:bold}.container{display:flex;flex-direction:column;gap:1.25rem;align-items:center}.card{background:linear-gradient(145deg,#24243e,#1e1e3a);border-radius:12px;padding:1.5rem;box-shadow:0 6px 16px rgba(0,0,0,0.4);border-left:4px solid transparent;width:min(1000px,90vw);margin:0 auto 1.25rem;transition:transform 0.3s ease,box-shadow 0.3s ease}.card:hover{transform:translateY(-6px);box-shadow:0 10px 20px rgba(0,0,0,0.5)}.container>.card:last-child{margin-bottom:2rem}.card.purple { border-left-color: #ba68c8; }p,li,ul,ol{padding-left:1.25rem;margin-bottom:0.75rem}li{margin-bottom:0.5rem}@media (max-width:768px){.section-card{padding:1.25rem}.card{width:100%;padding:1rem;margin:0 auto 1rem}.container>.card:last-child{margin-bottom:1.5rem}.card h3{font-size:1.2rem}p,li,pre,code{font-size:0.9rem}}</style>\n",
    "<div class=\"section-card\" id=\"toc1_1_\">\n",
    "  <div class=\"container\">\n",
    "    <div class=\"card purple\">\n",
    "      <h3>How to Open a File Using open()</h3>\n",
    "      <p>Use <code>open(filename, 'r')</code> to read text files. Specify the file path; 'r' is the default mode if omitted. Always close files using <code>close()</code> or a <code>with</code> statement for automatic closure.</p>\n",
    "    </div>\n",
    "  </div>\n",
    "</div>"
   ]
  },
  {
   "cell_type": "code",
   "execution_count": 1,
   "metadata": {},
   "outputs": [],
   "source": [
    "# Opening a file from the current directory\n",
    "file_path = 'files/example.txt'\n",
    "file = open(file_path, 'r')\n",
    "\n",
    "# Now we can read from the file\n",
    "content = file.read()\n",
    "\n",
    "# Always remember to close the file when you're done\n",
    "file.close()"
   ]
  },
  {
   "cell_type": "code",
   "execution_count": 2,
   "metadata": {},
   "outputs": [],
   "source": [
    "# Using 'with' to open a file ensures it gets closed automatically\n",
    "with open('files/example.txt', 'r') as file:\n",
    "    content = file.read()\n",
    "\n",
    "# At this point, the file is already closed"
   ]
  },
  {
   "cell_type": "markdown",
   "metadata": {},
   "source": [
    "<style>*{box-sizing:border-box}.section-card{background:linear-gradient(145deg,rgb(61,61,87),rgb(49,49,70));border-radius:15px;padding:2rem;margin:0 auto 2.5rem;box-shadow:0 8px 20px rgba(0,0,0,0.5);width:100%;max-width:min(1200px,95vw)}.section-card h2,.card h3{color:#ffffff;font-family:'Poppins',sans-serif;letter-spacing:1px}.section-card h2{text-align:center;font-size:1.8rem;margin-bottom:1.5rem}.card h3{font-size:1.3rem;margin-bottom:0.75rem;font-weight:bold}.container{display:flex;flex-direction:column;gap:1.25rem;align-items:center}.card{background:linear-gradient(145deg,#24243e,#1e1e3a);border-radius:12px;padding:1.5rem;box-shadow:0 6px 16px rgba(0,0,0,0.4);border-left:4px solid transparent;width:min(1000px,90vw);margin:0 auto 1.25rem;transition:transform 0.3s ease,box-shadow 0.3s ease}.card:hover{transform:translateY(-6px);box-shadow:0 10px 20px rgba(0,0,0,0.5)}.container>.card:last-child{margin-bottom:2rem}.card.orange { border-left-color: #ffa726; }p,li{color:#dcdcdc;font-size:0.95rem;line-height:1.5;font-family:'Segoe UI',sans-serif}p,pre{margin-bottom:0.75rem}ul,ol{padding-left:1.25rem;margin-bottom:0.75rem}li{margin-bottom:0.5rem}@media (max-width:768px){.section-card{padding:1.25rem}.card{width:100%;padding:1rem;margin:0 auto 1rem}.container>.card:last-child{margin-bottom:1.5rem}.section-card h2{font-size:1.4rem}.card h3{font-size:1.2rem}p,li{font-size:0.9rem}}</style>\n",
    "<div class=\"section-card\" id=\"toc2_\">\n",
    "  <h2>The <code>read()</code>, <code>readline()</code>, and <code>readlines()</code> Methods</h2>\n",
    "  <div class=\"container\">\n",
    "    <div class=\"card orange\">\n",
    "      <p>Python provides <code>read()</code>, <code>readline()</code>, and <code>readlines()</code> to access file content. Each method suits different use cases for efficient file reading.</p>\n",
    "    </div>\n",
    "  </div>\n",
    "</div>"
   ]
  },
  {
   "cell_type": "markdown",
   "metadata": {},
   "source": [
    "<style>*{box-sizing:border-box}.section-card{background:linear-gradient(145deg,rgb(61,61,87),rgb(49,49,70));border-radius:15px;padding:2rem;margin:0 auto 2.5rem;box-shadow:0 8px 20px rgba(0,0,0,0.5);width:100%;max-width:min(1200px,95vw)}.card h3{color:#ffffff;font-family:'Poppins',sans-serif;letter-spacing:1px;font-size:1.3rem;margin-bottom:0.75rem;font-weight:bold}.container{display:flex;flex-direction:column;gap:1.25rem;align-items:center}.card{background:linear-gradient(145deg,#24243e,#1e1e3a);border-radius:12px;padding:1.5rem;box-shadow:0 6px 16px rgba(0,0,0,0.4);border-left:4px solid transparent;width:min(1000px,90vw);margin:0 auto 1.25rem;transition:transform 0.3s ease,box-shadow 0.3s ease}.card:hover{transform:translateY(-6px);box-shadow:0 10px 20px rgba(0,0,0,0.5)}.container>.card:last-child{margin-bottom:2rem}.card.orange { border-left-color: #ffa726; }p,li{color:#dcdcdc;font-size:0.95rem;line-height:1.5;font-family:'Segoe UI',sans-serif}p,pre{margin-bottom:0.75rem}ul,ol{padding-left:1.25rem;margin-bottom:0.75rem}li{margin-bottom:0.5rem}@media (max-width:768px){.section-card{padding:1.25rem}.card{width:100%;padding:1rem;margin:0 auto 1rem}.container>.card:last-child{margin-bottom:1.5rem}.card h3{font-size:1.2rem}p,li{font-size:0.9rem}}</style>\n",
    "<div class=\"section-card\" id=\"toc2_1_\">\n",
    "  <div class=\"container\">\n",
    "    <div class=\"card orange\">\n",
    "      <h3>The <code>read()</code> Method</h3>\n",
    "      <p><code>read()</code> reads the entire file into a single string. Suitable for small files but memory-intensive for large ones.</p>\n",
    "    </div>\n",
    "  </div>\n",
    "</div>"
   ]
  },
  {
   "cell_type": "code",
   "execution_count": null,
   "metadata": {},
   "outputs": [
    {
     "name": "stdout",
     "output_type": "stream",
     "text": [
      "Welcome to the world of programming!\n",
      "\n",
      "Let's dive into the world of Python file handling and unleash the power of programming!\n",
      "\n"
     ]
    }
   ],
   "source": [
    "with open('files/example.txt', 'r') as file:\n",
    "    content = file.read()\n",
    "    print(content)"
   ]
  },
  {
   "cell_type": "markdown",
   "metadata": {},
   "source": [
    "<style>*{box-sizing:border-box}.section-card{background:linear-gradient(145deg,rgb(61,61,87),rgb(49,49,70));border-radius:15px;padding:2rem;margin:0 auto 2.5rem;box-shadow:0 8px 20px rgba(0,0,0,0.5);width:100%;max-width:min(1200px,95vw)}.card h3{color:#ffffff;font-family:'Poppins',sans-serif;letter-spacing:1px;font-size:1.3rem;margin-bottom:0.75rem;font-weight:bold}.container{display:flex;flex-direction:column;gap:1.25rem;align-items:center}.card{background:linear-gradient(145deg,#24243e,#1e1e3a);border-radius:12px;padding:1.5rem;box-shadow:0 6px 16px rgba(0,0,0,0.4);border-left:4px solid transparent;width:min(1000px,90vw);margin:0 auto 1.25rem;transition:transform 0.3s ease,box-shadow 0.3s ease}.card:hover{transform:translateY(-6px);box-shadow:0 10px 20px rgba(0,0,0,0.5)}.container>.card:last-child{margin-bottom:2rem}.card.orange { border-left-color: #ffa726; }p,li{color:#dcdcdc;font-size:0.95rem;line-height:1.5;font-family:'Segoe UI',sans-serif}p,pre{margin-bottom:0.75rem}ul,ol{padding-left:1.25rem;margin-bottom:0.75rem}li{margin-bottom:0.5rem}@media (max-width:768px){.section-card{padding:1.25rem}.card{width:100%;padding:1rem;margin:0 auto 1rem}.container>.card:last-child{margin-bottom:1.5rem}.card h3{font-size:1.2rem}p,li{font-size:0.9rem}}</style>\n",
    "<div class=\"section-card\" id=\"toc2_2_\">\n",
    "  <div class=\"container\">\n",
    "    <div class=\"card orange\">\n",
    "      <h3>The <code>readline()</code> Method</h3>\n",
    "      <p><code>readline()</code> reads one line at a time, ideal for processing large files line-by-line without loading the entire file into memory.</p>\n",
    "    </div>\n",
    "  </div>\n",
    "</div>"
   ]
  },
  {
   "cell_type": "code",
   "execution_count": null,
   "metadata": {},
   "outputs": [
    {
     "name": "stdout",
     "output_type": "stream",
     "text": [
      "Welcome to the world of programming!\n",
      "\n",
      "Let's dive into the world of Python file handling and unleash the power of programming!\n"
     ]
    }
   ],
   "source": [
    "with open('files/example.txt', 'r') as file:\n",
    "    line = file.readline()\n",
    "    while line:\n",
    "        print(line, end='')  # The 'end' parameter prevents adding extra newlines\n",
    "        line = file.readline()"
   ]
  },
  {
   "cell_type": "markdown",
   "metadata": {},
   "source": [
    "<style>*{box-sizing:border-box}.section-card{background:linear-gradient(145deg,rgb(61,61,87),rgb(49,49,70));border-radius:15px;padding:2rem;margin:0 auto 2.5rem;box-shadow:0 8px 20px rgba(0,0,0,0.5);width:100%;max-width:min(1200px,95vw)}.card h3{color:#ffffff;font-family:'Poppins',sans-serif;letter-spacing:1px;font-size:1.3rem;margin-bottom:0.75rem;font-weight:bold}.container{display:flex;flex-direction:column;gap:1.25rem;align-items:center}.card{background:linear-gradient(145deg,#24243e,#1e1e3a);border-radius:12px;padding:1.5rem;box-shadow:0 6px 16px rgba(0,0,0,0.4);border-left:4px solid transparent;width:min(1000px,90vw);margin:0 auto 1.25rem;transition:transform 0.3s ease,box-shadow 0.3s ease}.card:hover{transform:translateY(-6px);box-shadow:0 10px 20px rgba(0,0,0,0.5)}.container>.card:last-child{margin-bottom:2rem}.card.orange { border-left-color: #ffa726; }p,li{color:#dcdcdc;font-size:0.95rem;line-height:1.5;font-family:'Segoe UI',sans-serif}p,pre{margin-bottom:0.75rem}ul,ol{padding-left:1.25rem;margin-bottom:0.75rem}li{margin-bottom:0.5rem}@media (max-width:768px){.section-card{padding:1.25rem}.card{width:100%;padding:1rem;margin:0 auto 1rem}.container>.card:last-child{margin-bottom:1.5rem}.card h3{font-size:1.2rem}p,li{font-size:0.9rem}}</style>\n",
    "<div class=\"section-card\" id=\"toc2_3_\">\n",
    "  <div class=\"container\">\n",
    "    <div class=\"card orange\">\n",
    "      <h3>The readlines() Method</h3>\n",
    "      <p><code>readlines()</code> reads all lines into a list, useful for small files or when processing lines as a collection.</p>\n",
    "    </div>\n",
    "  </div>\n",
    "</div>"
   ]
  },
  {
   "cell_type": "code",
   "execution_count": null,
   "metadata": {},
   "outputs": [
    {
     "name": "stdout",
     "output_type": "stream",
     "text": [
      "Welcome to the world of programming!\n",
      "\n",
      "Let's dive into the world of Python file handling and unleash the power of programming!\n"
     ]
    }
   ],
   "source": [
    "with open('files/example.txt', 'r') as file:\n",
    "    lines = file.readlines()\n",
    "\n",
    "# Now 'lines' is a list where each element is a line from 'example.txt'\n",
    "for line in lines:\n",
    "    print(line, end='')"
   ]
  },
  {
   "cell_type": "markdown",
   "metadata": {},
   "source": [
    "<style>*{box-sizing:border-box}.section-card{background:linear-gradient(145deg,rgb(61,61,87),rgb(49,49,70));border-radius:15px;padding:2rem;margin:0 auto 2.5rem;box-shadow:0 8px 20px rgba(0,0,0,0.5);width:100%;max-width:min(1200px,95vw)}.section-card h2,.card h3{color:#ffffff;font-family:'Poppins',sans-serif;letter-spacing:1px}.section-card h2{text-align:center;font-size:1.8rem;margin-bottom:1.5rem}.card h3{font-size:1.3rem;margin-bottom:0.75rem;font-weight:bold}.container{display:flex;flex-direction:column;gap:1.25rem;align-items:center}.card{background:linear-gradient(145deg,#24243e,#1e1e3a);border-radius:12px;padding:1.5rem;box-shadow:0 6px 16px rgba(0,0,0,0.4);border-left:4px solid transparent;width:min(1000px,90vw);margin:0 auto 1.25rem;transition:transform 0.3s ease,box-shadow 0.3s ease}.card:hover{transform:translateY(-6px);box-shadow:0 10px 20px rgba(0,0,0,0.5)}.container>.card:last-child{margin-bottom:2rem}.card.red { border-left-color: #ef5350; }p,li{color:#dcdcdc;font-size:0.95rem;line-height:1.5;font-family:'Segoe UI',sans-serif}p,pre{margin-bottom:0.75rem}ul,ol{padding-left:1.25rem;margin-bottom:0.75rem}li{margin-bottom:0.5rem}@media (max-width:768px){.section-card{padding:1.25rem}.card{width:100%;padding:1rem;margin:0 auto 1rem}.container>.card:last-child{margin-bottom:1.5rem}.section-card h2{font-size:1.4rem}.card h3{font-size:1.2rem}p,li{font-size:0.9rem}}</style>\n",
    "<div class=\"section-card\" id=\"toc3_\">\n",
    "  <h2>Iterating Over File Objects Line by Line</h2>\n",
    "  <div class=\"container\">\n",
    "    <div class=\"card red\">\n",
    "      <p>Iterating over a file object with a <code>for</code> loop reads lines efficiently, processing large files without loading them entirely into memory.</p>\n",
    "    </div>\n",
    "  </div>\n",
    "</div>"
   ]
  },
  {
   "cell_type": "code",
   "execution_count": null,
   "metadata": {},
   "outputs": [
    {
     "name": "stdout",
     "output_type": "stream",
     "text": [
      "Welcome to the world of programming!\n",
      "\n",
      "Let's dive into the world of Python file handling and unleash the power of programming!\n"
     ]
    }
   ],
   "source": [
    "with open('files/example.txt', 'r') as file:\n",
    "    for line in file:\n",
    "        print(line, end='')"
   ]
  },
  {
   "cell_type": "markdown",
   "metadata": {},
   "source": [
    "<style>*{box-sizing:border-box}.section-card{background:linear-gradient(145deg,rgb(61,61,87),rgb(49,49,70));border-radius:15px;padding:2rem;margin:0 auto 2.5rem;box-shadow:0 8px 20px rgba(0,0,0,0.5);width:100%;max-width:min(1200px,95vw)}.card h3{color:#ffffff;font-family:'Poppins',sans-serif;letter-spacing:1px;font-size:1.3rem;margin-bottom:0.75rem;font-weight:bold}.container{display:flex;flex-direction:column;gap:1.25rem;align-items:center}.card{background:linear-gradient(145deg,#24243e,#1e1e3a);border-radius:12px;padding:1.5rem;box-shadow:0 6px 16px rgba(0,0,0,0.4);border-left:4px solid transparent;width:min(1000px,90vw);margin:0 auto 1.25rem;transition:transform 0.3s ease,box-shadow 0.3s ease}.card:hover{transform:translateY(-6px);box-shadow:0 10px 20px rgba(0,0,0,0.5)}.container>.card:last-child{margin-bottom:2rem}.card.red { border-left-color: #ef5350; }p,li{color:#dcdcdc;font-size:0.95rem;line-height:1.5;font-family:'Segoe UI',sans-serif}p,pre{margin-bottom:0.75rem}ul,ol{padding-left:1.25rem;margin-bottom:0.75rem}li{margin-bottom:0.5rem}@media (max-width:768px){.section-card{padding:1.25rem}.card{width:100%;padding:1rem;margin:0 auto 1rem}.container>.card:last-child{margin-bottom:1.5rem}.card h3{font-size:1.2rem}p,li{font-size:0.9rem}}</style>\n",
    "<div class=\"section-card\" id=\"toc3_1_\">\n",
    "  <div class=\"container\">\n",
    "    <div class=\"card red\">\n",
    "      <h3>Efficiency Benefits</h3>\n",
    "      <p>Iterating over a file line by line is memory and time efficient, reads and processes one line at a time, keeping memory usage low regardless of file size. Ideal for large files, searching, or partial processing.</p>\n",
    "      <p>Unlike <code>read()</code> or <code>readlines()</code>, which load entire content into memory, line-by-line avoids crashes or slowdowns from high memory use.</p>\n",
    "      <p>It also supports robust, interruptible workflows: process and save each line immediately, allowing safe resume after interruption.</p>\n",
    "      <p>This approach ensures scalable, efficient file handling for any file size.</p>\n",
    "    </div>\n",
    "  </div>\n",
    "</div>"
   ]
  },
  {
   "cell_type": "markdown",
   "metadata": {},
   "source": [
    "<style>*{box-sizing:border-box}.section-card{background:linear-gradient(145deg,rgb(61,61,87),rgb(49,49,70));border-radius:15px;padding:2rem;margin:0 auto 2.5rem;box-shadow:0 8px 20px rgba(0,0,0,0.5);width:100%;max-width:min(1200px,95vw)}.section-card h2,.card h3{color:#ffffff;font-family:'Poppins',sans-serif;letter-spacing:1px}.section-card h2{text-align:center;font-size:1.8rem;margin-bottom:1.5rem}.card h3{font-size:1.3rem;margin-bottom:0.75rem;font-weight:bold}.container{display:flex;flex-direction:column;gap:1.25rem;align-items:center}.card{background:linear-gradient(145deg,#24243e,#1e1e3a);border-radius:12px;padding:1.5rem;box-shadow:0 6px 16px rgba(0,0,0,0.4);border-left:4px solid transparent;width:min(1000px,90vw);margin:0 auto 1.25rem;transition:transform 0.3s ease,box-shadow 0.3s ease}.card:hover{transform:translateY(-6px);box-shadow:0 10px 20px rgba(0,0,0,0.5)}.container>.card:last-child{margin-bottom:2rem}.card.green{border-left-color:#66bb6a}p,li,pre,code{color:#dcdcdc;font-size:0.95rem;line-height:1.5;font-family:'Segoe UI',sans-serif}p,pre{margin-bottom:0.75rem}ul,ol{padding-left:1.25rem;margin-bottom:0.75rem}li{margin-bottom:0.5rem}@media (max-width:768px){.section-card{padding:1.25rem}.card{width:100%;padding:1rem;margin:0 auto 1rem}.container>.card:last-child{margin-bottom:1.5rem}.section-card h2{font-size:1.4rem}.card h3{font-size:1.2rem}p,li,pre,code{font-size:0.9rem}}</style>\n",
    "<div class=\"section-card\" id=\"toc4_\">\n",
    "  <h2>Working with File Paths (Absolute vs. Relative)</h2>\n",
    "  <div class=\"container\">\n",
    "    <div class=\"card green\">\n",
    "      <p>Absolute paths specify the full file location; relative paths are relative to the script's directory. Proper path handling ensures scripts work across operating systems.</p>\n",
    "    </div>\n",
    "  </div>\n",
    "</div>"
   ]
  },
  {
   "cell_type": "markdown",
   "metadata": {},
   "source": [
    "<style>*{box-sizing:border-box}.section-card{background:linear-gradient(145deg,rgb(61,61,87),rgb(49,49,70));border-radius:15px;padding:2rem;margin:0 auto 2.5rem;box-shadow:0 8px 20px rgba(0,0,0,0.5);width:100%;max-width:min(1200px,95vw)}.card h3{color:#ffffff;font-family:'Poppins',sans-serif;letter-spacing:1px;font-size:1.3rem;margin-bottom:0.75rem;font-weight:bold}.container{display:flex;flex-direction:column;gap:1.25rem;align-items:center}.card{background:linear-gradient(145deg,#24243e,#1e1e3a);border-radius:12px;padding:1.5rem;box-shadow:0 6px 16px rgba(0,0,0,0.4);border-left:4px solid transparent;width:min(1000px,90vw);margin:0 auto 1.25rem;transition:transform 0.3s ease,box-shadow 0.3s ease}.card:hover{transform:translateY(-6px);box-shadow:0 10px 20px rgba(0,0,0,0.5)}.container>.card:last-child{margin-bottom:2rem}.card.green{border-left-color:#66bb6a}p,li,pre,code{color:#dcdcdc;font-size:0.95rem;line-height:1.5;font-family:'Segoe UI',sans-serif}p,pre{margin-bottom:0.75rem}ul,ol{padding-left:1.25rem;margin-bottom:0.75rem}li{margin-bottom:0.5rem}@media (max-width:768px){.section-card{padding:1.25rem}.card{width:100%;padding:1rem;margin:0 auto 1rem}.container>.card:last-child{margin-bottom:1.5rem}.card h3{font-size:1.2rem}p,li,pre,code{font-size:0.9rem}}</style>\n",
    "<div class=\"section-card\" id=\"toc4_1_\">\n",
    "  <div class=\"container\">\n",
    "    <div class=\"card green\">\n",
    "      <h3>Understanding File Paths</h3>\n",
    "      <p>In Python, file locations are specified using file paths — either absolute or relative.</p>\n",
    "      <ul>\n",
    "        <li><strong>Absolute File Paths</strong>: Full path from filesystem root to target; independent of current working directory. always points to same location.</li>\n",
    "        <li><strong>Relative File Paths</strong>: Path relative to script’s current working directory; shorter and convenient when files follow a known structure.</li>\n",
    "      </ul>\n",
    "    </div>\n",
    "  </div>\n",
    "</div>"
   ]
  },
  {
   "cell_type": "markdown",
   "metadata": {},
   "source": [
    "<style>*{box-sizing:border-box}.section-card{background:linear-gradient(145deg,rgb(61,61,87),rgb(49,49,70));border-radius:15px;padding:2rem;margin:0 auto 2.5rem;box-shadow:0 8px 20px rgba(0,0,0,0.5);width:100%;max-width:min(1200px,95vw)}.card h3{color:#ffffff;font-family:'Poppins',sans-serif;letter-spacing:1px;font-size:1.3rem;margin-bottom:0.75rem;font-weight:bold}.container{display:flex;flex-direction:column;gap:1.25rem;align-items:center}.card{background:linear-gradient(145deg,#24243e,#1e1e3a);border-radius:12px;padding:1.5rem;box-shadow:0 6px 16px rgba(0,0,0,0.4);border-left:4px solid transparent;width:min(1000px,90vw);margin:0 auto 1.25rem;transition:transform 0.3s ease,box-shadow 0.3s ease}.card:hover{transform:translateY(-6px);box-shadow:0 10px 20px rgba(0,0,0,0.5)}.container>.card:last-child{margin-bottom:2rem}.card.green{border-left-color:#66bb6a}img { display: block; max-width: 50vw; height: auto; margin: 0 auto; border-radius: 10px; }p,li{color:#dcdcdc;font-size:0.95rem;line-height:1.5;font-family:'Segoe UI',sans-serif}p,pre{margin-bottom:0.75rem}ul,ol{padding-left:1.25rem;margin-bottom:0.75rem}li{margin-bottom:0.5rem}@media (max-width:768px){.section-card{padding:1.25rem}.card{width:100%;padding:1rem;margin:0 auto 1rem}.container>.card:last-child{margin-bottom:1.5rem}.card h3{font-size:1.2rem}p,li{font-size:0.9rem}}</style>\n",
    "<div class=\"section-card\" id=\"toc4_1_2_\">\n",
    "  <div class=\"container\">\n",
    "    <div class=\"card green\">\n",
    "      <h3>Platform-Independent File Paths</h3>\n",
    "      <p>Python provides platform-independent tools to handle file paths across Windows, macOS, and Linux.</p>\n",
    "      <p>Currently, use <code>os.path.join()</code> to build correct paths for your OS by safely combining directory and file names.</p>\n",
    "      <p>Later, you’ll learn <code>pathlib</code>, a modern, object-oriented module for path handling, after covering OOP and modules.</p>\n",
    "      <p>These tools ensure your code works reliably across systems as you advance in Python.</p>\n",
    "      <img src=\"../images/file-path-windows-linux.png\">\n",
    "    </div>\n",
    "  </div>\n",
    "</div>"
   ]
  },
  {
   "cell_type": "markdown",
   "metadata": {},
   "source": [
    "<style>*{box-sizing:border-box}.section-card{background:linear-gradient(145deg,rgb(61,61,87),rgb(49,49,70));border-radius:15px;padding:2rem;margin:0 auto 2.5rem;box-shadow:0 8px 20px rgba(0,0,0,0.5);width:100%;max-width:min(1200px,95vw)}.section-card h2,.card h3{color:#ffffff;font-family:'Poppins',sans-serif;letter-spacing:1px}.section-card h2{text-align:center;font-size:1.8rem;margin-bottom:1.5rem}.card h3{font-size:1.3rem;margin-bottom:0.75rem;font-weight:bold}.container{display:flex;flex-direction:column;gap:1.25rem;align-items:center}.card{background:linear-gradient(145deg,#24243e,#1e1e3a);border-radius:12px;padding:1.5rem;box-shadow:0 6px 16px rgba(0,0,0,0.4);border-left:4px solid transparent;width:min(1000px,90vw);margin:0 auto 1.25rem;transition:transform 0.3s ease,box-shadow 0.3s ease}.card:hover{transform:translateY(-6px);box-shadow:0 10px 20px rgba(0,0,0,0.5)}.container>.card:last-child{margin-bottom:2rem}.card.blue{border-left-color:#29b6f6}p,li{color:#dcdcdc;font-size:0.95rem;line-height:1.5;font-family:'Segoe UI',sans-serif}p,pre{margin-bottom:0.75rem}ul,ol{padding-left:1.25rem;margin-bottom:0.75rem}li{margin-bottom:0.5rem}img{display:block;margin:0 auto 1.25rem}@media (max-width:768px){.section-card{padding:1.25rem}.card{width:100%;padding:1rem;margin:0 auto 1rem}.container>.card:last-child{margin-bottom:1.5rem}.section-card h2{font-size:1.4rem}.card h3{font-size:1.2rem}p,li{font-size:0.9rem}}</style>\n",
    "<div class=\"section-card\" id=\"toc5_\">\n",
    "  <h2>Exercise: Exploring File Reading Techniques in Python</h2>\n",
    "  <div class=\"container\">\n",
    "    <div class=\"card blue\">\n",
    "      <p>Use <code>sample.txt</code> with content:</p>\n",
    "      <pre>Welcome to Python file reading.\n",
    "This is the second line.\n",
    "Here is the third line.\n",
    "End of the file.</pre>\n",
    "      <p><strong>Tasks:</strong></p>\n",
    "      <ol>\n",
    "        <li>Read entire file using <code>read()</code>, print content, handle exceptions.</li>\n",
    "        <li>Read line-by-line with <code>readline()</code>, print each line.</li>\n",
    "        <li>Use <code>readlines()</code> to read into a list, print with line numbers.</li>\n",
    "        <li>Iterate line-by-line with a <code>for</code> loop, print with line numbers.</li>\n",
    "        <li><strong>Bonus:</strong> Prompt user for file path, handle non-existent files.</li>\n",
    "      </ol>\n",
    "      <p><strong>Sample Output (Tasks 3 & 4):</strong></p>\n",
    "      <pre>1: Welcome to Python file reading.\n",
    "2: This is the second line.\n",
    "3: Here is the third line.\n",
    "4: End of the file.</pre>\n",
    "    </div>\n",
    "  </div>\n",
    "</div>"
   ]
  },
  {
   "cell_type": "markdown",
   "metadata": {},
   "source": [
    "<style>*{box-sizing:border-box}.section-card{background:linear-gradient(145deg,rgb(61,61,87),rgb(49,49,70));border-radius:15px;padding:2rem;margin:0 auto 2.5rem;box-shadow:0 8px 20px rgba(0,0,0,0.5);width:100%;max-width:min(1200px,95vw)}.section-card h2,.card h3{color:#ffffff;font-family:'Poppins',sans-serif;letter-spacing:1px}.section-card h2{text-align:center;font-size:1.8rem;margin-bottom:1.5rem}.card h3{font-size:1.3rem;margin-bottom:0.75rem;font-weight:bold}.container{display:flex;flex-direction:column;gap:1.25rem;align-items:center}.card{background:linear-gradient(145deg,#24243e,#1e1e3a);border-radius:12px;padding:1.5rem;box-shadow:0 6px 16px rgba(0,0,0,0.4);border-left:4px solid transparent;width:min(1000px,90vw);margin:0 auto 1.25rem;transition:transform 0.3s ease,box-shadow 0.3s ease}.card:hover{transform:translateY(-6px);box-shadow:0 10px 20px rgba(0,0,0,0.5)}.container>.card:last-child{margin-bottom:2rem}.card.blue{border-left-color:#29b6f6}p,li{color:#dcdcdc;font-size:0.95rem;line-height:1.5;font-family:'Segoe UI',sans-serif}p,pre{margin-bottom:0.75rem}ul,ol{padding-left:1.25rem;margin-bottom:0.75rem}li{margin-bottom:0.5rem}@media (max-width:768px){.section-card{padding:1.25rem}.card{width:100%;padding:1rem;margin:0 auto 1rem}.container>.card:last-child{margin-bottom:1.5rem}.section-card h2{font-size:1.4rem}.card h3{font-size:1.2rem}p,li{font-size:0.9rem}}</style>\n",
    "<div class=\"section-card\" id=\"toc5_1_\">\n",
    "  <h2>Solution</h2>\n",
    "  <div class=\"container\">\n",
    "    <div class=\"card blue\">\n",
    "      <p>Solutions for reading <code>sample.txt</code> using different methods, with exception handling and user input for file paths.</p>\n",
    "    </div>\n",
    "  </div>\n",
    "</div>"
   ]
  },
  {
   "cell_type": "code",
   "execution_count": 8,
   "metadata": {},
   "outputs": [
    {
     "name": "stdout",
     "output_type": "stream",
     "text": [
      "Welcome to the world of programming!\n",
      "\n",
      "Let's dive into the world of Python file handling and unleash the power of programming!\n",
      "\n"
     ]
    }
   ],
   "source": [
    "# Task 1: Read Entire File Content\n",
    "try:\n",
    "    with open('files/example.txt', 'r') as file:\n",
    "        content = file.read()\n",
    "        print(content)\n",
    "except FileNotFoundError:\n",
    "    print(\"Error: File not found.\")\n",
    "except IOError:\n",
    "    print(\"Error: An I/O error occurred.\")"
   ]
  },
  {
   "cell_type": "code",
   "execution_count": 9,
   "metadata": {},
   "outputs": [
    {
     "name": "stdout",
     "output_type": "stream",
     "text": [
      "Welcome to the world of programming!\n",
      "\n",
      "Let's dive into the world of Python file handling and unleash the power of programming!\n"
     ]
    }
   ],
   "source": [
    "# Task 2: Read File Line by Line\n",
    "try:\n",
    "    with open('files/example.txt', 'r') as file:\n",
    "        while True:\n",
    "            line = file.readline()\n",
    "            if not line:\n",
    "                break\n",
    "            print(line.strip())\n",
    "except FileNotFoundError:\n",
    "    print(\"Error: File not found.\")\n",
    "except IOError:\n",
    "    print(\"Error: An I/O error occurred.\")"
   ]
  },
  {
   "cell_type": "code",
   "execution_count": 10,
   "metadata": {},
   "outputs": [
    {
     "name": "stdout",
     "output_type": "stream",
     "text": [
      "1: Welcome to the world of programming!\n",
      "2: \n",
      "3: Let's dive into the world of Python file handling and unleash the power of programming!\n"
     ]
    }
   ],
   "source": [
    "# Task 3: Read All Lines into a List\n",
    "try:\n",
    "    with open('files/example.txt', 'r') as file:\n",
    "        lines = file.readlines()\n",
    "    for index, line in enumerate(lines, start=1):\n",
    "        print(f\"{index}: {line.strip()}\")\n",
    "except FileNotFoundError:\n",
    "    print(\"Error: File not found.\")\n",
    "except IOError:\n",
    "    print(\"Error: An I/O error occurred.\")"
   ]
  },
  {
   "cell_type": "code",
   "execution_count": 11,
   "metadata": {},
   "outputs": [
    {
     "name": "stdout",
     "output_type": "stream",
     "text": [
      "1: Welcome to the world of programming!\n",
      "2: \n",
      "3: Let's dive into the world of Python file handling and unleash the power of programming!\n"
     ]
    }
   ],
   "source": [
    "# Task 4: Efficient Line-by-Line Iteration\n",
    "try:\n",
    "    with open('files/example.txt', 'r') as file:\n",
    "        for index, line in enumerate(file, start=1):\n",
    "            print(f\"{index}: {line.strip()}\")\n",
    "except FileNotFoundError:\n",
    "    print(\"Error: File not found.\")\n",
    "except IOError:\n",
    "    print(\"Error: An I/O error occurred.\")"
   ]
  },
  {
   "cell_type": "code",
   "execution_count": 12,
   "metadata": {},
   "outputs": [
    {
     "name": "stdout",
     "output_type": "stream",
     "text": [
      "Reading from files/example.txt\n",
      "1: Welcome to the world of programming!\n",
      "2: \n",
      "3: Let's dive into the world of Python file handling and unleash the power of programming!\n"
     ]
    }
   ],
   "source": [
    "# Bonus: Working with Different File Paths\n",
    "try:\n",
    "    file_path = input(\"Please enter the path to the file: \")\n",
    "    print(f\"Reading from {file_path}\")\n",
    "    with open(file_path, 'r') as file:\n",
    "        for index, line in enumerate(file, start=1):\n",
    "            print(f\"{index}: {line.strip()}\")\n",
    "except FileNotFoundError:\n",
    "    print(\"Error: File not found at the specified path.\")\n",
    "except IOError:\n",
    "    print(\"Error: An I/O error occurred.\")"
   ]
  }
 ],
 "metadata": {
  "kernelspec": {
   "display_name": "py310",
   "language": "python",
   "name": "python3"
  },
  "language_info": {
   "codemirror_mode": {
    "name": "ipython",
    "version": 3
   },
   "file_extension": ".py",
   "mimetype": "text/x-python",
   "name": "python",
   "nbconvert_exporter": "python",
   "pygments_lexer": "ipython3",
   "version": "3.10.12"
  }
 },
 "nbformat": 4,
 "nbformat_minor": 2
}
