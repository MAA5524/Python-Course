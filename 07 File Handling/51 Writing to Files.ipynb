{
 "cells": [
  {
   "cell_type": "markdown",
   "metadata": {},
   "source": [
    "<style>*{box-sizing:border-box}.section-card{background:linear-gradient(145deg,rgb(61,61,87),rgb(49,49,70));border-radius:15px;padding:2rem;margin:0 auto 2.5rem;box-shadow:0 8px 20px rgba(0,0,0,0.5);width:100%;max-width:min(1200px,95vw)}.section-card h1{width:100%;text-align:center;color:#ffffff;font-size:2.8rem;margin-bottom:0;font-family:'Poppins',sans-serif;letter-spacing:1px}.container{display:flex;flex-direction:column;gap:1.25rem;align-items:center}.card{background:linear-gradient(145deg,#24243e,#1e1e3a);border-radius:12px;padding:1.5rem;box-shadow:0 6px 16px rgba(0,0,0,0.4);border-left:4px solid transparent;width:min(1000px,90vw);margin:0 auto 1.25rem;transition:transform 0.3s ease,box-shadow 0.3s ease}.card:hover{transform:translateY(-6px);box-shadow:0 10px 20px rgba(0,0,0,0.5)}.container>.card:last-child{margin-bottom:2rem}.card.green{border-left-color:#66bb6a}p,li{color:#dcdcdc;font-size:0.95rem;line-height:1.5;font-family:'Segoe UI',sans-serif}p{margin-bottom:0.75rem}ul,ol{padding-left:1.25rem;margin-bottom:0.75rem}li{margin-bottom:0.5rem}@media (max-width:768px){.section-card{padding:1.25rem}.section-card h1{font-size:2rem}.card{width:100%;padding:1rem;margin:0 auto 1rem}.container>.card:last-child{margin-bottom:1.5rem}p,li{font-size:0.9rem}}</style>\n",
    "<div class=\"section-card\">\n",
    "  <h1>Writing to Files</h1>\n",
    "</div>\n",
    "<div class=\"section-card\">\n",
    "  <div class=\"container\">\n",
    "    <div class=\"card green\">\n",
    "      <p>Writing to files enables persistent data storage for reports, logs, and state saving. This lecture covers file writing modes ('w', 'a'), <code>write()</code> and <code>writelines()</code> methods, overwriting vs. appending, buffering, and best practices for robust file operations.</p>\n",
    "      <p>By the end, you'll master writing data to files and handling various scenarios effectively.</p>\n",
    "    </div>\n",
    "  </div>\n",
    "</div>"
   ]
  },
  {
   "cell_type": "markdown",
   "metadata": {},
   "source": [
    "<style>*{box-sizing:border-box}.section-card{background:linear-gradient(145deg,rgb(61,61,87),rgb(49,49,70));border-radius:15px;padding:2rem;margin:0 auto 2.5rem;box-shadow:0 8px 20px rgba(0,0,0,0.5);width:100%;max-width:min(1200px,95vw)}.section-card h2{text-align:center;color:#ffffff;font-size:1.8rem;margin-bottom:1.5rem;font-family:'Poppins',sans-serif;letter-spacing:1px}.container{display:flex;flex-direction:column;gap:1.25rem;align-items:center}.card{background:linear-gradient(145deg,#24243e,#1e1e3a);border-radius:12px;padding:1.5rem;box-shadow:0 6px 16px rgba(0,0,0,0.4);border-left:4px solid transparent;width:min(1000px,90vw);margin:0 auto 1.25rem;transition:transform 0.3s ease,box-shadow 0.3s ease}.card:hover{transform:translateY(-6px);box-shadow:0 10px 20px rgba(0,0,0,0.5)}.container>.card:last-child{margin-bottom:2rem}.card.blue{border-left-color:#29b6f6}li,p{color:#dcdcdc;font-size:0.95rem;line-height:1.5;font-family:'Segoe UI',sans-serif}p{margin-bottom:0.75rem}.toc-card ul{list-style-type:none;padding-left:0;margin-bottom:0}.toc-card a{color:#29b6f6;text-decoration:none}.toc-card ul ul{padding-left:1.5rem;margin-top:0.5rem}@media (max-width:768px){.section-card{padding:1.25rem}.card{width:100%;padding:1rem;margin:0 auto 1rem}.container>.card:last-child{margin-bottom:1.5rem}.section-card h2{font-size:1.4rem}p,li{font-size:0.9rem}}</style>\n",
    "<div class=\"section-card\" id=\"toc0_\">\n",
    "  <h2>Table of contents</h2>\n",
    "  <div class=\"container\">\n",
    "    <div class=\"card blue toc-card\">\n",
    "      <ul>\n",
    "        <li><a href=\"#toc1_\">Opening Files for Writing</a>\n",
    "          <ul>\n",
    "            <li><a href=\"#toc1_1_\">Using <code>open()</code> to Create File Objects for Writing</a></li>\n",
    "            <li><a href=\"#toc1_2_\">The Difference Between Writing to a New File vs. an Existing File</a></li>\n",
    "          </ul>\n",
    "        </li>\n",
    "        <li><a href=\"#toc2_\">The <code>write()</code> Method</a>\n",
    "          <ul>\n",
    "            <li><a href=\"#toc2_1_\">The Concept of Strings and How They Are Written to Files</a></li>\n",
    "          </ul>\n",
    "        </li>\n",
    "        <li><a href=\"#toc3_\">The <code>writelines()</code> Method</a>\n",
    "          <ul>\n",
    "            <li><a href=\"#toc3_1_\">The Difference between <code>write()</code> and <code>writelines()</code></a></li>\n",
    "          </ul>\n",
    "        </li>\n",
    "        <li><a href=\"#toc4_\">Truncating and Overwriting vs. Appending</a>\n",
    "          <ul>\n",
    "            <li><a href=\"#toc4_1_\">Append to the End of a File with Mode <code>'a'</code></a></li>\n",
    "            <li><a href=\"#toc4_2_\">Potential Risks of Overwriting Data and How to Prevent It</a></li>\n",
    "          </ul>\n",
    "        </li>\n",
    "        <li><a href=\"#toc5_\">File Buffering and Flushing</a></li>\n",
    "        <li><a href=\"#toc6_\">Practical Examples</a>\n",
    "          <ul>\n",
    "            <li><a href=\"#toc6_1_\">Example: Writing Log Data to a File</a></li>\n",
    "            <li><a href=\"#toc6_2_\">Example: Generating and Saving a Report</a></li>\n",
    "          </ul>\n",
    "        </li>\n",
    "        <li><a href=\"#toc7_\">Practice Exercise</a>\n",
    "          <ul>\n",
    "            <li><a href=\"#toc7_1_\">Solution</a></li>\n",
    "          </ul>\n",
    "        </li>\n",
    "      </ul>\n",
    "    </div>\n",
    "  </div>\n",
    "</div>"
   ]
  },
  {
   "cell_type": "markdown",
   "metadata": {},
   "source": [
    "<style>*{box-sizing:border-box}.section-card{background:linear-gradient(145deg,rgb(61,61,87),rgb(49,49,70));border-radius:15px;padding:2rem;margin:0 auto 2.5rem;box-shadow:0 8px 20px rgba(0,0,0,0.5);width:100%;max-width:min(1200px,95vw)}.section-card h2,.card h3{color:#ffffff;font-family:'Poppins',sans-serif;letter-spacing:1px}.section-card h2{text-align:center;font-size:1.8rem;margin-bottom:1.5rem}.card h3{font-size:1.3rem;margin-bottom:0.75rem;font-weight:bold}.container{display:flex;flex-direction:column;gap:1.25rem;align-items:center}.card{background:linear-gradient(145deg,#24243e,#1e1e3a);border-radius:12px;padding:1.5rem;box-shadow:0 6px 16px rgba(0,0,0,0.4);border-left:4px solid transparent;width:min(1000px,90vw);margin:0 auto 1.25rem;transition:transform 0.3s ease,box-shadow 0.3s ease}.card:hover{transform:translateY(-6px);box-shadow:0 10px 20px rgba(0,0,0,0.5)}.container>.card:last-child{margin-bottom:2rem}.card.yellow{border-left-color:#fbc02d}p,li{color:#dcdcdc;font-size:0.95rem;line-height:1.5;font-family:'Segoe UI',sans-serif}p{margin-bottom:0.75rem}ul,ol{padding-left:1.25rem;margin-bottom:0.75rem}li{margin-bottom:0.5rem}@media (max-width:768px){.section-card{padding:1.25rem}.card{width:100%;padding:1rem;margin:0 auto 1rem}.container>.card:last-child{margin-bottom:1.5rem}.section-card h2{font-size:1.4rem}.card h3{font-size:1.2rem}p,li{font-size:0.9rem}}</style>\n",
    "<div class=\"section-card\" id=\"toc1_\">\n",
    "  <h2>Opening Files for Writing</h2>\n",
    "  <div class=\"container\">\n",
    "    <div class=\"card yellow\">\n",
    "      <p>When writing files in Python, choosing the correct mode is essential:</p>\n",
    "    <ul>\n",
    "      <li><strong>'w' (Write mode)</strong>: Opens file for writing. Overwrites if exists, creates if doesn’t.</li>\n",
    "      <li><strong>'a' (Append mode)</strong>: Adds new data to end of file. Preserves existing content; creates file if missing.</li>\n",
    "    </ul>\n",
    "    </div>\n",
    "  </div>\n",
    "</div>"
   ]
  },
  {
   "cell_type": "markdown",
   "metadata": {},
   "source": [
    "<style>*{box-sizing:border-box}.section-card{background:linear-gradient(145deg,rgb(61,61,87),rgb(49,49,70));border-radius:15px;padding:2rem;margin:0 auto 2.5rem;box-shadow:0 8px 20px rgba(0,0,0,0.5);width:100%;max-width:min(1200px,95vw)}.card h3{color:#ffffff;font-family:'Poppins',sans-serif;letter-spacing:1px;font-size:1.3rem;margin-bottom:0.75rem;font-weight:bold}.container{display:flex;flex-direction:column;gap:1.25rem;align-items:center}.card{background:linear-gradient(145deg,#24243e,#1e1e3a);border-radius:12px;padding:1.5rem;box-shadow:0 6px 16px rgba(0,0,0,0.4);border-left:4px solid transparent;width:min(1000px,90vw);margin:0 auto 1.25rem;transition:transform 0.3s ease,box-shadow 0.3s ease}.card:hover{transform:translateY(-6px);box-shadow:0 10px 20px rgba(0,0,0,0.5)}.container>.card:last-child{margin-bottom:2rem}.card.yellow{border-left-color:#fbc02d}p,li{color:#dcdcdc;font-size:0.95rem;line-height:1.5;font-family:'Segoe UI',sans-serif}p{margin-bottom:0.75rem}ul,ol{padding-left:1.25rem;margin-bottom:0.75rem}li{margin-bottom:0.5rem}@media (max-width:768px){.section-card{padding:1.25rem}.card{width:100%;padding:1rem;margin:0 auto 1rem}.container>.card:last-child{margin-bottom:1.5rem}.card h3{font-size:1.2rem}p,li{font-size:0.9rem}}</style>\n",
    "<div class=\"section-card\" id=\"toc1_1_\">\n",
    "  <div class=\"container\">\n",
    "    <div class=\"card yellow\">\n",
    "      <h3>Using open() to Create File Objects for Writing</h3>\n",
    "      <p>Use <code>open(filename, 'w')</code> or <code>open(filename, 'a')</code> to create a file object for writing. The <code>with</code> statement ensures automatic file closure, even if errors occur.</p>\n",
    "    </div>\n",
    "  </div>\n",
    "</div>"
   ]
  },
  {
   "cell_type": "code",
   "execution_count": 1,
   "metadata": {},
   "outputs": [],
   "source": [
    "file = open('files/write-example.txt', 'w')"
   ]
  },
  {
   "cell_type": "code",
   "execution_count": 2,
   "metadata": {},
   "outputs": [],
   "source": [
    "file = open('files/write-example.txt', 'a')"
   ]
  },
  {
   "cell_type": "code",
   "execution_count": 3,
   "metadata": {},
   "outputs": [],
   "source": [
    "with open('files/write-example.txt', 'w') as file:\n",
    "    file.write(\"Hello, Python!\")"
   ]
  },
  {
   "cell_type": "markdown",
   "metadata": {},
   "source": [
    "<style>*{box-sizing:border-box}.section-card{background:linear-gradient(145deg,rgb(61,61,87),rgb(49,49,70));border-radius:15px;padding:2rem;margin:0 auto 2.5rem;box-shadow:0 8px 20px rgba(0,0,0,0.5);width:100%;max-width:min(1200px,95vw)}.card h3{color:#ffffff;font-family:'Poppins',sans-serif;letter-spacing:1px;font-size:1.3rem;margin-bottom:0.75rem;font-weight:bold}.container{display:flex;flex-direction:column;gap:1.25rem;align-items:center}.card{background:linear-gradient(145deg,#24243e,#1e1e3a);border-radius:12px;padding:1.5rem;box-shadow:0 6px 16px rgba(0,0,0,0.4);border-left:4px solid transparent;width:min(1000px,90vw);margin:0 auto 1.25rem;transition:transform 0.3s ease,box-shadow 0.3s ease}.card:hover{transform:translateY(-6px);box-shadow:0 10px 20px rgba(0,0,0,0.5)}.container>.card:last-child{margin-bottom:2rem}.card.yellow{border-left-color:#fbc02d}p,li{color:#dcdcdc;font-size:0.95rem;line-height:1.5;font-family:'Segoe UI',sans-serif}p{margin-bottom:0.75rem}ul,ol{padding-left:1.25rem;margin-bottom:0.75rem}li{margin-bottom:0.5rem}@media (max-width:768px){.section-card{padding:1.25rem}.card{width:100%;padding:1rem;margin:0 auto 1rem}.container>.card:last-child{margin-bottom:1.5rem}.card h3{font-size:1.2rem}p,li{font-size:0.9rem}}</style>\n",
    "<div class=\"section-card\" id=\"toc1_2_\">\n",
    "  <div class=\"container\">\n",
    "    <div class=\"card yellow\">\n",
    "      <h3>The Difference Between Writing to a New File vs. an Existing File</h3>\n",
    "      <p>Understanding write vs. append behavior is essential:</p>\n",
    "    <ul>\n",
    "      <li><strong>'w' mode</strong>: Creates file if it doesn’t exist; if it exists, clears all content before writing.</li>\n",
    "      <li><strong>'a' mode</strong>: Creates file if it doesn’t exist; if it exists, positions cursor at end to preserve existing content.</li>\n",
    "    </ul>\n",
    "    </div>\n",
    "  </div>\n",
    "</div>"
   ]
  },
  {
   "cell_type": "code",
   "execution_count": null,
   "metadata": {},
   "outputs": [],
   "source": [
    "# This will overwrite the existing content or create a new file\n",
    "with open('files/write-example.txt', 'w') as file:\n",
    "    file.write(\"This text overwrites the file's content or creates a new file.\")\n"
   ]
  },
  {
   "cell_type": "code",
   "execution_count": null,
   "metadata": {},
   "outputs": [],
   "source": [
    "# This will append the text to the existing content or create a new file\n",
    "with open('files/write-example.txt', 'a') as file:\n",
    "    file.write(\"\\nThis text appends to the file's existing content.\")"
   ]
  },
  {
   "cell_type": "markdown",
   "metadata": {},
   "source": [
    "<style>*{box-sizing:border-box}.section-card{background:linear-gradient(145deg,rgb(61,61,87),rgb(49,49,70));border-radius:15px;padding:2rem;margin:0 auto 2.5rem;box-shadow:0 8px 20px rgba(0,0,0,0.5);width:100%;max-width:min(1200px,95vw)}.section-card h2,.card h3{color:#ffffff;font-family:'Poppins',sans-serif;letter-spacing:1px}.section-card h2{text-align:center;font-size:1.8rem;margin-bottom:1.5rem}.card h3{font-size:1.3rem;margin-bottom:0.75rem;font-weight:bold}.container{display:flex;flex-direction:column;gap:1.25rem;align-items:center}.card{background:linear-gradient(145deg,#24243e,#1e1e3a);border-radius:12px;padding:1.5rem;box-shadow:0 6px 16px rgba(0,0,0,0.4);border-left:4px solid transparent;width:min(1000px,90vw);margin:0 auto 1.25rem;transition:transform 0.3s ease,box-shadow 0.3s ease}.card:hover{transform:translateY(-6px);box-shadow:0 10px 20px rgba(0,0,0,0.5)}.container>.card:last-child{margin-bottom:2rem}.card.red{border-left-color:#ef5350}p,li{color:#dcdcdc;font-size:0.95rem;line-height:1.5;font-family:'Segoe UI',sans-serif}p{margin-bottom:0.75rem}ul,ol{padding-left:1.25rem;margin-bottom:0.75rem}li{margin-bottom:0.5rem}@media (max-width:768px){.section-card{padding:1.25rem}.card{width:100%;padding:1rem;margin:0 auto 1rem}.container>.card:last-child{margin-bottom:1.5rem}.section-card h2{font-size:1.4rem}.card h3{font-size:1.2rem}p,li{font-size:0.9rem}}</style>\n",
    "<div class=\"section-card\" id=\"toc2_\">\n",
    "  <h2>The <code>write()</code> Method</h2>\n",
    "  <div class=\"container\">\n",
    "    <div class=\"card red\">\n",
    "      <p>The <code>write()</code> method writes a single string to a file, ideal for simple text output or structured data like logs.</p>\n",
    "    </div>\n",
    "  </div>\n",
    "</div>"
   ]
  },
  {
   "cell_type": "code",
   "execution_count": null,
   "metadata": {},
   "outputs": [],
   "source": [
    "# Open the file in write mode\n",
    "with open('files/write-example.txt', 'w') as file:\n",
    "    # Write a string to the file\n",
    "    file.write(\"Hello, World!\")"
   ]
  },
  {
   "cell_type": "markdown",
   "metadata": {},
   "source": [
    "<style>*{box-sizing:border-box}.section-card{background:linear-gradient(145deg,rgb(61,61,87),rgb(49,49,70));border-radius:15px;padding:2rem;margin:0 auto 2.5rem;box-shadow:0 8px 20px rgba(0,0,0,0.5);width:100%;max-width:min(1200px,95vw)}.card h3{color:#ffffff;font-family:'Poppins',sans-serif;letter-spacing:1px;font-size:1.3rem;margin-bottom:0.75rem;font-weight:bold}.container{display:flex;flex-direction:column;gap:1.25rem;align-items:center}.card{background:linear-gradient(145deg,#24243e,#1e1e3a);border-radius:12px;padding:1.5rem;box-shadow:0 6px 16px rgba(0,0,0,0.4);border-left:4px solid transparent;width:min(1000px,90vw);margin:0 auto 1.25rem;transition:transform 0.3s ease,box-shadow 0.3s ease}.card:hover{transform:translateY(-6px);box-shadow:0 10px 20px rgba(0,0,0,0.5)}.container>.card:last-child{margin-bottom:2rem}.card.red{border-left-color:#ef5350}p,li{color:#dcdcdc;font-size:0.95rem;line-height:1.5;font-family:'Segoe UI',sans-serif}p{margin-bottom:0.75rem}ul,ol{padding-left:1.25rem;margin-bottom:0.75rem}li{margin-bottom:0.5rem}@media (max-width:768px){.section-card{padding:1.25rem}.card{width:100%;padding:1rem;margin:0 auto 1rem}.container>.card:last-child{margin-bottom:1.5rem}.card h3{font-size:1.2rem}p,li{font-size:0.9rem}}</style>\n",
    "<div class=\"section-card\" id=\"toc2_1_\">\n",
    "  <div class=\"container\">\n",
    "    <div class=\"card red\">\n",
    "      <h3>The Concept of Strings and How They Are Written to Files</h3>\n",
    "      <p>In Python, strings are character sequences, the <code>write()</code> method converts them to bytes for disk storage.</p>\n",
    "<p>Note: <code>write()</code> does not add newline characters automatically; include <code>\\n</code> explicitly to start a new line.</p>\n",
    "<p>The method returns the number of characters written, useful for tracking or validation if needed.</p>\n",
    "    </div>\n",
    "  </div>\n",
    "</div>"
   ]
  },
  {
   "cell_type": "code",
   "execution_count": null,
   "metadata": {},
   "outputs": [],
   "source": [
    "# Open the file in write mode\n",
    "with open('files/write-example.txt', 'w') as file:\n",
    "    # Write multiple strings to the file\n",
    "    file.write(\"First line.\\n\")\n",
    "    file.write(\"Second line.\\n\")\n",
    "    file.write(\"Third line.\")"
   ]
  },
  {
   "cell_type": "code",
   "execution_count": null,
   "metadata": {},
   "outputs": [
    {
     "name": "stdout",
     "output_type": "stream",
     "text": [
      "13 characters were written to the file.\n"
     ]
    }
   ],
   "source": [
    "with open('files/write-example.txt', 'w') as file:\n",
    "    num_chars_written = file.write(\"Hello, World!\")\n",
    "    print(f\"{num_chars_written} characters were written to the file.\")"
   ]
  },
  {
   "cell_type": "markdown",
   "metadata": {},
   "source": [
    "<style>*{box-sizing:border-box}.section-card{background:linear-gradient(145deg,rgb(61,61,87),rgb(49,49,70));border-radius:15px;padding:2rem;margin:0 auto 2.5rem;box-shadow:0 8px 20px rgba(0,0,0,0.5);width:100%;max-width:min(1200px,95vw)}.section-card h2,.card h3{color:#ffffff;font-family:'Poppins',sans-serif;letter-spacing:1px}.section-card h2{text-align:center;font-size:1.8rem;margin-bottom:1.5rem}.card h3{font-size:1.3rem;margin-bottom:0.75rem;font-weight:bold}.container{display:flex;flex-direction:column;gap:1.25rem;align-items:center}.card{background:linear-gradient(145deg,#24243e,#1e1e3a);border-radius:12px;padding:1.5rem;box-shadow:0 6px 16px rgba(0,0,0,0.4);border-left:4px solid transparent;width:min(1000px,90vw);margin:0 auto 1.25rem;transition:transform 0.3s ease,box-shadow 0.3s ease}.card:hover{transform:translateY(-6px);box-shadow:0 10px 20px rgba(0,0,0,0.5)}.container>.card:last-child{margin-bottom:2rem}.card.orange{border-left-color:#ffa726}p,li{color:#dcdcdc;font-size:0.95rem;line-height:1.5;font-family:'Segoe UI',sans-serif}p{margin-bottom:0.75rem}ul,ol{padding-left:1.25rem;margin-bottom:0.75rem}li{margin-bottom:0.5rem}@media (max-width:768px){.section-card{padding:1.25rem}.card{width:100%;padding:1rem;margin:0 auto 1rem}.container>.card:last-child{margin-bottom:1.5rem}.section-card h2{font-size:1.4rem}.card h3{font-size:1.2rem}p,li{font-size:0.9rem}}</style>\n",
    "<div class=\"section-card\" id=\"toc3_\">\n",
    "  <h2>The writelines() Method</h2>\n",
    "  <div class=\"container\">\n",
    "    <div class=\"card orange\">\n",
    "      <p><code>writelines()</code> writes a list of strings to a file, useful for bulk writing without manual string concatenation.</p>\n",
    "    </div>\n",
    "  </div>\n",
    "</div>"
   ]
  },
  {
   "cell_type": "code",
   "execution_count": null,
   "metadata": {},
   "outputs": [],
   "source": [
    "# A list of strings to write to the file\n",
    "lines_to_write = [\n",
    "    \"First line.\\n\",\n",
    "    \"Second line.\\n\",\n",
    "    \"Third line.\\n\"\n",
    "]\n"
   ]
  },
  {
   "cell_type": "code",
   "execution_count": null,
   "metadata": {},
   "outputs": [],
   "source": [
    "# Open the file in write mode\n",
    "with open('files/write-example.txt', 'w') as file:\n",
    "    # Write the list of strings to the file with writelines()\n",
    "    file.writelines(lines_to_write)"
   ]
  },
  {
   "cell_type": "markdown",
   "metadata": {},
   "source": [
    "<style>*{box-sizing:border-box}.section-card{background:linear-gradient(145deg,rgb(61,61,87),rgb(49,49,70));border-radius:15px;padding:2rem;margin:0 auto 2.5rem;box-shadow:0 8px 20px rgba(0,0,0,0.5);width:100%;max-width:min(1200px,95vw)}.card h3{color:#ffffff;font-family:'Poppins',sans-serif;letter-spacing:1px;font-size:1.3rem;margin-bottom:0.75rem;font-weight:bold}.container{display:flex;flex-direction:column;gap:1.25rem;align-items:center}.card{background:linear-gradient(145deg,#24243e,#1e1e3a);border-radius:12px;padding:1.5rem;box-shadow:0 6px 16px rgba(0,0,0,0.4);border-left:4px solid transparent;width:min(1000px,90vw);margin:0 auto 1.25rem;transition:transform 0.3s ease,box-shadow 0.3s ease}.card:hover{transform:translateY(-6px);box-shadow:0 10px 20px rgba(0,0,0,0.5)}.container>.card:last-child{margin-bottom:2rem}.card.orange{border-left-color:#ffa726}p,li{color:#dcdcdc;font-size:0.95rem;line-height:1.5;font-family:'Segoe UI',sans-serif}p{margin-bottom:0.75rem}ul,ol{padding-left:1.25rem;margin-bottom:0.75rem}li{margin-bottom:0.5rem}@media (max-width:768px){.section-card{padding:1.25rem}.card{width:100%;padding:1rem;margin:0 auto 1rem}.container>.card:last-child{margin-bottom:1.5rem}.card h3{font-size:1.2rem}p,li{font-size:0.9rem}}</style>\n",
    "<div class=\"section-card\" id=\"toc3_1_\">\n",
    "  <div class=\"container\">\n",
    "    <div class=\"card orange\">\n",
    "      <h3>The Difference between <code>write()</code> and <code>writelines()</code></h3>\n",
    "      <p>The <code>write()</code> method writes a single string, while <code>writelines()</code> writes multiple strings from an iterable in one call.</p>\n",
    "    <ul>\n",
    "      <li><strong>Line Endings</strong>: <code>write()</code> writes exactly as given — include <code>\\n</code> manually if needed. <code>writelines()</code> adds no separators; you must append line breaks to each string yourself.</li>\n",
    "      <li><strong>Performance</strong>: <code>writelines()</code> can be faster for large datasets by reducing method call overhead.</li>\n",
    "      <li><strong>Convenience</strong>: Use <code>writelines()</code> when data is already in a list or iterable — avoids manual looping with <code>write()</code>.</li>\n",
    "    </ul>\n",
    "    </div>\n",
    "  </div>\n",
    "</div>"
   ]
  },
  {
   "cell_type": "code",
   "execution_count": null,
   "metadata": {},
   "outputs": [],
   "source": [
    "lines_to_write = [\"First line.\", \"Second line.\", \"Third line.\"]"
   ]
  },
  {
   "cell_type": "code",
   "execution_count": null,
   "metadata": {},
   "outputs": [],
   "source": [
    "with open('files/write-example.txt', 'w') as file:\n",
    "    file.writelines(lines_to_write)"
   ]
  },
  {
   "cell_type": "markdown",
   "metadata": {},
   "source": [
    "The resulting file `example.txt` will contain:\n"
   ]
  },
  {
   "cell_type": "markdown",
   "metadata": {},
   "source": [
    "```\n",
    "First line.Second line.Third line.\n",
    "```\n"
   ]
  },
  {
   "cell_type": "markdown",
   "metadata": {},
   "source": [
    "If you want each to appear on a new line, you'd need to modify the list to include newline characters:\n"
   ]
  },
  {
   "cell_type": "code",
   "execution_count": null,
   "metadata": {},
   "outputs": [],
   "source": [
    "lines_to_write = [\"First line.\\n\", \"Second line.\\n\", \"Third line.\\n\"]"
   ]
  },
  {
   "cell_type": "markdown",
   "metadata": {},
   "source": [
    "<style>*{box-sizing:border-box}.section-card{background:linear-gradient(145deg,rgb(61,61,87),rgb(49,49,70));border-radius:15px;padding:2rem;margin:0 auto 2.5rem;box-shadow:0 8px 20px rgba(0,0,0,0.5);width:100%;max-width:min(1200px,95vw)}.section-card h2,.card h3{color:#ffffff;font-family:'Poppins',sans-serif;letter-spacing:1px}.section-card h2{text-align:center;font-size:1.8rem;margin-bottom:1.5rem}.card h3{font-size:1.3rem;margin-bottom:0.75rem;font-weight:bold}.container{display:flex;flex-direction:column;gap:1.25rem;align-items:center}.card{background:linear-gradient(145deg,#24243e,#1e1e3a);border-radius:12px;padding:1.5rem;box-shadow:0 6px 16px rgba(0,0,0,0.4);border-left:4px solid transparent;width:min(1000px,90vw);margin:0 auto 1.25rem;transition:transform 0.3s ease,box-shadow 0.3s ease}.card:hover{transform:translateY(-6px);box-shadow:0 10px 20px rgba(0,0,0,0.5)}.container>.card:last-child{margin-bottom:2rem}.card.purple{border-left-color:#ba68c8}p,li{color:#dcdcdc;font-size:0.95rem;line-height:1.5;font-family:'Segoe UI',sans-serif}p{margin-bottom:0.75rem}ul,ol{padding-left:1.25rem;margin-bottom:0.75rem}li{margin-bottom:0.5rem}@media (max-width:768px){.section-card{padding:1.25rem}.card{width:100%;padding:1rem;margin:0 auto 1rem}.container>.card:last-child{margin-bottom:1.5rem}.section-card h2{font-size:1.4rem}.card h3{font-size:1.2rem}p,li{font-size:0.9rem}}</style>\n",
    "<div class=\"section-card\" id=\"toc4_\">\n",
    "  <h2>Truncating and Overwriting vs. Appending</h2>\n",
    "  <div class=\"container\">\n",
    "    <div class=\"card purple\">\n",
    "      <p>'w' mode truncates existing files, replacing content, while 'a' mode appends new data, preserving existing content.</p>\n",
    "    </div>\n",
    "  </div>\n",
    "</div>"
   ]
  },
  {
   "cell_type": "code",
   "execution_count": null,
   "metadata": {},
   "outputs": [],
   "source": [
    "# This will truncate the existing file and start fresh\n",
    "with open('files/write-example.txt', 'w') as file:\n",
    "    file.write(\"New content in the file.\")"
   ]
  },
  {
   "cell_type": "markdown",
   "metadata": {},
   "source": [
    "<style>*{box-sizing:border-box}.section-card{background:linear-gradient(145deg,rgb(61,61,87),rgb(49,49,70));border-radius:15px;padding:2rem;margin:0 auto 2.5rem;box-shadow:0 8px 20px rgba(0,0,0,0.5);width:100%;max-width:min(1200px,95vw)}.card h3{color:#ffffff;font-family:'Poppins',sans-serif;letter-spacing:1px;font-size:1.3rem;margin-bottom:0.75rem;font-weight:bold}.container{display:flex;flex-direction:column;gap:1.25rem;align-items:center}.card{background:linear-gradient(145deg,#24243e,#1e1e3a);border-radius:12px;padding:1.5rem;box-shadow:0 6px 16px rgba(0,0,0,0.4);border-left:4px solid transparent;width:min(1000px,90vw);margin:0 auto 1.25rem;transition:transform 0.3s ease,box-shadow 0.3s ease}.card:hover{transform:translateY(-6px);box-shadow:0 10px 20px rgba(0,0,0,0.5)}.container>.card:last-child{margin-bottom:2rem}.card.purple{border-left-color:#ba68c8}p,li{color:#dcdcdc;font-size:0.95rem;line-height:1.5;font-family:'Segoe UI',sans-serif}p{margin-bottom:0.75rem}ul,ol{padding-left:1.25rem;margin-bottom:0.75rem}li{margin-bottom:0.5rem}@media (max-width:768px){.section-card{padding:1.25rem}.card{width:100%;padding:1rem;margin:0 auto 1rem}.container>.card:last-child{margin-bottom:1.5rem}.card h3{font-size:1.2rem}p,li{font-size:0.9rem}}</style>\n",
    "<div class=\"section-card\" id=\"toc4_1_\">\n",
    "  <div class=\"container\">\n",
    "    <div class=\"card purple\">\n",
    "      <h3>Append to the End of a File with Mode <code>'a'</code></h3>\n",
    "      <p>Using <code>'a'</code> mode, new data is added to the end of a file without altering existing content, ideal for logs or incremental updates.</p>\n",
    "    </div>\n",
    "  </div>\n",
    "</div>"
   ]
  },
  {
   "cell_type": "code",
   "execution_count": null,
   "metadata": {},
   "outputs": [],
   "source": [
    "# This will append the string to the end of the file's content\n",
    "with open('files/write-example.txt', 'a') as file:\n",
    "    file.write(\"\\nAppended content.\")"
   ]
  },
  {
   "cell_type": "markdown",
   "metadata": {},
   "source": [
    "<style>*{box-sizing:border-box}.section-card{background:linear-gradient(145deg,rgb(61,61,87),rgb(49,49,70));border-radius:15px;padding:2rem;margin:0 auto 2.5rem;box-shadow:0 8px 20px rgba(0,0,0,0.5);width:100%;max-width:min(1200px,95vw)}.card h3{color:#ffffff;font-family:'Poppins',sans-serif;letter-spacing:1px;font-size:1.3rem;margin-bottom:0.75rem;font-weight:bold}.container{display:flex;flex-direction:column;gap:1.25rem;align-items:center}.card{background:linear-gradient(145deg,#24243e,#1e1e3a);border-radius:12px;padding:1.5rem;box-shadow:0 6px 16px rgba(0,0,0,0.4);border-left:4px solid transparent;width:min(1000px,90vw);margin:0 auto 1.25rem;transition:transform 0.3s ease,box-shadow 0.3s ease}.card:hover{transform:translateY(-6px);box-shadow:0 10px 20px rgba(0,0,0,0.5)}.container>.card:last-child{margin-bottom:2rem}.card.purple{border-left-color:#ba68c8}p,li{color:#dcdcdc;font-size:0.95rem;line-height:1.5;font-family:'Segoe UI',sans-serif}p{margin-bottom:0.75rem}ul,ol{padding-left:1.25rem;margin-bottom:0.75rem}li{margin-bottom:0.5rem}@media (max-width:768px){.section-card{padding:1.25rem}.card{width:100%;padding:1rem;margin:0 auto 1rem}.container>.card:last-child{margin-bottom:1.5rem}.card h3{font-size:1.2rem}p,li{font-size:0.9rem}}</style>\n",
    "<div class=\"section-card\" id=\"toc4_2_\">\n",
    "  <div class=\"container\">\n",
    "    <div class=\"card purple\">\n",
    "      <h3>Potential Risks of Overwriting Data and How to Prevent It</h3>\n",
    "      <p>Using write mode (<code>'w'</code>) risks overwriting existing data, especially if you open the wrong file or forget a file with that name already exists.</p>\n",
    "      <ul>\n",
    "      <li>Always double-check you are using the right mode. Use <code>'w'</code> for new or replace. Use <code>'a'</code> to preserve and add.</li>\n",
    "      <li>Check if the file exists before opening in <code>'w'</code> mode. You can use <code>os.path.exists()</code>. You will learn the <code>os</code> module and the modern <code>pathlib</code> later.</li>\n",
    "      <li>Back up important files before running scripts that modify them.</li>\n",
    "      </ul>\n",
    "      <p>These steps help prevent accidental data loss during file operations.</p>\n",
    "    </div>\n",
    "  </div>\n",
    "</div>"
   ]
  },
  {
   "cell_type": "code",
   "execution_count": null,
   "metadata": {},
   "outputs": [
    {
     "name": "stdout",
     "output_type": "stream",
     "text": [
      "File already exists. Aborting to prevent data loss.\n"
     ]
    }
   ],
   "source": [
    "import os\n",
    "\n",
    "# Check if the file exists before opening it in write mode\n",
    "if not os.path.exists('files/important.txt'):\n",
    "    with open('files/important.txt', 'w') as file:\n",
    "        file.write(\"This is important data.\")\n",
    "else:\n",
    "    print(\"File already exists. Aborting to prevent data loss.\")"
   ]
  },
  {
   "cell_type": "markdown",
   "metadata": {},
   "source": [
    "<style>*{box-sizing:border-box}.section-card{background:linear-gradient(145deg,rgb(61,61,87),rgb(49,49,70));border-radius:15px;padding:2rem;margin:0 auto 2.5rem;box-shadow:0 8px 20px rgba(0,0,0,0.5);width:100%;max-width:min(1200px,95vw)}.section-card h2,.card h3{color:#ffffff;font-family:'Poppins',sans-serif;letter-spacing:1px}.section-card h2{text-align:center;font-size:1.8rem;margin-bottom:1.5rem}.card h3{font-size:1.3rem;margin-bottom:0.75rem;font-weight:bold}.container{display:flex;flex-direction:column;gap:1.25rem;align-items:center}.card{background:linear-gradient(145deg,#24243e,#1e1e3a);border-radius:12px;padding:1.5rem;box-shadow:0 6px 16px rgba(0,0,0,0.4);border-left:4px solid transparent;width:min(1000px,90vw);margin:0 auto 1.25rem;transition:transform 0.3s ease,box-shadow 0.3s ease}.card:hover{transform:translateY(-6px);box-shadow:0 10px 20px rgba(0,0,0,0.5)}.container>.card:last-child{margin-bottom:2rem}.card.pink{border-left-color:#ec407a}p,li{color:#dcdcdc;font-size:0.95rem;line-height:1.5;font-family:'Segoe UI',sans-serif}p{margin-bottom:0.75rem}ul,ol{padding-left:1.25rem;margin-bottom:0.75rem}li{margin-bottom:0.5rem}@media (max-width:768px){.section-card{padding:1.25rem}.card{width:100%;padding:1rem;margin:0 auto 1rem}.container>.card:last-child{margin-bottom:1.5rem}.section-card h2{font-size:1.4rem}.card h3{font-size:1.2rem}p,li{font-size:0.9rem}}</style>\n",
    "<div class=\"section-card\" id=\"toc5_\">\n",
    "  <h2>File Buffering and Flushing</h2>\n",
    "  <div class=\"container\">\n",
    "    <div class=\"card pink\">\n",
    "      <p>File buffering temporarily stores data in memory before writing to disk, reducing I/O operations and improving performance. Instead of writing immediately on every <code>write()</code>, Python collects data and writes it in larger chunks.</p>\n",
    "\n",
    "<p>Python file objects are line-buffered in text mode when connected to a terminal, or block-buffered otherwise. Buffering behavior can be controlled via the <code>buffering</code> parameter in <code>open()</code>:</p>\n",
    "\n",
    "<ul>\n",
    "  <li><code>buffering=0</code>: Disables buffering — each <code>write()</code> writes directly to disk.</li>\n",
    "  <li><code>buffering=1</code>: Enables line buffering — writes on each newline character.</li>\n",
    "  <li><code>buffering&gt;1</code>: Sets buffer size to specified number of bytes.</li>\n",
    "</ul>\n",
    "    </div>\n",
    "  </div>\n",
    "</div>"
   ]
  },
  {
   "cell_type": "code",
   "execution_count": null,
   "metadata": {},
   "outputs": [
    {
     "data": {
      "text/plain": [
       "1"
      ]
     },
     "metadata": {},
     "output_type": "display_data"
    }
   ],
   "source": [
    "# Open a file with a specific buffer size\n",
    "file = open('files/buffered.txt', 'w', buffering=1024)\n",
    "file.write(\"This data is buffered.\")\n",
    "file.write('\\n')"
   ]
  },
  {
   "cell_type": "markdown",
   "metadata": {},
   "source": [
    "<style>*{box-sizing:border-box}.section-card{background:linear-gradient(145deg,rgb(61,61,87),rgb(49,49,70));border-radius:15px;padding:2rem;margin:0 auto 2.5rem;box-shadow:0 8px 20px rgba(0,0,0,0.5);width:100%;max-width:min(1200px,95vw)}.section-card h2,.card h3{color:#ffffff;font-family:'Poppins',sans-serif;letter-spacing:1px}.section-card h2{text-align:center;font-size:1.8rem;margin-bottom:1.5rem}.card h3{font-size:1.3rem;margin-bottom:0.75rem;font-weight:bold}.container{display:flex;flex-direction:column;gap:1.25rem;align-items:center}.card{background:linear-gradient(145deg,#24243e,#1e1e3a);border-radius:12px;padding:1.5rem;box-shadow:0 6px 16px rgba(0,0,0,0.4);border-left:4px solid transparent;width:min(1000px,90vw);margin:0 auto 1.25rem;transition:transform 0.3s ease,box-shadow 0.3s ease}.card:hover{transform:translateY(-6px);box-shadow:0 10px 20px rgba(0,0,0,0.5)}.container>.card:last-child{margin-bottom:2rem}.card.teal{border-left-color:#26a69a}p,li{color:#dcdcdc;font-size:0.95rem;line-height:1.5;font-family:'Segoe UI',sans-serif}p{margin-bottom:0.75rem}ul,ol{padding-left:1.25rem;margin-bottom:0.75rem}li{margin-bottom:0.5rem}@media (max-width:768px){.section-card{padding:1.25rem}.card{width:100%;padding:1rem;margin:0 auto 1rem}.container>.card:last-child{margin-bottom:1.5rem}.section-card h2{font-size:1.4rem}.card h3{font-size:1.2rem}p,li{font-size:0.9rem}}</style>\n",
    "<div class=\"section-card\" id=\"toc6_\">\n",
    "  <h2>Practical Examples</h2>\n",
    "  <div class=\"container\">\n",
    "    <div class=\"card teal\">\n",
    "      <p>Learn to write logs and generate reports to apply file writing in real-world scenarios like logging events or saving summaries.</p>\n",
    "    </div>\n",
    "  </div>\n",
    "</div>"
   ]
  },
  {
   "cell_type": "markdown",
   "metadata": {},
   "source": [
    "<style>*{box-sizing:border-box}.section-card{background:linear-gradient(145deg,rgb(61,61,87),rgb(49,49,70));border-radius:15px;padding:2rem;margin:0 auto 2.5rem;box-shadow:0 8px 20px rgba(0,0,0,0.5);width:100%;max-width:min(1200px,95vw)}.card h3{color:#ffffff;font-family:'Poppins',sans-serif;letter-spacing:1px;font-size:1.3rem;margin-bottom:0.75rem;font-weight:bold}.container{display:flex;flex-direction:column;gap:1.25rem;align-items:center}.card{background:linear-gradient(145deg,#24243e,#1e1e3a);border-radius:12px;padding:1.5rem;box-shadow:0 6px 16px rgba(0,0,0,0.4);border-left:4px solid transparent;width:min(1000px,90vw);margin:0 auto 1.25rem;transition:transform 0.3s ease,box-shadow 0.3s ease}.card:hover{transform:translateY(-6px);box-shadow:0 10px 20px rgba(0,0,0,0.5)}.container>.card:last-child{margin-bottom:2rem}.card.teal{border-left-color:#26a69a}p,li{color:#dcdcdc;font-size:0.95rem;line-height:1.5;font-family:'Segoe UI',sans-serif}p{margin-bottom:0.75rem}ul,ol{padding-left:1.25rem;margin-bottom:0.75rem}li{margin-bottom:0.5rem}@media (max-width:768px){.section-card{padding:1.25rem}.card{width:100%;padding:1rem;margin:0 auto 1rem}.container>.card:last-child{margin-bottom:1.5rem}.card h3{font-size:1.2rem}p,li{font-size:0.9rem}}</style>\n",
    "<div class=\"section-card\" id=\"toc6_1_\">\n",
    "  <div class=\"container\">\n",
    "    <div class=\"card teal\">\n",
    "      <h3>Example: Writing Log Data to a File</h3>\n",
    "      <p>Log data by appending timestamped entries to a file using 'a' mode, ensuring persistent and sequential logging.</p>\n",
    "    </div>\n",
    "  </div>\n",
    "</div>"
   ]
  },
  {
   "cell_type": "code",
   "execution_count": null,
   "metadata": {},
   "outputs": [],
   "source": [
    "import datetime\n",
    "\n",
    "# Function to log messages\n",
    "def log_message(log_file, message):\n",
    "    timestamp = datetime.datetime.now().strftime(\"%Y-%m-%d %H:%M:%S\")\n",
    "    with open(log_file, 'a') as file:\n",
    "        file.write(f\"[{timestamp}] {message}\\n\")\n",
    "\n",
    "# Log some messages\n",
    "log_message(\"files/app.log\", \"Application start\")\n",
    "log_message(\"files/app.log\", \"An important event occurred\")\n",
    "log_message(\"files/app.log\", \"Application end\")"
   ]
  },
  {
   "cell_type": "markdown",
   "metadata": {},
   "source": [
    "<style>*{box-sizing:border-box}.section-card{background:linear-gradient(145deg,rgb(61,61,87),rgb(49,49,70));border-radius:15px;padding:2rem;margin:0 auto 2.5rem;box-shadow:0 8px 20px rgba(0,0,0,0.5);width:100%;max-width:min(1200px,95vw)}.card h3{color:#ffffff;font-family:'Poppins',sans-serif;letter-spacing:1px;font-size:1.3rem;margin-bottom:0.75rem;font-weight:bold}.container{display:flex;flex-direction:column;gap:1.25rem;align-items:center}.card{background:linear-gradient(145deg,#24243e,#1e1e3a);border-radius:12px;padding:1.5rem;box-shadow:0 6px 16px rgba(0,0,0,0.4);border-left:4px solid transparent;width:min(1000px,90vw);margin:0 auto 1.25rem;transition:transform 0.3s ease,box-shadow 0.3s ease}.card:hover{transform:translateY(-6px);box-shadow:0 10px 20px rgba(0,0,0,0.5)}.container>.card:last-child{margin-bottom:2rem}.card.teal{border-left-color:#26a69a}p,li{color:#dcdcdc;font-size:0.95rem;line-height:1.5;font-family:'Segoe UI',sans-serif}p{margin-bottom:0.75rem}ul,ol{padding-left:1.25rem;margin-bottom:0.75rem}li{margin-bottom:0.5rem}@media (max-width:768px){.section-card{padding:1.25rem}.card{width:100%;padding:1rem;margin:0 auto 1rem}.container>.card:last-child{margin-bottom:1.5rem}.card h3{font-size:1.2rem}p,li{font-size:0.9rem}}</style>\n",
    "<div class=\"section-card\" id=\"toc6_2_\">\n",
    "  <div class=\"container\">\n",
    "    <div class=\"card teal\">\n",
    "      <h3>Example: Generating and Saving a Report</h3>\n",
    "      <p>Create a report by reading data from one file and writing a summary to another using <code>write()</code> or <code>writelines()</code>.</p>\n",
    "    </div>\n",
    "  </div>\n",
    "</div>"
   ]
  },
  {
   "cell_type": "code",
   "execution_count": null,
   "metadata": {},
   "outputs": [],
   "source": [
    "# Data to include in the report\n",
    "report_data = {\n",
    "    'Title': 'Sales Report for March 2023',\n",
    "    'Total Sales': '9500',\n",
    "    'Top Product': 'Gadget Pro',\n",
    "    'Customer Satisfaction': '89%'\n",
    "}\n",
    "\n",
    "# Function to generate a report\n",
    "def generate_report(report_file, data):\n",
    "    with open(report_file, 'w') as file:\n",
    "        file.write(f\"{data['Title']}\\n\")\n",
    "        file.write(\"=\" * len(data['Title']) + \"\\n\")\n",
    "        for key, value in data.items():\n",
    "            if key != 'Title':\n",
    "                file.write(f\"{key}: {value}\\n\")\n",
    "\n",
    "# Generate and save the report\n",
    "generate_report(\"files/monthly_sales_report.txt\", report_data)\n"
   ]
  },
  {
   "cell_type": "markdown",
   "metadata": {},
   "source": [
    "<style>*{box-sizing:border-box}.section-card{background:linear-gradient(145deg,rgb(61,61,87),rgb(49,49,70));border-radius:15px;padding:2rem;margin:0 auto 2.5rem;box-shadow:0 8px 20px rgba(0,0,0,0.5);width:100%;max-width:min(1200px,95vw)}.section-card h2,.card h3{color:#ffffff;font-family:'Poppins',sans-serif;letter-spacing:1px}.section-card h2{text-align:center;font-size:1.8rem;margin-bottom:1.5rem}.card h3{font-size:1.3rem;margin-bottom:0.75rem;font-weight:bold}.container{display:flex;flex-direction:column;gap:1.25rem;align-items:center}.card{background:linear-gradient(145deg,#24243e,#1e1e3a);border-radius:12px;padding:1.5rem;box-shadow:0 6px 16px rgba(0,0,0,0.4);border-left:4px solid transparent;width:min(1000px,90vw);margin:0 auto 1.25rem;transition:transform 0.3s ease,box-shadow 0.3s ease}.card:hover{transform:translateY(-6px);box-shadow:0 10px 20px rgba(0,0,0,0.5)}.container>.card:last-child{margin-bottom:2rem}.card.lime{border-left-color:#cddc39}p,li, pre{color:#dcdcdc;font-size:0.95rem;line-height:1.5;font-family:'Segoe UI',sans-serif}p{margin-bottom:0.75rem}ul,ol{padding-left:1.25rem;margin-bottom:0.75rem}li{margin-bottom:0.5rem}@media (max-width:768px){.section-card{padding:1.25rem}.card{width:100%;padding:1rem;margin:0 auto 1rem}.container>.card:last-child{margin-bottom:1.5rem}.section-card h2{font-size:1.4rem}.card h3{font-size:1.2rem}p,li, pre{font-size:0.9rem}}</style>\n",
    "<div class=\"section-card\" id=\"toc7_\">\n",
    "  <h2>Practice Exercise</h2>\n",
    "  <div class=\"container\">\n",
    "    <div class=\"card lime\">\n",
    "      <p>Apply file writing concepts by building a note-taking app that saves and reports user notes.</p>\n",
    "\n",
    "<ol>\n",
    "  <li><strong>Create a New Note</strong>: Function <code>create_note(filename, note)</code> opens file in <code>'w'</code> mode — overwrites if exists.</li>\n",
    "  <li><strong>Add to an Existing Note</strong>: Function <code>add_to_note(filename, note)</code> opens file in <code>'a'</code> mode — appends to end.</li>\n",
    "  <li><strong>Save Multiple Notes</strong>: Function <code>save_notes(filename, notes_list)</code> uses <code>writelines()</code> — ensures each note is on a new line.</li>\n",
    "  <li><strong>Generate a Summary Report</strong>: Function <code>generate_report()</code> reads notes, counts them, shows first 15 chars of each, and saves summary to new file.</li>\n",
    "  <li><strong>Bonus: Log Each Action</strong>: Function <code>log_action(message)</code> writes timestamped log entries for every note or report action.</li>\n",
    "</ol>\n",
    "      <p><strong>Sample Output:</strong></p>\n",
    "      <pre>Note created: 'Meeting at 10am...'\n",
    "Note appended: 'Buy groceries...'\n",
    "Notes saved: ['Meeting at 10am...', 'Buy groceries...', 'Call Alice...']\n",
    "Report generated: 'Notes_Report.txt'</pre>\n",
    "    </div>\n",
    "  </div>\n",
    "</div>"
   ]
  },
  {
   "cell_type": "markdown",
   "metadata": {},
   "source": [
    "<style>*{box-sizing:border-box}.section-card{background:linear-gradient(145deg,rgb(61,61,87),rgb(49,49,70));border-radius:15px;padding:2rem;margin:0 auto 2.5rem;box-shadow:0 8px 20px rgba(0,0,0,0.5);width:100%;max-width:min(1200px,95vw)}.section-card h2,.card h3{color:#ffffff;font-family:'Poppins',sans-serif;letter-spacing:1px}.section-card h2{text-align:center;font-size:1.8rem;margin-bottom:1.5rem}.card h3{font-size:1.3rem;margin-bottom:0.75rem;font-weight:bold}.container{display:flex;flex-direction:column;gap:1.25rem;align-items:center}.card{background:linear-gradient(145deg,#24243e,#1e1e3a);border-radius:12px;padding:1.5rem;box-shadow:0 6px 16px rgba(0,0,0,0.4);border-left:4px solid transparent;width:min(1000px,90vw);margin:0 auto 1.25rem;transition:transform 0.3s ease,box-shadow 0.3s ease}.card:hover{transform:translateY(-6px);box-shadow:0 10px 20px rgba(0,0,0,0.5)}.container>.card:last-child{margin-bottom:2rem}.card.lime{border-left-color:#cddc39}p,li{color:#dcdcdc;font-size:0.95rem;line-height:1.5;font-family:'Segoe UI',sans-serif}p{margin-bottom:0.75rem}ul,ol{padding-left:1.25rem;margin-bottom:0.75rem}li{margin-bottom:0.5rem}@media (max-width:768px){.section-card{padding:1.25rem}.card{width:100%;padding:1rem;margin:0 auto 1rem}.container>.card:last-child{margin-bottom:1.5rem}.section-card h2{font-size:1.4rem}.card h3{font-size:1.2rem}p,li{font-size:0.9rem}}</style>\n",
    "<div class=\"section-card\" id=\"toc7_1_\">\n",
    "  <h2>Solution</h2>\n",
    "  <div class=\"container\">\n",
    "    <div class=\"card lime\">\n",
    "      <p>Below are solutions for creating, appending, saving, and reporting notes, with a bonus logging function using timestamps.</p>\n",
    "      <p><strong>Note:</strong> The <code>log_action</code> function requires the <code>datetime</code> module, which may be covered later. Skip it if not yet familiar.</p>\n",
    "    </div>\n",
    "  </div>\n",
    "</div>"
   ]
  },
  {
   "cell_type": "code",
   "execution_count": 27,
   "metadata": {},
   "outputs": [],
   "source": [
    "import datetime"
   ]
  },
  {
   "cell_type": "code",
   "execution_count": 33,
   "metadata": {},
   "outputs": [],
   "source": [
    "# Bonus: Log Each Action\n",
    "def log_action(message):\n",
    "    timestamp = datetime.datetime.now().strftime(\"%Y-%m-%d %H:%M:%S\")\n",
    "    log_entry = f\"{timestamp} - {message}\\n\"\n",
    "    with open('files/notes_log.txt', 'a') as log_file:\n",
    "        log_file.write(log_entry)\n"
   ]
  },
  {
   "cell_type": "code",
   "execution_count": 34,
   "metadata": {},
   "outputs": [],
   "source": [
    "# Task 1: Create a New Note\n",
    "def create_note(filename, note):\n",
    "    try:\n",
    "        with open(filename, 'w') as file:\n",
    "            file.write(note + '\\n')\n",
    "        log_action(f\"Note created: '{note[:15]}...'\")\n",
    "    except IOError:\n",
    "        print(\"Error: An I/O error occurred.\")\n"
   ]
  },
  {
   "cell_type": "code",
   "execution_count": 35,
   "metadata": {},
   "outputs": [],
   "source": [
    "# Task 2: Add to an Existing Note\n",
    "def add_to_note(filename, note):\n",
    "    try:\n",
    "        with open(filename, 'a') as file:\n",
    "            file.write(note + '\\n')\n",
    "        log_action(f\"Note appended: '{note[:15]}...'\")\n",
    "    except IOError:\n",
    "        print(\"Error: An I/O error occurred.\")\n"
   ]
  },
  {
   "cell_type": "code",
   "execution_count": 36,
   "metadata": {},
   "outputs": [],
   "source": [
    "# Task 3: Save Multiple Notes\n",
    "def save_notes(filename, notes):\n",
    "    try:\n",
    "        with open(filename, 'w') as file:\n",
    "            file.writelines(note + '\\n' for note in notes)\n",
    "        log_action(f\"Notes saved: {notes}\")\n",
    "    except IOError:\n",
    "        print(\"Error: An I/O error occurred.\")\n"
   ]
  },
  {
   "cell_type": "code",
   "execution_count": 37,
   "metadata": {},
   "outputs": [],
   "source": [
    "# Task 4: Generate a Summary Report\n",
    "def generate_report(notes_filename, report_filename):\n",
    "    try:\n",
    "        with open(notes_filename, 'r') as file:\n",
    "            notes = file.readlines()\n",
    "        with open(report_filename, 'w') as file:\n",
    "            file.write(f\"Number of notes: {len(notes)}\\n\")\n",
    "            file.write(\"Summary of Notes:\\n\")\n",
    "            for note in notes:\n",
    "                file.write(note[:15] + '...\\n')\n",
    "        log_action(f\"Report generated: '{report_filename}'\")\n",
    "    except FileNotFoundError:\n",
    "        print(\"Error: Notes file not found.\")\n",
    "    except IOError:\n",
    "        print(\"Error: An I/O error occurred.\")\n"
   ]
  },
  {
   "cell_type": "code",
   "execution_count": 39,
   "metadata": {},
   "outputs": [],
   "source": [
    "# Example usage:\n",
    "try:\n",
    "    create_note('files/mynotes.txt', 'Meeting at 10am with the design team.')\n",
    "    add_to_note('files/mynotes.txt', 'Buy groceries after work.')\n",
    "    save_notes('files/mynotes.txt', ['Meeting at 10am with the design team.',\n",
    "                                'Buy groceries after work.',\n",
    "                                'Call Alice about the trip.'])\n",
    "    generate_report('files/mynotes.txt', 'files/Notes_Report.txt')\n",
    "except Exception as e:\n",
    "    print(f\"Error: {str(e)}\")\n"
   ]
  }
 ],
 "metadata": {
  "kernelspec": {
   "display_name": "py310",
   "language": "python",
   "name": "python3"
  },
  "language_info": {
   "codemirror_mode": {
    "name": "ipython",
    "version": 3
   },
   "file_extension": ".py",
   "mimetype": "text/x-python",
   "name": "python",
   "nbconvert_exporter": "python",
   "pygments_lexer": "ipython3",
   "version": "3.10.12"
  }
 },
 "nbformat": 4,
 "nbformat_minor": 2
}
